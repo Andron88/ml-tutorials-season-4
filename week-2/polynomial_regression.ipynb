





<!DOCTYPE html>
<html lang="en" data-color-mode="auto" data-light-theme="light" data-dark-theme="dark"  data-a11y-animated-images="system" data-a11y-link-underlines="true">

    <style>
  /* for each iteration, uncomment the CSS variable */

  /* light themes */
  [data-color-mode="light"][data-light-theme*="light"],
  [data-color-mode="auto"][data-light-theme*="light"] {
    /* iteration 1 */
    --border-color-iteration-1: #C8CCD0;
    /* iteration 2 */
    --border-color-iteration-2: #BABFC5;
    /* iteration 3 */
    --border-color-iteration-3: #A6ADB4;
    /* iteration final */
    --border-color-iteration-4: #8D969F;

    /* the first value is the final step, which falls back to previous iterations */
    --control-borderColor-rest: var(--border-color-iteration-4, var(--border-color-iteration-3, var(--border-color-iteration-2, var(--border-color-iteration-1)))) !important;
  }

  /* dark themes */
  [data-color-mode="dark"][data-dark-theme*="dark"],
  [data-color-mode="auto"][data-light-theme*="dark"] {
    /* iteration 1 */
    --border-color-iteration-1: #363940;
    /* iteration 2 */
    --border-color-iteration-2: #3F434B;
    /* iteration 3 */
    --border-color-iteration-3: #4B5159;
    /* iteration final */
    --border-color-iteration-4: #5b626c;

    /* the first value is the final step, which falls back to previous iterations */
    --control-borderColor-rest: var(--border-color-iteration-4, var(--border-color-iteration-3, var(--border-color-iteration-2, var(--border-color-iteration-1)))) !important;
  }

  [data-color-mode="dark"][data-dark-theme="dark_dimmed"],
  [data-color-mode="dark"][data-dark-theme="light_high_contrast"],
  [data-color-mode="dark"][data-dark-theme="dark_high_contrast"],
  [data-color-mode="light"][data-light-theme="dark_dimmed"],
  [data-color-mode="light"][data-light-theme="light_high_contrast"],
  [data-color-mode="light"][data-light-theme="dark_high_contrast"] {
    /* skip these themes, use the fallback */
    --control-borderColor-rest: initial !important;
  }

  @media (prefers-color-scheme: dark) {
    /* dark colors in dark mode */
    [data-color-mode="auto"][data-dark-theme*="dark"] {
      /* iteration 1 */
      --border-color-iteration-1: #363940;
      /* iteration 2 */
      --border-color-iteration-2: #3F434B;
      /* iteration 3 */
      --border-color-iteration-3: #4B5159;
      /* iteration final */
      --border-color-iteration-4: #5b626c;

      /* the first value is the final step, which falls back to previous iterations */
      --control-borderColor-rest: var(--border-color-iteration-4, var(--border-color-iteration-3, var(--border-color-iteration-2, var(--border-color-iteration-1)))) !important;
    }

    /* light colors in dark mode */
    [data-color-mode="auto"][data-dark-theme*="light"] {
      /* iteration 1 */
      --border-color-iteration-1: #C8CCD0;
      /* iteration 2 */
      --border-color-iteration-2: #BABFC5;
      /* iteration 3 */
      --border-color-iteration-3: #A6ADB4;
      /* iteration final */
      --border-color-iteration-4: #8D969F;

      /* the first value is the final step, which falls back to previous iterations */
      --control-borderColor-rest: var(--border-color-iteration-4, var(--border-color-iteration-3, var(--border-color-iteration-2, var(--border-color-iteration-1)))) !important;
      }

    [data-color-mode="auto"][data-dark-theme="dark_dimmed"],
    [data-color-mode="auto"][data-dark-theme="light_high_contrast"],
    [data-color-mode="auto"][data-dark-theme="dark_high_contrast"] {
      /* skip these themes, use the fallback */
      --control-borderColor-rest: initial !important;
    }
  }

  @media (prefers-color-scheme: light) {
    /* dark colors in light mode */
    [data-color-mode="auto"][data-light-theme*="dark"] {
      /* iteration 1 */
      --border-color-iteration-1: #363940;
      /* iteration 2 */
      --border-color-iteration-2: #3F434B;
      /* iteration 3 */
      --border-color-iteration-3: #4B5159;
      /* iteration final */
      --border-color-iteration-4: #5b626c;

      /* the first value is the final step, which falls back to previous iterations */
      --control-borderColor-rest: var(--border-color-iteration-4, var(--border-color-iteration-3, var(--border-color-iteration-2, var(--border-color-iteration-1)))) !important;
    }

    /* light colors in light mode */
    [data-color-mode="auto"][data-light-theme*="light"] {
      /* iteration 1 */
      --border-color-iteration-1: #C8CCD0;
      /* iteration 2 */
      --border-color-iteration-2: #BABFC5;
      /* iteration 3 */
      --border-color-iteration-3: #A6ADB4;
      /* iteration final */
      --border-color-iteration-4: #8D969F;

      /* the first value is the final step, which falls back to previous iterations */
      --control-borderColor-rest: var(--border-color-iteration-4, var(--border-color-iteration-3, var(--border-color-iteration-2, var(--border-color-iteration-1)))) !important;
    }

    [data-color-mode="auto"][data-light-theme="dark_dimmed"],
    [data-color-mode="auto"][data-light-theme="light_high_contrast"],
    [data-color-mode="auto"][data-light-theme="dark_high_contrast"] {
      /* skip these themes, use the fallback */
      --control-borderColor-rest: initial !important;
    }
  }
</style>


  <head>
    <meta charset="utf-8">
  <link rel="dns-prefetch" href="https://github.githubassets.com">
  <link rel="dns-prefetch" href="https://avatars.githubusercontent.com">
  <link rel="dns-prefetch" href="https://github-cloud.s3.amazonaws.com">
  <link rel="dns-prefetch" href="https://user-images.githubusercontent.com/">
  <link rel="preconnect" href="https://github.githubassets.com" crossorigin>
  <link rel="preconnect" href="https://avatars.githubusercontent.com">

  


  <link crossorigin="anonymous" media="all" rel="stylesheet" href="https://github.githubassets.com/assets/light-b92e9647318f.css" /><link crossorigin="anonymous" media="all" rel="stylesheet" href="https://github.githubassets.com/assets/dark-5d486a4ede8e.css" /><link data-color-theme="dark_dimmed" crossorigin="anonymous" media="all" rel="stylesheet" data-href="https://github.githubassets.com/assets/dark_dimmed-27c8d635e4e5.css" /><link data-color-theme="dark_high_contrast" crossorigin="anonymous" media="all" rel="stylesheet" data-href="https://github.githubassets.com/assets/dark_high_contrast-8438e75afd36.css" /><link data-color-theme="dark_colorblind" crossorigin="anonymous" media="all" rel="stylesheet" data-href="https://github.githubassets.com/assets/dark_colorblind-bf5665b96628.css" /><link data-color-theme="light_colorblind" crossorigin="anonymous" media="all" rel="stylesheet" data-href="https://github.githubassets.com/assets/light_colorblind-c414b5ba1dce.css" /><link data-color-theme="light_high_contrast" crossorigin="anonymous" media="all" rel="stylesheet" data-href="https://github.githubassets.com/assets/light_high_contrast-e5868b7374db.css" /><link data-color-theme="light_tritanopia" crossorigin="anonymous" media="all" rel="stylesheet" data-href="https://github.githubassets.com/assets/light_tritanopia-299ac9c64ec0.css" /><link data-color-theme="dark_tritanopia" crossorigin="anonymous" media="all" rel="stylesheet" data-href="https://github.githubassets.com/assets/dark_tritanopia-3a26e78ad0ff.css" />
    <link crossorigin="anonymous" media="all" rel="stylesheet" href="https://github.githubassets.com/assets/primer-primitives-363ec1831c26.css" />
    <link crossorigin="anonymous" media="all" rel="stylesheet" href="https://github.githubassets.com/assets/primer-ba77178b8574.css" />
    <link crossorigin="anonymous" media="all" rel="stylesheet" href="https://github.githubassets.com/assets/global-88a58e1d2695.css" />
    <link crossorigin="anonymous" media="all" rel="stylesheet" href="https://github.githubassets.com/assets/github-998500536919.css" />
  <link crossorigin="anonymous" media="all" rel="stylesheet" href="https://github.githubassets.com/assets/code-71ecd5638fbf.css" />

  

  <script type="application/json" id="client-env">{"locale":"en","featureFlags":["copilot_conversational_ux_streaming","failbot_handle_non_errors","geojson_azure_maps","hovercard_show_on_focus","image_metric_tracking","repository_suggester_elastic_search","turbo_experiment_risky","sample_network_conn_type","star_button_focus"]}</script>
<script crossorigin="anonymous" defer="defer" type="application/javascript" src="https://github.githubassets.com/assets/wp-runtime-67360fd65b00.js"></script>
<script crossorigin="anonymous" defer="defer" type="application/javascript" src="https://github.githubassets.com/assets/vendors-node_modules_dompurify_dist_purify_js-64d590970fa6.js"></script>
<script crossorigin="anonymous" defer="defer" type="application/javascript" src="https://github.githubassets.com/assets/vendors-node_modules_stacktrace-parser_dist_stack-trace-parser_esm_js-node_modules_github_bro-a4c183-18bf85b8e9f4.js"></script>
<script crossorigin="anonymous" defer="defer" type="application/javascript" src="https://github.githubassets.com/assets/ui_packages_soft-nav_soft-nav_ts-bbaed7e6fb42.js"></script>
<script crossorigin="anonymous" defer="defer" type="application/javascript" src="https://github.githubassets.com/assets/environment-fc6543d75794.js"></script>
<script crossorigin="anonymous" defer="defer" type="application/javascript" src="https://github.githubassets.com/assets/vendors-node_modules_github_selector-observer_dist_index_esm_js-2646a2c533e3.js"></script>
<script crossorigin="anonymous" defer="defer" type="application/javascript" src="https://github.githubassets.com/assets/vendors-node_modules_primer_behaviors_dist_esm_focus-zone_js-d55308df5023.js"></script>
<script crossorigin="anonymous" defer="defer" type="application/javascript" src="https://github.githubassets.com/assets/vendors-node_modules_github_relative-time-element_dist_index_js-99e288659d4f.js"></script>
<script crossorigin="anonymous" defer="defer" type="application/javascript" src="https://github.githubassets.com/assets/vendors-node_modules_fzy_js_index_js-node_modules_github_combobox-nav_dist_index_js-node_modu-344bff-91b70bb50d68.js"></script>
<script crossorigin="anonymous" defer="defer" type="application/javascript" src="https://github.githubassets.com/assets/vendors-node_modules_delegated-events_dist_index_js-node_modules_github_details-dialog-elemen-29dc30-2a5b7c1aa525.js"></script>
<script crossorigin="anonymous" defer="defer" type="application/javascript" src="https://github.githubassets.com/assets/vendors-node_modules_github_filter-input-element_dist_index_js-node_modules_github_remote-inp-59c459-4aa3ec97e0dc.js"></script>
<script crossorigin="anonymous" defer="defer" type="application/javascript" src="https://github.githubassets.com/assets/vendors-node_modules_github_file-attachment-element_dist_index_js-node_modules_primer_view-co-2c6968-46264b1e620c.js"></script>
<script crossorigin="anonymous" defer="defer" type="application/javascript" src="https://github.githubassets.com/assets/github-elements-3485f2997bc6.js"></script>
<script crossorigin="anonymous" defer="defer" type="application/javascript" src="https://github.githubassets.com/assets/element-registry-1105ae3b6f33.js"></script>
<script crossorigin="anonymous" defer="defer" type="application/javascript" src="https://github.githubassets.com/assets/vendors-node_modules_github_catalyst_lib_index_js-node_modules_github_hydro-analytics-client_-978abc0-d5b921292620.js"></script>
<script crossorigin="anonymous" defer="defer" type="application/javascript" src="https://github.githubassets.com/assets/vendors-node_modules_lit-html_lit-html_js-4ccebb6ebf7d.js"></script>
<script crossorigin="anonymous" defer="defer" type="application/javascript" src="https://github.githubassets.com/assets/vendors-node_modules_github_mini-throttle_dist_index_js-node_modules_github_alive-client_dist-bf5aa2-504c8d53fb8e.js"></script>
<script crossorigin="anonymous" defer="defer" type="application/javascript" src="https://github.githubassets.com/assets/vendors-node_modules_morphdom_dist_morphdom-esm_js-b1fdd7158cf0.js"></script>
<script crossorigin="anonymous" defer="defer" type="application/javascript" src="https://github.githubassets.com/assets/vendors-node_modules_github_turbo_dist_turbo_es2017-esm_js-9a3541181451.js"></script>
<script crossorigin="anonymous" defer="defer" type="application/javascript" src="https://github.githubassets.com/assets/vendors-node_modules_color-convert_index_js-35b3ae68c408.js"></script>
<script crossorigin="anonymous" defer="defer" type="application/javascript" src="https://github.githubassets.com/assets/vendors-node_modules_primer_behaviors_dist_esm_dimensions_js-node_modules_github_hotkey_dist_-8755d2-f721427ba08d.js"></script>
<script crossorigin="anonymous" defer="defer" type="application/javascript" src="https://github.githubassets.com/assets/vendors-node_modules_github_session-resume_dist_index_js-node_modules_primer_behaviors_dist_e-ac74c6-4e7cf4e77afd.js"></script>
<script crossorigin="anonymous" defer="defer" type="application/javascript" src="https://github.githubassets.com/assets/vendors-node_modules_github_paste-markdown_dist_index_esm_js-node_modules_github_quote-select-854ff4-b4a2793be3fe.js"></script>
<script crossorigin="anonymous" defer="defer" type="application/javascript" src="https://github.githubassets.com/assets/app_assets_modules_github_details-dialog_ts-app_assets_modules_github_fetch_ts-311ea0d6e989.js"></script>
<script crossorigin="anonymous" defer="defer" type="application/javascript" src="https://github.githubassets.com/assets/app_assets_modules_github_updatable-content_ts-ui_packages_hydro-analytics_hydro-analytics_ts-a50bfd286a4c.js"></script>
<script crossorigin="anonymous" defer="defer" type="application/javascript" src="https://github.githubassets.com/assets/app_assets_modules_github_behaviors_task-list_ts-app_assets_modules_github_onfocus_ts-app_ass-079b43-971d727bc4a9.js"></script>
<script crossorigin="anonymous" defer="defer" type="application/javascript" src="https://github.githubassets.com/assets/app_assets_modules_github_sticky-scroll-into-view_ts-00ce2dd9370d.js"></script>
<script crossorigin="anonymous" defer="defer" type="application/javascript" src="https://github.githubassets.com/assets/app_assets_modules_github_behaviors_ajax-error_ts-app_assets_modules_github_behaviors_include-2e2258-c320637f605b.js"></script>
<script crossorigin="anonymous" defer="defer" type="application/javascript" src="https://github.githubassets.com/assets/app_assets_modules_github_behaviors_commenting_edit_ts-app_assets_modules_github_behaviors_ht-83c235-db335a626783.js"></script>
<script crossorigin="anonymous" defer="defer" type="application/javascript" src="https://github.githubassets.com/assets/behaviors-fa049e3bdc0e.js"></script>
<script crossorigin="anonymous" defer="defer" type="application/javascript" src="https://github.githubassets.com/assets/vendors-node_modules_delegated-events_dist_index_js-node_modules_github_catalyst_lib_index_js-623425af41e1.js"></script>
<script crossorigin="anonymous" defer="defer" type="application/javascript" src="https://github.githubassets.com/assets/notifications-global-6997e0de353e.js"></script>
<script crossorigin="anonymous" defer="defer" type="application/javascript" src="https://github.githubassets.com/assets/code-menu-6bd50a0647d6.js"></script>
  
  <script crossorigin="anonymous" defer="defer" type="application/javascript" src="https://github.githubassets.com/assets/react-lib-26cb888452e9.js"></script>
<script crossorigin="anonymous" defer="defer" type="application/javascript" src="https://github.githubassets.com/assets/vendors-node_modules_primer_octicons-react_dist_index_esm_js-node_modules_primer_react_lib-es-2e8e7c-b8c027e1cfac.js"></script>
<script crossorigin="anonymous" defer="defer" type="application/javascript" src="https://github.githubassets.com/assets/vendors-node_modules_primer_react_lib-esm_Box_Box_js-96a44addc402.js"></script>
<script crossorigin="anonymous" defer="defer" type="application/javascript" src="https://github.githubassets.com/assets/vendors-node_modules_primer_react_lib-esm_Button_Button_js-node_modules_primer_react_lib-esm_-f6da63-8ede4ca7129a.js"></script>
<script crossorigin="anonymous" defer="defer" type="application/javascript" src="https://github.githubassets.com/assets/vendors-node_modules_primer_react_node_modules_primer_octicons-react_dist_index_esm_js-03b6dd82d40a.js"></script>
<script crossorigin="anonymous" defer="defer" type="application/javascript" src="https://github.githubassets.com/assets/vendors-node_modules_primer_react_lib-esm_Button_index_js-node_modules_primer_react_lib-esm_O-701f13-047a44a18d3a.js"></script>
<script crossorigin="anonymous" defer="defer" type="application/javascript" src="https://github.githubassets.com/assets/vendors-node_modules_primer_react_lib-esm_Text_Text_js-node_modules_primer_react_lib-esm_Text-85a14b-0f28951279b7.js"></script>
<script crossorigin="anonymous" defer="defer" type="application/javascript" src="https://github.githubassets.com/assets/vendors-node_modules_primer_react_lib-esm_ActionList_index_js-f25d88d57fbb.js"></script>
<script crossorigin="anonymous" defer="defer" type="application/javascript" src="https://github.githubassets.com/assets/vendors-node_modules_primer_react_lib-esm_ActionMenu_ActionMenu_js-2f08ef908241.js"></script>
<script crossorigin="anonymous" defer="defer" type="application/javascript" src="https://github.githubassets.com/assets/vendors-node_modules_primer_behaviors_dist_esm_scroll-into-view_js-node_modules_primer_react_-04bb1b-a6096689d2d5.js"></script>
<script crossorigin="anonymous" defer="defer" type="application/javascript" src="https://github.githubassets.com/assets/vendors-node_modules_primer_react_lib-esm_FormControl_FormControl_js-6cc99a41ba59.js"></script>
<script crossorigin="anonymous" defer="defer" type="application/javascript" src="https://github.githubassets.com/assets/vendors-node_modules_react-router-dom_dist_index_js-4a785319b497.js"></script>
<script crossorigin="anonymous" defer="defer" type="application/javascript" src="https://github.githubassets.com/assets/vendors-node_modules_primer_react_lib-esm_PageLayout_PageLayout_js-19e7585e47dd.js"></script>
<script crossorigin="anonymous" defer="defer" type="application/javascript" src="https://github.githubassets.com/assets/vendors-node_modules_primer_react_lib-esm_Dialog_js-node_modules_primer_react_lib-esm_Flash_F-ad64b6-f3217651e114.js"></script>
<script crossorigin="anonymous" defer="defer" type="application/javascript" src="https://github.githubassets.com/assets/vendors-node_modules_primer_react_lib-esm_UnderlineNav2_index_js-b739f40cf454.js"></script>
<script crossorigin="anonymous" defer="defer" type="application/javascript" src="https://github.githubassets.com/assets/vendors-node_modules_primer_react_lib-esm_Avatar_Avatar_js-node_modules_primer_react_lib-esm_-9bd36c-ba57d123ed28.js"></script>
<script crossorigin="anonymous" defer="defer" type="application/javascript" src="https://github.githubassets.com/assets/vendors-node_modules_primer_react_lib-esm_AvatarStack_AvatarStack_js-node_modules_primer_reac-6d3540-8d6aa4909850.js"></script>
<script crossorigin="anonymous" defer="defer" type="application/javascript" src="https://github.githubassets.com/assets/vendors-node_modules_primer_react_lib-esm_Breadcrumbs_Breadcrumbs_js-node_modules_primer_reac-a97071-8654e95e07c0.js"></script>
<script crossorigin="anonymous" defer="defer" type="application/javascript" src="https://github.githubassets.com/assets/ui_packages_react-core_create-browser-history_ts-ui_packages_react-core_deferred-registry_ts--ebbb92-dd46f515ed6d.js"></script>
<script crossorigin="anonymous" defer="defer" type="application/javascript" src="https://github.githubassets.com/assets/ui_packages_react-core_register-app_ts-c960459705f5.js"></script>
<script crossorigin="anonymous" defer="defer" type="application/javascript" src="https://github.githubassets.com/assets/ui_packages_paths_index_ts-8dc346e26764.js"></script>
<script crossorigin="anonymous" defer="defer" type="application/javascript" src="https://github.githubassets.com/assets/ui_packages_ref-selector_RefSelector_tsx-43e70e7c0d33.js"></script>
<script crossorigin="anonymous" defer="defer" type="application/javascript" src="https://github.githubassets.com/assets/app_assets_modules_github_blob-anchor_ts-app_assets_modules_github_filter-sort_ts-app_assets_-681869-26ce2427d133.js"></script>
<script crossorigin="anonymous" defer="defer" type="application/javascript" src="https://github.githubassets.com/assets/ui_packages_commit-attribution_index_ts-ui_packages_commit-checks-status_index_ts-ui_packages-cc11d2-c825eaeae7ef.js"></script>
<script crossorigin="anonymous" defer="defer" type="application/javascript" src="https://github.githubassets.com/assets/app_assets_modules_react-code-view_pages_CodeView_tsx-1b0411d02a7f.js"></script>
<script crossorigin="anonymous" defer="defer" type="application/javascript" src="https://github.githubassets.com/assets/react-code-view-e6098665e216.js"></script>


  <title>ML-Tutorials-Season-4-In-Progress/week-2/polynomial_regression.ipynb at main · UCLAIS/ML-Tutorials-Season-4-In-Progress</title>



  <meta name="route-pattern" content="/:user_id/:repository/blob/*name(/*path)">

    
  <meta name="current-catalog-service-hash" content="82c569b93da5c18ed649ebd4c2c79437db4611a6a1373e805a3cb001c64130b7">


  <meta name="request-id" content="F359:29BE:1BED57:1C27F4:6537BCCD" data-turbo-transient="true" /><meta name="html-safe-nonce" content="da06d511dfeae8323196b90067198f9f9c2b6206556b75e1b6506e7534d36511" data-turbo-transient="true" /><meta name="visitor-payload" content="eyJyZWZlcnJlciI6Imh0dHBzOi8vZ2l0aHViLmNvbS9VQ0xBSVMvTUwtVHV0b3JpYWxzLVNlYXNvbi00LUluLVByb2dyZXNzL3RyZWUvbWFpbi93ZWVrLTIiLCJyZXF1ZXN0X2lkIjoiRjM1OToyOUJFOjFCRUQ1NzoxQzI3RjQ6NjUzN0JDQ0QiLCJ2aXNpdG9yX2lkIjoiMTM5NTc2NTkxNTA2NTUyOTg1OCIsInJlZ2lvbl9lZGdlIjoiZnJhIiwicmVnaW9uX3JlbmRlciI6ImlhZCJ9" data-turbo-transient="true" /><meta name="visitor-hmac" content="621be6057ef0f8f1db87da38d7d8886ff99fcfb404673965261afc08af3303a9" data-turbo-transient="true" />


    <meta name="hovercard-subject-tag" content="repository:615726567" data-turbo-transient>


  <meta name="github-keyboard-shortcuts" content="repository,source-code,file-tree" data-turbo-transient="true" />
  

  <meta name="selected-link" value="repo_source" data-turbo-transient>
  <link rel="assets" href="https://github.githubassets.com/">

    <meta name="google-site-verification" content="c1kuD-K2HIVF635lypcsWPoD4kilo5-jA_wBFyT4uMY">
  <meta name="google-site-verification" content="KT5gs8h0wvaagLKAVWq8bbeNwnZZK1r1XQysX3xurLU">
  <meta name="google-site-verification" content="ZzhVyEFwb7w3e0-uOTltm8Jsck2F5StVihD0exw2fsA">
  <meta name="google-site-verification" content="GXs5KoUUkNCoaAZn7wPN-t01Pywp9M3sEjnt_3_ZWPc">
  <meta name="google-site-verification" content="Apib7-x98H0j5cPqHWwSMm6dNU4GmODRoqxLiDzdx9I">

<meta name="octolytics-url" content="https://collector.github.com/github/collect" /><meta name="octolytics-actor-id" content="68599607" /><meta name="octolytics-actor-login" content="damienbose" /><meta name="octolytics-actor-hash" content="566b3b677cda141aad9cf24e6dd845bba497a441c75d8ce126c9dcec483004f5" />

  <meta name="analytics-location" content="/&lt;user-name&gt;/&lt;repo-name&gt;/blob/show" data-turbo-transient="true" />

  




  

    <meta name="user-login" content="damienbose">

  <link rel="sudo-modal" href="/sessions/sudo_modal">

    <meta name="viewport" content="width=device-width">
    
      <meta name="description" content="Contribute to UCLAIS/ML-Tutorials-Season-4-In-Progress development by creating an account on GitHub.">
      <link rel="search" type="application/opensearchdescription+xml" href="/opensearch.xml" title="GitHub">
    <link rel="fluid-icon" href="https://github.com/fluidicon.png" title="GitHub">
    <meta property="fb:app_id" content="1401488693436528">
    <meta name="apple-itunes-app" content="app-id=1477376905, app-argument=https://github.com/UCLAIS/ML-Tutorials-Season-4-In-Progress/blob/main/week-2/polynomial_regression.ipynb" />
      <meta name="twitter:image:src" content="https://avatars.githubusercontent.com/u/61075473?s=400&amp;v=4" /><meta name="twitter:site" content="@github" /><meta name="twitter:card" content="summary" /><meta name="twitter:title" content="ML-Tutorials-Season-4-In-Progress/week-2/polynomial_regression.ipynb at main · UCLAIS/ML-Tutorials-Season-4-In-Progress" /><meta name="twitter:description" content="Contribute to UCLAIS/ML-Tutorials-Season-4-In-Progress development by creating an account on GitHub." />
      <meta property="og:image" content="https://avatars.githubusercontent.com/u/61075473?s=400&amp;v=4" /><meta property="og:image:alt" content="Contribute to UCLAIS/ML-Tutorials-Season-4-In-Progress development by creating an account on GitHub." /><meta property="og:site_name" content="GitHub" /><meta property="og:type" content="object" /><meta property="og:title" content="ML-Tutorials-Season-4-In-Progress/week-2/polynomial_regression.ipynb at main · UCLAIS/ML-Tutorials-Season-4-In-Progress" /><meta property="og:url" content="https://github.com/UCLAIS/ML-Tutorials-Season-4-In-Progress/blob/main/week-2/polynomial_regression.ipynb" /><meta property="og:description" content="Contribute to UCLAIS/ML-Tutorials-Season-4-In-Progress development by creating an account on GitHub." />
      

      <link rel="shared-web-socket" href="wss://alive.github.com/_sockets/u/68599607/ws?session=eyJ2IjoiVjMiLCJ1Ijo2ODU5OTYwNywicyI6MTIxMDQ1NjU4MiwiYyI6NDIyMzUwMjQ2OCwidCI6MTY5ODE1MTYzNn0=--bb5a6b06b6d9b4494b6a475d31192007ed361f997b6edc3d139d705c085f4363" data-refresh-url="/_alive" data-session-id="6e08d7b3a4b798a5231b2cdbba44641ecc350cdde4a5d96dbd8eea7a88370b0c">
      <link rel="shared-web-socket-src" href="/assets-cdn/worker/socket-worker-cee473359cfe.js">


        <meta name="hostname" content="github.com">


      <meta name="keyboard-shortcuts-preference" content="all">

        <meta name="expected-hostname" content="github.com">


  <meta http-equiv="x-pjax-version" content="616aa1074bc2a18becb89cc483ffa68a7b68c083933d16e6bb2c772c60db0e38" data-turbo-track="reload">
  <meta http-equiv="x-pjax-csp-version" content="ee14a7165914197d62e19f664bfb961fcfdfc1ec31939a5c7b137fbab1751c87" data-turbo-track="reload">
  <meta http-equiv="x-pjax-css-version" content="ad14cf200d2f78210fb816034f5ae43a1a3744f760940dc4dc9062516d20e0d2" data-turbo-track="reload">
  <meta http-equiv="x-pjax-js-version" content="3b6ad0ae3d5d92cd345c7bd69b2973b27e5bc8049aa3507f11905509dceb9eaa" data-turbo-track="reload">

  <meta name="turbo-cache-control" content="no-preview" data-turbo-transient="">

      <meta name="turbo-cache-control" content="no-cache" data-turbo-transient>
    <meta data-hydrostats="publish">

  <meta name="go-import" content="github.com/UCLAIS/ML-Tutorials-Season-4-In-Progress git https://github.com/UCLAIS/ML-Tutorials-Season-4-In-Progress.git">

  <meta name="octolytics-dimension-user_id" content="61075473" /><meta name="octolytics-dimension-user_login" content="UCLAIS" /><meta name="octolytics-dimension-repository_id" content="615726567" /><meta name="octolytics-dimension-repository_nwo" content="UCLAIS/ML-Tutorials-Season-4-In-Progress" /><meta name="octolytics-dimension-repository_public" content="false" /><meta name="octolytics-dimension-repository_is_fork" content="false" /><meta name="octolytics-dimension-repository_network_root_id" content="615726567" /><meta name="octolytics-dimension-repository_network_root_nwo" content="UCLAIS/ML-Tutorials-Season-4-In-Progress" />



  <meta name="turbo-body-classes" content="logged-in env-production page-responsive">


  <meta name="browser-stats-url" content="https://api.github.com/_private/browser/stats">

  <meta name="browser-errors-url" content="https://api.github.com/_private/browser/errors">

  <meta name="browser-optimizely-client-errors-url" content="https://api.github.com/_private/browser/optimizely_client/errors">

  <link rel="mask-icon" href="https://github.githubassets.com/assets/pinned-octocat-093da3e6fa40.svg" color="#000000">
  <link rel="alternate icon" class="js-site-favicon" type="image/png" href="https://github.githubassets.com/favicons/favicon.png">
  <link rel="icon" class="js-site-favicon" type="image/svg+xml" href="https://github.githubassets.com/favicons/favicon.svg">

<meta name="theme-color" content="#1e2327">
<meta name="color-scheme" content="light dark" />


  <link rel="manifest" href="/manifest.json" crossOrigin="use-credentials">

  </head>

  <body class="logged-in env-production page-responsive" style="word-wrap: break-word;">
    <div data-turbo-body class="logged-in env-production page-responsive" style="word-wrap: break-word;">
      


    <div class="position-relative js-header-wrapper ">
      <a href="#start-of-content" class="p-3 color-bg-accent-emphasis color-fg-on-emphasis show-on-focus js-skip-to-content">Skip to content</a>
      <span data-view-component="true" class="progress-pjax-loader Progress position-fixed width-full">
    <span style="width: 0%;" data-view-component="true" class="Progress-item progress-pjax-loader-bar left-0 top-0 color-bg-accent-emphasis"></span>
</span>      
      


      

        <script crossorigin="anonymous" defer="defer" type="application/javascript" src="https://github.githubassets.com/assets/vendors-node_modules_allex_crc32_lib_crc32_esm_js-node_modules_github_mini-throttle_dist_deco-b38cad-fb30c470f64b.js"></script>
<script crossorigin="anonymous" defer="defer" type="application/javascript" src="https://github.githubassets.com/assets/vendors-node_modules_github_clipboard-copy-element_dist_index_esm_js-node_modules_delegated-e-b37f7d-4db36910a4bc.js"></script>
<script crossorigin="anonymous" defer="defer" type="application/javascript" src="https://github.githubassets.com/assets/app_assets_modules_github_command-palette_items_help-item_ts-app_assets_modules_github_comman-48ad9d-44cf245df946.js"></script>
<script crossorigin="anonymous" defer="defer" type="application/javascript" src="https://github.githubassets.com/assets/command-palette-624c62d45c6c.js"></script>

            <header class="AppHeader">
    

    <div class="AppHeader-globalBar pb-2 js-global-bar">
      <div class="AppHeader-globalBar-start">
          <deferred-side-panel data-url="/_side-panels/global">
  <include-fragment data-target="deferred-side-panel.fragment">
      
  <button aria-label="Open global navigation menu" data-action="click:deferred-side-panel#loadPanel click:deferred-side-panel#panelOpened" data-show-dialog-id="dialog-2aa2f541-beb1-468d-b353-46d3bcb6dd30" id="dialog-show-dialog-2aa2f541-beb1-468d-b353-46d3bcb6dd30" type="button" data-view-component="true" class="Button Button--iconOnly Button--secondary Button--medium AppHeader-button color-bg-transparent p-0 color-fg-muted">    <svg aria-hidden="true" height="16" viewBox="0 0 16 16" version="1.1" width="16" data-view-component="true" class="octicon octicon-three-bars Button-visual">
    <path d="M1 2.75A.75.75 0 0 1 1.75 2h12.5a.75.75 0 0 1 0 1.5H1.75A.75.75 0 0 1 1 2.75Zm0 5A.75.75 0 0 1 1.75 7h12.5a.75.75 0 0 1 0 1.5H1.75A.75.75 0 0 1 1 7.75ZM1.75 12h12.5a.75.75 0 0 1 0 1.5H1.75a.75.75 0 0 1 0-1.5Z"></path>
</svg>
</button>  

<div class="Overlay--hidden Overlay-backdrop--side Overlay-backdrop--placement-left" data-modal-dialog-overlay>
  <modal-dialog data-target="deferred-side-panel.panel" role="dialog" id="dialog-2aa2f541-beb1-468d-b353-46d3bcb6dd30" aria-modal="true" aria-disabled="true" aria-labelledby="dialog-2aa2f541-beb1-468d-b353-46d3bcb6dd30-title" aria-describedby="dialog-2aa2f541-beb1-468d-b353-46d3bcb6dd30-description" data-view-component="true" class="Overlay Overlay-whenNarrow Overlay--size-small-portrait Overlay--motion-scaleFade SidePanel">
    <div styles="flex-direction: row;" data-view-component="true" class="Overlay-header">
  <div class="Overlay-headerContentWrap">
    <div class="Overlay-titleWrap">
      <h1 class="Overlay-title sr-only" id="dialog-2aa2f541-beb1-468d-b353-46d3bcb6dd30-title">
        Global navigation
      </h1>
            <div data-view-component="true" class="d-flex">
      <div data-view-component="true" class="AppHeader-logo position-relative">
        <svg aria-hidden="true" height="24" viewBox="0 0 16 16" version="1.1" width="24" data-view-component="true" class="octicon octicon-mark-github">
    <path d="M8 0c4.42 0 8 3.58 8 8a8.013 8.013 0 0 1-5.45 7.59c-.4.08-.55-.17-.55-.38 0-.27.01-1.13.01-2.2 0-.75-.25-1.23-.54-1.48 1.78-.2 3.65-.88 3.65-3.95 0-.88-.31-1.59-.82-2.15.08-.2.36-1.02-.08-2.12 0 0-.67-.22-2.2.82-.64-.18-1.32-.27-2-.27-.68 0-1.36.09-2 .27-1.53-1.03-2.2-.82-2.2-.82-.44 1.1-.16 1.92-.08 2.12-.51.56-.82 1.28-.82 2.15 0 3.06 1.86 3.75 3.64 3.95-.23.2-.44.55-.51 1.07-.46.21-1.61.55-2.33-.66-.15-.24-.6-.83-1.23-.82-.67.01-.27.38.01.53.34.19.73.9.82 1.13.16.45.68 1.31 2.69.94 0 .67.01 1.3.01 1.49 0 .21-.15.45-.55.38A7.995 7.995 0 0 1 0 8c0-4.42 3.58-8 8-8Z"></path>
</svg>
</div></div>
    </div>
    <div class="Overlay-actionWrap">
      <button data-close-dialog-id="dialog-2aa2f541-beb1-468d-b353-46d3bcb6dd30" aria-label="Close" type="button" data-view-component="true" class="close-button Overlay-closeButton"><svg aria-hidden="true" height="16" viewBox="0 0 16 16" version="1.1" width="16" data-view-component="true" class="octicon octicon-x">
    <path d="M3.72 3.72a.75.75 0 0 1 1.06 0L8 6.94l3.22-3.22a.749.749 0 0 1 1.275.326.749.749 0 0 1-.215.734L9.06 8l3.22 3.22a.749.749 0 0 1-.326 1.275.749.749 0 0 1-.734-.215L8 9.06l-3.22 3.22a.751.751 0 0 1-1.042-.018.751.751 0 0 1-.018-1.042L6.94 8 3.72 4.78a.75.75 0 0 1 0-1.06Z"></path>
</svg></button>
    </div>
  </div>
</div>
      <div data-view-component="true" class="Overlay-body d-flex flex-column px-2">    <div data-view-component="true" class="d-flex flex-column mb-3">
        <nav aria-label="Site navigation" data-view-component="true" class="ActionList">
  
  <nav-list>
    <ul data-view-component="true" class="ActionListWrap">
        
          
<li data-item-id="" data-targets="nav-list.items" data-view-component="true" class="ActionListItem">
    
    <a data-hotkey="g d" data-analytics-event="{&quot;category&quot;:&quot;Global navigation&quot;,&quot;action&quot;:&quot;HOME&quot;,&quot;label&quot;:null}" id="item-731a3ad9-297d-43f4-b83c-f92a780de5ee" href="/dashboard" data-view-component="true" class="ActionListContent ActionListContent--visual16">
        <span class="ActionListItem-visual ActionListItem-visual--leading">
          <svg aria-hidden="true" height="16" viewBox="0 0 16 16" version="1.1" width="16" data-view-component="true" class="octicon octicon-home">
    <path d="M6.906.664a1.749 1.749 0 0 1 2.187 0l5.25 4.2c.415.332.657.835.657 1.367v7.019A1.75 1.75 0 0 1 13.25 15h-3.5a.75.75 0 0 1-.75-.75V9H7v5.25a.75.75 0 0 1-.75.75h-3.5A1.75 1.75 0 0 1 1 13.25V6.23c0-.531.242-1.034.657-1.366l5.25-4.2Zm1.25 1.171a.25.25 0 0 0-.312 0l-5.25 4.2a.25.25 0 0 0-.094.196v7.019c0 .138.112.25.25.25H5.5V8.25a.75.75 0 0 1 .75-.75h3.5a.75.75 0 0 1 .75.75v5.25h2.75a.25.25 0 0 0 .25-.25V6.23a.25.25 0 0 0-.094-.195Z"></path>
</svg>
        </span>
      
        <span data-view-component="true" class="ActionListItem-label">
          Home
</span></a>
  
  
</li>

        
          
<li data-item-id="" data-targets="nav-list.items" data-view-component="true" class="ActionListItem">
    
    <a data-hotkey="g i" data-analytics-event="{&quot;category&quot;:&quot;Global navigation&quot;,&quot;action&quot;:&quot;ISSUES&quot;,&quot;label&quot;:null}" id="item-25b26d89-4672-4af3-a774-68cfe926ea3b" href="/issues" data-view-component="true" class="ActionListContent ActionListContent--visual16">
        <span class="ActionListItem-visual ActionListItem-visual--leading">
          <svg aria-hidden="true" height="16" viewBox="0 0 16 16" version="1.1" width="16" data-view-component="true" class="octicon octicon-issue-opened">
    <path d="M8 9.5a1.5 1.5 0 1 0 0-3 1.5 1.5 0 0 0 0 3Z"></path><path d="M8 0a8 8 0 1 1 0 16A8 8 0 0 1 8 0ZM1.5 8a6.5 6.5 0 1 0 13 0 6.5 6.5 0 0 0-13 0Z"></path>
</svg>
        </span>
      
        <span data-view-component="true" class="ActionListItem-label">
          Issues
</span></a>
  
  
</li>

        
          
<li data-item-id="" data-targets="nav-list.items" data-view-component="true" class="ActionListItem">
    
    <a data-hotkey="g p" data-analytics-event="{&quot;category&quot;:&quot;Global navigation&quot;,&quot;action&quot;:&quot;PULL_REQUESTS&quot;,&quot;label&quot;:null}" id="item-8281f0e8-04ec-4846-a353-03d904fd374b" href="/pulls" data-view-component="true" class="ActionListContent ActionListContent--visual16">
        <span class="ActionListItem-visual ActionListItem-visual--leading">
          <svg aria-hidden="true" height="16" viewBox="0 0 16 16" version="1.1" width="16" data-view-component="true" class="octicon octicon-git-pull-request">
    <path d="M1.5 3.25a2.25 2.25 0 1 1 3 2.122v5.256a2.251 2.251 0 1 1-1.5 0V5.372A2.25 2.25 0 0 1 1.5 3.25Zm5.677-.177L9.573.677A.25.25 0 0 1 10 .854V2.5h1A2.5 2.5 0 0 1 13.5 5v5.628a2.251 2.251 0 1 1-1.5 0V5a1 1 0 0 0-1-1h-1v1.646a.25.25 0 0 1-.427.177L7.177 3.427a.25.25 0 0 1 0-.354ZM3.75 2.5a.75.75 0 1 0 0 1.5.75.75 0 0 0 0-1.5Zm0 9.5a.75.75 0 1 0 0 1.5.75.75 0 0 0 0-1.5Zm8.25.75a.75.75 0 1 0 1.5 0 .75.75 0 0 0-1.5 0Z"></path>
</svg>
        </span>
      
        <span data-view-component="true" class="ActionListItem-label">
          Pull requests
</span></a>
  
  
</li>

        
          
<li data-item-id="" data-targets="nav-list.items" data-view-component="true" class="ActionListItem">
    
    <a data-analytics-event="{&quot;category&quot;:&quot;Global navigation&quot;,&quot;action&quot;:&quot;DISCUSSIONS&quot;,&quot;label&quot;:null}" id="item-e18d758c-fbc8-47a8-a483-3c83c23ff299" href="/discussions" data-view-component="true" class="ActionListContent ActionListContent--visual16">
        <span class="ActionListItem-visual ActionListItem-visual--leading">
          <svg aria-hidden="true" height="16" viewBox="0 0 16 16" version="1.1" width="16" data-view-component="true" class="octicon octicon-comment-discussion">
    <path d="M1.75 1h8.5c.966 0 1.75.784 1.75 1.75v5.5A1.75 1.75 0 0 1 10.25 10H7.061l-2.574 2.573A1.458 1.458 0 0 1 2 11.543V10h-.25A1.75 1.75 0 0 1 0 8.25v-5.5C0 1.784.784 1 1.75 1ZM1.5 2.75v5.5c0 .138.112.25.25.25h1a.75.75 0 0 1 .75.75v2.19l2.72-2.72a.749.749 0 0 1 .53-.22h3.5a.25.25 0 0 0 .25-.25v-5.5a.25.25 0 0 0-.25-.25h-8.5a.25.25 0 0 0-.25.25Zm13 2a.25.25 0 0 0-.25-.25h-.5a.75.75 0 0 1 0-1.5h.5c.966 0 1.75.784 1.75 1.75v5.5A1.75 1.75 0 0 1 14.25 12H14v1.543a1.458 1.458 0 0 1-2.487 1.03L9.22 12.28a.749.749 0 0 1 .326-1.275.749.749 0 0 1 .734.215l2.22 2.22v-2.19a.75.75 0 0 1 .75-.75h1a.25.25 0 0 0 .25-.25Z"></path>
</svg>
        </span>
      
        <span data-view-component="true" class="ActionListItem-label">
          Discussions
</span></a>
  
  
</li>

        
          
<li data-item-id="" data-targets="nav-list.items" data-view-component="true" class="ActionListItem">
    
    <a data-analytics-event="{&quot;category&quot;:&quot;Global navigation&quot;,&quot;action&quot;:&quot;CODESPACES&quot;,&quot;label&quot;:null}" id="item-92ce94d0-62eb-4f43-9fad-7ca192c9cc11" href="https://github.com/codespaces" data-view-component="true" class="ActionListContent ActionListContent--visual16">
        <span class="ActionListItem-visual ActionListItem-visual--leading">
          <svg aria-hidden="true" height="16" viewBox="0 0 16 16" version="1.1" width="16" data-view-component="true" class="octicon octicon-codespaces">
    <path d="M0 11.25c0-.966.784-1.75 1.75-1.75h12.5c.966 0 1.75.784 1.75 1.75v3A1.75 1.75 0 0 1 14.25 16H1.75A1.75 1.75 0 0 1 0 14.25Zm2-9.5C2 .784 2.784 0 3.75 0h8.5C13.216 0 14 .784 14 1.75v5a1.75 1.75 0 0 1-1.75 1.75h-8.5A1.75 1.75 0 0 1 2 6.75Zm1.75-.25a.25.25 0 0 0-.25.25v5c0 .138.112.25.25.25h8.5a.25.25 0 0 0 .25-.25v-5a.25.25 0 0 0-.25-.25Zm-2 9.5a.25.25 0 0 0-.25.25v3c0 .138.112.25.25.25h12.5a.25.25 0 0 0 .25-.25v-3a.25.25 0 0 0-.25-.25Z"></path><path d="M7 12.75a.75.75 0 0 1 .75-.75h4.5a.75.75 0 0 1 0 1.5h-4.5a.75.75 0 0 1-.75-.75Zm-4 0a.75.75 0 0 1 .75-.75h.5a.75.75 0 0 1 0 1.5h-.5a.75.75 0 0 1-.75-.75Z"></path>
</svg>
        </span>
      
        <span data-view-component="true" class="ActionListItem-label">
          Codespaces
</span></a>
  
  
</li>

        
          <li role="presentation" aria-hidden="true" data-view-component="true" class="ActionList-sectionDivider"></li>
        
          
<li data-item-id="" data-targets="nav-list.items" data-view-component="true" class="ActionListItem">
    
    <a data-analytics-event="{&quot;category&quot;:&quot;Global navigation&quot;,&quot;action&quot;:&quot;EXPLORE&quot;,&quot;label&quot;:null}" id="item-f69a567c-c98f-49f1-96bd-1557a7177fc0" href="/explore" data-view-component="true" class="ActionListContent ActionListContent--visual16">
        <span class="ActionListItem-visual ActionListItem-visual--leading">
          <svg aria-hidden="true" height="16" viewBox="0 0 16 16" version="1.1" width="16" data-view-component="true" class="octicon octicon-telescope">
    <path d="M14.184 1.143v-.001l1.422 2.464a1.75 1.75 0 0 1-.757 2.451L3.104 11.713a1.75 1.75 0 0 1-2.275-.702l-.447-.775a1.75 1.75 0 0 1 .53-2.32L11.682.573a1.748 1.748 0 0 1 2.502.57Zm-4.709 9.32h-.001l2.644 3.863a.75.75 0 1 1-1.238.848l-1.881-2.75v2.826a.75.75 0 0 1-1.5 0v-2.826l-1.881 2.75a.75.75 0 1 1-1.238-.848l2.049-2.992a.746.746 0 0 1 .293-.253l1.809-.87a.749.749 0 0 1 .944.252ZM9.436 3.92h-.001l-4.97 3.39.942 1.63 5.42-2.61Zm3.091-2.108h.001l-1.85 1.26 1.505 2.605 2.016-.97a.247.247 0 0 0 .13-.151.247.247 0 0 0-.022-.199l-1.422-2.464a.253.253 0 0 0-.161-.119.254.254 0 0 0-.197.038ZM1.756 9.157a.25.25 0 0 0-.075.33l.447.775a.25.25 0 0 0 .325.1l1.598-.769-.83-1.436-1.465 1Z"></path>
</svg>
        </span>
      
        <span data-view-component="true" class="ActionListItem-label">
          Explore
</span></a>
  
  
</li>

        
          
<li data-item-id="" data-targets="nav-list.items" data-view-component="true" class="ActionListItem">
    
    <a data-analytics-event="{&quot;category&quot;:&quot;Global navigation&quot;,&quot;action&quot;:&quot;MARKETPLACE&quot;,&quot;label&quot;:null}" id="item-45b1ceac-a186-446f-8060-33872dd53ee9" href="/marketplace" data-view-component="true" class="ActionListContent ActionListContent--visual16">
        <span class="ActionListItem-visual ActionListItem-visual--leading">
          <svg aria-hidden="true" height="16" viewBox="0 0 16 16" version="1.1" width="16" data-view-component="true" class="octicon octicon-gift">
    <path d="M2 2.75A2.75 2.75 0 0 1 4.75 0c.983 0 1.873.42 2.57 1.232.268.318.497.668.68 1.042.183-.375.411-.725.68-1.044C9.376.42 10.266 0 11.25 0a2.75 2.75 0 0 1 2.45 4h.55c.966 0 1.75.784 1.75 1.75v2c0 .698-.409 1.301-1 1.582v4.918A1.75 1.75 0 0 1 13.25 16H2.75A1.75 1.75 0 0 1 1 14.25V9.332C.409 9.05 0 8.448 0 7.75v-2C0 4.784.784 4 1.75 4h.55c-.192-.375-.3-.8-.3-1.25ZM7.25 9.5H2.5v4.75c0 .138.112.25.25.25h4.5Zm1.5 0v5h4.5a.25.25 0 0 0 .25-.25V9.5Zm0-4V8h5.5a.25.25 0 0 0 .25-.25v-2a.25.25 0 0 0-.25-.25Zm-7 0a.25.25 0 0 0-.25.25v2c0 .138.112.25.25.25h5.5V5.5h-5.5Zm3-4a1.25 1.25 0 0 0 0 2.5h2.309c-.233-.818-.542-1.401-.878-1.793-.43-.502-.915-.707-1.431-.707ZM8.941 4h2.309a1.25 1.25 0 0 0 0-2.5c-.516 0-1 .205-1.43.707-.337.392-.646.975-.879 1.793Z"></path>
</svg>
        </span>
      
        <span data-view-component="true" class="ActionListItem-label">
          Marketplace
</span></a>
  
  
</li>

</ul>  </nav-list>
</nav>

        <div data-view-component="true" class="my-3 d-flex flex-justify-center height-full">
          <svg style="box-sizing: content-box; color: var(--color-icon-primary);" width="16" height="16" viewBox="0 0 16 16" fill="none" data-view-component="true" class="anim-rotate">
  <circle cx="8" cy="8" r="7" stroke="currentColor" stroke-opacity="0.25" stroke-width="2" vector-effect="non-scaling-stroke" fill="none" />
  <path d="M15 8a7.002 7.002 0 00-7-7" stroke="currentColor" stroke-width="2" stroke-linecap="round" vector-effect="non-scaling-stroke" />
</svg>
</div>
</div>
      <div data-view-component="true" class="flex-1"></div>


      <div data-view-component="true" class="px-2">      <p class="color-fg-subtle text-small text-light">&copy; 2023 GitHub, Inc.</p>

      <div data-view-component="true" class="d-flex text-small text-light">
          <a target="_blank" href="/about" data-view-component="true" class="Link mr-2">About</a>
          <a target="_blank" href="https://github.blog" data-view-component="true" class="Link mr-2">Blog</a>
          <a target="_blank" href="https://docs.github.com/site-policy/github-terms/github-terms-of-service" data-view-component="true" class="Link mr-2">Terms</a>
          <a target="_blank" href="https://docs.github.com/site-policy/privacy-policies/github-privacy-statement" data-view-component="true" class="Link mr-2">Privacy</a>
          <a target="_blank" href="/security" data-view-component="true" class="Link mr-2">Security</a>
        <a target="_blank" href="https://www.githubstatus.com/" data-view-component="true" class="Link mr-3">Status</a>
</div></div>
</div>
      
</modal-dialog></div>

  </include-fragment>
</deferred-side-panel>

        <a
          class="AppHeader-logo ml-2"
          href="https://github.com/"
          data-hotkey="g d"
          aria-label="Homepage "
          data-turbo="false"
          data-analytics-event="{&quot;category&quot;:&quot;Header&quot;,&quot;action&quot;:&quot;go to dashboard&quot;,&quot;label&quot;:&quot;icon:logo&quot;}"
        >
          <svg height="32" aria-hidden="true" viewBox="0 0 16 16" version="1.1" width="32" data-view-component="true" class="octicon octicon-mark-github v-align-middle color-fg-default">
    <path d="M8 0c4.42 0 8 3.58 8 8a8.013 8.013 0 0 1-5.45 7.59c-.4.08-.55-.17-.55-.38 0-.27.01-1.13.01-2.2 0-.75-.25-1.23-.54-1.48 1.78-.2 3.65-.88 3.65-3.95 0-.88-.31-1.59-.82-2.15.08-.2.36-1.02-.08-2.12 0 0-.67-.22-2.2.82-.64-.18-1.32-.27-2-.27-.68 0-1.36.09-2 .27-1.53-1.03-2.2-.82-2.2-.82-.44 1.1-.16 1.92-.08 2.12-.51.56-.82 1.28-.82 2.15 0 3.06 1.86 3.75 3.64 3.95-.23.2-.44.55-.51 1.07-.46.21-1.61.55-2.33-.66-.15-.24-.6-.83-1.23-.82-.67.01-.27.38.01.53.34.19.73.9.82 1.13.16.45.68 1.31 2.69.94 0 .67.01 1.3.01 1.49 0 .21-.15.45-.55.38A7.995 7.995 0 0 1 0 8c0-4.42 3.58-8 8-8Z"></path>
</svg>
        </a>

          <div class="AppHeader-context" >
  <div class="AppHeader-context-compact">
        <button aria-expanded="false" aria-haspopup="dialog" aria-label="Page context: UCLAIS / ML-Tutorials-Season-4-In-Progress" id="dialog-show-context-region-dialog" data-show-dialog-id="context-region-dialog" type="button" data-view-component="true" class="AppHeader-context-compact-trigger Truncate Button--secondary Button--medium Button box-shadow-none">    <span class="Button-content">
      <span class="Button-label"><span class="AppHeader-context-compact-lead">
                <span class="AppHeader-context-compact-parentItem">UCLAIS</span>
                <span class="no-wrap">&nbsp;/</span>

            </span>

            <strong class="AppHeader-context-compact-mainItem d-flex flex-items-center Truncate" >
  <span class="Truncate-text ">ML-Tutorials-Season-4-In-Progress</span>

    <svg aria-hidden="true" height="12" viewBox="0 0 16 16" version="1.1" width="12" data-view-component="true" class="octicon octicon-lock ml-1">
    <path d="M4 4a4 4 0 0 1 8 0v2h.25c.966 0 1.75.784 1.75 1.75v5.5A1.75 1.75 0 0 1 12.25 15h-8.5A1.75 1.75 0 0 1 2 13.25v-5.5C2 6.784 2.784 6 3.75 6H4Zm8.25 3.5h-8.5a.25.25 0 0 0-.25.25v5.5c0 .138.112.25.25.25h8.5a.25.25 0 0 0 .25-.25v-5.5a.25.25 0 0 0-.25-.25ZM10.5 6V4a2.5 2.5 0 1 0-5 0v2Z"></path>
</svg>
</strong></span>
    </span>
</button>  

<div class="Overlay--hidden Overlay-backdrop--center" data-modal-dialog-overlay>
  <modal-dialog role="dialog" id="context-region-dialog" aria-modal="true" aria-disabled="true" aria-labelledby="context-region-dialog-title" aria-describedby="context-region-dialog-description" data-view-component="true" class="Overlay Overlay-whenNarrow Overlay--size-medium Overlay--motion-scaleFade">
    <div data-view-component="true" class="Overlay-header">
  <div class="Overlay-headerContentWrap">
    <div class="Overlay-titleWrap">
      <h1 class="Overlay-title " id="context-region-dialog-title">
        Navigate back to
      </h1>
    </div>
    <div class="Overlay-actionWrap">
      <button data-close-dialog-id="context-region-dialog" aria-label="Close" type="button" data-view-component="true" class="close-button Overlay-closeButton"><svg aria-hidden="true" height="16" viewBox="0 0 16 16" version="1.1" width="16" data-view-component="true" class="octicon octicon-x">
    <path d="M3.72 3.72a.75.75 0 0 1 1.06 0L8 6.94l3.22-3.22a.749.749 0 0 1 1.275.326.749.749 0 0 1-.215.734L9.06 8l3.22 3.22a.749.749 0 0 1-.326 1.275.749.749 0 0 1-.734-.215L8 9.06l-3.22 3.22a.751.751 0 0 1-1.042-.018.751.751 0 0 1-.018-1.042L6.94 8 3.72 4.78a.75.75 0 0 1 0-1.06Z"></path>
</svg></button>
    </div>
  </div>
</div>
      <div data-view-component="true" class="Overlay-body">          <ul role="list" class="list-style-none" >
    <li>
      <a data-analytics-event="{&quot;category&quot;:&quot;SiteHeaderComponent&quot;,&quot;action&quot;:&quot;context_region_crumb&quot;,&quot;label&quot;:&quot;UCLAIS&quot;,&quot;screen_size&quot;:&quot;compact&quot;}" href="/UCLAIS" data-view-component="true" class="Link--primary Truncate d-flex flex-items-center py-1">
        <span class="AppHeader-context-item-label Truncate-text ">
            <svg aria-hidden="true" height="12" viewBox="0 0 16 16" version="1.1" width="12" data-view-component="true" class="octicon octicon-organization mr-1">
    <path d="M1.75 16A1.75 1.75 0 0 1 0 14.25V1.75C0 .784.784 0 1.75 0h8.5C11.216 0 12 .784 12 1.75v12.5c0 .085-.006.168-.018.25h2.268a.25.25 0 0 0 .25-.25V8.285a.25.25 0 0 0-.111-.208l-1.055-.703a.749.749 0 1 1 .832-1.248l1.055.703c.487.325.779.871.779 1.456v5.965A1.75 1.75 0 0 1 14.25 16h-3.5a.766.766 0 0 1-.197-.026c-.099.017-.2.026-.303.026h-3a.75.75 0 0 1-.75-.75V14h-1v1.25a.75.75 0 0 1-.75.75Zm-.25-1.75c0 .138.112.25.25.25H4v-1.25a.75.75 0 0 1 .75-.75h2.5a.75.75 0 0 1 .75.75v1.25h2.25a.25.25 0 0 0 .25-.25V1.75a.25.25 0 0 0-.25-.25h-8.5a.25.25 0 0 0-.25.25ZM3.75 6h.5a.75.75 0 0 1 0 1.5h-.5a.75.75 0 0 1 0-1.5ZM3 3.75A.75.75 0 0 1 3.75 3h.5a.75.75 0 0 1 0 1.5h-.5A.75.75 0 0 1 3 3.75Zm4 3A.75.75 0 0 1 7.75 6h.5a.75.75 0 0 1 0 1.5h-.5A.75.75 0 0 1 7 6.75ZM7.75 3h.5a.75.75 0 0 1 0 1.5h-.5a.75.75 0 0 1 0-1.5ZM3 9.75A.75.75 0 0 1 3.75 9h.5a.75.75 0 0 1 0 1.5h-.5A.75.75 0 0 1 3 9.75ZM7.75 9h.5a.75.75 0 0 1 0 1.5h-.5a.75.75 0 0 1 0-1.5Z"></path>
</svg>

          UCLAIS
        </span>

</a>
    </li>
    <li>
      <a data-analytics-event="{&quot;category&quot;:&quot;SiteHeaderComponent&quot;,&quot;action&quot;:&quot;context_region_crumb&quot;,&quot;label&quot;:&quot;ML-Tutorials-Season-4-In-Progress&quot;,&quot;screen_size&quot;:&quot;compact&quot;}" href="/UCLAIS/ML-Tutorials-Season-4-In-Progress" data-view-component="true" class="Link--primary Truncate d-flex flex-items-center py-1">
        <span class="AppHeader-context-item-label Truncate-text ">
            <svg aria-hidden="true" height="12" viewBox="0 0 16 16" version="1.1" width="12" data-view-component="true" class="octicon octicon-repo mr-1">
    <path d="M2 2.5A2.5 2.5 0 0 1 4.5 0h8.75a.75.75 0 0 1 .75.75v12.5a.75.75 0 0 1-.75.75h-2.5a.75.75 0 0 1 0-1.5h1.75v-2h-8a1 1 0 0 0-.714 1.7.75.75 0 1 1-1.072 1.05A2.495 2.495 0 0 1 2 11.5Zm10.5-1h-8a1 1 0 0 0-1 1v6.708A2.486 2.486 0 0 1 4.5 9h8ZM5 12.25a.25.25 0 0 1 .25-.25h3.5a.25.25 0 0 1 .25.25v3.25a.25.25 0 0 1-.4.2l-1.45-1.087a.249.249 0 0 0-.3 0L5.4 15.7a.25.25 0 0 1-.4-.2Z"></path>
</svg>

          ML-Tutorials-Season-4-In-Progress
        </span>

          <svg aria-hidden="true" height="12" viewBox="0 0 16 16" version="1.1" width="12" data-view-component="true" class="octicon octicon-lock ml-1">
    <path d="M4 4a4 4 0 0 1 8 0v2h.25c.966 0 1.75.784 1.75 1.75v5.5A1.75 1.75 0 0 1 12.25 15h-8.5A1.75 1.75 0 0 1 2 13.25v-5.5C2 6.784 2.784 6 3.75 6H4Zm8.25 3.5h-8.5a.25.25 0 0 0-.25.25v5.5c0 .138.112.25.25.25h8.5a.25.25 0 0 0 .25-.25v-5.5a.25.25 0 0 0-.25-.25ZM10.5 6V4a2.5 2.5 0 1 0-5 0v2Z"></path>
</svg>
</a>
    </li>
</ul>

</div>
      
</modal-dialog></div>
  </div>

  <div class="AppHeader-context-full">
    <nav role="navigation" aria-label="Page context">
      <ul role="list" class="list-style-none" >
    <li>
      <a data-analytics-event="{&quot;category&quot;:&quot;SiteHeaderComponent&quot;,&quot;action&quot;:&quot;context_region_crumb&quot;,&quot;label&quot;:&quot;UCLAIS&quot;,&quot;screen_size&quot;:&quot;full&quot;}" data-hovercard-type="organization" data-hovercard-url="/orgs/UCLAIS/hovercard" data-octo-click="hovercard-link-click" data-octo-dimensions="link_type:self" href="/UCLAIS" data-view-component="true" class="AppHeader-context-item">
        <span class="AppHeader-context-item-label  ">

          UCLAIS
        </span>

</a>
        <span class="AppHeader-context-item-separator">/</span>
    </li>
    <li>
      <a data-analytics-event="{&quot;category&quot;:&quot;SiteHeaderComponent&quot;,&quot;action&quot;:&quot;context_region_crumb&quot;,&quot;label&quot;:&quot;ML-Tutorials-Season-4-In-Progress&quot;,&quot;screen_size&quot;:&quot;full&quot;}" href="/UCLAIS/ML-Tutorials-Season-4-In-Progress" data-view-component="true" class="AppHeader-context-item">
        <span class="AppHeader-context-item-label  ">

          ML-Tutorials-Season-4-In-Progress
        </span>

          <svg aria-hidden="true" height="12" viewBox="0 0 16 16" version="1.1" width="12" data-view-component="true" class="octicon octicon-lock ml-1">
    <path d="M4 4a4 4 0 0 1 8 0v2h.25c.966 0 1.75.784 1.75 1.75v5.5A1.75 1.75 0 0 1 12.25 15h-8.5A1.75 1.75 0 0 1 2 13.25v-5.5C2 6.784 2.784 6 3.75 6H4Zm8.25 3.5h-8.5a.25.25 0 0 0-.25.25v5.5c0 .138.112.25.25.25h8.5a.25.25 0 0 0 .25-.25v-5.5a.25.25 0 0 0-.25-.25ZM10.5 6V4a2.5 2.5 0 1 0-5 0v2Z"></path>
</svg>
</a>
    </li>
</ul>

    </nav>
  </div>
</div>

      </div>
      <div class="AppHeader-globalBar-end">
          <div class="AppHeader-search" >
              


<qbsearch-input class="search-input" data-scope="repo:UCLAIS/ML-Tutorials-Season-4-In-Progress" data-custom-scopes-path="/search/custom_scopes" data-delete-custom-scopes-csrf="Fqxd-tV4NBEp6MWSYSPey656hE-Sh9HysQt373Zb1IiGDOoyQ5C8mPnfisE4fuxUTTuYd7g4QjsNZhBJF0HLIg" data-max-custom-scopes="10" data-header-redesign-enabled="true" data-initial-value="" data-blackbird-suggestions-path="/search/suggestions" data-jump-to-suggestions-path="/_graphql/GetSuggestedNavigationDestinations" data-current-repository="UCLAIS/ML-Tutorials-Season-4-In-Progress" data-current-org="UCLAIS" data-current-owner="" data-logged-in="true">
  <div
    class="search-input-container search-with-dialog position-relative d-flex flex-row flex-items-center height-auto color-bg-transparent border-0 color-fg-subtle mx-0"
    data-action="click:qbsearch-input#searchInputContainerClicked"
  >
      
            <button type="button" data-action="click:qbsearch-input#handleExpand" class="AppHeader-button AppHeader-search-whenNarrow" aria-label="Search or jump to…" aria-expanded="false" aria-haspopup="dialog">
            <svg aria-hidden="true" height="16" viewBox="0 0 16 16" version="1.1" width="16" data-view-component="true" class="octicon octicon-search">
    <path d="M10.68 11.74a6 6 0 0 1-7.922-8.982 6 6 0 0 1 8.982 7.922l3.04 3.04a.749.749 0 0 1-.326 1.275.749.749 0 0 1-.734-.215ZM11.5 7a4.499 4.499 0 1 0-8.997 0A4.499 4.499 0 0 0 11.5 7Z"></path>
</svg>
          </button>


<div class="AppHeader-search-whenRegular">
  <div class="AppHeader-search-wrap AppHeader-search-wrap--hasTrailing">
    <div class="AppHeader-search-control">
      <label
        for="AppHeader-searchInput"
        aria-label="Search or jump to…"
        class="AppHeader-search-visual--leading"
      >
        <svg aria-hidden="true" height="16" viewBox="0 0 16 16" version="1.1" width="16" data-view-component="true" class="octicon octicon-search">
    <path d="M10.68 11.74a6 6 0 0 1-7.922-8.982 6 6 0 0 1 8.982 7.922l3.04 3.04a.749.749 0 0 1-.326 1.275.749.749 0 0 1-.734-.215ZM11.5 7a4.499 4.499 0 1 0-8.997 0A4.499 4.499 0 0 0 11.5 7Z"></path>
</svg>
      </label>

                <button
            type="button"
            data-target="qbsearch-input.inputButton"
            data-action="click:qbsearch-input#handleExpand"
            class="AppHeader-searchButton form-control input-contrast text-left color-fg-subtle no-wrap"
            data-hotkey="s,/"
            data-analytics-event="{&quot;category&quot;:&quot;Global navigation&quot;,&quot;action&quot;:&quot;SEARCH&quot;,&quot;label&quot;:null}"
          >
            <div class="overflow-hidden">
              <span id="qb-input-query" data-target="qbsearch-input.inputButtonText">
                  Type <kbd class="AppHeader-search-kbd">/</kbd> to search
              </span>
            </div>
          </button>

    </div>


      <button type="button" id="AppHeader-commandPalette-button" class="AppHeader-search-action--trailing js-activate-command-palette" data-analytics-event="{&quot;category&quot;:&quot;SiteHeaderComponent&quot;,&quot;action&quot;:&quot;command_palette&quot;,&quot;label&quot;:&quot;open command palette&quot;}">
        <svg aria-hidden="true" height="16" viewBox="0 0 16 16" version="1.1" width="16" data-view-component="true" class="octicon octicon-command-palette">
    <path d="m6.354 8.04-4.773 4.773a.75.75 0 1 0 1.061 1.06L7.945 8.57a.75.75 0 0 0 0-1.06L2.642 2.206a.75.75 0 0 0-1.06 1.061L6.353 8.04ZM8.75 11.5a.75.75 0 0 0 0 1.5h5.5a.75.75 0 0 0 0-1.5h-5.5Z"></path>
</svg>
      </button>

      <tool-tip id="tooltip-e1ac00ed-61bb-419a-868b-5dfbc7c6c327" for="AppHeader-commandPalette-button" popover="manual" data-direction="s" data-type="label" data-view-component="true" class="sr-only position-absolute">Command palette</tool-tip>
  </div>
</div>

    <input type="hidden" name="type" class="js-site-search-type-field">

    
<div class="Overlay--hidden " data-modal-dialog-overlay>
  <modal-dialog data-action="close:qbsearch-input#handleClose cancel:qbsearch-input#handleClose" data-target="qbsearch-input.searchSuggestionsDialog" role="dialog" id="search-suggestions-dialog" aria-modal="true" aria-labelledby="search-suggestions-dialog-header" data-view-component="true" class="Overlay Overlay--width-medium Overlay--height-auto">
      <h1 id="search-suggestions-dialog-header" class="sr-only">Search code, repositories, users, issues, pull requests...</h1>
    <div class="Overlay-body Overlay-body--paddingNone">
      
          <div data-view-component="true">        <div class="search-suggestions position-absolute width-full color-shadow-large border color-fg-default color-bg-default overflow-hidden d-flex flex-column query-builder-container"
          style="border-radius: 12px;"
          data-target="qbsearch-input.queryBuilderContainer"
          hidden
        >
          <!-- '"` --><!-- </textarea></xmp> --></option></form><form id="query-builder-test-form" action="" accept-charset="UTF-8" method="get">
  <query-builder data-target="qbsearch-input.queryBuilder" id="query-builder-query-builder-test" data-filter-key=":" data-view-component="true" class="QueryBuilder search-query-builder">
    <div class="FormControl FormControl--fullWidth">
      <label id="query-builder-test-label" for="query-builder-test" class="FormControl-label sr-only">
        Search
      </label>
      <div
        class="QueryBuilder-StyledInput width-fit "
        data-target="query-builder.styledInput"
      >
          <span id="query-builder-test-leadingvisual-wrap" class="FormControl-input-leadingVisualWrap QueryBuilder-leadingVisualWrap">
            <svg aria-hidden="true" height="16" viewBox="0 0 16 16" version="1.1" width="16" data-view-component="true" class="octicon octicon-search FormControl-input-leadingVisual">
    <path d="M10.68 11.74a6 6 0 0 1-7.922-8.982 6 6 0 0 1 8.982 7.922l3.04 3.04a.749.749 0 0 1-.326 1.275.749.749 0 0 1-.734-.215ZM11.5 7a4.499 4.499 0 1 0-8.997 0A4.499 4.499 0 0 0 11.5 7Z"></path>
</svg>
          </span>
        <div data-target="query-builder.styledInputContainer" class="QueryBuilder-StyledInputContainer">
          <div
            aria-hidden="true"
            class="QueryBuilder-StyledInputContent"
            data-target="query-builder.styledInputContent"
          ></div>
          <div class="QueryBuilder-InputWrapper">
            <div aria-hidden="true" class="QueryBuilder-Sizer" data-target="query-builder.sizer"></div>
            <input id="query-builder-test" name="query-builder-test" value="" autocomplete="off" type="text" role="combobox" spellcheck="false" aria-expanded="false" aria-describedby="validation-f05298e3-b92c-42dc-bf56-3def4a08ad0b" data-target="query-builder.input" data-action="
          input:query-builder#inputChange
          blur:query-builder#inputBlur
          keydown:query-builder#inputKeydown
          focus:query-builder#inputFocus
        " data-view-component="true" class="FormControl-input QueryBuilder-Input FormControl-medium" />
          </div>
        </div>
          <span class="sr-only" id="query-builder-test-clear">Clear</span>
          
  <button role="button" id="query-builder-test-clear-button" aria-labelledby="query-builder-test-clear query-builder-test-label" data-target="query-builder.clearButton" data-action="
                click:query-builder#clear
                focus:query-builder#clearButtonFocus
                blur:query-builder#clearButtonBlur
              " variant="small" hidden="hidden" type="button" data-view-component="true" class="Button Button--iconOnly Button--invisible Button--medium mr-1 px-2 py-0 d-flex flex-items-center rounded-1 color-fg-muted">    <svg aria-hidden="true" height="16" viewBox="0 0 16 16" version="1.1" width="16" data-view-component="true" class="octicon octicon-x-circle-fill Button-visual">
    <path d="M2.343 13.657A8 8 0 1 1 13.658 2.343 8 8 0 0 1 2.343 13.657ZM6.03 4.97a.751.751 0 0 0-1.042.018.751.751 0 0 0-.018 1.042L6.94 8 4.97 9.97a.749.749 0 0 0 .326 1.275.749.749 0 0 0 .734-.215L8 9.06l1.97 1.97a.749.749 0 0 0 1.275-.326.749.749 0 0 0-.215-.734L9.06 8l1.97-1.97a.749.749 0 0 0-.326-1.275.749.749 0 0 0-.734.215L8 6.94Z"></path>
</svg>
</button>  

      </div>
      <template id="search-icon">
  <svg aria-hidden="true" height="16" viewBox="0 0 16 16" version="1.1" width="16" data-view-component="true" class="octicon octicon-search">
    <path d="M10.68 11.74a6 6 0 0 1-7.922-8.982 6 6 0 0 1 8.982 7.922l3.04 3.04a.749.749 0 0 1-.326 1.275.749.749 0 0 1-.734-.215ZM11.5 7a4.499 4.499 0 1 0-8.997 0A4.499 4.499 0 0 0 11.5 7Z"></path>
</svg>
</template>

<template id="code-icon">
  <svg aria-hidden="true" height="16" viewBox="0 0 16 16" version="1.1" width="16" data-view-component="true" class="octicon octicon-code">
    <path d="m11.28 3.22 4.25 4.25a.75.75 0 0 1 0 1.06l-4.25 4.25a.749.749 0 0 1-1.275-.326.749.749 0 0 1 .215-.734L13.94 8l-3.72-3.72a.749.749 0 0 1 .326-1.275.749.749 0 0 1 .734.215Zm-6.56 0a.751.751 0 0 1 1.042.018.751.751 0 0 1 .018 1.042L2.06 8l3.72 3.72a.749.749 0 0 1-.326 1.275.749.749 0 0 1-.734-.215L.47 8.53a.75.75 0 0 1 0-1.06Z"></path>
</svg>
</template>

<template id="file-code-icon">
  <svg aria-hidden="true" height="16" viewBox="0 0 16 16" version="1.1" width="16" data-view-component="true" class="octicon octicon-file-code">
    <path d="M4 1.75C4 .784 4.784 0 5.75 0h5.586c.464 0 .909.184 1.237.513l2.914 2.914c.329.328.513.773.513 1.237v8.586A1.75 1.75 0 0 1 14.25 15h-9a.75.75 0 0 1 0-1.5h9a.25.25 0 0 0 .25-.25V6h-2.75A1.75 1.75 0 0 1 10 4.25V1.5H5.75a.25.25 0 0 0-.25.25v2.5a.75.75 0 0 1-1.5 0Zm1.72 4.97a.75.75 0 0 1 1.06 0l2 2a.75.75 0 0 1 0 1.06l-2 2a.749.749 0 0 1-1.275-.326.749.749 0 0 1 .215-.734l1.47-1.47-1.47-1.47a.75.75 0 0 1 0-1.06ZM3.28 7.78 1.81 9.25l1.47 1.47a.751.751 0 0 1-.018 1.042.751.751 0 0 1-1.042.018l-2-2a.75.75 0 0 1 0-1.06l2-2a.751.751 0 0 1 1.042.018.751.751 0 0 1 .018 1.042Zm8.22-6.218V4.25c0 .138.112.25.25.25h2.688l-.011-.013-2.914-2.914-.013-.011Z"></path>
</svg>
</template>

<template id="history-icon">
  <svg aria-hidden="true" height="16" viewBox="0 0 16 16" version="1.1" width="16" data-view-component="true" class="octicon octicon-history">
    <path d="m.427 1.927 1.215 1.215a8.002 8.002 0 1 1-1.6 5.685.75.75 0 1 1 1.493-.154 6.5 6.5 0 1 0 1.18-4.458l1.358 1.358A.25.25 0 0 1 3.896 6H.25A.25.25 0 0 1 0 5.75V2.104a.25.25 0 0 1 .427-.177ZM7.75 4a.75.75 0 0 1 .75.75v2.992l2.028.812a.75.75 0 0 1-.557 1.392l-2.5-1A.751.751 0 0 1 7 8.25v-3.5A.75.75 0 0 1 7.75 4Z"></path>
</svg>
</template>

<template id="repo-icon">
  <svg aria-hidden="true" height="16" viewBox="0 0 16 16" version="1.1" width="16" data-view-component="true" class="octicon octicon-repo">
    <path d="M2 2.5A2.5 2.5 0 0 1 4.5 0h8.75a.75.75 0 0 1 .75.75v12.5a.75.75 0 0 1-.75.75h-2.5a.75.75 0 0 1 0-1.5h1.75v-2h-8a1 1 0 0 0-.714 1.7.75.75 0 1 1-1.072 1.05A2.495 2.495 0 0 1 2 11.5Zm10.5-1h-8a1 1 0 0 0-1 1v6.708A2.486 2.486 0 0 1 4.5 9h8ZM5 12.25a.25.25 0 0 1 .25-.25h3.5a.25.25 0 0 1 .25.25v3.25a.25.25 0 0 1-.4.2l-1.45-1.087a.249.249 0 0 0-.3 0L5.4 15.7a.25.25 0 0 1-.4-.2Z"></path>
</svg>
</template>

<template id="bookmark-icon">
  <svg aria-hidden="true" height="16" viewBox="0 0 16 16" version="1.1" width="16" data-view-component="true" class="octicon octicon-bookmark">
    <path d="M3 2.75C3 1.784 3.784 1 4.75 1h6.5c.966 0 1.75.784 1.75 1.75v11.5a.75.75 0 0 1-1.227.579L8 11.722l-3.773 3.107A.751.751 0 0 1 3 14.25Zm1.75-.25a.25.25 0 0 0-.25.25v9.91l3.023-2.489a.75.75 0 0 1 .954 0l3.023 2.49V2.75a.25.25 0 0 0-.25-.25Z"></path>
</svg>
</template>

<template id="plus-circle-icon">
  <svg aria-hidden="true" height="16" viewBox="0 0 16 16" version="1.1" width="16" data-view-component="true" class="octicon octicon-plus-circle">
    <path d="M8 0a8 8 0 1 1 0 16A8 8 0 0 1 8 0ZM1.5 8a6.5 6.5 0 1 0 13 0 6.5 6.5 0 0 0-13 0Zm7.25-3.25v2.5h2.5a.75.75 0 0 1 0 1.5h-2.5v2.5a.75.75 0 0 1-1.5 0v-2.5h-2.5a.75.75 0 0 1 0-1.5h2.5v-2.5a.75.75 0 0 1 1.5 0Z"></path>
</svg>
</template>

<template id="circle-icon">
  <svg aria-hidden="true" height="16" viewBox="0 0 16 16" version="1.1" width="16" data-view-component="true" class="octicon octicon-dot-fill">
    <path d="M8 4a4 4 0 1 1 0 8 4 4 0 0 1 0-8Z"></path>
</svg>
</template>

<template id="trash-icon">
  <svg aria-hidden="true" height="16" viewBox="0 0 16 16" version="1.1" width="16" data-view-component="true" class="octicon octicon-trash">
    <path d="M11 1.75V3h2.25a.75.75 0 0 1 0 1.5H2.75a.75.75 0 0 1 0-1.5H5V1.75C5 .784 5.784 0 6.75 0h2.5C10.216 0 11 .784 11 1.75ZM4.496 6.675l.66 6.6a.25.25 0 0 0 .249.225h5.19a.25.25 0 0 0 .249-.225l.66-6.6a.75.75 0 0 1 1.492.149l-.66 6.6A1.748 1.748 0 0 1 10.595 15h-5.19a1.75 1.75 0 0 1-1.741-1.575l-.66-6.6a.75.75 0 1 1 1.492-.15ZM6.5 1.75V3h3V1.75a.25.25 0 0 0-.25-.25h-2.5a.25.25 0 0 0-.25.25Z"></path>
</svg>
</template>

<template id="team-icon">
  <svg aria-hidden="true" height="16" viewBox="0 0 16 16" version="1.1" width="16" data-view-component="true" class="octicon octicon-people">
    <path d="M2 5.5a3.5 3.5 0 1 1 5.898 2.549 5.508 5.508 0 0 1 3.034 4.084.75.75 0 1 1-1.482.235 4 4 0 0 0-7.9 0 .75.75 0 0 1-1.482-.236A5.507 5.507 0 0 1 3.102 8.05 3.493 3.493 0 0 1 2 5.5ZM11 4a3.001 3.001 0 0 1 2.22 5.018 5.01 5.01 0 0 1 2.56 3.012.749.749 0 0 1-.885.954.752.752 0 0 1-.549-.514 3.507 3.507 0 0 0-2.522-2.372.75.75 0 0 1-.574-.73v-.352a.75.75 0 0 1 .416-.672A1.5 1.5 0 0 0 11 5.5.75.75 0 0 1 11 4Zm-5.5-.5a2 2 0 1 0-.001 3.999A2 2 0 0 0 5.5 3.5Z"></path>
</svg>
</template>

<template id="project-icon">
  <svg aria-hidden="true" height="16" viewBox="0 0 16 16" version="1.1" width="16" data-view-component="true" class="octicon octicon-project">
    <path d="M1.75 0h12.5C15.216 0 16 .784 16 1.75v12.5A1.75 1.75 0 0 1 14.25 16H1.75A1.75 1.75 0 0 1 0 14.25V1.75C0 .784.784 0 1.75 0ZM1.5 1.75v12.5c0 .138.112.25.25.25h12.5a.25.25 0 0 0 .25-.25V1.75a.25.25 0 0 0-.25-.25H1.75a.25.25 0 0 0-.25.25ZM11.75 3a.75.75 0 0 1 .75.75v7.5a.75.75 0 0 1-1.5 0v-7.5a.75.75 0 0 1 .75-.75Zm-8.25.75a.75.75 0 0 1 1.5 0v5.5a.75.75 0 0 1-1.5 0ZM8 3a.75.75 0 0 1 .75.75v3.5a.75.75 0 0 1-1.5 0v-3.5A.75.75 0 0 1 8 3Z"></path>
</svg>
</template>

<template id="pencil-icon">
  <svg aria-hidden="true" height="16" viewBox="0 0 16 16" version="1.1" width="16" data-view-component="true" class="octicon octicon-pencil">
    <path d="M11.013 1.427a1.75 1.75 0 0 1 2.474 0l1.086 1.086a1.75 1.75 0 0 1 0 2.474l-8.61 8.61c-.21.21-.47.364-.756.445l-3.251.93a.75.75 0 0 1-.927-.928l.929-3.25c.081-.286.235-.547.445-.758l8.61-8.61Zm.176 4.823L9.75 4.81l-6.286 6.287a.253.253 0 0 0-.064.108l-.558 1.953 1.953-.558a.253.253 0 0 0 .108-.064Zm1.238-3.763a.25.25 0 0 0-.354 0L10.811 3.75l1.439 1.44 1.263-1.263a.25.25 0 0 0 0-.354Z"></path>
</svg>
</template>

        <div class="position-relative">
                <ul
                  role="listbox"
                  class="ActionListWrap QueryBuilder-ListWrap"
                  aria-label="Suggestions"
                  data-action="
                    combobox-commit:query-builder#comboboxCommit
                    mousedown:query-builder#resultsMousedown
                  "
                  data-target="query-builder.resultsList"
                  data-persist-list=false
                  id="query-builder-test-results"
                ></ul>
        </div>
      <div class="FormControl-inlineValidation" id="validation-f05298e3-b92c-42dc-bf56-3def4a08ad0b" hidden="hidden">
        <span class="FormControl-inlineValidation--visual">
          <svg aria-hidden="true" height="12" viewBox="0 0 12 12" version="1.1" width="12" data-view-component="true" class="octicon octicon-alert-fill">
    <path d="M4.855.708c.5-.896 1.79-.896 2.29 0l4.675 8.351a1.312 1.312 0 0 1-1.146 1.954H1.33A1.313 1.313 0 0 1 .183 9.058ZM7 7V3H5v4Zm-1 3a1 1 0 1 0 0-2 1 1 0 0 0 0 2Z"></path>
</svg>
        </span>
        <span></span>
</div>    </div>
    <div data-target="query-builder.screenReaderFeedback" aria-live="polite" aria-atomic="true" class="sr-only"></div>
</query-builder></form>
          <div class="d-flex flex-row color-fg-muted px-3 text-small color-bg-default search-feedback-prompt">
            <a target="_blank" href="https://docs.github.com/en/search-github/github-code-search/understanding-github-code-search-syntax" data-view-component="true" class="Link color-fg-accent text-normal ml-2">
              Search syntax tips
</a>            <div class="d-flex flex-1"></div>
                <button data-action="click:qbsearch-input#showFeedbackDialog" type="button" data-view-component="true" class="Button--link Button--medium Button color-fg-accent text-normal ml-2">    <span class="Button-content">
      <span class="Button-label">Give feedback</span>
    </span>
</button>  
          </div>
        </div>
</div>

    </div>
</modal-dialog></div>
  </div>
  <div data-action="click:qbsearch-input#retract" class="dark-backdrop position-fixed" hidden data-target="qbsearch-input.darkBackdrop"></div>
  <div class="color-fg-default">
    
<div class="Overlay--hidden Overlay-backdrop--center" data-modal-dialog-overlay>
  <modal-dialog data-target="qbsearch-input.feedbackDialog" data-action="close:qbsearch-input#handleDialogClose cancel:qbsearch-input#handleDialogClose" role="dialog" id="feedback-dialog" aria-modal="true" aria-disabled="true" aria-labelledby="feedback-dialog-title" aria-describedby="feedback-dialog-description" data-view-component="true" class="Overlay Overlay-whenNarrow Overlay--size-medium Overlay--motion-scaleFade">
    <div data-view-component="true" class="Overlay-header">
  <div class="Overlay-headerContentWrap">
    <div class="Overlay-titleWrap">
      <h1 class="Overlay-title " id="feedback-dialog-title">
        Provide feedback
      </h1>
    </div>
    <div class="Overlay-actionWrap">
      <button data-close-dialog-id="feedback-dialog" aria-label="Close" type="button" data-view-component="true" class="close-button Overlay-closeButton"><svg aria-hidden="true" height="16" viewBox="0 0 16 16" version="1.1" width="16" data-view-component="true" class="octicon octicon-x">
    <path d="M3.72 3.72a.75.75 0 0 1 1.06 0L8 6.94l3.22-3.22a.749.749 0 0 1 1.275.326.749.749 0 0 1-.215.734L9.06 8l3.22 3.22a.749.749 0 0 1-.326 1.275.749.749 0 0 1-.734-.215L8 9.06l-3.22 3.22a.751.751 0 0 1-1.042-.018.751.751 0 0 1-.018-1.042L6.94 8 3.72 4.78a.75.75 0 0 1 0-1.06Z"></path>
</svg></button>
    </div>
  </div>
</div>
      <div data-view-component="true" class="Overlay-body">        <!-- '"` --><!-- </textarea></xmp> --></option></form><form id="code-search-feedback-form" data-turbo="false" action="/search/feedback" accept-charset="UTF-8" method="post"><input type="hidden" name="authenticity_token" value="iNg_cLUB-bin5upJMjkKGxiXmpDdrwqdGKmMBSWPBsE3uSVujQny8qkmUsqCaNF1bTSjJKPyfExF5Ghv4CCUaQ" />
          <p>We read every piece of feedback, and take your input very seriously.</p>
          <textarea name="feedback" class="form-control width-full mb-2" style="height: 120px" id="feedback"></textarea>
          <input name="include_email" id="include_email" aria-label="Include my email address so I can be contacted" class="form-control mr-2" type="checkbox">
          <label for="include_email" style="font-weight: normal">Include my email address so I can be contacted</label>
</form></div>
      <div data-view-component="true" class="Overlay-footer Overlay-footer--alignEnd">          <button data-close-dialog-id="feedback-dialog" type="button" data-view-component="true" class="btn">    Cancel
</button>
          <button form="code-search-feedback-form" data-action="click:qbsearch-input#submitFeedback" type="submit" data-view-component="true" class="btn-primary btn">    Submit feedback
</button>
</div>
</modal-dialog></div>

    <custom-scopes data-target="qbsearch-input.customScopesManager">
    
<div class="Overlay--hidden Overlay-backdrop--center" data-modal-dialog-overlay>
  <modal-dialog data-target="custom-scopes.customScopesModalDialog" data-action="close:qbsearch-input#handleDialogClose cancel:qbsearch-input#handleDialogClose" role="dialog" id="custom-scopes-dialog" aria-modal="true" aria-disabled="true" aria-labelledby="custom-scopes-dialog-title" aria-describedby="custom-scopes-dialog-description" data-view-component="true" class="Overlay Overlay-whenNarrow Overlay--size-medium Overlay--motion-scaleFade">
    <div data-view-component="true" class="Overlay-header Overlay-header--divided">
  <div class="Overlay-headerContentWrap">
    <div class="Overlay-titleWrap">
      <h1 class="Overlay-title " id="custom-scopes-dialog-title">
        Saved searches
      </h1>
        <h2 id="custom-scopes-dialog-description" class="Overlay-description">Use saved searches to filter your results more quickly</h2>
    </div>
    <div class="Overlay-actionWrap">
      <button data-close-dialog-id="custom-scopes-dialog" aria-label="Close" type="button" data-view-component="true" class="close-button Overlay-closeButton"><svg aria-hidden="true" height="16" viewBox="0 0 16 16" version="1.1" width="16" data-view-component="true" class="octicon octicon-x">
    <path d="M3.72 3.72a.75.75 0 0 1 1.06 0L8 6.94l3.22-3.22a.749.749 0 0 1 1.275.326.749.749 0 0 1-.215.734L9.06 8l3.22 3.22a.749.749 0 0 1-.326 1.275.749.749 0 0 1-.734-.215L8 9.06l-3.22 3.22a.751.751 0 0 1-1.042-.018.751.751 0 0 1-.018-1.042L6.94 8 3.72 4.78a.75.75 0 0 1 0-1.06Z"></path>
</svg></button>
    </div>
  </div>
</div>
      <div data-view-component="true" class="Overlay-body">        <div data-target="custom-scopes.customScopesModalDialogFlash"></div>

        <div hidden class="create-custom-scope-form" data-target="custom-scopes.createCustomScopeForm">
        <!-- '"` --><!-- </textarea></xmp> --></option></form><form id="custom-scopes-dialog-form" data-turbo="false" action="/search/custom_scopes" accept-charset="UTF-8" method="post"><input type="hidden" name="authenticity_token" value="5tcbRfq1_WfJ2b6uy0hRaOaXMC1FnkeLXroJSSALXd9qChJ3JeWeA8kkj78n0h6gri5xZqxLYvC3tbgEHaUFiA" />
          <div data-target="custom-scopes.customScopesModalDialogFlash"></div>

          <input type="hidden" id="custom_scope_id" name="custom_scope_id" data-target="custom-scopes.customScopesIdField">

          <div class="form-group">
            <label for="custom_scope_name">Name</label>
            <auto-check src="/search/custom_scopes/check_name" required>
              <input
                type="text"
                name="custom_scope_name"
                id="custom_scope_name"
                data-target="custom-scopes.customScopesNameField"
                class="form-control"
                autocomplete="off"
                placeholder="github-ruby"
                required
                maxlength="50">
              <input type="hidden" value="-xIz4eDonhbrNXqKtlwcShja9v6LDfweAzvG3Dc3LZIGV1YWdtg9Hb2ye_Rrjo68WDoJeqxZaYU3h65uQUpS7A" data-csrf="true" />
            </auto-check>
          </div>

          <div class="form-group">
            <label for="custom_scope_query">Query</label>
            <input
              type="text"
              name="custom_scope_query"
              id="custom_scope_query"
              data-target="custom-scopes.customScopesQueryField"
              class="form-control"
              autocomplete="off"
              placeholder="(repo:mona/a OR repo:mona/b) AND lang:python"
              required
              maxlength="500">
          </div>

          <p class="text-small color-fg-muted">
            To see all available qualifiers, see our <a class="Link--inTextBlock" href="https://docs.github.com/en/search-github/github-code-search/understanding-github-code-search-syntax">documentation</a>.
          </p>
</form>        </div>

        <div data-target="custom-scopes.manageCustomScopesForm">
          <div data-target="custom-scopes.list"></div>
        </div>

</div>
      <div data-view-component="true" class="Overlay-footer Overlay-footer--alignEnd Overlay-footer--divided">          <button data-action="click:custom-scopes#customScopesCancel" type="button" data-view-component="true" class="btn">    Cancel
</button>
          <button form="custom-scopes-dialog-form" data-action="click:custom-scopes#customScopesSubmit" data-target="custom-scopes.customScopesSubmitButton" type="submit" data-view-component="true" class="btn-primary btn">    Create saved search
</button>
</div>
</modal-dialog></div>
    </custom-scopes>
  </div>
</qbsearch-input><input type="hidden" value="4RikG-spKvPIhxwqET8BprnvWlD6pROEWF8Uf-cK--knKuMc0zAzRRpHa-0oGfPHnsrauUXW5Kh_qiTVgOpyTg" data-csrf="true" class="js-data-jump-to-suggestions-path-csrf" />

          </div>

        <div class="AppHeader-actions position-relative">
          <action-menu data-select-variant="none" data-view-component="true">
  <focus-group direction="vertical" mnemonics retain>
    <div data-view-component="true" class="Button-withTooltip">  <button id="global-create-menu-button" popovertarget="global-create-menu-overlay" aria-label="Create something new" aria-controls="global-create-menu-list" aria-haspopup="true" type="button" data-view-component="true" class="AppHeader-button Button--secondary Button--small Button width-auto color-fg-muted">    <span class="Button-content">
        <span class="Button-visual Button-leadingVisual">
          <svg aria-hidden="true" height="16" viewBox="0 0 16 16" version="1.1" width="16" data-view-component="true" class="octicon octicon-plus">
    <path d="M7.75 2a.75.75 0 0 1 .75.75V7h4.25a.75.75 0 0 1 0 1.5H8.5v4.25a.75.75 0 0 1-1.5 0V8.5H2.75a.75.75 0 0 1 0-1.5H7V2.75A.75.75 0 0 1 7.75 2Z"></path>
</svg>
        </span>
      <span class="Button-label"><svg aria-hidden="true" height="16" viewBox="0 0 16 16" version="1.1" width="16" data-view-component="true" class="octicon octicon-triangle-down">
    <path d="m4.427 7.427 3.396 3.396a.25.25 0 0 0 .354 0l3.396-3.396A.25.25 0 0 0 11.396 7H4.604a.25.25 0 0 0-.177.427Z"></path>
</svg></span>
    </span>
</button>  <tool-tip id="tooltip-ceed1598-1d51-4844-b20c-79b4951621bf" for="global-create-menu-button" popover="manual" data-direction="s" data-type="description" data-view-component="true" class="sr-only position-absolute">Create new...</tool-tip>
</div>

<anchored-position id="global-create-menu-overlay" anchor="global-create-menu-button" align="end" side="outside-bottom" anchor-offset="normal" popover="auto" data-view-component="true">
  <div data-view-component="true" class="Overlay Overlay--size-auto">
    
      
        <div data-view-component="true">
  <ul aria-labelledby="global-create-menu-button" id="global-create-menu-list" role="menu" data-view-component="true" class="ActionListWrap--inset ActionListWrap">
      <li data-analytics-event="{&quot;category&quot;:&quot;SiteHeaderComponent&quot;,&quot;action&quot;:&quot;add_dropdown&quot;,&quot;label&quot;:&quot;new repository&quot;}" data-targets="action-list.items" role="none" data-view-component="true" class="ActionListItem">
    
    <a href="/new" tabindex="-1" id="item-e541f382-6887-43ec-a4bc-fdcf834501ee" role="menuitem" data-view-component="true" class="ActionListContent ActionListContent--visual16">
        <span class="ActionListItem-visual ActionListItem-visual--leading">
          <svg aria-hidden="true" height="16" viewBox="0 0 16 16" version="1.1" width="16" data-view-component="true" class="octicon octicon-repo">
    <path d="M2 2.5A2.5 2.5 0 0 1 4.5 0h8.75a.75.75 0 0 1 .75.75v12.5a.75.75 0 0 1-.75.75h-2.5a.75.75 0 0 1 0-1.5h1.75v-2h-8a1 1 0 0 0-.714 1.7.75.75 0 1 1-1.072 1.05A2.495 2.495 0 0 1 2 11.5Zm10.5-1h-8a1 1 0 0 0-1 1v6.708A2.486 2.486 0 0 1 4.5 9h8ZM5 12.25a.25.25 0 0 1 .25-.25h3.5a.25.25 0 0 1 .25.25v3.25a.25.25 0 0 1-.4.2l-1.45-1.087a.249.249 0 0 0-.3 0L5.4 15.7a.25.25 0 0 1-.4-.2Z"></path>
</svg>
        </span>
      
        <span data-view-component="true" class="ActionListItem-label">
              New repository

</span></a>
  
  
</li>
      <li data-analytics-event="{&quot;category&quot;:&quot;SiteHeaderComponent&quot;,&quot;action&quot;:&quot;add_dropdown&quot;,&quot;label&quot;:&quot;import repository&quot;}" data-targets="action-list.items" role="none" data-view-component="true" class="ActionListItem">
    
    <a href="/new/import" tabindex="-1" id="item-36d11871-de3c-4bfc-a9d5-e9f00797fd79" role="menuitem" data-view-component="true" class="ActionListContent ActionListContent--visual16">
        <span class="ActionListItem-visual ActionListItem-visual--leading">
          <svg aria-hidden="true" height="16" viewBox="0 0 16 16" version="1.1" width="16" data-view-component="true" class="octicon octicon-repo-push">
    <path d="M1 2.5A2.5 2.5 0 0 1 3.5 0h8.75a.75.75 0 0 1 .75.75v3.5a.75.75 0 0 1-1.5 0V1.5h-8a1 1 0 0 0-1 1v6.708A2.493 2.493 0 0 1 3.5 9h3.25a.75.75 0 0 1 0 1.5H3.5a1 1 0 0 0 0 2h5.75a.75.75 0 0 1 0 1.5H3.5A2.5 2.5 0 0 1 1 11.5Zm13.23 7.79h-.001l-1.224-1.224v6.184a.75.75 0 0 1-1.5 0V9.066L10.28 10.29a.75.75 0 0 1-1.06-1.061l2.505-2.504a.75.75 0 0 1 1.06 0L15.29 9.23a.751.751 0 0 1-.018 1.042.751.751 0 0 1-1.042.018Z"></path>
</svg>
        </span>
      
        <span data-view-component="true" class="ActionListItem-label">
                Import repository

</span></a>
  
  
</li>
      <li role="presentation" aria-hidden="true" data-view-component="true" class="ActionList-sectionDivider"></li>
      <li data-analytics-event="{&quot;category&quot;:&quot;SiteHeaderComponent&quot;,&quot;action&quot;:&quot;add_dropdown&quot;,&quot;label&quot;:&quot;new codespace&quot;}" data-targets="action-list.items" role="none" data-view-component="true" class="ActionListItem">
    
    <a href="/codespaces/new" tabindex="-1" id="item-c067b5de-5946-4f5a-b7eb-8a9fa9add296" role="menuitem" data-view-component="true" class="ActionListContent ActionListContent--visual16">
        <span class="ActionListItem-visual ActionListItem-visual--leading">
          <svg aria-hidden="true" height="16" viewBox="0 0 16 16" version="1.1" width="16" data-view-component="true" class="octicon octicon-codespaces">
    <path d="M0 11.25c0-.966.784-1.75 1.75-1.75h12.5c.966 0 1.75.784 1.75 1.75v3A1.75 1.75 0 0 1 14.25 16H1.75A1.75 1.75 0 0 1 0 14.25Zm2-9.5C2 .784 2.784 0 3.75 0h8.5C13.216 0 14 .784 14 1.75v5a1.75 1.75 0 0 1-1.75 1.75h-8.5A1.75 1.75 0 0 1 2 6.75Zm1.75-.25a.25.25 0 0 0-.25.25v5c0 .138.112.25.25.25h8.5a.25.25 0 0 0 .25-.25v-5a.25.25 0 0 0-.25-.25Zm-2 9.5a.25.25 0 0 0-.25.25v3c0 .138.112.25.25.25h12.5a.25.25 0 0 0 .25-.25v-3a.25.25 0 0 0-.25-.25Z"></path><path d="M7 12.75a.75.75 0 0 1 .75-.75h4.5a.75.75 0 0 1 0 1.5h-4.5a.75.75 0 0 1-.75-.75Zm-4 0a.75.75 0 0 1 .75-.75h.5a.75.75 0 0 1 0 1.5h-.5a.75.75 0 0 1-.75-.75Z"></path>
</svg>
        </span>
      
        <span data-view-component="true" class="ActionListItem-label">
                New codespace

</span></a>
  
  
</li>
      <li data-analytics-event="{&quot;category&quot;:&quot;SiteHeaderComponent&quot;,&quot;action&quot;:&quot;add_dropdown&quot;,&quot;label&quot;:&quot;new gist&quot;}" data-targets="action-list.items" role="none" data-view-component="true" class="ActionListItem">
    
    <a href="https://gist.github.com/" tabindex="-1" id="item-41ed16a6-1f35-4b2f-92a8-b22b4bd76ca5" role="menuitem" data-view-component="true" class="ActionListContent ActionListContent--visual16">
        <span class="ActionListItem-visual ActionListItem-visual--leading">
          <svg aria-hidden="true" height="16" viewBox="0 0 16 16" version="1.1" width="16" data-view-component="true" class="octicon octicon-code">
    <path d="m11.28 3.22 4.25 4.25a.75.75 0 0 1 0 1.06l-4.25 4.25a.749.749 0 0 1-1.275-.326.749.749 0 0 1 .215-.734L13.94 8l-3.72-3.72a.749.749 0 0 1 .326-1.275.749.749 0 0 1 .734.215Zm-6.56 0a.751.751 0 0 1 1.042.018.751.751 0 0 1 .018 1.042L2.06 8l3.72 3.72a.749.749 0 0 1-.326 1.275.749.749 0 0 1-.734-.215L.47 8.53a.75.75 0 0 1 0-1.06Z"></path>
</svg>
        </span>
      
        <span data-view-component="true" class="ActionListItem-label">
                New gist

</span></a>
  
  
</li>
      <li role="presentation" aria-hidden="true" data-view-component="true" class="ActionList-sectionDivider"></li>
      <li data-targets="action-list.items" role="none" data-view-component="true" class="ActionListItem">
    
    <a href="/account/organizations/new" tabindex="-1" data-dont-follow-via-test="true" data-analytics-event="{&quot;category&quot;:&quot;SiteHeaderComponent&quot;,&quot;action&quot;:&quot;add_dropdown&quot;,&quot;label&quot;:&quot;new organization&quot;}" id="item-e0f2c39c-cd46-4828-b643-a65e66b906af" role="menuitem" data-view-component="true" class="ActionListContent ActionListContent--visual16">
        <span class="ActionListItem-visual ActionListItem-visual--leading">
          <svg aria-hidden="true" height="16" viewBox="0 0 16 16" version="1.1" width="16" data-view-component="true" class="octicon octicon-organization">
    <path d="M1.75 16A1.75 1.75 0 0 1 0 14.25V1.75C0 .784.784 0 1.75 0h8.5C11.216 0 12 .784 12 1.75v12.5c0 .085-.006.168-.018.25h2.268a.25.25 0 0 0 .25-.25V8.285a.25.25 0 0 0-.111-.208l-1.055-.703a.749.749 0 1 1 .832-1.248l1.055.703c.487.325.779.871.779 1.456v5.965A1.75 1.75 0 0 1 14.25 16h-3.5a.766.766 0 0 1-.197-.026c-.099.017-.2.026-.303.026h-3a.75.75 0 0 1-.75-.75V14h-1v1.25a.75.75 0 0 1-.75.75Zm-.25-1.75c0 .138.112.25.25.25H4v-1.25a.75.75 0 0 1 .75-.75h2.5a.75.75 0 0 1 .75.75v1.25h2.25a.25.25 0 0 0 .25-.25V1.75a.25.25 0 0 0-.25-.25h-8.5a.25.25 0 0 0-.25.25ZM3.75 6h.5a.75.75 0 0 1 0 1.5h-.5a.75.75 0 0 1 0-1.5ZM3 3.75A.75.75 0 0 1 3.75 3h.5a.75.75 0 0 1 0 1.5h-.5A.75.75 0 0 1 3 3.75Zm4 3A.75.75 0 0 1 7.75 6h.5a.75.75 0 0 1 0 1.5h-.5A.75.75 0 0 1 7 6.75ZM7.75 3h.5a.75.75 0 0 1 0 1.5h-.5a.75.75 0 0 1 0-1.5ZM3 9.75A.75.75 0 0 1 3.75 9h.5a.75.75 0 0 1 0 1.5h-.5A.75.75 0 0 1 3 9.75ZM7.75 9h.5a.75.75 0 0 1 0 1.5h-.5a.75.75 0 0 1 0-1.5Z"></path>
</svg>
        </span>
      
        <span data-view-component="true" class="ActionListItem-label">
                New organization

</span></a>
  
  
</li>
</ul>  
</div>

</div></anchored-position>  </focus-group>
</action-menu>

          <div data-view-component="true" class="Button-withTooltip">
  <a href="/issues" data-analytics-event="{&quot;category&quot;:&quot;Global navigation&quot;,&quot;action&quot;:&quot;ISSUES_HEADER&quot;,&quot;label&quot;:null}" id="icon-button-7d8c60a4-cd6e-424f-b41c-cbb71e688e5d" aria-labelledby="tooltip-b34c18c9-405c-4cd0-a0ca-ca58eb25ed80" data-view-component="true" class="Button Button--iconOnly Button--secondary Button--medium AppHeader-button color-fg-muted">    <svg aria-hidden="true" height="16" viewBox="0 0 16 16" version="1.1" width="16" data-view-component="true" class="octicon octicon-issue-opened Button-visual">
    <path d="M8 9.5a1.5 1.5 0 1 0 0-3 1.5 1.5 0 0 0 0 3Z"></path><path d="M8 0a8 8 0 1 1 0 16A8 8 0 0 1 8 0ZM1.5 8a6.5 6.5 0 1 0 13 0 6.5 6.5 0 0 0-13 0Z"></path>
</svg>
</a>  <tool-tip id="tooltip-b34c18c9-405c-4cd0-a0ca-ca58eb25ed80" for="icon-button-7d8c60a4-cd6e-424f-b41c-cbb71e688e5d" popover="manual" data-direction="s" data-type="label" data-view-component="true" class="sr-only position-absolute">Issues</tool-tip>
</div>
          <div data-view-component="true" class="Button-withTooltip">
  <a href="/pulls" data-analytics-event="{&quot;category&quot;:&quot;Global navigation&quot;,&quot;action&quot;:&quot;PULL_REQUESTS_HEADER&quot;,&quot;label&quot;:null}" id="icon-button-2f5b9aba-a27d-4234-b00b-c4b509348bac" aria-labelledby="tooltip-f109adc1-4104-42a5-b303-beed08362725" data-view-component="true" class="Button Button--iconOnly Button--secondary Button--medium AppHeader-button color-fg-muted">    <svg aria-hidden="true" height="16" viewBox="0 0 16 16" version="1.1" width="16" data-view-component="true" class="octicon octicon-git-pull-request Button-visual">
    <path d="M1.5 3.25a2.25 2.25 0 1 1 3 2.122v5.256a2.251 2.251 0 1 1-1.5 0V5.372A2.25 2.25 0 0 1 1.5 3.25Zm5.677-.177L9.573.677A.25.25 0 0 1 10 .854V2.5h1A2.5 2.5 0 0 1 13.5 5v5.628a2.251 2.251 0 1 1-1.5 0V5a1 1 0 0 0-1-1h-1v1.646a.25.25 0 0 1-.427.177L7.177 3.427a.25.25 0 0 1 0-.354ZM3.75 2.5a.75.75 0 1 0 0 1.5.75.75 0 0 0 0-1.5Zm0 9.5a.75.75 0 1 0 0 1.5.75.75 0 0 0 0-1.5Zm8.25.75a.75.75 0 1 0 1.5 0 .75.75 0 0 0-1.5 0Z"></path>
</svg>
</a>  <tool-tip id="tooltip-f109adc1-4104-42a5-b303-beed08362725" for="icon-button-2f5b9aba-a27d-4234-b00b-c4b509348bac" popover="manual" data-direction="s" data-type="label" data-view-component="true" class="sr-only position-absolute">Pull requests</tool-tip>
</div>

        </div>

        

<notification-indicator data-channel="eyJjIjoibm90aWZpY2F0aW9uLWNoYW5nZWQ6Njg1OTk2MDciLCJ0IjoxNjk4MTUxNjM2fQ==--2bc4474759d6680c388a2bcf452c4e018344bd852ddaf14bbd56a2e37eba4715" data-indicator-mode="none" data-tooltip-global="You have unread notifications" data-tooltip-unavailable="Notifications are unavailable at the moment." data-tooltip-none="You have no unread notifications" data-header-redesign-enabled="true" data-fetch-indicator-src="/notifications/indicator" data-fetch-indicator-enabled="true" data-view-component="true" class="js-socket-channel">
  <a id="AppHeader-notifications-button" href="/notifications"
    class="AppHeader-button Button--secondary"

    style="width:32px;height:32px;"

    data-hotkey="g n"
    data-target="notification-indicator.link"
    aria-label="Notifications"

      data-analytics-event="{&quot;category&quot;:&quot;SiteHeaderComponent&quot;,&quot;action&quot;:&quot;notifications&quot;,&quot;label&quot;:null}"
  >

    <span
      data-target="notification-indicator.badge"
      class="mail-status unread d-none" hidden>
    </span>

      <svg aria-hidden="true" height="16" viewBox="0 0 16 16" version="1.1" width="16" data-view-component="true" class="octicon octicon-inbox color-fg-muted mr-0">
    <path d="M2.8 2.06A1.75 1.75 0 0 1 4.41 1h7.18c.7 0 1.333.417 1.61 1.06l2.74 6.395c.04.093.06.194.06.295v4.5A1.75 1.75 0 0 1 14.25 15H1.75A1.75 1.75 0 0 1 0 13.25v-4.5c0-.101.02-.202.06-.295Zm1.61.44a.25.25 0 0 0-.23.152L1.887 8H4.75a.75.75 0 0 1 .6.3L6.625 10h2.75l1.275-1.7a.75.75 0 0 1 .6-.3h2.863L11.82 2.652a.25.25 0 0 0-.23-.152Zm10.09 7h-2.875l-1.275 1.7a.75.75 0 0 1-.6.3h-3.5a.75.75 0 0 1-.6-.3L4.375 9.5H1.5v3.75c0 .138.112.25.25.25h12.5a.25.25 0 0 0 .25-.25Z"></path>
</svg>
  </a>

    <tool-tip data-target="notification-indicator.tooltip" id="tooltip-40ed8f82-19f4-415f-98a2-95fd9026aedc" for="AppHeader-notifications-button" popover="manual" data-direction="s" data-type="description" data-view-component="true" class="sr-only position-absolute">Notifications</tool-tip>
</notification-indicator>

        

        <div class="AppHeader-user">
          <deferred-side-panel data-url="/_side-panels/user?memex_enabled=true&amp;repository=ML-Tutorials-Season-4-In-Progress&amp;user=damienbose&amp;user_can_create_organizations=true&amp;user_id=68599607">
  <include-fragment data-target="deferred-side-panel.fragment">
      <user-drawer-side-panel>
      <button aria-label="Open user account menu" data-action="click:deferred-side-panel#loadPanel click:deferred-side-panel#panelOpened" data-show-dialog-id="dialog-891a4960-e36c-485b-a774-e1f3c144105b" id="dialog-show-dialog-891a4960-e36c-485b-a774-e1f3c144105b" type="button" data-view-component="true" class="AppHeader-logo Button--invisible Button--medium Button Button--invisible-noVisuals color-bg-transparent p-0">    <span class="Button-content">
      <span class="Button-label"><img src="https://avatars.githubusercontent.com/u/68599607?v=4" alt="" size="32" height="32" width="32" data-view-component="true" class="avatar circle" /></span>
    </span>
</button>  

<div class="Overlay--hidden Overlay-backdrop--side Overlay-backdrop--placement-right" data-modal-dialog-overlay>
  <modal-dialog data-target="deferred-side-panel.panel" role="dialog" id="dialog-891a4960-e36c-485b-a774-e1f3c144105b" aria-modal="true" aria-disabled="true" aria-labelledby="dialog-891a4960-e36c-485b-a774-e1f3c144105b-title" aria-describedby="dialog-891a4960-e36c-485b-a774-e1f3c144105b-description" data-view-component="true" class="Overlay Overlay-whenNarrow Overlay--size-small-portrait Overlay--motion-scaleFade SidePanel">
    <div styles="flex-direction: row;" data-view-component="true" class="Overlay-header">
  <div class="Overlay-headerContentWrap">
    <div class="Overlay-titleWrap">
      <h1 class="Overlay-title sr-only" id="dialog-891a4960-e36c-485b-a774-e1f3c144105b-title">
        Account menu
      </h1>
            <div data-view-component="true" class="d-flex">
      <div data-view-component="true" class="AppHeader-logo position-relative">
        <img src="https://avatars.githubusercontent.com/u/68599607?v=4" alt="" size="32" height="32" width="32" data-view-component="true" class="avatar circle" />
</div>        <div data-view-component="true" class="overflow-hidden d-flex width-full">        <div data-view-component="true" class="lh-condensed overflow-hidden d-flex flex-column flex-justify-center ml-2 f5 mr-auto width-full">
          <span data-view-component="true" class="Truncate text-bold">
    <span data-view-component="true" class="Truncate-text">
            damienbose
</span>
</span>          <span data-view-component="true" class="Truncate color-fg-subtle">
    <span data-view-component="true" class="Truncate-text">
            Damien Bose
</span>
</span></div>
</div>
</div>
    </div>
    <div class="Overlay-actionWrap">
      <button data-close-dialog-id="dialog-891a4960-e36c-485b-a774-e1f3c144105b" aria-label="Close" type="button" data-view-component="true" class="close-button Overlay-closeButton"><svg aria-hidden="true" height="16" viewBox="0 0 16 16" version="1.1" width="16" data-view-component="true" class="octicon octicon-x">
    <path d="M3.72 3.72a.75.75 0 0 1 1.06 0L8 6.94l3.22-3.22a.749.749 0 0 1 1.275.326.749.749 0 0 1-.215.734L9.06 8l3.22 3.22a.749.749 0 0 1-.326 1.275.749.749 0 0 1-.734-.215L8 9.06l-3.22 3.22a.751.751 0 0 1-1.042-.018.751.751 0 0 1-.018-1.042L6.94 8 3.72 4.78a.75.75 0 0 1 0-1.06Z"></path>
</svg></button>
    </div>
  </div>
</div>
      <div data-view-component="true" class="Overlay-body d-flex flex-column px-2">    <div data-view-component="true" class="d-flex flex-column mb-3">
        <nav aria-label="User navigation" data-view-component="true" class="ActionList">
  
  <nav-list>
    <ul data-view-component="true" class="ActionListWrap">
        
          
<li data-item-id="" data-targets="nav-list.items" data-view-component="true" class="ActionListItem">
    
    <button id="item-e4af20e0-b387-4834-896e-b3f88e1f76d2" type="button" data-view-component="true" class="ActionListContent ActionListContent--visual16">
        <span class="ActionListItem-visual ActionListItem-visual--leading">
          <span data-view-component="true" class="d-flex flex-items-center">    <svg style="box-sizing: content-box; color: var(--color-icon-primary);" width="16" height="16" viewBox="0 0 16 16" fill="none" data-view-component="true" class="anim-rotate">
  <circle cx="8" cy="8" r="7" stroke="currentColor" stroke-opacity="0.25" stroke-width="2" vector-effect="non-scaling-stroke" fill="none" />
  <path d="M15 8a7.002 7.002 0 00-7-7" stroke="currentColor" stroke-width="2" stroke-linecap="round" vector-effect="non-scaling-stroke" />
</svg>
</span>
        </span>
      
        <span data-view-component="true" class="ActionListItem-label">
          

  <span class="color-fg-muted">
    Loading...
  </span>

</span></button>
  
  
</li>

        
          <li role="presentation" aria-hidden="true" data-view-component="true" class="ActionList-sectionDivider"></li>
        
          
<li data-item-id="" data-targets="nav-list.items" data-view-component="true" class="ActionListItem">
    
    <a data-analytics-event="{&quot;category&quot;:&quot;Global navigation&quot;,&quot;action&quot;:&quot;PROFILE&quot;,&quot;label&quot;:null}" id="item-be112b96-cce6-4c42-a220-4f79d04f5f7a" href="https://github.com/damienbose" data-view-component="true" class="ActionListContent ActionListContent--visual16">
        <span class="ActionListItem-visual ActionListItem-visual--leading">
          <svg aria-hidden="true" height="16" viewBox="0 0 16 16" version="1.1" width="16" data-view-component="true" class="octicon octicon-person">
    <path d="M10.561 8.073a6.005 6.005 0 0 1 3.432 5.142.75.75 0 1 1-1.498.07 4.5 4.5 0 0 0-8.99 0 .75.75 0 0 1-1.498-.07 6.004 6.004 0 0 1 3.431-5.142 3.999 3.999 0 1 1 5.123 0ZM10.5 5a2.5 2.5 0 1 0-5 0 2.5 2.5 0 0 0 5 0Z"></path>
</svg>
        </span>
      
        <span data-view-component="true" class="ActionListItem-label">
          Your profile
</span></a>
  
  
</li>

        
          
<li data-item-id="" data-targets="nav-list.items" data-view-component="true" class="ActionListItem">
    
    <button id="item-9fadcf18-2202-488c-9253-d39d45d974c1" type="button" data-view-component="true" class="ActionListContent ActionListContent--visual16">
        <span class="ActionListItem-visual ActionListItem-visual--leading">
          <span data-view-component="true" class="d-flex flex-items-center">    <svg style="box-sizing: content-box; color: var(--color-icon-primary);" width="16" height="16" viewBox="0 0 16 16" fill="none" data-view-component="true" class="anim-rotate">
  <circle cx="8" cy="8" r="7" stroke="currentColor" stroke-opacity="0.25" stroke-width="2" vector-effect="non-scaling-stroke" fill="none" />
  <path d="M15 8a7.002 7.002 0 00-7-7" stroke="currentColor" stroke-width="2" stroke-linecap="round" vector-effect="non-scaling-stroke" />
</svg>
</span>
        </span>
      
        <span data-view-component="true" class="ActionListItem-label">
          

  <span class="color-fg-muted">
    Loading...
  </span>

</span></button>
  
  
</li>

        
          <li role="presentation" aria-hidden="true" data-view-component="true" class="ActionList-sectionDivider"></li>
        
          
<li data-item-id="" data-targets="nav-list.items" data-view-component="true" class="ActionListItem">
    
    <a data-analytics-event="{&quot;category&quot;:&quot;Global navigation&quot;,&quot;action&quot;:&quot;YOUR_REPOSITORIES&quot;,&quot;label&quot;:null}" id="item-7dcc4c2f-ccfc-4e54-a0bb-f60c03b009b0" href="/damienbose?tab=repositories" data-view-component="true" class="ActionListContent ActionListContent--visual16">
        <span class="ActionListItem-visual ActionListItem-visual--leading">
          <svg aria-hidden="true" height="16" viewBox="0 0 16 16" version="1.1" width="16" data-view-component="true" class="octicon octicon-repo">
    <path d="M2 2.5A2.5 2.5 0 0 1 4.5 0h8.75a.75.75 0 0 1 .75.75v12.5a.75.75 0 0 1-.75.75h-2.5a.75.75 0 0 1 0-1.5h1.75v-2h-8a1 1 0 0 0-.714 1.7.75.75 0 1 1-1.072 1.05A2.495 2.495 0 0 1 2 11.5Zm10.5-1h-8a1 1 0 0 0-1 1v6.708A2.486 2.486 0 0 1 4.5 9h8ZM5 12.25a.25.25 0 0 1 .25-.25h3.5a.25.25 0 0 1 .25.25v3.25a.25.25 0 0 1-.4.2l-1.45-1.087a.249.249 0 0 0-.3 0L5.4 15.7a.25.25 0 0 1-.4-.2Z"></path>
</svg>
        </span>
      
        <span data-view-component="true" class="ActionListItem-label">
          Your repositories
</span></a>
  
  
</li>

        
          
<li data-item-id="" data-targets="nav-list.items" data-view-component="true" class="ActionListItem">
    
    <a data-analytics-event="{&quot;category&quot;:&quot;Global navigation&quot;,&quot;action&quot;:&quot;YOUR_PROJECTS&quot;,&quot;label&quot;:null}" id="item-37eb6190-3462-4c7e-b040-0e5ccddef4c3" href="/damienbose?tab=projects" data-view-component="true" class="ActionListContent ActionListContent--visual16">
        <span class="ActionListItem-visual ActionListItem-visual--leading">
          <svg aria-hidden="true" height="16" viewBox="0 0 16 16" version="1.1" width="16" data-view-component="true" class="octicon octicon-project">
    <path d="M1.75 0h12.5C15.216 0 16 .784 16 1.75v12.5A1.75 1.75 0 0 1 14.25 16H1.75A1.75 1.75 0 0 1 0 14.25V1.75C0 .784.784 0 1.75 0ZM1.5 1.75v12.5c0 .138.112.25.25.25h12.5a.25.25 0 0 0 .25-.25V1.75a.25.25 0 0 0-.25-.25H1.75a.25.25 0 0 0-.25.25ZM11.75 3a.75.75 0 0 1 .75.75v7.5a.75.75 0 0 1-1.5 0v-7.5a.75.75 0 0 1 .75-.75Zm-8.25.75a.75.75 0 0 1 1.5 0v5.5a.75.75 0 0 1-1.5 0ZM8 3a.75.75 0 0 1 .75.75v3.5a.75.75 0 0 1-1.5 0v-3.5A.75.75 0 0 1 8 3Z"></path>
</svg>
        </span>
      
        <span data-view-component="true" class="ActionListItem-label">
          Your projects
</span></a>
  
  
</li>

        
          
<li data-item-id="" data-targets="nav-list.items" data-view-component="true" class="ActionListItem">
    
    <button id="item-dc0d4cad-4dfb-4724-9130-2b0c1e765d12" type="button" data-view-component="true" class="ActionListContent ActionListContent--visual16">
        <span class="ActionListItem-visual ActionListItem-visual--leading">
          <span data-view-component="true" class="d-flex flex-items-center">    <svg style="box-sizing: content-box; color: var(--color-icon-primary);" width="16" height="16" viewBox="0 0 16 16" fill="none" data-view-component="true" class="anim-rotate">
  <circle cx="8" cy="8" r="7" stroke="currentColor" stroke-opacity="0.25" stroke-width="2" vector-effect="non-scaling-stroke" fill="none" />
  <path d="M15 8a7.002 7.002 0 00-7-7" stroke="currentColor" stroke-width="2" stroke-linecap="round" vector-effect="non-scaling-stroke" />
</svg>
</span>
        </span>
      
        <span data-view-component="true" class="ActionListItem-label">
          

  <span class="color-fg-muted">
    Loading...
  </span>

</span></button>
  
  
</li>

        
          
<li data-item-id="" data-targets="nav-list.items" data-view-component="true" class="ActionListItem">
    
    <a data-analytics-event="{&quot;category&quot;:&quot;Global navigation&quot;,&quot;action&quot;:&quot;YOUR_STARS&quot;,&quot;label&quot;:null}" id="item-8f966107-0bb1-43c3-8f85-00004e472f28" href="/damienbose?tab=stars" data-view-component="true" class="ActionListContent ActionListContent--visual16">
        <span class="ActionListItem-visual ActionListItem-visual--leading">
          <svg aria-hidden="true" height="16" viewBox="0 0 16 16" version="1.1" width="16" data-view-component="true" class="octicon octicon-star">
    <path d="M8 .25a.75.75 0 0 1 .673.418l1.882 3.815 4.21.612a.75.75 0 0 1 .416 1.279l-3.046 2.97.719 4.192a.751.751 0 0 1-1.088.791L8 12.347l-3.766 1.98a.75.75 0 0 1-1.088-.79l.72-4.194L.818 6.374a.75.75 0 0 1 .416-1.28l4.21-.611L7.327.668A.75.75 0 0 1 8 .25Zm0 2.445L6.615 5.5a.75.75 0 0 1-.564.41l-3.097.45 2.24 2.184a.75.75 0 0 1 .216.664l-.528 3.084 2.769-1.456a.75.75 0 0 1 .698 0l2.77 1.456-.53-3.084a.75.75 0 0 1 .216-.664l2.24-2.183-3.096-.45a.75.75 0 0 1-.564-.41L8 2.694Z"></path>
</svg>
        </span>
      
        <span data-view-component="true" class="ActionListItem-label">
          Your stars
</span></a>
  
  
</li>

        
          
<li data-item-id="" data-targets="nav-list.items" data-view-component="true" class="ActionListItem">
    
    <a data-analytics-event="{&quot;category&quot;:&quot;Global navigation&quot;,&quot;action&quot;:&quot;SPONSORS&quot;,&quot;label&quot;:null}" id="item-3980942c-8221-4db9-891d-5d69acdd3d5b" href="/sponsors/accounts" data-view-component="true" class="ActionListContent ActionListContent--visual16">
        <span class="ActionListItem-visual ActionListItem-visual--leading">
          <svg aria-hidden="true" height="16" viewBox="0 0 16 16" version="1.1" width="16" data-view-component="true" class="octicon octicon-heart">
    <path d="m8 14.25.345.666a.75.75 0 0 1-.69 0l-.008-.004-.018-.01a7.152 7.152 0 0 1-.31-.17 22.055 22.055 0 0 1-3.434-2.414C2.045 10.731 0 8.35 0 5.5 0 2.836 2.086 1 4.25 1 5.797 1 7.153 1.802 8 3.02 8.847 1.802 10.203 1 11.75 1 13.914 1 16 2.836 16 5.5c0 2.85-2.045 5.231-3.885 6.818a22.066 22.066 0 0 1-3.744 2.584l-.018.01-.006.003h-.002ZM4.25 2.5c-1.336 0-2.75 1.164-2.75 3 0 2.15 1.58 4.144 3.365 5.682A20.58 20.58 0 0 0 8 13.393a20.58 20.58 0 0 0 3.135-2.211C12.92 9.644 14.5 7.65 14.5 5.5c0-1.836-1.414-3-2.75-3-1.373 0-2.609.986-3.029 2.456a.749.749 0 0 1-1.442 0C6.859 3.486 5.623 2.5 4.25 2.5Z"></path>
</svg>
        </span>
      
        <span data-view-component="true" class="ActionListItem-label">
          Your sponsors
</span></a>
  
  
</li>

        
          
<li data-item-id="" data-targets="nav-list.items" data-view-component="true" class="ActionListItem">
    
    <a data-analytics-event="{&quot;category&quot;:&quot;Global navigation&quot;,&quot;action&quot;:&quot;YOUR_GISTS&quot;,&quot;label&quot;:null}" id="item-f447666b-be98-43f2-8bb6-91606f7ea390" href="https://gist.github.com/mine" data-view-component="true" class="ActionListContent ActionListContent--visual16">
        <span class="ActionListItem-visual ActionListItem-visual--leading">
          <svg aria-hidden="true" height="16" viewBox="0 0 16 16" version="1.1" width="16" data-view-component="true" class="octicon octicon-code-square">
    <path d="M0 1.75C0 .784.784 0 1.75 0h12.5C15.216 0 16 .784 16 1.75v12.5A1.75 1.75 0 0 1 14.25 16H1.75A1.75 1.75 0 0 1 0 14.25Zm1.75-.25a.25.25 0 0 0-.25.25v12.5c0 .138.112.25.25.25h12.5a.25.25 0 0 0 .25-.25V1.75a.25.25 0 0 0-.25-.25Zm7.47 3.97a.75.75 0 0 1 1.06 0l2 2a.75.75 0 0 1 0 1.06l-2 2a.749.749 0 0 1-1.275-.326.749.749 0 0 1 .215-.734L10.69 8 9.22 6.53a.75.75 0 0 1 0-1.06ZM6.78 6.53 5.31 8l1.47 1.47a.749.749 0 0 1-.326 1.275.749.749 0 0 1-.734-.215l-2-2a.75.75 0 0 1 0-1.06l2-2a.751.751 0 0 1 1.042.018.751.751 0 0 1 .018 1.042Z"></path>
</svg>
        </span>
      
        <span data-view-component="true" class="ActionListItem-label">
          Your gists
</span></a>
  
  
</li>

        
          <li role="presentation" aria-hidden="true" data-view-component="true" class="ActionList-sectionDivider"></li>
        
          
<li data-item-id="" data-targets="nav-list.items" data-view-component="true" class="ActionListItem">
    
    <button id="item-288b572a-b795-4b18-a4b3-dbf94808da62" type="button" data-view-component="true" class="ActionListContent ActionListContent--visual16">
        <span class="ActionListItem-visual ActionListItem-visual--leading">
          <span data-view-component="true" class="d-flex flex-items-center">    <svg style="box-sizing: content-box; color: var(--color-icon-primary);" width="16" height="16" viewBox="0 0 16 16" fill="none" data-view-component="true" class="anim-rotate">
  <circle cx="8" cy="8" r="7" stroke="currentColor" stroke-opacity="0.25" stroke-width="2" vector-effect="non-scaling-stroke" fill="none" />
  <path d="M15 8a7.002 7.002 0 00-7-7" stroke="currentColor" stroke-width="2" stroke-linecap="round" vector-effect="non-scaling-stroke" />
</svg>
</span>
        </span>
      
        <span data-view-component="true" class="ActionListItem-label">
          

  <span class="color-fg-muted">
    Loading...
  </span>

</span></button>
  
  
</li>

        
          
<li data-item-id="" data-targets="nav-list.items" data-view-component="true" class="ActionListItem">
    
    <button id="item-600c63fb-b45e-41e9-8b1d-8ba85eff0d89" type="button" data-view-component="true" class="ActionListContent ActionListContent--visual16">
        <span class="ActionListItem-visual ActionListItem-visual--leading">
          <span data-view-component="true" class="d-flex flex-items-center">    <svg style="box-sizing: content-box; color: var(--color-icon-primary);" width="16" height="16" viewBox="0 0 16 16" fill="none" data-view-component="true" class="anim-rotate">
  <circle cx="8" cy="8" r="7" stroke="currentColor" stroke-opacity="0.25" stroke-width="2" vector-effect="non-scaling-stroke" fill="none" />
  <path d="M15 8a7.002 7.002 0 00-7-7" stroke="currentColor" stroke-width="2" stroke-linecap="round" vector-effect="non-scaling-stroke" />
</svg>
</span>
        </span>
      
        <span data-view-component="true" class="ActionListItem-label">
          

  <span class="color-fg-muted">
    Loading...
  </span>

</span></button>
  
  
</li>

        
          
<li data-item-id="" data-targets="nav-list.items" data-view-component="true" class="ActionListItem">
    
    <button id="item-9760cd10-68e1-45da-a95b-1f11b4405b16" type="button" data-view-component="true" class="ActionListContent ActionListContent--visual16">
        <span class="ActionListItem-visual ActionListItem-visual--leading">
          <span data-view-component="true" class="d-flex flex-items-center">    <svg style="box-sizing: content-box; color: var(--color-icon-primary);" width="16" height="16" viewBox="0 0 16 16" fill="none" data-view-component="true" class="anim-rotate">
  <circle cx="8" cy="8" r="7" stroke="currentColor" stroke-opacity="0.25" stroke-width="2" vector-effect="non-scaling-stroke" fill="none" />
  <path d="M15 8a7.002 7.002 0 00-7-7" stroke="currentColor" stroke-width="2" stroke-linecap="round" vector-effect="non-scaling-stroke" />
</svg>
</span>
        </span>
      
        <span data-view-component="true" class="ActionListItem-label">
          

  <span class="color-fg-muted">
    Loading...
  </span>

</span></button>
  
  
</li>

        
          
<li data-item-id="" data-targets="nav-list.items" data-view-component="true" class="ActionListItem">
    
    <a data-analytics-event="{&quot;category&quot;:&quot;Global navigation&quot;,&quot;action&quot;:&quot;SETTINGS&quot;,&quot;label&quot;:null}" id="item-c379fd29-8dac-4ab2-b56f-ae898cac7787" href="/settings/profile" data-view-component="true" class="ActionListContent ActionListContent--visual16">
        <span class="ActionListItem-visual ActionListItem-visual--leading">
          <svg aria-hidden="true" height="16" viewBox="0 0 16 16" version="1.1" width="16" data-view-component="true" class="octicon octicon-gear">
    <path d="M8 0a8.2 8.2 0 0 1 .701.031C9.444.095 9.99.645 10.16 1.29l.288 1.107c.018.066.079.158.212.224.231.114.454.243.668.386.123.082.233.09.299.071l1.103-.303c.644-.176 1.392.021 1.82.63.27.385.506.792.704 1.218.315.675.111 1.422-.364 1.891l-.814.806c-.049.048-.098.147-.088.294.016.257.016.515 0 .772-.01.147.038.246.088.294l.814.806c.475.469.679 1.216.364 1.891a7.977 7.977 0 0 1-.704 1.217c-.428.61-1.176.807-1.82.63l-1.102-.302c-.067-.019-.177-.011-.3.071a5.909 5.909 0 0 1-.668.386c-.133.066-.194.158-.211.224l-.29 1.106c-.168.646-.715 1.196-1.458 1.26a8.006 8.006 0 0 1-1.402 0c-.743-.064-1.289-.614-1.458-1.26l-.289-1.106c-.018-.066-.079-.158-.212-.224a5.738 5.738 0 0 1-.668-.386c-.123-.082-.233-.09-.299-.071l-1.103.303c-.644.176-1.392-.021-1.82-.63a8.12 8.12 0 0 1-.704-1.218c-.315-.675-.111-1.422.363-1.891l.815-.806c.05-.048.098-.147.088-.294a6.214 6.214 0 0 1 0-.772c.01-.147-.038-.246-.088-.294l-.815-.806C.635 6.045.431 5.298.746 4.623a7.92 7.92 0 0 1 .704-1.217c.428-.61 1.176-.807 1.82-.63l1.102.302c.067.019.177.011.3-.071.214-.143.437-.272.668-.386.133-.066.194-.158.211-.224l.29-1.106C6.009.645 6.556.095 7.299.03 7.53.01 7.764 0 8 0Zm-.571 1.525c-.036.003-.108.036-.137.146l-.289 1.105c-.147.561-.549.967-.998 1.189-.173.086-.34.183-.5.29-.417.278-.97.423-1.529.27l-1.103-.303c-.109-.03-.175.016-.195.045-.22.312-.412.644-.573.99-.014.031-.021.11.059.19l.815.806c.411.406.562.957.53 1.456a4.709 4.709 0 0 0 0 .582c.032.499-.119 1.05-.53 1.456l-.815.806c-.081.08-.073.159-.059.19.162.346.353.677.573.989.02.03.085.076.195.046l1.102-.303c.56-.153 1.113-.008 1.53.27.161.107.328.204.501.29.447.222.85.629.997 1.189l.289 1.105c.029.109.101.143.137.146a6.6 6.6 0 0 0 1.142 0c.036-.003.108-.036.137-.146l.289-1.105c.147-.561.549-.967.998-1.189.173-.086.34-.183.5-.29.417-.278.97-.423 1.529-.27l1.103.303c.109.029.175-.016.195-.045.22-.313.411-.644.573-.99.014-.031.021-.11-.059-.19l-.815-.806c-.411-.406-.562-.957-.53-1.456a4.709 4.709 0 0 0 0-.582c-.032-.499.119-1.05.53-1.456l.815-.806c.081-.08.073-.159.059-.19a6.464 6.464 0 0 0-.573-.989c-.02-.03-.085-.076-.195-.046l-1.102.303c-.56.153-1.113.008-1.53-.27a4.44 4.44 0 0 0-.501-.29c-.447-.222-.85-.629-.997-1.189l-.289-1.105c-.029-.11-.101-.143-.137-.146a6.6 6.6 0 0 0-1.142 0ZM11 8a3 3 0 1 1-6 0 3 3 0 0 1 6 0ZM9.5 8a1.5 1.5 0 1 0-3.001.001A1.5 1.5 0 0 0 9.5 8Z"></path>
</svg>
        </span>
      
        <span data-view-component="true" class="ActionListItem-label">
          Settings
</span></a>
  
  
</li>

        
          <li role="presentation" aria-hidden="true" data-view-component="true" class="ActionList-sectionDivider"></li>
        
          
<li data-item-id="" data-targets="nav-list.items" data-view-component="true" class="ActionListItem">
    
    <a data-analytics-event="{&quot;category&quot;:&quot;Global navigation&quot;,&quot;action&quot;:&quot;DOCS&quot;,&quot;label&quot;:null}" id="item-4c520296-a457-4985-bd89-1e29ca10259d" href="https://docs.github.com" data-view-component="true" class="ActionListContent ActionListContent--visual16">
        <span class="ActionListItem-visual ActionListItem-visual--leading">
          <svg aria-hidden="true" height="16" viewBox="0 0 16 16" version="1.1" width="16" data-view-component="true" class="octicon octicon-book">
    <path d="M0 1.75A.75.75 0 0 1 .75 1h4.253c1.227 0 2.317.59 3 1.501A3.743 3.743 0 0 1 11.006 1h4.245a.75.75 0 0 1 .75.75v10.5a.75.75 0 0 1-.75.75h-4.507a2.25 2.25 0 0 0-1.591.659l-.622.621a.75.75 0 0 1-1.06 0l-.622-.621A2.25 2.25 0 0 0 5.258 13H.75a.75.75 0 0 1-.75-.75Zm7.251 10.324.004-5.073-.002-2.253A2.25 2.25 0 0 0 5.003 2.5H1.5v9h3.757a3.75 3.75 0 0 1 1.994.574ZM8.755 4.75l-.004 7.322a3.752 3.752 0 0 1 1.992-.572H14.5v-9h-3.495a2.25 2.25 0 0 0-2.25 2.25Z"></path>
</svg>
        </span>
      
        <span data-view-component="true" class="ActionListItem-label">
          GitHub Docs
</span></a>
  
  
</li>

        
          
<li data-item-id="" data-targets="nav-list.items" data-view-component="true" class="ActionListItem">
    
    <a data-analytics-event="{&quot;category&quot;:&quot;Global navigation&quot;,&quot;action&quot;:&quot;SUPPORT&quot;,&quot;label&quot;:null}" id="item-6ed04092-c7a1-4bfd-a71f-456217a2bb7e" href="https://support.github.com" data-view-component="true" class="ActionListContent ActionListContent--visual16">
        <span class="ActionListItem-visual ActionListItem-visual--leading">
          <svg aria-hidden="true" height="16" viewBox="0 0 16 16" version="1.1" width="16" data-view-component="true" class="octicon octicon-people">
    <path d="M2 5.5a3.5 3.5 0 1 1 5.898 2.549 5.508 5.508 0 0 1 3.034 4.084.75.75 0 1 1-1.482.235 4 4 0 0 0-7.9 0 .75.75 0 0 1-1.482-.236A5.507 5.507 0 0 1 3.102 8.05 3.493 3.493 0 0 1 2 5.5ZM11 4a3.001 3.001 0 0 1 2.22 5.018 5.01 5.01 0 0 1 2.56 3.012.749.749 0 0 1-.885.954.752.752 0 0 1-.549-.514 3.507 3.507 0 0 0-2.522-2.372.75.75 0 0 1-.574-.73v-.352a.75.75 0 0 1 .416-.672A1.5 1.5 0 0 0 11 5.5.75.75 0 0 1 11 4Zm-5.5-.5a2 2 0 1 0-.001 3.999A2 2 0 0 0 5.5 3.5Z"></path>
</svg>
        </span>
      
        <span data-view-component="true" class="ActionListItem-label">
          GitHub Support
</span></a>
  
  
</li>

        
          <li role="presentation" aria-hidden="true" data-view-component="true" class="ActionList-sectionDivider"></li>
        
          
<li data-item-id="" data-targets="nav-list.items" data-view-component="true" class="ActionListItem">
    
    <a data-analytics-event="{&quot;category&quot;:&quot;Global navigation&quot;,&quot;action&quot;:&quot;LOGOUT&quot;,&quot;label&quot;:null}" id="item-023848cb-25d0-4c5a-a824-4dfea1e45433" href="/logout" data-view-component="true" class="ActionListContent">
      
        <span data-view-component="true" class="ActionListItem-label">
          Sign out
</span></a>
  
  
</li>

</ul>  </nav-list>
</nav>


</div>
</div>
      
</modal-dialog></div>
  </user-drawer-side-panel>

  </include-fragment>
</deferred-side-panel>
          
        </div>

        <div class="position-absolute mt-2">
            
<site-header-logged-in-user-menu>

</site-header-logged-in-user-menu>

        </div>
      </div>
    </div>


      <div class="AppHeader-localBar" >
        <nav data-pjax="#js-repo-pjax-container" aria-label="Repository" data-view-component="true" class="js-repo-nav js-sidenav-container-pjax js-responsive-underlinenav overflow-hidden UnderlineNav">

  <ul data-view-component="true" class="UnderlineNav-body list-style-none">
      <li data-view-component="true" class="d-inline-flex">
  <a id="code-tab" href="/UCLAIS/ML-Tutorials-Season-4-In-Progress" data-tab-item="i0code-tab" data-selected-links="repo_source repo_downloads repo_commits repo_releases repo_tags repo_branches repo_packages repo_deployments repo_attestations /UCLAIS/ML-Tutorials-Season-4-In-Progress" data-pjax="#repo-content-pjax-container" data-turbo-frame="repo-content-turbo-frame" data-hotkey="g c" data-analytics-event="{&quot;category&quot;:&quot;Underline navbar&quot;,&quot;action&quot;:&quot;Click tab&quot;,&quot;label&quot;:&quot;Code&quot;,&quot;target&quot;:&quot;UNDERLINE_NAV.TAB&quot;}" data-view-component="true" class="UnderlineNav-item no-wrap js-responsive-underlinenav-item js-selected-navigation-item">
    
              <svg aria-hidden="true" height="16" viewBox="0 0 16 16" version="1.1" width="16" data-view-component="true" class="octicon octicon-code UnderlineNav-octicon d-none d-sm-inline">
    <path d="m11.28 3.22 4.25 4.25a.75.75 0 0 1 0 1.06l-4.25 4.25a.749.749 0 0 1-1.275-.326.749.749 0 0 1 .215-.734L13.94 8l-3.72-3.72a.749.749 0 0 1 .326-1.275.749.749 0 0 1 .734.215Zm-6.56 0a.751.751 0 0 1 1.042.018.751.751 0 0 1 .018 1.042L2.06 8l3.72 3.72a.749.749 0 0 1-.326 1.275.749.749 0 0 1-.734-.215L.47 8.53a.75.75 0 0 1 0-1.06Z"></path>
</svg>
        <span data-content="Code">Code</span>
          <span id="code-repo-tab-count" data-pjax-replace="" data-turbo-replace="" title="Not available" data-view-component="true" class="Counter"></span>


    
</a></li>
      <li data-view-component="true" class="d-inline-flex">
  <a id="issues-tab" href="/UCLAIS/ML-Tutorials-Season-4-In-Progress/issues" data-tab-item="i1issues-tab" data-selected-links="repo_issues repo_labels repo_milestones /UCLAIS/ML-Tutorials-Season-4-In-Progress/issues" data-pjax="#repo-content-pjax-container" data-turbo-frame="repo-content-turbo-frame" data-hotkey="g i" data-analytics-event="{&quot;category&quot;:&quot;Underline navbar&quot;,&quot;action&quot;:&quot;Click tab&quot;,&quot;label&quot;:&quot;Issues&quot;,&quot;target&quot;:&quot;UNDERLINE_NAV.TAB&quot;}" data-view-component="true" class="UnderlineNav-item no-wrap js-responsive-underlinenav-item js-selected-navigation-item">
    
              <svg aria-hidden="true" height="16" viewBox="0 0 16 16" version="1.1" width="16" data-view-component="true" class="octicon octicon-issue-opened UnderlineNav-octicon d-none d-sm-inline">
    <path d="M8 9.5a1.5 1.5 0 1 0 0-3 1.5 1.5 0 0 0 0 3Z"></path><path d="M8 0a8 8 0 1 1 0 16A8 8 0 0 1 8 0ZM1.5 8a6.5 6.5 0 1 0 13 0 6.5 6.5 0 0 0-13 0Z"></path>
</svg>
        <span data-content="Issues">Issues</span>
          <span id="issues-repo-tab-count" data-pjax-replace="" data-turbo-replace="" title="1" data-view-component="true" class="Counter">1</span>


    
</a></li>
      <li data-view-component="true" class="d-inline-flex">
  <a id="pull-requests-tab" href="/UCLAIS/ML-Tutorials-Season-4-In-Progress/pulls" data-tab-item="i2pull-requests-tab" data-selected-links="repo_pulls checks /UCLAIS/ML-Tutorials-Season-4-In-Progress/pulls" data-pjax="#repo-content-pjax-container" data-turbo-frame="repo-content-turbo-frame" data-hotkey="g p" data-analytics-event="{&quot;category&quot;:&quot;Underline navbar&quot;,&quot;action&quot;:&quot;Click tab&quot;,&quot;label&quot;:&quot;Pull requests&quot;,&quot;target&quot;:&quot;UNDERLINE_NAV.TAB&quot;}" data-view-component="true" class="UnderlineNav-item no-wrap js-responsive-underlinenav-item js-selected-navigation-item">
    
              <svg aria-hidden="true" height="16" viewBox="0 0 16 16" version="1.1" width="16" data-view-component="true" class="octicon octicon-git-pull-request UnderlineNav-octicon d-none d-sm-inline">
    <path d="M1.5 3.25a2.25 2.25 0 1 1 3 2.122v5.256a2.251 2.251 0 1 1-1.5 0V5.372A2.25 2.25 0 0 1 1.5 3.25Zm5.677-.177L9.573.677A.25.25 0 0 1 10 .854V2.5h1A2.5 2.5 0 0 1 13.5 5v5.628a2.251 2.251 0 1 1-1.5 0V5a1 1 0 0 0-1-1h-1v1.646a.25.25 0 0 1-.427.177L7.177 3.427a.25.25 0 0 1 0-.354ZM3.75 2.5a.75.75 0 1 0 0 1.5.75.75 0 0 0 0-1.5Zm0 9.5a.75.75 0 1 0 0 1.5.75.75 0 0 0 0-1.5Zm8.25.75a.75.75 0 1 0 1.5 0 .75.75 0 0 0-1.5 0Z"></path>
</svg>
        <span data-content="Pull requests">Pull requests</span>
          <span id="pull-requests-repo-tab-count" data-pjax-replace="" data-turbo-replace="" title="1" data-view-component="true" class="Counter">1</span>


    
</a></li>
      <li data-view-component="true" class="d-inline-flex">
  <a id="actions-tab" href="/UCLAIS/ML-Tutorials-Season-4-In-Progress/actions" data-tab-item="i3actions-tab" data-selected-links="repo_actions /UCLAIS/ML-Tutorials-Season-4-In-Progress/actions" data-pjax="#repo-content-pjax-container" data-turbo-frame="repo-content-turbo-frame" data-hotkey="g a" data-analytics-event="{&quot;category&quot;:&quot;Underline navbar&quot;,&quot;action&quot;:&quot;Click tab&quot;,&quot;label&quot;:&quot;Actions&quot;,&quot;target&quot;:&quot;UNDERLINE_NAV.TAB&quot;}" data-view-component="true" class="UnderlineNav-item no-wrap js-responsive-underlinenav-item js-selected-navigation-item">
    
              <svg aria-hidden="true" height="16" viewBox="0 0 16 16" version="1.1" width="16" data-view-component="true" class="octicon octicon-play UnderlineNav-octicon d-none d-sm-inline">
    <path d="M8 0a8 8 0 1 1 0 16A8 8 0 0 1 8 0ZM1.5 8a6.5 6.5 0 1 0 13 0 6.5 6.5 0 0 0-13 0Zm4.879-2.773 4.264 2.559a.25.25 0 0 1 0 .428l-4.264 2.559A.25.25 0 0 1 6 10.559V5.442a.25.25 0 0 1 .379-.215Z"></path>
</svg>
        <span data-content="Actions">Actions</span>
          <span id="actions-repo-tab-count" data-pjax-replace="" data-turbo-replace="" title="Not available" data-view-component="true" class="Counter"></span>


    
</a></li>
      <li data-view-component="true" class="d-inline-flex">
  <a id="projects-tab" href="/UCLAIS/ML-Tutorials-Season-4-In-Progress/projects" data-tab-item="i4projects-tab" data-selected-links="repo_projects new_repo_project repo_project /UCLAIS/ML-Tutorials-Season-4-In-Progress/projects" data-pjax="#repo-content-pjax-container" data-turbo-frame="repo-content-turbo-frame" data-hotkey="g b" data-analytics-event="{&quot;category&quot;:&quot;Underline navbar&quot;,&quot;action&quot;:&quot;Click tab&quot;,&quot;label&quot;:&quot;Projects&quot;,&quot;target&quot;:&quot;UNDERLINE_NAV.TAB&quot;}" data-view-component="true" class="UnderlineNav-item no-wrap js-responsive-underlinenav-item js-selected-navigation-item">
    
              <svg aria-hidden="true" height="16" viewBox="0 0 16 16" version="1.1" width="16" data-view-component="true" class="octicon octicon-table UnderlineNav-octicon d-none d-sm-inline">
    <path d="M0 1.75C0 .784.784 0 1.75 0h12.5C15.216 0 16 .784 16 1.75v12.5A1.75 1.75 0 0 1 14.25 16H1.75A1.75 1.75 0 0 1 0 14.25ZM6.5 6.5v8h7.75a.25.25 0 0 0 .25-.25V6.5Zm8-1.5V1.75a.25.25 0 0 0-.25-.25H6.5V5Zm-13 1.5v7.75c0 .138.112.25.25.25H5v-8ZM5 5V1.5H1.75a.25.25 0 0 0-.25.25V5Z"></path>
</svg>
        <span data-content="Projects">Projects</span>
          <span id="projects-repo-tab-count" data-pjax-replace="" data-turbo-replace="" title="0" hidden="hidden" data-view-component="true" class="Counter">0</span>


    
</a></li>
      <li data-view-component="true" class="d-inline-flex">
  <a id="security-tab" href="/UCLAIS/ML-Tutorials-Season-4-In-Progress/security" data-tab-item="i5security-tab" data-selected-links="security overview alerts policy token_scanning code_scanning /UCLAIS/ML-Tutorials-Season-4-In-Progress/security" data-pjax="#repo-content-pjax-container" data-turbo-frame="repo-content-turbo-frame" data-hotkey="g s" data-analytics-event="{&quot;category&quot;:&quot;Underline navbar&quot;,&quot;action&quot;:&quot;Click tab&quot;,&quot;label&quot;:&quot;Security&quot;,&quot;target&quot;:&quot;UNDERLINE_NAV.TAB&quot;}" data-view-component="true" class="UnderlineNav-item no-wrap js-responsive-underlinenav-item js-selected-navigation-item">
    
              <svg aria-hidden="true" height="16" viewBox="0 0 16 16" version="1.1" width="16" data-view-component="true" class="octicon octicon-shield UnderlineNav-octicon d-none d-sm-inline">
    <path d="M7.467.133a1.748 1.748 0 0 1 1.066 0l5.25 1.68A1.75 1.75 0 0 1 15 3.48V7c0 1.566-.32 3.182-1.303 4.682-.983 1.498-2.585 2.813-5.032 3.855a1.697 1.697 0 0 1-1.33 0c-2.447-1.042-4.049-2.357-5.032-3.855C1.32 10.182 1 8.566 1 7V3.48a1.75 1.75 0 0 1 1.217-1.667Zm.61 1.429a.25.25 0 0 0-.153 0l-5.25 1.68a.25.25 0 0 0-.174.238V7c0 1.358.275 2.666 1.057 3.86.784 1.194 2.121 2.34 4.366 3.297a.196.196 0 0 0 .154 0c2.245-.956 3.582-2.104 4.366-3.298C13.225 9.666 13.5 8.36 13.5 7V3.48a.251.251 0 0 0-.174-.237l-5.25-1.68ZM8.75 4.75v3a.75.75 0 0 1-1.5 0v-3a.75.75 0 0 1 1.5 0ZM9 10.5a1 1 0 1 1-2 0 1 1 0 0 1 2 0Z"></path>
</svg>
        <span data-content="Security">Security</span>
          <include-fragment src="/UCLAIS/ML-Tutorials-Season-4-In-Progress/security/overall-count" accept="text/fragment+html"></include-fragment>

    
</a></li>
      <li data-view-component="true" class="d-inline-flex">
  <a id="insights-tab" href="/UCLAIS/ML-Tutorials-Season-4-In-Progress/network/dependencies" data-tab-item="i6insights-tab" data-selected-links="repo_graphs repo_contributors dependency_graph dependabot_updates pulse people community /UCLAIS/ML-Tutorials-Season-4-In-Progress/network/dependencies" data-pjax="#repo-content-pjax-container" data-turbo-frame="repo-content-turbo-frame" data-analytics-event="{&quot;category&quot;:&quot;Underline navbar&quot;,&quot;action&quot;:&quot;Click tab&quot;,&quot;label&quot;:&quot;Insights&quot;,&quot;target&quot;:&quot;UNDERLINE_NAV.TAB&quot;}" data-view-component="true" class="UnderlineNav-item no-wrap js-responsive-underlinenav-item js-selected-navigation-item">
    
              <svg aria-hidden="true" height="16" viewBox="0 0 16 16" version="1.1" width="16" data-view-component="true" class="octicon octicon-graph UnderlineNav-octicon d-none d-sm-inline">
    <path d="M1.5 1.75V13.5h13.75a.75.75 0 0 1 0 1.5H.75a.75.75 0 0 1-.75-.75V1.75a.75.75 0 0 1 1.5 0Zm14.28 2.53-5.25 5.25a.75.75 0 0 1-1.06 0L7 7.06 4.28 9.78a.751.751 0 0 1-1.042-.018.751.751 0 0 1-.018-1.042l3.25-3.25a.75.75 0 0 1 1.06 0L10 7.94l4.72-4.72a.751.751 0 0 1 1.042.018.751.751 0 0 1 .018 1.042Z"></path>
</svg>
        <span data-content="Insights">Insights</span>
          <span id="insights-repo-tab-count" data-pjax-replace="" data-turbo-replace="" title="Not available" data-view-component="true" class="Counter"></span>


    
</a></li>
</ul>
    <div style="visibility:hidden;" data-view-component="true" class="UnderlineNav-actions js-responsive-underlinenav-overflow position-absolute pr-3 pr-md-4 pr-lg-5 right-0">        <details data-view-component="true" class="details-overlay details-reset position-relative">
    <summary role="button" data-view-component="true">          <div class="UnderlineNav-item mr-0 border-0">
            <svg aria-hidden="true" height="16" viewBox="0 0 16 16" version="1.1" width="16" data-view-component="true" class="octicon octicon-kebab-horizontal">
    <path d="M8 9a1.5 1.5 0 1 0 0-3 1.5 1.5 0 0 0 0 3ZM1.5 9a1.5 1.5 0 1 0 0-3 1.5 1.5 0 0 0 0 3Zm13 0a1.5 1.5 0 1 0 0-3 1.5 1.5 0 0 0 0 3Z"></path>
</svg>
            <span class="sr-only">More</span>
          </div>
</summary>
    <details-menu role="menu" data-view-component="true" class="dropdown-menu dropdown-menu-sw">
          <ul>
              <li data-menu-item="i0code-tab" hidden>
                <a role="menuitem" class="js-selected-navigation-item dropdown-item" data-selected-links="repo_source repo_downloads repo_commits repo_releases repo_tags repo_branches repo_packages repo_deployments repo_attestations /UCLAIS/ML-Tutorials-Season-4-In-Progress" href="/UCLAIS/ML-Tutorials-Season-4-In-Progress">
                  Code
</a>              </li>
              <li data-menu-item="i1issues-tab" hidden>
                <a role="menuitem" class="js-selected-navigation-item dropdown-item" data-selected-links="repo_issues repo_labels repo_milestones /UCLAIS/ML-Tutorials-Season-4-In-Progress/issues" href="/UCLAIS/ML-Tutorials-Season-4-In-Progress/issues">
                  Issues
</a>              </li>
              <li data-menu-item="i2pull-requests-tab" hidden>
                <a role="menuitem" class="js-selected-navigation-item dropdown-item" data-selected-links="repo_pulls checks /UCLAIS/ML-Tutorials-Season-4-In-Progress/pulls" href="/UCLAIS/ML-Tutorials-Season-4-In-Progress/pulls">
                  Pull requests
</a>              </li>
              <li data-menu-item="i3actions-tab" hidden>
                <a role="menuitem" class="js-selected-navigation-item dropdown-item" data-selected-links="repo_actions /UCLAIS/ML-Tutorials-Season-4-In-Progress/actions" href="/UCLAIS/ML-Tutorials-Season-4-In-Progress/actions">
                  Actions
</a>              </li>
              <li data-menu-item="i4projects-tab" hidden>
                <a role="menuitem" class="js-selected-navigation-item dropdown-item" data-selected-links="repo_projects new_repo_project repo_project /UCLAIS/ML-Tutorials-Season-4-In-Progress/projects" href="/UCLAIS/ML-Tutorials-Season-4-In-Progress/projects">
                  Projects
</a>              </li>
              <li data-menu-item="i5security-tab" hidden>
                <a role="menuitem" class="js-selected-navigation-item dropdown-item" data-selected-links="security overview alerts policy token_scanning code_scanning /UCLAIS/ML-Tutorials-Season-4-In-Progress/security" href="/UCLAIS/ML-Tutorials-Season-4-In-Progress/security">
                  Security
</a>              </li>
              <li data-menu-item="i6insights-tab" hidden>
                <a role="menuitem" class="js-selected-navigation-item dropdown-item" data-selected-links="repo_graphs repo_contributors dependency_graph dependabot_updates pulse people community /UCLAIS/ML-Tutorials-Season-4-In-Progress/network/dependencies" href="/UCLAIS/ML-Tutorials-Season-4-In-Progress/network/dependencies">
                  Insights
</a>              </li>
          </ul>
</details-menu>
</details></div>
</nav>
      </div>
</header>


      <div hidden="hidden" data-view-component="true" class="js-stale-session-flash stale-session-flash flash flash-warn mb-3">
  
        <svg aria-hidden="true" height="16" viewBox="0 0 16 16" version="1.1" width="16" data-view-component="true" class="octicon octicon-alert">
    <path d="M6.457 1.047c.659-1.234 2.427-1.234 3.086 0l6.082 11.378A1.75 1.75 0 0 1 14.082 15H1.918a1.75 1.75 0 0 1-1.543-2.575Zm1.763.707a.25.25 0 0 0-.44 0L1.698 13.132a.25.25 0 0 0 .22.368h12.164a.25.25 0 0 0 .22-.368Zm.53 3.996v2.5a.75.75 0 0 1-1.5 0v-2.5a.75.75 0 0 1 1.5 0ZM9 11a1 1 0 1 1-2 0 1 1 0 0 1 2 0Z"></path>
</svg>
        <span class="js-stale-session-flash-signed-in" hidden>You signed in with another tab or window. <a class="Link--inTextBlock" href="">Reload</a> to refresh your session.</span>
        <span class="js-stale-session-flash-signed-out" hidden>You signed out in another tab or window. <a class="Link--inTextBlock" href="">Reload</a> to refresh your session.</span>
        <span class="js-stale-session-flash-switched" hidden>You switched accounts on another tab or window. <a class="Link--inTextBlock" href="">Reload</a> to refresh your session.</span>

    <div data-view-component="true" class="flash-close">
  <button id="icon-button-b89677f7-f1db-400d-9e8f-adbde712b227" aria-labelledby="tooltip-ac20ebca-1d64-4c21-9832-d8fcc995d509" type="button" data-view-component="true" class="Button Button--iconOnly Button--invisible Button--medium js-flash-close">    <svg aria-hidden="true" height="16" viewBox="0 0 16 16" version="1.1" width="16" data-view-component="true" class="octicon octicon-x Button-visual">
    <path d="M3.72 3.72a.75.75 0 0 1 1.06 0L8 6.94l3.22-3.22a.749.749 0 0 1 1.275.326.749.749 0 0 1-.215.734L9.06 8l3.22 3.22a.749.749 0 0 1-.326 1.275.749.749 0 0 1-.734-.215L8 9.06l-3.22 3.22a.751.751 0 0 1-1.042-.018.751.751 0 0 1-.018-1.042L6.94 8 3.72 4.78a.75.75 0 0 1 0-1.06Z"></path>
</svg>
</button>  <tool-tip id="tooltip-ac20ebca-1d64-4c21-9832-d8fcc995d509" for="icon-button-b89677f7-f1db-400d-9e8f-adbde712b227" popover="manual" data-direction="s" data-type="label" data-view-component="true" class="sr-only position-absolute">Dismiss alert</tool-tip>
</div>

  
</div>
          
    </div>

  <div id="start-of-content" class="show-on-focus"></div>








    <div id="js-flash-container" data-turbo-replace>





  <template class="js-flash-template">
    
<div class="flash flash-full   {{ className }}">
  <div class="px-2" >
    <button autofocus class="flash-close js-flash-close" type="button" aria-label="Dismiss this message">
      <svg aria-hidden="true" height="16" viewBox="0 0 16 16" version="1.1" width="16" data-view-component="true" class="octicon octicon-x">
    <path d="M3.72 3.72a.75.75 0 0 1 1.06 0L8 6.94l3.22-3.22a.749.749 0 0 1 1.275.326.749.749 0 0 1-.215.734L9.06 8l3.22 3.22a.749.749 0 0 1-.326 1.275.749.749 0 0 1-.734-.215L8 9.06l-3.22 3.22a.751.751 0 0 1-1.042-.018.751.751 0 0 1-.018-1.042L6.94 8 3.72 4.78a.75.75 0 0 1 0-1.06Z"></path>
</svg>
    </button>
    <div aria-atomic="true" role="alert" class="js-flash-alert">
      
      <div>{{ message }}</div>

    </div>
  </div>
</div>
  </template>
</div>


    
    <notification-shelf-watcher data-base-url="https://github.com/notifications/beta/shelf" data-channel="eyJjIjoibm90aWZpY2F0aW9uLWNoYW5nZWQ6Njg1OTk2MDciLCJ0IjoxNjk4MTUxNjM2fQ==--2bc4474759d6680c388a2bcf452c4e018344bd852ddaf14bbd56a2e37eba4715" data-view-component="true" class="js-socket-channel"></notification-shelf-watcher>
  <div hidden data-initial data-target="notification-shelf-watcher.placeholder"></div>






      <details
  class="details-reset details-overlay details-overlay-dark js-command-palette-dialog"
  id="command-palette-pjax-container"
  data-turbo-replace
>
  <summary aria-label="Command palette trigger" tabindex="-1"></summary>
  <details-dialog class="command-palette-details-dialog d-flex flex-column flex-justify-center height-fit" aria-label="Command palette">
    <command-palette
      class="command-palette color-bg-default rounded-3 border color-shadow-small"
      return-to=/UCLAIS/ML-Tutorials-Season-4-In-Progress/blob/main/week-2/polynomial_regression.ipynb
      user-id="68599607"
      activation-hotkey="Mod+k,Mod+Alt+k"
      command-mode-hotkey="Mod+Shift+k"
      data-action="
        command-palette-input-ready:command-palette#inputReady
        command-palette-page-stack-updated:command-palette#updateInputScope
        itemsUpdated:command-palette#itemsUpdated
        keydown:command-palette#onKeydown
        loadingStateChanged:command-palette#loadingStateChanged
        selectedItemChanged:command-palette#selectedItemChanged
        pageFetchError:command-palette#pageFetchError
      ">

        <command-palette-mode
          data-char="#"
            data-scope-types="[&quot;&quot;]"
            data-placeholder="Search issues and pull requests"
        ></command-palette-mode>
        <command-palette-mode
          data-char="#"
            data-scope-types="[&quot;owner&quot;,&quot;repository&quot;]"
            data-placeholder="Search issues, pull requests, discussions, and projects"
        ></command-palette-mode>
        <command-palette-mode
          data-char="!"
            data-scope-types="[&quot;owner&quot;,&quot;repository&quot;]"
            data-placeholder="Search projects"
        ></command-palette-mode>
        <command-palette-mode
          data-char="@"
            data-scope-types="[&quot;&quot;]"
            data-placeholder="Search or jump to a user, organization, or repository"
        ></command-palette-mode>
        <command-palette-mode
          data-char="@"
            data-scope-types="[&quot;owner&quot;]"
            data-placeholder="Search or jump to a repository"
        ></command-palette-mode>
        <command-palette-mode
          data-char="/"
            data-scope-types="[&quot;repository&quot;]"
            data-placeholder="Search files"
        ></command-palette-mode>
        <command-palette-mode
          data-char="?"
        ></command-palette-mode>
        <command-palette-mode
          data-char="&gt;"
            data-placeholder="Run a command"
        ></command-palette-mode>
        <command-palette-mode
          data-char=""
            data-scope-types="[&quot;&quot;]"
            data-placeholder="Search or jump to..."
        ></command-palette-mode>
        <command-palette-mode
          data-char=""
            data-scope-types="[&quot;owner&quot;]"
            data-placeholder="Search or jump to..."
        ></command-palette-mode>
      <command-palette-mode
        class="js-command-palette-default-mode"
        data-char=""
        data-placeholder="Search or jump to..."
      ></command-palette-mode>

      <command-palette-input placeholder="Search or jump to..."

        data-action="
          command-palette-input:command-palette#onInput
          command-palette-select:command-palette#onSelect
          command-palette-descope:command-palette#onDescope
          command-palette-cleared:command-palette#onInputClear
        "
      >
        <div class="js-search-icon d-flex flex-items-center mr-2" style="height: 26px">
          <svg aria-hidden="true" height="16" viewBox="0 0 16 16" version="1.1" width="16" data-view-component="true" class="octicon octicon-search color-fg-muted">
    <path d="M10.68 11.74a6 6 0 0 1-7.922-8.982 6 6 0 0 1 8.982 7.922l3.04 3.04a.749.749 0 0 1-.326 1.275.749.749 0 0 1-.734-.215ZM11.5 7a4.499 4.499 0 1 0-8.997 0A4.499 4.499 0 0 0 11.5 7Z"></path>
</svg>
        </div>
        <div class="js-spinner d-flex flex-items-center mr-2 color-fg-muted" hidden>
          <svg aria-label="Loading" class="anim-rotate" viewBox="0 0 16 16" fill="none" width="16" height="16">
            <circle
              cx="8"
              cy="8"
              r="7"
              stroke="currentColor"
              stroke-opacity="0.25"
              stroke-width="2"
              vector-effect="non-scaling-stroke"
            ></circle>
            <path
              d="M15 8a7.002 7.002 0 00-7-7"
              stroke="currentColor"
              stroke-width="2"
              stroke-linecap="round"
              vector-effect="non-scaling-stroke"
            ></path>
          </svg>
        </div>
        <command-palette-scope >
          <div data-target="command-palette-scope.placeholder" hidden class="color-fg-subtle">/&nbsp;&nbsp;<span class="text-semibold color-fg-default">...</span>&nbsp;&nbsp;/&nbsp;&nbsp;</div>
              <command-palette-token
                data-text="UCLAIS"
                data-id="MDEyOk9yZ2FuaXphdGlvbjYxMDc1NDcz"
                data-type="owner"
                data-value="UCLAIS"
                data-targets="command-palette-scope.tokens"
                class="color-fg-default text-semibold"
                style="white-space:nowrap;line-height:20px;"
                >UCLAIS<span class="color-fg-subtle text-normal">&nbsp;&nbsp;/&nbsp;&nbsp;</span></command-palette-token>
              <command-palette-token
                data-text="ML-Tutorials-Season-4-In-Progress"
                data-id="R_kgDOJLM95w"
                data-type="repository"
                data-value="ML-Tutorials-Season-4-In-Progress"
                data-targets="command-palette-scope.tokens"
                class="color-fg-default text-semibold"
                style="white-space:nowrap;line-height:20px;"
                >ML-Tutorials-Seas...<span class="color-fg-subtle text-normal">&nbsp;&nbsp;/&nbsp;&nbsp;</span></command-palette-token>
        </command-palette-scope>
        <div class="command-palette-input-group flex-1 form-control border-0 box-shadow-none" style="z-index: 0">
          <div class="command-palette-typeahead position-absolute d-flex flex-items-center Truncate">
            <span class="typeahead-segment input-mirror" data-target="command-palette-input.mirror"></span>
            <span class="Truncate-text" data-target="command-palette-input.typeaheadText"></span>
            <span class="typeahead-segment" data-target="command-palette-input.typeaheadPlaceholder"></span>
          </div>
          <input
            class="js-overlay-input typeahead-input d-none"
            disabled
            tabindex="-1"
            aria-label="Hidden input for typeahead"
          >
          <input
            type="text"
            autocomplete="off"
            autocorrect="off"
            autocapitalize="off"
            spellcheck="false"
            class="js-input typeahead-input form-control border-0 box-shadow-none input-block width-full no-focus-indicator"
            aria-label="Command palette input"
            aria-haspopup="listbox"
            aria-expanded="false"
            aria-autocomplete="list"
            aria-controls="command-palette-page-stack"
            role="combobox"
            data-action="
              input:command-palette-input#onInput
              keydown:command-palette-input#onKeydown
            "
          >
        </div>
          <div data-view-component="true" class="position-relative d-inline-block">
    <button aria-keyshortcuts="Meta+Delete" data-action="click:command-palette-input#onClear keypress:command-palette-input#onClear" data-target="command-palette-input.clearButton" id="command-palette-clear-button" hidden="hidden" type="button" data-view-component="true" class="btn-octicon command-palette-input-clear-button">      <svg aria-hidden="true" height="16" viewBox="0 0 16 16" version="1.1" width="16" data-view-component="true" class="octicon octicon-x-circle-fill">
    <path d="M2.343 13.657A8 8 0 1 1 13.658 2.343 8 8 0 0 1 2.343 13.657ZM6.03 4.97a.751.751 0 0 0-1.042.018.751.751 0 0 0-.018 1.042L6.94 8 4.97 9.97a.749.749 0 0 0 .326 1.275.749.749 0 0 0 .734-.215L8 9.06l1.97 1.97a.749.749 0 0 0 1.275-.326.749.749 0 0 0-.215-.734L9.06 8l1.97-1.97a.749.749 0 0 0-.326-1.275.749.749 0 0 0-.734.215L8 6.94Z"></path>
</svg>
</button>    <tool-tip id="tooltip-d64bb77f-2954-410c-85de-d3f33437b94c" for="command-palette-clear-button" popover="manual" data-direction="w" data-type="label" data-view-component="true" class="sr-only position-absolute">Clear Command Palette</tool-tip>
</div>
      </command-palette-input>

      <command-palette-page-stack
        data-default-scope-id="R_kgDOJLM95w"
        data-default-scope-type="Repository"
        data-action="command-palette-page-octicons-cached:command-palette-page-stack#cacheOcticons"
      >
          <command-palette-tip
            class="color-fg-muted f6 px-3 py-1 my-2"
              data-scope-types="[&quot;&quot;,&quot;owner&quot;,&quot;repository&quot;]"
            data-mode=""
            data-value="">
            <div class="d-flex flex-items-start flex-justify-between">
              <div>
                <span class="text-bold">Tip:</span>
                  Type <kbd class="hx_kbd">#</kbd> to search pull requests
              </div>
              <div class="ml-2 flex-shrink-0">
                Type <kbd class="hx_kbd">?</kbd> for help and tips
              </div>
            </div>
          </command-palette-tip>
          <command-palette-tip
            class="color-fg-muted f6 px-3 py-1 my-2"
              data-scope-types="[&quot;&quot;,&quot;owner&quot;,&quot;repository&quot;]"
            data-mode=""
            data-value="">
            <div class="d-flex flex-items-start flex-justify-between">
              <div>
                <span class="text-bold">Tip:</span>
                  Type <kbd class="hx_kbd">#</kbd> to search issues
              </div>
              <div class="ml-2 flex-shrink-0">
                Type <kbd class="hx_kbd">?</kbd> for help and tips
              </div>
            </div>
          </command-palette-tip>
          <command-palette-tip
            class="color-fg-muted f6 px-3 py-1 my-2"
              data-scope-types="[&quot;owner&quot;,&quot;repository&quot;]"
            data-mode=""
            data-value="">
            <div class="d-flex flex-items-start flex-justify-between">
              <div>
                <span class="text-bold">Tip:</span>
                  Type <kbd class="hx_kbd">#</kbd> to search discussions
              </div>
              <div class="ml-2 flex-shrink-0">
                Type <kbd class="hx_kbd">?</kbd> for help and tips
              </div>
            </div>
          </command-palette-tip>
          <command-palette-tip
            class="color-fg-muted f6 px-3 py-1 my-2"
              data-scope-types="[&quot;owner&quot;,&quot;repository&quot;]"
            data-mode=""
            data-value="">
            <div class="d-flex flex-items-start flex-justify-between">
              <div>
                <span class="text-bold">Tip:</span>
                  Type <kbd class="hx_kbd">!</kbd> to search projects
              </div>
              <div class="ml-2 flex-shrink-0">
                Type <kbd class="hx_kbd">?</kbd> for help and tips
              </div>
            </div>
          </command-palette-tip>
          <command-palette-tip
            class="color-fg-muted f6 px-3 py-1 my-2"
              data-scope-types="[&quot;owner&quot;]"
            data-mode=""
            data-value="">
            <div class="d-flex flex-items-start flex-justify-between">
              <div>
                <span class="text-bold">Tip:</span>
                  Type <kbd class="hx_kbd">@</kbd> to search teams
              </div>
              <div class="ml-2 flex-shrink-0">
                Type <kbd class="hx_kbd">?</kbd> for help and tips
              </div>
            </div>
          </command-palette-tip>
          <command-palette-tip
            class="color-fg-muted f6 px-3 py-1 my-2"
              data-scope-types="[&quot;&quot;]"
            data-mode=""
            data-value="">
            <div class="d-flex flex-items-start flex-justify-between">
              <div>
                <span class="text-bold">Tip:</span>
                  Type <kbd class="hx_kbd">@</kbd> to search people and organizations
              </div>
              <div class="ml-2 flex-shrink-0">
                Type <kbd class="hx_kbd">?</kbd> for help and tips
              </div>
            </div>
          </command-palette-tip>
          <command-palette-tip
            class="color-fg-muted f6 px-3 py-1 my-2"
              data-scope-types="[&quot;&quot;,&quot;owner&quot;,&quot;repository&quot;]"
            data-mode=""
            data-value="">
            <div class="d-flex flex-items-start flex-justify-between">
              <div>
                <span class="text-bold">Tip:</span>
                  Type <kbd class="hx_kbd">&gt;</kbd> to activate command mode
              </div>
              <div class="ml-2 flex-shrink-0">
                Type <kbd class="hx_kbd">?</kbd> for help and tips
              </div>
            </div>
          </command-palette-tip>
          <command-palette-tip
            class="color-fg-muted f6 px-3 py-1 my-2"
              data-scope-types="[&quot;&quot;,&quot;owner&quot;,&quot;repository&quot;]"
            data-mode=""
            data-value="">
            <div class="d-flex flex-items-start flex-justify-between">
              <div>
                <span class="text-bold">Tip:</span>
                  Go to your accessibility settings to change your keyboard shortcuts
              </div>
              <div class="ml-2 flex-shrink-0">
                Type <kbd class="hx_kbd">?</kbd> for help and tips
              </div>
            </div>
          </command-palette-tip>
          <command-palette-tip
            class="color-fg-muted f6 px-3 py-1 my-2"
              data-scope-types="[&quot;&quot;,&quot;owner&quot;,&quot;repository&quot;]"
            data-mode="#"
            data-value="">
            <div class="d-flex flex-items-start flex-justify-between">
              <div>
                <span class="text-bold">Tip:</span>
                  Type author:@me to search your content
              </div>
              <div class="ml-2 flex-shrink-0">
                Type <kbd class="hx_kbd">?</kbd> for help and tips
              </div>
            </div>
          </command-palette-tip>
          <command-palette-tip
            class="color-fg-muted f6 px-3 py-1 my-2"
              data-scope-types="[&quot;&quot;,&quot;owner&quot;,&quot;repository&quot;]"
            data-mode="#"
            data-value="">
            <div class="d-flex flex-items-start flex-justify-between">
              <div>
                <span class="text-bold">Tip:</span>
                  Type is:pr to filter to pull requests
              </div>
              <div class="ml-2 flex-shrink-0">
                Type <kbd class="hx_kbd">?</kbd> for help and tips
              </div>
            </div>
          </command-palette-tip>
          <command-palette-tip
            class="color-fg-muted f6 px-3 py-1 my-2"
              data-scope-types="[&quot;&quot;,&quot;owner&quot;,&quot;repository&quot;]"
            data-mode="#"
            data-value="">
            <div class="d-flex flex-items-start flex-justify-between">
              <div>
                <span class="text-bold">Tip:</span>
                  Type is:issue to filter to issues
              </div>
              <div class="ml-2 flex-shrink-0">
                Type <kbd class="hx_kbd">?</kbd> for help and tips
              </div>
            </div>
          </command-palette-tip>
          <command-palette-tip
            class="color-fg-muted f6 px-3 py-1 my-2"
              data-scope-types="[&quot;owner&quot;,&quot;repository&quot;]"
            data-mode="#"
            data-value="">
            <div class="d-flex flex-items-start flex-justify-between">
              <div>
                <span class="text-bold">Tip:</span>
                  Type is:project to filter to projects
              </div>
              <div class="ml-2 flex-shrink-0">
                Type <kbd class="hx_kbd">?</kbd> for help and tips
              </div>
            </div>
          </command-palette-tip>
          <command-palette-tip
            class="color-fg-muted f6 px-3 py-1 my-2"
              data-scope-types="[&quot;&quot;,&quot;owner&quot;,&quot;repository&quot;]"
            data-mode="#"
            data-value="">
            <div class="d-flex flex-items-start flex-justify-between">
              <div>
                <span class="text-bold">Tip:</span>
                  Type is:open to filter to open content
              </div>
              <div class="ml-2 flex-shrink-0">
                Type <kbd class="hx_kbd">?</kbd> for help and tips
              </div>
            </div>
          </command-palette-tip>
        <command-palette-tip class="mx-3 my-2 flash flash-error d-flex flex-items-center" data-scope-types="*" data-on-error>
          <div>
            <svg aria-hidden="true" height="16" viewBox="0 0 16 16" version="1.1" width="16" data-view-component="true" class="octicon octicon-alert">
    <path d="M6.457 1.047c.659-1.234 2.427-1.234 3.086 0l6.082 11.378A1.75 1.75 0 0 1 14.082 15H1.918a1.75 1.75 0 0 1-1.543-2.575Zm1.763.707a.25.25 0 0 0-.44 0L1.698 13.132a.25.25 0 0 0 .22.368h12.164a.25.25 0 0 0 .22-.368Zm.53 3.996v2.5a.75.75 0 0 1-1.5 0v-2.5a.75.75 0 0 1 1.5 0ZM9 11a1 1 0 1 1-2 0 1 1 0 0 1 2 0Z"></path>
</svg>
          </div>
          <div class="px-2">
            We’ve encountered an error and some results aren't available at this time. Type a new search or try again later.
          </div>
        </command-palette-tip>
        <command-palette-tip class="h4 color-fg-default pl-3 pb-2 pt-3" data-on-empty data-scope-types="*" data-match-mode="[^?]|^$">
          No results matched your search
        </command-palette-tip>

        <div hidden>

            <div data-targets="command-palette-page-stack.localOcticons" data-octicon-id="arrow-right-color-fg-muted">
              <svg height="16" class="octicon octicon-arrow-right color-fg-muted" viewBox="0 0 16 16" version="1.1" width="16" aria-hidden="true"><path d="M8.22 2.97a.75.75 0 0 1 1.06 0l4.25 4.25a.75.75 0 0 1 0 1.06l-4.25 4.25a.751.751 0 0 1-1.042-.018.751.751 0 0 1-.018-1.042l2.97-2.97H3.75a.75.75 0 0 1 0-1.5h7.44L8.22 4.03a.75.75 0 0 1 0-1.06Z"></path></svg>
            </div>
            <div data-targets="command-palette-page-stack.localOcticons" data-octicon-id="arrow-right-color-fg-default">
              <svg height="16" class="octicon octicon-arrow-right color-fg-default" viewBox="0 0 16 16" version="1.1" width="16" aria-hidden="true"><path d="M8.22 2.97a.75.75 0 0 1 1.06 0l4.25 4.25a.75.75 0 0 1 0 1.06l-4.25 4.25a.751.751 0 0 1-1.042-.018.751.751 0 0 1-.018-1.042l2.97-2.97H3.75a.75.75 0 0 1 0-1.5h7.44L8.22 4.03a.75.75 0 0 1 0-1.06Z"></path></svg>
            </div>
            <div data-targets="command-palette-page-stack.localOcticons" data-octicon-id="codespaces-color-fg-muted">
              <svg height="16" class="octicon octicon-codespaces color-fg-muted" viewBox="0 0 16 16" version="1.1" width="16" aria-hidden="true"><path d="M0 11.25c0-.966.784-1.75 1.75-1.75h12.5c.966 0 1.75.784 1.75 1.75v3A1.75 1.75 0 0 1 14.25 16H1.75A1.75 1.75 0 0 1 0 14.25Zm2-9.5C2 .784 2.784 0 3.75 0h8.5C13.216 0 14 .784 14 1.75v5a1.75 1.75 0 0 1-1.75 1.75h-8.5A1.75 1.75 0 0 1 2 6.75Zm1.75-.25a.25.25 0 0 0-.25.25v5c0 .138.112.25.25.25h8.5a.25.25 0 0 0 .25-.25v-5a.25.25 0 0 0-.25-.25Zm-2 9.5a.25.25 0 0 0-.25.25v3c0 .138.112.25.25.25h12.5a.25.25 0 0 0 .25-.25v-3a.25.25 0 0 0-.25-.25Z"></path><path d="M7 12.75a.75.75 0 0 1 .75-.75h4.5a.75.75 0 0 1 0 1.5h-4.5a.75.75 0 0 1-.75-.75Zm-4 0a.75.75 0 0 1 .75-.75h.5a.75.75 0 0 1 0 1.5h-.5a.75.75 0 0 1-.75-.75Z"></path></svg>
            </div>
            <div data-targets="command-palette-page-stack.localOcticons" data-octicon-id="copy-color-fg-muted">
              <svg height="16" class="octicon octicon-copy color-fg-muted" viewBox="0 0 16 16" version="1.1" width="16" aria-hidden="true"><path d="M0 6.75C0 5.784.784 5 1.75 5h1.5a.75.75 0 0 1 0 1.5h-1.5a.25.25 0 0 0-.25.25v7.5c0 .138.112.25.25.25h7.5a.25.25 0 0 0 .25-.25v-1.5a.75.75 0 0 1 1.5 0v1.5A1.75 1.75 0 0 1 9.25 16h-7.5A1.75 1.75 0 0 1 0 14.25Z"></path><path d="M5 1.75C5 .784 5.784 0 6.75 0h7.5C15.216 0 16 .784 16 1.75v7.5A1.75 1.75 0 0 1 14.25 11h-7.5A1.75 1.75 0 0 1 5 9.25Zm1.75-.25a.25.25 0 0 0-.25.25v7.5c0 .138.112.25.25.25h7.5a.25.25 0 0 0 .25-.25v-7.5a.25.25 0 0 0-.25-.25Z"></path></svg>
            </div>
            <div data-targets="command-palette-page-stack.localOcticons" data-octicon-id="dash-color-fg-muted">
              <svg height="16" class="octicon octicon-dash color-fg-muted" viewBox="0 0 16 16" version="1.1" width="16" aria-hidden="true"><path d="M2 7.75A.75.75 0 0 1 2.75 7h10a.75.75 0 0 1 0 1.5h-10A.75.75 0 0 1 2 7.75Z"></path></svg>
            </div>
            <div data-targets="command-palette-page-stack.localOcticons" data-octicon-id="file-color-fg-muted">
              <svg height="16" class="octicon octicon-file color-fg-muted" viewBox="0 0 16 16" version="1.1" width="16" aria-hidden="true"><path d="M2 1.75C2 .784 2.784 0 3.75 0h6.586c.464 0 .909.184 1.237.513l2.914 2.914c.329.328.513.773.513 1.237v9.586A1.75 1.75 0 0 1 13.25 16h-9.5A1.75 1.75 0 0 1 2 14.25Zm1.75-.25a.25.25 0 0 0-.25.25v12.5c0 .138.112.25.25.25h9.5a.25.25 0 0 0 .25-.25V6h-2.75A1.75 1.75 0 0 1 9 4.25V1.5Zm6.75.062V4.25c0 .138.112.25.25.25h2.688l-.011-.013-2.914-2.914-.013-.011Z"></path></svg>
            </div>
            <div data-targets="command-palette-page-stack.localOcticons" data-octicon-id="gear-color-fg-muted">
              <svg height="16" class="octicon octicon-gear color-fg-muted" viewBox="0 0 16 16" version="1.1" width="16" aria-hidden="true"><path d="M8 0a8.2 8.2 0 0 1 .701.031C9.444.095 9.99.645 10.16 1.29l.288 1.107c.018.066.079.158.212.224.231.114.454.243.668.386.123.082.233.09.299.071l1.103-.303c.644-.176 1.392.021 1.82.63.27.385.506.792.704 1.218.315.675.111 1.422-.364 1.891l-.814.806c-.049.048-.098.147-.088.294.016.257.016.515 0 .772-.01.147.038.246.088.294l.814.806c.475.469.679 1.216.364 1.891a7.977 7.977 0 0 1-.704 1.217c-.428.61-1.176.807-1.82.63l-1.102-.302c-.067-.019-.177-.011-.3.071a5.909 5.909 0 0 1-.668.386c-.133.066-.194.158-.211.224l-.29 1.106c-.168.646-.715 1.196-1.458 1.26a8.006 8.006 0 0 1-1.402 0c-.743-.064-1.289-.614-1.458-1.26l-.289-1.106c-.018-.066-.079-.158-.212-.224a5.738 5.738 0 0 1-.668-.386c-.123-.082-.233-.09-.299-.071l-1.103.303c-.644.176-1.392-.021-1.82-.63a8.12 8.12 0 0 1-.704-1.218c-.315-.675-.111-1.422.363-1.891l.815-.806c.05-.048.098-.147.088-.294a6.214 6.214 0 0 1 0-.772c.01-.147-.038-.246-.088-.294l-.815-.806C.635 6.045.431 5.298.746 4.623a7.92 7.92 0 0 1 .704-1.217c.428-.61 1.176-.807 1.82-.63l1.102.302c.067.019.177.011.3-.071.214-.143.437-.272.668-.386.133-.066.194-.158.211-.224l.29-1.106C6.009.645 6.556.095 7.299.03 7.53.01 7.764 0 8 0Zm-.571 1.525c-.036.003-.108.036-.137.146l-.289 1.105c-.147.561-.549.967-.998 1.189-.173.086-.34.183-.5.29-.417.278-.97.423-1.529.27l-1.103-.303c-.109-.03-.175.016-.195.045-.22.312-.412.644-.573.99-.014.031-.021.11.059.19l.815.806c.411.406.562.957.53 1.456a4.709 4.709 0 0 0 0 .582c.032.499-.119 1.05-.53 1.456l-.815.806c-.081.08-.073.159-.059.19.162.346.353.677.573.989.02.03.085.076.195.046l1.102-.303c.56-.153 1.113-.008 1.53.27.161.107.328.204.501.29.447.222.85.629.997 1.189l.289 1.105c.029.109.101.143.137.146a6.6 6.6 0 0 0 1.142 0c.036-.003.108-.036.137-.146l.289-1.105c.147-.561.549-.967.998-1.189.173-.086.34-.183.5-.29.417-.278.97-.423 1.529-.27l1.103.303c.109.029.175-.016.195-.045.22-.313.411-.644.573-.99.014-.031.021-.11-.059-.19l-.815-.806c-.411-.406-.562-.957-.53-1.456a4.709 4.709 0 0 0 0-.582c-.032-.499.119-1.05.53-1.456l.815-.806c.081-.08.073-.159.059-.19a6.464 6.464 0 0 0-.573-.989c-.02-.03-.085-.076-.195-.046l-1.102.303c-.56.153-1.113.008-1.53-.27a4.44 4.44 0 0 0-.501-.29c-.447-.222-.85-.629-.997-1.189l-.289-1.105c-.029-.11-.101-.143-.137-.146a6.6 6.6 0 0 0-1.142 0ZM11 8a3 3 0 1 1-6 0 3 3 0 0 1 6 0ZM9.5 8a1.5 1.5 0 1 0-3.001.001A1.5 1.5 0 0 0 9.5 8Z"></path></svg>
            </div>
            <div data-targets="command-palette-page-stack.localOcticons" data-octicon-id="lock-color-fg-muted">
              <svg height="16" class="octicon octicon-lock color-fg-muted" viewBox="0 0 16 16" version="1.1" width="16" aria-hidden="true"><path d="M4 4a4 4 0 0 1 8 0v2h.25c.966 0 1.75.784 1.75 1.75v5.5A1.75 1.75 0 0 1 12.25 15h-8.5A1.75 1.75 0 0 1 2 13.25v-5.5C2 6.784 2.784 6 3.75 6H4Zm8.25 3.5h-8.5a.25.25 0 0 0-.25.25v5.5c0 .138.112.25.25.25h8.5a.25.25 0 0 0 .25-.25v-5.5a.25.25 0 0 0-.25-.25ZM10.5 6V4a2.5 2.5 0 1 0-5 0v2Z"></path></svg>
            </div>
            <div data-targets="command-palette-page-stack.localOcticons" data-octicon-id="moon-color-fg-muted">
              <svg height="16" class="octicon octicon-moon color-fg-muted" viewBox="0 0 16 16" version="1.1" width="16" aria-hidden="true"><path d="M9.598 1.591a.749.749 0 0 1 .785-.175 7.001 7.001 0 1 1-8.967 8.967.75.75 0 0 1 .961-.96 5.5 5.5 0 0 0 7.046-7.046.75.75 0 0 1 .175-.786Zm1.616 1.945a7 7 0 0 1-7.678 7.678 5.499 5.499 0 1 0 7.678-7.678Z"></path></svg>
            </div>
            <div data-targets="command-palette-page-stack.localOcticons" data-octicon-id="person-color-fg-muted">
              <svg height="16" class="octicon octicon-person color-fg-muted" viewBox="0 0 16 16" version="1.1" width="16" aria-hidden="true"><path d="M10.561 8.073a6.005 6.005 0 0 1 3.432 5.142.75.75 0 1 1-1.498.07 4.5 4.5 0 0 0-8.99 0 .75.75 0 0 1-1.498-.07 6.004 6.004 0 0 1 3.431-5.142 3.999 3.999 0 1 1 5.123 0ZM10.5 5a2.5 2.5 0 1 0-5 0 2.5 2.5 0 0 0 5 0Z"></path></svg>
            </div>
            <div data-targets="command-palette-page-stack.localOcticons" data-octicon-id="pencil-color-fg-muted">
              <svg height="16" class="octicon octicon-pencil color-fg-muted" viewBox="0 0 16 16" version="1.1" width="16" aria-hidden="true"><path d="M11.013 1.427a1.75 1.75 0 0 1 2.474 0l1.086 1.086a1.75 1.75 0 0 1 0 2.474l-8.61 8.61c-.21.21-.47.364-.756.445l-3.251.93a.75.75 0 0 1-.927-.928l.929-3.25c.081-.286.235-.547.445-.758l8.61-8.61Zm.176 4.823L9.75 4.81l-6.286 6.287a.253.253 0 0 0-.064.108l-.558 1.953 1.953-.558a.253.253 0 0 0 .108-.064Zm1.238-3.763a.25.25 0 0 0-.354 0L10.811 3.75l1.439 1.44 1.263-1.263a.25.25 0 0 0 0-.354Z"></path></svg>
            </div>
            <div data-targets="command-palette-page-stack.localOcticons" data-octicon-id="issue-opened-open">
              <svg height="16" class="octicon octicon-issue-opened open" viewBox="0 0 16 16" version="1.1" width="16" aria-hidden="true"><path d="M8 9.5a1.5 1.5 0 1 0 0-3 1.5 1.5 0 0 0 0 3Z"></path><path d="M8 0a8 8 0 1 1 0 16A8 8 0 0 1 8 0ZM1.5 8a6.5 6.5 0 1 0 13 0 6.5 6.5 0 0 0-13 0Z"></path></svg>
            </div>
            <div data-targets="command-palette-page-stack.localOcticons" data-octicon-id="git-pull-request-draft-color-fg-muted">
              <svg height="16" class="octicon octicon-git-pull-request-draft color-fg-muted" viewBox="0 0 16 16" version="1.1" width="16" aria-hidden="true"><path d="M3.25 1A2.25 2.25 0 0 1 4 5.372v5.256a2.251 2.251 0 1 1-1.5 0V5.372A2.251 2.251 0 0 1 3.25 1Zm9.5 14a2.25 2.25 0 1 1 0-4.5 2.25 2.25 0 0 1 0 4.5ZM2.5 3.25a.75.75 0 1 0 1.5 0 .75.75 0 0 0-1.5 0ZM3.25 12a.75.75 0 1 0 0 1.5.75.75 0 0 0 0-1.5Zm9.5 0a.75.75 0 1 0 0 1.5.75.75 0 0 0 0-1.5ZM14 7.5a1.25 1.25 0 1 1-2.5 0 1.25 1.25 0 0 1 2.5 0Zm0-4.25a1.25 1.25 0 1 1-2.5 0 1.25 1.25 0 0 1 2.5 0Z"></path></svg>
            </div>
            <div data-targets="command-palette-page-stack.localOcticons" data-octicon-id="search-color-fg-muted">
              <svg height="16" class="octicon octicon-search color-fg-muted" viewBox="0 0 16 16" version="1.1" width="16" aria-hidden="true"><path d="M10.68 11.74a6 6 0 0 1-7.922-8.982 6 6 0 0 1 8.982 7.922l3.04 3.04a.749.749 0 0 1-.326 1.275.749.749 0 0 1-.734-.215ZM11.5 7a4.499 4.499 0 1 0-8.997 0A4.499 4.499 0 0 0 11.5 7Z"></path></svg>
            </div>
            <div data-targets="command-palette-page-stack.localOcticons" data-octicon-id="sun-color-fg-muted">
              <svg height="16" class="octicon octicon-sun color-fg-muted" viewBox="0 0 16 16" version="1.1" width="16" aria-hidden="true"><path d="M8 12a4 4 0 1 1 0-8 4 4 0 0 1 0 8Zm0-1.5a2.5 2.5 0 1 0 0-5 2.5 2.5 0 0 0 0 5Zm5.657-8.157a.75.75 0 0 1 0 1.061l-1.061 1.06a.749.749 0 0 1-1.275-.326.749.749 0 0 1 .215-.734l1.06-1.06a.75.75 0 0 1 1.06 0Zm-9.193 9.193a.75.75 0 0 1 0 1.06l-1.06 1.061a.75.75 0 1 1-1.061-1.06l1.06-1.061a.75.75 0 0 1 1.061 0ZM8 0a.75.75 0 0 1 .75.75v1.5a.75.75 0 0 1-1.5 0V.75A.75.75 0 0 1 8 0ZM3 8a.75.75 0 0 1-.75.75H.75a.75.75 0 0 1 0-1.5h1.5A.75.75 0 0 1 3 8Zm13 0a.75.75 0 0 1-.75.75h-1.5a.75.75 0 0 1 0-1.5h1.5A.75.75 0 0 1 16 8Zm-8 5a.75.75 0 0 1 .75.75v1.5a.75.75 0 0 1-1.5 0v-1.5A.75.75 0 0 1 8 13Zm3.536-1.464a.75.75 0 0 1 1.06 0l1.061 1.06a.75.75 0 0 1-1.06 1.061l-1.061-1.06a.75.75 0 0 1 0-1.061ZM2.343 2.343a.75.75 0 0 1 1.061 0l1.06 1.061a.751.751 0 0 1-.018 1.042.751.751 0 0 1-1.042.018l-1.06-1.06a.75.75 0 0 1 0-1.06Z"></path></svg>
            </div>
            <div data-targets="command-palette-page-stack.localOcticons" data-octicon-id="sync-color-fg-muted">
              <svg height="16" class="octicon octicon-sync color-fg-muted" viewBox="0 0 16 16" version="1.1" width="16" aria-hidden="true"><path d="M1.705 8.005a.75.75 0 0 1 .834.656 5.5 5.5 0 0 0 9.592 2.97l-1.204-1.204a.25.25 0 0 1 .177-.427h3.646a.25.25 0 0 1 .25.25v3.646a.25.25 0 0 1-.427.177l-1.38-1.38A7.002 7.002 0 0 1 1.05 8.84a.75.75 0 0 1 .656-.834ZM8 2.5a5.487 5.487 0 0 0-4.131 1.869l1.204 1.204A.25.25 0 0 1 4.896 6H1.25A.25.25 0 0 1 1 5.75V2.104a.25.25 0 0 1 .427-.177l1.38 1.38A7.002 7.002 0 0 1 14.95 7.16a.75.75 0 0 1-1.49.178A5.5 5.5 0 0 0 8 2.5Z"></path></svg>
            </div>
            <div data-targets="command-palette-page-stack.localOcticons" data-octicon-id="trash-color-fg-muted">
              <svg height="16" class="octicon octicon-trash color-fg-muted" viewBox="0 0 16 16" version="1.1" width="16" aria-hidden="true"><path d="M11 1.75V3h2.25a.75.75 0 0 1 0 1.5H2.75a.75.75 0 0 1 0-1.5H5V1.75C5 .784 5.784 0 6.75 0h2.5C10.216 0 11 .784 11 1.75ZM4.496 6.675l.66 6.6a.25.25 0 0 0 .249.225h5.19a.25.25 0 0 0 .249-.225l.66-6.6a.75.75 0 0 1 1.492.149l-.66 6.6A1.748 1.748 0 0 1 10.595 15h-5.19a1.75 1.75 0 0 1-1.741-1.575l-.66-6.6a.75.75 0 1 1 1.492-.15ZM6.5 1.75V3h3V1.75a.25.25 0 0 0-.25-.25h-2.5a.25.25 0 0 0-.25.25Z"></path></svg>
            </div>
            <div data-targets="command-palette-page-stack.localOcticons" data-octicon-id="key-color-fg-muted">
              <svg height="16" class="octicon octicon-key color-fg-muted" viewBox="0 0 16 16" version="1.1" width="16" aria-hidden="true"><path d="M10.5 0a5.499 5.499 0 1 1-1.288 10.848l-.932.932a.749.749 0 0 1-.53.22H7v.75a.749.749 0 0 1-.22.53l-.5.5a.749.749 0 0 1-.53.22H5v.75a.749.749 0 0 1-.22.53l-.5.5a.749.749 0 0 1-.53.22h-2A1.75 1.75 0 0 1 0 14.25v-2c0-.199.079-.389.22-.53l4.932-4.932A5.5 5.5 0 0 1 10.5 0Zm-4 5.5c-.001.431.069.86.205 1.269a.75.75 0 0 1-.181.768L1.5 12.56v1.69c0 .138.112.25.25.25h1.69l.06-.06v-1.19a.75.75 0 0 1 .75-.75h1.19l.06-.06v-1.19a.75.75 0 0 1 .75-.75h1.19l1.023-1.025a.75.75 0 0 1 .768-.18A4 4 0 1 0 6.5 5.5ZM11 6a1 1 0 1 1 0-2 1 1 0 0 1 0 2Z"></path></svg>
            </div>
            <div data-targets="command-palette-page-stack.localOcticons" data-octicon-id="comment-discussion-color-fg-muted">
              <svg height="16" class="octicon octicon-comment-discussion color-fg-muted" viewBox="0 0 16 16" version="1.1" width="16" aria-hidden="true"><path d="M1.75 1h8.5c.966 0 1.75.784 1.75 1.75v5.5A1.75 1.75 0 0 1 10.25 10H7.061l-2.574 2.573A1.458 1.458 0 0 1 2 11.543V10h-.25A1.75 1.75 0 0 1 0 8.25v-5.5C0 1.784.784 1 1.75 1ZM1.5 2.75v5.5c0 .138.112.25.25.25h1a.75.75 0 0 1 .75.75v2.19l2.72-2.72a.749.749 0 0 1 .53-.22h3.5a.25.25 0 0 0 .25-.25v-5.5a.25.25 0 0 0-.25-.25h-8.5a.25.25 0 0 0-.25.25Zm13 2a.25.25 0 0 0-.25-.25h-.5a.75.75 0 0 1 0-1.5h.5c.966 0 1.75.784 1.75 1.75v5.5A1.75 1.75 0 0 1 14.25 12H14v1.543a1.458 1.458 0 0 1-2.487 1.03L9.22 12.28a.749.749 0 0 1 .326-1.275.749.749 0 0 1 .734.215l2.22 2.22v-2.19a.75.75 0 0 1 .75-.75h1a.25.25 0 0 0 .25-.25Z"></path></svg>
            </div>
            <div data-targets="command-palette-page-stack.localOcticons" data-octicon-id="bell-color-fg-muted">
              <svg height="16" class="octicon octicon-bell color-fg-muted" viewBox="0 0 16 16" version="1.1" width="16" aria-hidden="true"><path d="M8 16a2 2 0 0 0 1.985-1.75c.017-.137-.097-.25-.235-.25h-3.5c-.138 0-.252.113-.235.25A2 2 0 0 0 8 16ZM3 5a5 5 0 0 1 10 0v2.947c0 .05.015.098.042.139l1.703 2.555A1.519 1.519 0 0 1 13.482 13H2.518a1.516 1.516 0 0 1-1.263-2.36l1.703-2.554A.255.255 0 0 0 3 7.947Zm5-3.5A3.5 3.5 0 0 0 4.5 5v2.947c0 .346-.102.683-.294.97l-1.703 2.556a.017.017 0 0 0-.003.01l.001.006c0 .002.002.004.004.006l.006.004.007.001h10.964l.007-.001.006-.004.004-.006.001-.007a.017.017 0 0 0-.003-.01l-1.703-2.554a1.745 1.745 0 0 1-.294-.97V5A3.5 3.5 0 0 0 8 1.5Z"></path></svg>
            </div>
            <div data-targets="command-palette-page-stack.localOcticons" data-octicon-id="bell-slash-color-fg-muted">
              <svg height="16" class="octicon octicon-bell-slash color-fg-muted" viewBox="0 0 16 16" version="1.1" width="16" aria-hidden="true"><path d="m4.182 4.31.016.011 10.104 7.316.013.01 1.375.996a.75.75 0 1 1-.88 1.214L13.626 13H2.518a1.516 1.516 0 0 1-1.263-2.36l1.703-2.554A.255.255 0 0 0 3 7.947V5.305L.31 3.357a.75.75 0 1 1 .88-1.214Zm7.373 7.19L4.5 6.391v1.556c0 .346-.102.683-.294.97l-1.703 2.556a.017.017 0 0 0-.003.01c0 .005.002.009.005.012l.006.004.007.001ZM8 1.5c-.997 0-1.895.416-2.534 1.086A.75.75 0 1 1 4.38 1.55 5 5 0 0 1 13 5v2.373a.75.75 0 0 1-1.5 0V5A3.5 3.5 0 0 0 8 1.5ZM8 16a2 2 0 0 1-1.985-1.75c-.017-.137.097-.25.235-.25h3.5c.138 0 .252.113.235.25A2 2 0 0 1 8 16Z"></path></svg>
            </div>
            <div data-targets="command-palette-page-stack.localOcticons" data-octicon-id="paintbrush-color-fg-muted">
              <svg height="16" class="octicon octicon-paintbrush color-fg-muted" viewBox="0 0 16 16" version="1.1" width="16" aria-hidden="true"><path d="M11.134 1.535c.7-.509 1.416-.942 2.076-1.155.649-.21 1.463-.267 2.069.34.603.601.568 1.411.368 2.07-.202.668-.624 1.39-1.125 2.096-1.011 1.424-2.496 2.987-3.775 4.249-1.098 1.084-2.132 1.839-3.04 2.3a3.744 3.744 0 0 1-1.055 3.217c-.431.431-1.065.691-1.657.861-.614.177-1.294.287-1.914.357A21.151 21.151 0 0 1 .797 16H.743l.007-.75H.749L.742 16a.75.75 0 0 1-.743-.742l.743-.008-.742.007v-.054a21.25 21.25 0 0 1 .13-2.284c.067-.647.187-1.287.358-1.914.17-.591.43-1.226.86-1.657a3.746 3.746 0 0 1 3.227-1.054c.466-.893 1.225-1.907 2.314-2.982 1.271-1.255 2.833-2.75 4.245-3.777ZM1.62 13.089c-.051.464-.086.929-.104 1.395.466-.018.932-.053 1.396-.104a10.511 10.511 0 0 0 1.668-.309c.526-.151.856-.325 1.011-.48a2.25 2.25 0 1 0-3.182-3.182c-.155.155-.329.485-.48 1.01a10.515 10.515 0 0 0-.309 1.67Zm10.396-10.34c-1.224.89-2.605 2.189-3.822 3.384l1.718 1.718c1.21-1.205 2.51-2.597 3.387-3.833.47-.662.78-1.227.912-1.662.134-.444.032-.551.009-.575h-.001V1.78c-.014-.014-.113-.113-.548.027-.432.14-.995.462-1.655.942Zm-4.832 7.266-.001.001a9.859 9.859 0 0 0 1.63-1.142L7.155 7.216a9.7 9.7 0 0 0-1.161 1.607c.482.302.889.71 1.19 1.192Z"></path></svg>
            </div>

            <command-palette-item-group
              data-group-id="top"
              data-group-title="Top result"
              data-group-hint=""
              data-group-limits="{}"
              data-default-priority="0"
            >
            </command-palette-item-group>
            <command-palette-item-group
              data-group-id="commands"
              data-group-title="Commands"
              data-group-hint="Type &gt; to filter"
              data-group-limits="{&quot;static_items_page&quot;:50,&quot;issue&quot;:50,&quot;pull_request&quot;:50,&quot;discussion&quot;:50}"
              data-default-priority="1"
            >
            </command-palette-item-group>
            <command-palette-item-group
              data-group-id="global_commands"
              data-group-title="Global Commands"
              data-group-hint="Type &gt; to filter"
              data-group-limits="{&quot;issue&quot;:0,&quot;pull_request&quot;:0,&quot;discussion&quot;:0}"
              data-default-priority="2"
            >
            </command-palette-item-group>
            <command-palette-item-group
              data-group-id="this_page"
              data-group-title="This Page"
              data-group-hint=""
              data-group-limits="{}"
              data-default-priority="3"
            >
            </command-palette-item-group>
            <command-palette-item-group
              data-group-id="files"
              data-group-title="Files"
              data-group-hint=""
              data-group-limits="{}"
              data-default-priority="4"
            >
            </command-palette-item-group>
            <command-palette-item-group
              data-group-id="default"
              data-group-title="Default"
              data-group-hint=""
              data-group-limits="{&quot;static_items_page&quot;:50}"
              data-default-priority="5"
            >
            </command-palette-item-group>
            <command-palette-item-group
              data-group-id="pages"
              data-group-title="Pages"
              data-group-hint=""
              data-group-limits="{&quot;repository&quot;:10}"
              data-default-priority="6"
            >
            </command-palette-item-group>
            <command-palette-item-group
              data-group-id="access_policies"
              data-group-title="Access Policies"
              data-group-hint=""
              data-group-limits="{}"
              data-default-priority="7"
            >
            </command-palette-item-group>
            <command-palette-item-group
              data-group-id="organizations"
              data-group-title="Organizations"
              data-group-hint=""
              data-group-limits="{}"
              data-default-priority="8"
            >
            </command-palette-item-group>
            <command-palette-item-group
              data-group-id="repositories"
              data-group-title="Repositories"
              data-group-hint=""
              data-group-limits="{}"
              data-default-priority="9"
            >
            </command-palette-item-group>
            <command-palette-item-group
              data-group-id="references"
              data-group-title="Issues, pull requests, and discussions"
              data-group-hint="Type # to filter"
              data-group-limits="{}"
              data-default-priority="10"
            >
            </command-palette-item-group>
            <command-palette-item-group
              data-group-id="teams"
              data-group-title="Teams"
              data-group-hint=""
              data-group-limits="{}"
              data-default-priority="11"
            >
            </command-palette-item-group>
            <command-palette-item-group
              data-group-id="users"
              data-group-title="Users"
              data-group-hint=""
              data-group-limits="{}"
              data-default-priority="12"
            >
            </command-palette-item-group>
            <command-palette-item-group
              data-group-id="memex_projects"
              data-group-title="Projects"
              data-group-hint=""
              data-group-limits="{}"
              data-default-priority="13"
            >
            </command-palette-item-group>
            <command-palette-item-group
              data-group-id="projects"
              data-group-title="Projects (classic)"
              data-group-hint=""
              data-group-limits="{}"
              data-default-priority="14"
            >
            </command-palette-item-group>
            <command-palette-item-group
              data-group-id="footer"
              data-group-title="Footer"
              data-group-hint=""
              data-group-limits="{}"
              data-default-priority="15"
            >
            </command-palette-item-group>
            <command-palette-item-group
              data-group-id="modes_help"
              data-group-title="Modes"
              data-group-hint=""
              data-group-limits="{}"
              data-default-priority="16"
            >
            </command-palette-item-group>
            <command-palette-item-group
              data-group-id="filters_help"
              data-group-title="Use filters in issues, pull requests, discussions, and projects"
              data-group-hint=""
              data-group-limits="{}"
              data-default-priority="17"
            >
            </command-palette-item-group>

            <command-palette-page
              data-page-title="UCLAIS"
              data-scope-id="MDEyOk9yZ2FuaXphdGlvbjYxMDc1NDcz"
              data-scope-type="owner"
              data-targets="command-palette-page-stack.defaultPages"
              hidden
            >
            </command-palette-page>
            <command-palette-page
              data-page-title="ML-Tutorials-Season-4-In-Progress"
              data-scope-id="R_kgDOJLM95w"
              data-scope-type="repository"
              data-targets="command-palette-page-stack.defaultPages"
              hidden
            >
            </command-palette-page>
        </div>

        <command-palette-page data-is-root>
        </command-palette-page>
          <command-palette-page
            data-page-title="UCLAIS"
            data-scope-id="MDEyOk9yZ2FuaXphdGlvbjYxMDc1NDcz"
            data-scope-type="owner"
          >
          </command-palette-page>
          <command-palette-page
            data-page-title="ML-Tutorials-Season-4-In-Progress"
            data-scope-id="R_kgDOJLM95w"
            data-scope-type="repository"
          >
          </command-palette-page>
      </command-palette-page-stack>

      <server-defined-provider data-type="search-links" data-targets="command-palette.serverDefinedProviderElements"></server-defined-provider>
      <server-defined-provider data-type="help" data-targets="command-palette.serverDefinedProviderElements">
          <command-palette-help
            data-group="modes_help"
              data-prefix="#"
              data-scope-types="[&quot;&quot;]"
          >
            <span data-target="command-palette-help.titleElement">Search for <strong>issues</strong> and <strong>pull requests</strong></span>
              <span data-target="command-palette-help.hintElement">
                <kbd class="hx_kbd">#</kbd>
              </span>
          </command-palette-help>
          <command-palette-help
            data-group="modes_help"
              data-prefix="#"
              data-scope-types="[&quot;owner&quot;,&quot;repository&quot;]"
          >
            <span data-target="command-palette-help.titleElement">Search for <strong>issues, pull requests, discussions,</strong> and <strong>projects</strong></span>
              <span data-target="command-palette-help.hintElement">
                <kbd class="hx_kbd">#</kbd>
              </span>
          </command-palette-help>
          <command-palette-help
            data-group="modes_help"
              data-prefix="@"
              data-scope-types="[&quot;&quot;]"
          >
            <span data-target="command-palette-help.titleElement">Search for <strong>organizations, repositories,</strong> and <strong>users</strong></span>
              <span data-target="command-palette-help.hintElement">
                <kbd class="hx_kbd">@</kbd>
              </span>
          </command-palette-help>
          <command-palette-help
            data-group="modes_help"
              data-prefix="!"
              data-scope-types="[&quot;owner&quot;,&quot;repository&quot;]"
          >
            <span data-target="command-palette-help.titleElement">Search for <strong>projects</strong></span>
              <span data-target="command-palette-help.hintElement">
                <kbd class="hx_kbd">!</kbd>
              </span>
          </command-palette-help>
          <command-palette-help
            data-group="modes_help"
              data-prefix="/"
              data-scope-types="[&quot;repository&quot;]"
          >
            <span data-target="command-palette-help.titleElement">Search for <strong>files</strong></span>
              <span data-target="command-palette-help.hintElement">
                <kbd class="hx_kbd">/</kbd>
              </span>
          </command-palette-help>
          <command-palette-help
            data-group="modes_help"
              data-prefix="&gt;"
          >
            <span data-target="command-palette-help.titleElement">Activate <strong>command mode</strong></span>
              <span data-target="command-palette-help.hintElement">
                <kbd class="hx_kbd">&gt;</kbd>
              </span>
          </command-palette-help>
          <command-palette-help
            data-group="filters_help"
              data-prefix="# author:@me"
          >
            <span data-target="command-palette-help.titleElement">Search your issues, pull requests, and discussions</span>
              <span data-target="command-palette-help.hintElement">
                <kbd class="hx_kbd"># author:@me</kbd>
              </span>
          </command-palette-help>
          <command-palette-help
            data-group="filters_help"
              data-prefix="# author:@me"
          >
            <span data-target="command-palette-help.titleElement">Search your issues, pull requests, and discussions</span>
              <span data-target="command-palette-help.hintElement">
                <kbd class="hx_kbd"># author:@me</kbd>
              </span>
          </command-palette-help>
          <command-palette-help
            data-group="filters_help"
              data-prefix="# is:pr"
          >
            <span data-target="command-palette-help.titleElement">Filter to pull requests</span>
              <span data-target="command-palette-help.hintElement">
                <kbd class="hx_kbd"># is:pr</kbd>
              </span>
          </command-palette-help>
          <command-palette-help
            data-group="filters_help"
              data-prefix="# is:issue"
          >
            <span data-target="command-palette-help.titleElement">Filter to issues</span>
              <span data-target="command-palette-help.hintElement">
                <kbd class="hx_kbd"># is:issue</kbd>
              </span>
          </command-palette-help>
          <command-palette-help
            data-group="filters_help"
              data-prefix="# is:discussion"
              data-scope-types="[&quot;owner&quot;,&quot;repository&quot;]"
          >
            <span data-target="command-palette-help.titleElement">Filter to discussions</span>
              <span data-target="command-palette-help.hintElement">
                <kbd class="hx_kbd"># is:discussion</kbd>
              </span>
          </command-palette-help>
          <command-palette-help
            data-group="filters_help"
              data-prefix="# is:project"
              data-scope-types="[&quot;owner&quot;,&quot;repository&quot;]"
          >
            <span data-target="command-palette-help.titleElement">Filter to projects</span>
              <span data-target="command-palette-help.hintElement">
                <kbd class="hx_kbd"># is:project</kbd>
              </span>
          </command-palette-help>
          <command-palette-help
            data-group="filters_help"
              data-prefix="# is:open"
          >
            <span data-target="command-palette-help.titleElement">Filter to open issues, pull requests, and discussions</span>
              <span data-target="command-palette-help.hintElement">
                <kbd class="hx_kbd"># is:open</kbd>
              </span>
          </command-palette-help>
      </server-defined-provider>

        <server-defined-provider
          data-type="commands"
          data-fetch-debounce="0"
            data-src="/command_palette/commands"
          data-supported-modes="[]"
            data-supports-commands
          
          data-targets="command-palette.serverDefinedProviderElements"
          ></server-defined-provider>
        <server-defined-provider
          data-type="prefetched"
          data-fetch-debounce="0"
            data-src="/command_palette/jump_to_page_navigation"
          data-supported-modes="[&quot;&quot;]"
            data-supported-scope-types="[&quot;&quot;,&quot;owner&quot;,&quot;repository&quot;]"
          
          data-targets="command-palette.serverDefinedProviderElements"
          ></server-defined-provider>
        <server-defined-provider
          data-type="remote"
          data-fetch-debounce="200"
            data-src="/command_palette/issues"
          data-supported-modes="[&quot;#&quot;,&quot;#&quot;]"
            data-supported-scope-types="[&quot;owner&quot;,&quot;repository&quot;,&quot;&quot;]"
          
          data-targets="command-palette.serverDefinedProviderElements"
          ></server-defined-provider>
        <server-defined-provider
          data-type="remote"
          data-fetch-debounce="200"
            data-src="/command_palette/jump_to"
          data-supported-modes="[&quot;@&quot;,&quot;@&quot;]"
            data-supported-scope-types="[&quot;&quot;,&quot;owner&quot;]"
          
          data-targets="command-palette.serverDefinedProviderElements"
          ></server-defined-provider>
        <server-defined-provider
          data-type="remote"
          data-fetch-debounce="200"
            data-src="/command_palette/jump_to_members_only"
          data-supported-modes="[&quot;@&quot;,&quot;@&quot;,&quot;&quot;,&quot;&quot;]"
            data-supported-scope-types="[&quot;&quot;,&quot;owner&quot;]"
          
          data-targets="command-palette.serverDefinedProviderElements"
          ></server-defined-provider>
        <server-defined-provider
          data-type="prefetched"
          data-fetch-debounce="0"
            data-src="/command_palette/jump_to_members_only_prefetched"
          data-supported-modes="[&quot;@&quot;,&quot;@&quot;,&quot;&quot;,&quot;&quot;]"
            data-supported-scope-types="[&quot;&quot;,&quot;owner&quot;]"
          
          data-targets="command-palette.serverDefinedProviderElements"
          ></server-defined-provider>
        <server-defined-provider
          data-type="files"
          data-fetch-debounce="0"
            data-src="/command_palette/files"
          data-supported-modes="[&quot;/&quot;]"
            data-supported-scope-types="[&quot;repository&quot;]"
          
          data-targets="command-palette.serverDefinedProviderElements"
          ></server-defined-provider>
        <server-defined-provider
          data-type="remote"
          data-fetch-debounce="200"
            data-src="/command_palette/discussions"
          data-supported-modes="[&quot;#&quot;]"
            data-supported-scope-types="[&quot;owner&quot;,&quot;repository&quot;]"
          
          data-targets="command-palette.serverDefinedProviderElements"
          ></server-defined-provider>
        <server-defined-provider
          data-type="remote"
          data-fetch-debounce="200"
            data-src="/command_palette/projects"
          data-supported-modes="[&quot;#&quot;,&quot;!&quot;]"
            data-supported-scope-types="[&quot;owner&quot;,&quot;repository&quot;]"
          
          data-targets="command-palette.serverDefinedProviderElements"
          ></server-defined-provider>
        <server-defined-provider
          data-type="prefetched"
          data-fetch-debounce="0"
            data-src="/command_palette/recent_issues"
          data-supported-modes="[&quot;#&quot;,&quot;#&quot;]"
            data-supported-scope-types="[&quot;owner&quot;,&quot;repository&quot;,&quot;&quot;]"
          
          data-targets="command-palette.serverDefinedProviderElements"
          ></server-defined-provider>
        <server-defined-provider
          data-type="remote"
          data-fetch-debounce="200"
            data-src="/command_palette/teams"
          data-supported-modes="[&quot;@&quot;,&quot;&quot;]"
            data-supported-scope-types="[&quot;owner&quot;]"
          
          data-targets="command-palette.serverDefinedProviderElements"
          ></server-defined-provider>
        <server-defined-provider
          data-type="remote"
          data-fetch-debounce="200"
            data-src="/command_palette/name_with_owner_repository"
          data-supported-modes="[&quot;@&quot;,&quot;@&quot;,&quot;&quot;,&quot;&quot;]"
            data-supported-scope-types="[&quot;&quot;,&quot;owner&quot;]"
          
          data-targets="command-palette.serverDefinedProviderElements"
          ></server-defined-provider>
    </command-palette>
  </details-dialog>
</details>

<div class="position-fixed bottom-0 left-0 ml-5 mb-5 js-command-palette-toasts" style="z-index: 1000">
  <div hidden class="Toast Toast--loading">
    <span class="Toast-icon">
      <svg class="Toast--spinner" viewBox="0 0 32 32" width="18" height="18" aria-hidden="true">
        <path
          fill="#959da5"
          d="M16 0 A16 16 0 0 0 16 32 A16 16 0 0 0 16 0 M16 4 A12 12 0 0 1 16 28 A12 12 0 0 1 16 4"
        />
        <path fill="#ffffff" d="M16 0 A16 16 0 0 1 32 16 L28 16 A12 12 0 0 0 16 4z"></path>
      </svg>
    </span>
    <span class="Toast-content"></span>
  </div>

  <div hidden class="anim-fade-in fast Toast Toast--error">
    <span class="Toast-icon">
      <svg aria-hidden="true" height="16" viewBox="0 0 16 16" version="1.1" width="16" data-view-component="true" class="octicon octicon-stop">
    <path d="M4.47.22A.749.749 0 0 1 5 0h6c.199 0 .389.079.53.22l4.25 4.25c.141.14.22.331.22.53v6a.749.749 0 0 1-.22.53l-4.25 4.25A.749.749 0 0 1 11 16H5a.749.749 0 0 1-.53-.22L.22 11.53A.749.749 0 0 1 0 11V5c0-.199.079-.389.22-.53Zm.84 1.28L1.5 5.31v5.38l3.81 3.81h5.38l3.81-3.81V5.31L10.69 1.5ZM8 4a.75.75 0 0 1 .75.75v3.5a.75.75 0 0 1-1.5 0v-3.5A.75.75 0 0 1 8 4Zm0 8a1 1 0 1 1 0-2 1 1 0 0 1 0 2Z"></path>
</svg>
    </span>
    <span class="Toast-content"></span>
  </div>

  <div hidden class="anim-fade-in fast Toast Toast--warning">
    <span class="Toast-icon">
      <svg aria-hidden="true" height="16" viewBox="0 0 16 16" version="1.1" width="16" data-view-component="true" class="octicon octicon-alert">
    <path d="M6.457 1.047c.659-1.234 2.427-1.234 3.086 0l6.082 11.378A1.75 1.75 0 0 1 14.082 15H1.918a1.75 1.75 0 0 1-1.543-2.575Zm1.763.707a.25.25 0 0 0-.44 0L1.698 13.132a.25.25 0 0 0 .22.368h12.164a.25.25 0 0 0 .22-.368Zm.53 3.996v2.5a.75.75 0 0 1-1.5 0v-2.5a.75.75 0 0 1 1.5 0ZM9 11a1 1 0 1 1-2 0 1 1 0 0 1 2 0Z"></path>
</svg>
    </span>
    <span class="Toast-content"></span>
  </div>


  <div hidden class="anim-fade-in fast Toast Toast--success">
    <span class="Toast-icon">
      <svg aria-hidden="true" height="16" viewBox="0 0 16 16" version="1.1" width="16" data-view-component="true" class="octicon octicon-check">
    <path d="M13.78 4.22a.75.75 0 0 1 0 1.06l-7.25 7.25a.75.75 0 0 1-1.06 0L2.22 9.28a.751.751 0 0 1 .018-1.042.751.751 0 0 1 1.042-.018L6 10.94l6.72-6.72a.75.75 0 0 1 1.06 0Z"></path>
</svg>
    </span>
    <span class="Toast-content"></span>
  </div>

  <div hidden class="anim-fade-in fast Toast">
    <span class="Toast-icon">
      <svg aria-hidden="true" height="16" viewBox="0 0 16 16" version="1.1" width="16" data-view-component="true" class="octicon octicon-info">
    <path d="M0 8a8 8 0 1 1 16 0A8 8 0 0 1 0 8Zm8-6.5a6.5 6.5 0 1 0 0 13 6.5 6.5 0 0 0 0-13ZM6.5 7.75A.75.75 0 0 1 7.25 7h1a.75.75 0 0 1 .75.75v2.75h.25a.75.75 0 0 1 0 1.5h-2a.75.75 0 0 1 0-1.5h.25v-2h-.25a.75.75 0 0 1-.75-.75ZM8 6a1 1 0 1 1 0-2 1 1 0 0 1 0 2Z"></path>
</svg>
    </span>
    <span class="Toast-content"></span>
  </div>
</div>


  <div
    class="application-main "
    data-commit-hovercards-enabled
    data-discussion-hovercards-enabled
    data-issue-and-pr-hovercards-enabled
  >
        <div itemscope itemtype="http://schema.org/SoftwareSourceCode" class="">
    <main id="js-repo-pjax-container" >
      
      
      
    

    






    
  <div id="repository-container-header" data-turbo-replace hidden></div>




<turbo-frame id="repo-content-turbo-frame" target="_top" data-turbo-action="advance" class="">
    <div id="repo-content-pjax-container" class="repository-content " >
      <a href="https://github.dev/" class="d-none js-github-dev-shortcut" data-hotkey=".,Alt+Meta+≥,Control+Alt+.">Open in github.dev</a>
  <a href="https://github.dev/" class="d-none js-github-dev-new-tab-shortcut" data-hotkey="Shift+.,Shift+&gt;,&gt;" target="_blank" rel="noopener noreferrer">Open in a new github.dev tab</a>
    <a class="d-none" data-hotkey=",,Alt+Meta+≤,Control+Alt+," target="_blank" href="/codespaces/new/UCLAIS/ML-Tutorials-Season-4-In-Progress/tree/main?resume=1">Open in codespace</a>



    
      
    





<react-app
  app-name="react-code-view"
  initial-path="/UCLAIS/ML-Tutorials-Season-4-In-Progress/blob/main/week-2/polynomial_regression.ipynb"
  style="min-height: calc(100vh - 62px)"
  data-ssr="true"
  data-lazy="false"
  data-alternate="false"
>
  
  <script type="application/json" data-target="react-app.embeddedData">{"payload":{"allShortcutsEnabled":true,"fileTree":{"week-2":{"items":[{"name":"linear_regression.ipynb","path":"week-2/linear_regression.ipynb","contentType":"file"},{"name":"polynomial_regression.ipynb","path":"week-2/polynomial_regression.ipynb","contentType":"file"}],"totalCount":2},"":{"items":[{"name":"Doxa-Challenges","path":"Doxa-Challenges","contentType":"directory"},{"name":"week-0","path":"week-0","contentType":"directory"},{"name":"week-1","path":"week-1","contentType":"directory"},{"name":"week-2","path":"week-2","contentType":"directory"},{"name":"week-4","path":"week-4","contentType":"directory"},{"name":"week-5","path":"week-5","contentType":"directory"},{"name":".gitignore","path":".gitignore","contentType":"file"},{"name":"README.md","path":"README.md","contentType":"file"}],"totalCount":8}},"fileTreeProcessingTime":9.032903,"foldersToFetch":[],"reducedMotionEnabled":"system","repo":{"id":615726567,"defaultBranch":"main","name":"ML-Tutorials-Season-4-In-Progress","ownerLogin":"UCLAIS","currentUserCanPush":true,"isFork":false,"isEmpty":false,"createdAt":"2023-03-18T14:00:29.000+00:00","ownerAvatar":"https://avatars.githubusercontent.com/u/61075473?v=4","public":false,"private":true,"isOrgOwned":true},"symbolsExpanded":true,"treeExpanded":true,"refInfo":{"name":"main","listCacheKey":"v0:1697625668.0","canEdit":true,"refType":"branch","currentOid":"ba2549eb48b85a8e02c08f529355eb9d6ec547c4"},"path":"week-2/polynomial_regression.ipynb","currentUser":{"id":68599607,"login":"damienbose","userEmail":"zcabdrb@ucl.ac.uk"},"blob":{"rawLines":["{"," \"cells\": [","  {","   \"attachments\": {},","   \"cell_type\": \"markdown\",","   \"metadata\": {},","   \"source\": [","    \"# Week 1: Polynomial Regression\"","   ]","  },","  {","   \"attachments\": {},","   \"cell_type\": \"markdown\",","   \"metadata\": {},","   \"source\": [","    \"In the previous notebook, we tackled linear regression. However, often the relationships around us are non-linear. In those cases, we cannot just fit a straight line (or n-dimensional plane). To match these relationships, we require other models. In this notebook, we try to model polynomial relationships.\"","   ]","  },","  {","   \"cell_type\": \"code\",","   \"execution_count\": 1,","   \"metadata\": {},","   \"outputs\": [],","   \"source\": [","    \"import numpy as np\\n\",","    \"\\n\",","    \"np.random.seed(42)\\n\",","    \"import matplotlib.pyplot as plt\\n\",","    \"from sklearn.linear_model import LinearRegression\\n\",","    \"from sklearn.preprocessing import PolynomialFeatures\"","   ]","  },","  {","   \"attachments\": {},","   \"cell_type\": \"markdown\",","   \"metadata\": {},","   \"source\": [","    \"We first generate some synthetic data that will illustrate our example. Don't worry about trying to understand the code in the cell below.\"","   ]","  },","  {","   \"cell_type\": \"code\",","   \"execution_count\": 2,","   \"metadata\": {},","   \"outputs\": [","    {","     \"data\": {","      \"image/png\": \"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\",","      \"text/plain\": [","       \"\u003cFigure size 640x480 with 1 Axes\u003e\"","      ]","     },","     \"metadata\": {},","     \"output_type\": \"display_data\"","    }","   ],","   \"source\": [","    \"def get_synthetic_y(x, noise=0.0):\\n\",","    \"    # Generate random data-set for polynomial of degree 3\\n\",","    \"    output_y = (\\n\",","    \"        -1 * x**3 + 2 * x**2 + 3 * x + 4 + np.random.randn(x.shape[0], 1) * noise\\n\",","    \"    )\\n\",","    \"    return output_y\\n\",","    \"\\n\",","    \"\\n\",","    \"# Generate training data\\n\",","    \"num_samples_train = 30\\n\",","    \"x_train = np.random.uniform(-10, 10, num_samples_train).reshape(num_samples_train, 1)\\n\",","    \"y_train = get_synthetic_y(x_train, noise=200)\\n\",","    \"\\n\",","    \"# Generate test data\\n\",","    \"num_samples_test = 20\\n\",","    \"x_test = np.random.uniform(-10, 10, num_samples_test).reshape(num_samples_test, 1)\\n\",","    \"y_test = get_synthetic_y(x_test, noise=200)\\n\",","    \"\\n\",","    \"# Plot the data\\n\",","    \"plt.scatter(x_train, y_train, label=\\\"train\\\")\\n\",","    \"plt.scatter(x_test, y_test, label=\\\"test\\\")\\n\",","    \"plt.xlabel(\\\"x values\\\")\\n\",","    \"plt.ylabel(\\\"y values\\\")\\n\",","    \"plt.legend()\\n\",","    \"plt.show()\"","   ]","  },","  {","   \"attachments\": {},","   \"cell_type\": \"markdown\",","   \"metadata\": {},","   \"source\": [","    \"Notice how in the figure above, a straight line is not able to adequately represent the relationship. In this case in machine learning, we say that our model is *underfitting* the data: it does not adequately capture the relationship of the relationship. A way of remedying underfitting is by increasing model complexity, done here by increasing the degree of the polynomial as shown below. \"","   ]","  },","  {","   \"cell_type\": \"code\",","   \"execution_count\": 3,","   \"metadata\": {},","   \"outputs\": [","    {","     \"data\": {","      \"image/png\": \"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\",","      \"text/plain\": [","       \"\u003cFigure size 640x480 with 1 Axes\u003e\"","      ]","     },","     \"metadata\": {},","     \"output_type\": \"display_data\"","    }","   ],","   \"source\": [","    \"def plot_best_fit_degree_k(k, x_train, y_train):\\n\",","    \"    # Fit to training data\\n\",","    \"    poly_features = PolynomialFeatures(degree=k)\\n\",","    \"    input_x_poly = poly_features.fit_transform(x_train)\\n\",","    \"    lin_reg = LinearRegression()\\n\",","    \"    lin_reg.fit(input_x_poly, y_train)\\n\",","    \"\\n\",","    \"    # Plot the model\\n\",","    \"    x = np.linspace(-10, 10, 100).reshape(100, 1)\\n\",","    \"    x_poly = poly_features.transform(x)\\n\",","    \"    y = lin_reg.predict(x_poly)\\n\",","    \"    plt.plot(x, y, linewidth=2, label=f\\\"Polynomial degree {k}\\\")\\n\",","    \"\\n\",","    \"\\n\",","    \"# Plot and compare polynomial fits of different degrees\\n\",","    \"plt.scatter(x_train, y_train, label=\\\"Training data\\\")\\n\",","    \"plt.xlim(min(x_train), max(x_train))\\n\",","    \"plt.ylim(min(y_train), max(y_train))\\n\",","    \"plot_best_fit_degree_k(1, x_train, y_train)\\n\",","    \"plot_best_fit_degree_k(3, x_train, y_train)\\n\",","    \"plot_best_fit_degree_k(9, x_train, y_train)\\n\",","    \"plot_best_fit_degree_k(15, x_train, y_train)\\n\",","    \"plt.xlabel(\\\"x values\\\")\\n\",","    \"plt.ylabel(\\\"y values\\\")\\n\",","    \"plt.legend()\\n\",","    \"plt.show()\"","   ]","  },","  {","   \"attachments\": {},","   \"cell_type\": \"markdown\",","   \"metadata\": {},","   \"source\": [","    \"We see that as we increase the degree of our polynomial, the lines match our training data more and more closely. However, if we introduce our testing data now. (figure 3) We notice a big problem for polynomials of degree 9 and 15. The curve fits the noise in the data, instead of the underlying relationship. We say these models are *overfitting* the data. For example, the curve for the polynomial of degree 15 below, is a much worse fit than a polynomial of degree 3 when we compare it to the test data not used to train our model.\"","   ]","  },","  {","   \"cell_type\": \"code\",","   \"execution_count\": 4,","   \"metadata\": {},","   \"outputs\": [","    {","     \"data\": {","      \"image/png\": \"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\",","      \"text/plain\": [","       \"\u003cFigure size 640x480 with 1 Axes\u003e\"","      ]","     },","     \"metadata\": {},","     \"output_type\": \"display_data\"","    }","   ],","   \"source\": [","    \"# Plot the same polynomial fits but now with test data\\n\",","    \"plt.scatter(x_test, y_test, label=\\\"Test data\\\", color=\\\"orange\\\")\\n\",","    \"plt.xlim(min(x_test), max(x_test))\\n\",","    \"plt.ylim(min(y_test), max(y_test))\\n\",","    \"plot_best_fit_degree_k(1, x_train, y_train)\\n\",","    \"plot_best_fit_degree_k(3, x_train, y_train)\\n\",","    \"plot_best_fit_degree_k(9, x_train, y_train)\\n\",","    \"plot_best_fit_degree_k(15, x_train, y_train)\\n\",","    \"plt.xlabel(\\\"x values\\\")\\n\",","    \"plt.ylabel(\\\"y values\\\")\\n\",","    \"plt.legend()\\n\",","    \"plt.show()\"","   ]","  }"," ],"," \"metadata\": {","  \"kernelspec\": {","   \"display_name\": \"comp142\",","   \"language\": \"python\",","   \"name\": \"python3\"","  },","  \"language_info\": {","   \"codemirror_mode\": {","    \"name\": \"ipython\",","    \"version\": 3","   },","   \"file_extension\": \".py\",","   \"mimetype\": \"text/x-python\",","   \"name\": \"python\",","   \"nbconvert_exporter\": \"python\",","   \"pygments_lexer\": \"ipython3\",","   \"version\": \"3.10.8\"","  },","  \"orig_nbformat\": 4"," },"," \"nbformat\": 4,"," \"nbformat_minor\": 2","}"],"stylingDirectives":null,"csv":null,"csvError":null,"dependabotInfo":{"showConfigurationBanner":null,"configFilePath":null,"networkDependabotPath":"/UCLAIS/ML-Tutorials-Season-4-In-Progress/network/updates","dismissConfigurationNoticePath":"/settings/dismiss-notice/dependabot_configuration_notice","configurationNoticeDismissed":false,"repoAlertsPath":"/UCLAIS/ML-Tutorials-Season-4-In-Progress/security/dependabot","repoSecurityAndAnalysisPath":"/UCLAIS/ML-Tutorials-Season-4-In-Progress/settings/security_analysis","repoOwnerIsOrg":true,"currentUserCanAdminRepo":false},"displayName":"polynomial_regression.ipynb","displayUrl":"https://notebooks.githubusercontent.com/view/ipynb?browser=chrome\u0026bypass_fastly=true\u0026color_mode=auto\u0026commit=ba2549eb48b85a8e02c08f529355eb9d6ec547c4\u0026device=unknown_device\u0026docs_host=https%3A%2F%2Fdocs.github.com\u0026enc_url=68747470733a2f2f7261772e67697468756275736572636f6e74656e742e636f6d2f55434c4149532f4d4c2d5475746f7269616c732d536561736f6e2d342d496e2d50726f67726573732f626132353439656234386238356138653032633038663532393335356562396436656335343763342f7765656b2d322f706f6c796e6f6d69616c5f72656772657373696f6e2e6970796e623f746f6b656e3d41514c4c364e36464f4934364b574550554b33524f4233464736365241\u0026logged_in=true\u0026nwo=UCLAIS%2FML-Tutorials-Season-4-In-Progress\u0026path=week-2%2Fpolynomial_regression.ipynb\u0026platform=mac\u0026repository_id=615726567\u0026repository_type=Repository\u0026version=118","headerInfo":{"blobSize":"198 KB","deleteInfo":{"deleteTooltip":"Delete this file"},"editInfo":{"editTooltip":"Edit this file"},"ghDesktopPath":"x-github-client://openRepo/https://github.com/UCLAIS/ML-Tutorials-Season-4-In-Progress?branch=main\u0026filepath=week-2%2Fpolynomial_regression.ipynb","gitLfsPath":null,"onBranch":true,"shortPath":"26986d5","siteNavLoginPath":"/login?return_to=https%3A%2F%2Fgithub.com%2FUCLAIS%2FML-Tutorials-Season-4-In-Progress%2Fblob%2Fmain%2Fweek-2%2Fpolynomial_regression.ipynb","isCSV":false,"isRichtext":false,"toc":null,"lineInfo":{"truncatedLoc":"200","truncatedSloc":"200"},"mode":"file"},"image":false,"isCodeownersFile":null,"isPlain":false,"isValidLegacyIssueTemplate":false,"issueTemplateHelpUrl":"https://docs.github.com/articles/about-issue-and-pull-request-templates","issueTemplate":null,"discussionTemplate":null,"language":"Jupyter Notebook","languageID":185,"large":false,"loggedIn":true,"newDiscussionPath":"/UCLAIS/ML-Tutorials-Season-4-In-Progress/discussions/new","newIssuePath":"/UCLAIS/ML-Tutorials-Season-4-In-Progress/issues/new","planSupportInfo":{"repoIsFork":null,"repoOwnedByCurrentUser":null,"requestFullPath":"/UCLAIS/ML-Tutorials-Season-4-In-Progress/blob/main/week-2/polynomial_regression.ipynb","showFreeOrgGatedFeatureMessage":null,"showPlanSupportBanner":null,"upgradeDataAttributes":null,"upgradePath":null},"publishBannersInfo":{"dismissActionNoticePath":"/settings/dismiss-notice/publish_action_from_dockerfile","dismissStackNoticePath":"/settings/dismiss-notice/publish_stack_from_file","releasePath":"/UCLAIS/ML-Tutorials-Season-4-In-Progress/releases/new?marketplace=true","showPublishActionBanner":false,"showPublishStackBanner":false},"rawBlobUrl":"https://github.com/UCLAIS/ML-Tutorials-Season-4-In-Progress/raw/main/week-2/polynomial_regression.ipynb","renderImageOrRaw":false,"richText":null,"renderedFileInfo":{"identityUUID":"3a4bcad6-1d77-41b1-a7c8-9ec395c3e80c","renderFileType":"ipynb","size":202333},"shortPath":null,"tabSize":8,"topBannersInfo":{"overridingGlobalFundingFile":false,"globalPreferredFundingPath":null,"repoOwner":"UCLAIS","repoName":"ML-Tutorials-Season-4-In-Progress","showInvalidCitationWarning":false,"citationHelpUrl":"https://docs.github.com/en/github/creating-cloning-and-archiving-repositories/creating-a-repository-on-github/about-citation-files","showDependabotConfigurationBanner":null,"actionsOnboardingTip":null},"truncated":false,"viewable":true,"workflowRedirectUrl":null,"symbols":{"timedOut":false,"notAnalyzed":true,"symbols":[]}},"copilotInfo":{"documentationUrl":"https://docs.github.com/copilot/overview-of-github-copilot/about-github-copilot-for-business","notices":{"codeViewPopover":{"dismissed":false,"dismissPath":"/orgs/UCLAIS/dismiss_notice?input%5Bnotice%5D=code_view_org_copilot_popover\u0026input%5BorganizationId%5D=61075473"}},"userAccess":{"accessAllowed":true,"hasSubscriptionEnded":false,"orgHasCFBAccess":false,"userHasCFIAccess":true,"userHasOrgs":true,"userIsOrgAdmin":false,"userIsOrgMember":true,"business":null,"featureRequestInfo":{"showFeatureRequest":true,"alreadyRequested":false,"featureName":"copilot_for_business","requestPath":"/orgs/UCLAIS/member_feature_request"}}},"copilotAccessAllowed":false,"csrf_tokens":{"/UCLAIS/ML-Tutorials-Season-4-In-Progress/branches":{"post":"1CmWhrlU37eK0F1Eli2xBlm7pcHBTS-JqOz2Acqtp-3yaFwAn7_87O-c5lvDxNUniu-WEgrj3hCE9H0plME2hg"},"/repos/preferences":{"post":"1PIk1lPI4sLezYbpZyQNcAkhZC0P3aKXko_g1HdRBVkZN-hrLMwYGzu9wiiDfnNhrR2WrU_g2sN7-J7zU7eifg"}}},"title":"ML-Tutorials-Season-4-In-Progress/week-2/polynomial_regression.ipynb at main · UCLAIS/ML-Tutorials-Season-4-In-Progress","appPayload":{"helpUrl":"https://docs.github.com","findFileWorkerPath":"/assets-cdn/worker/find-file-worker-3722b59160bc.js","findInFileWorkerPath":"/assets-cdn/worker/find-in-file-worker-b812db9596b1.js","githubDevUrl":"https://github.dev/","enabled_features":{"code_nav_ui_events":false,"copilot_conversational_ux":false,"copilot_conversational_ux_embedding_update":false,"copilot_conversational_ux_streaming":true,"copilot_popover_file_editor_header":true,"copilot_smell_icebreaker_ux":false}}}</script>
  <div data-target="react-app.reactRoot"><style data-styled="true" data-styled-version="5.3.6">.fNPcqd{font-weight:600;font-size:32px;margin:0;font-size:14px;}/*!sc*/
.imcwCi{font-weight:600;font-size:32px;margin:0;font-size:16px;margin-left:8px;}/*!sc*/
.cgQnMS{font-weight:600;font-size:32px;margin:0;}/*!sc*/
.diwsLq{font-weight:600;font-size:32px;margin:0;font-weight:600;display:inline-block;max-width:100%;font-size:16px;}/*!sc*/
.jAEDJk{font-weight:600;font-size:32px;margin:0;font-weight:600;display:inline-block;max-width:100%;font-size:14px;}/*!sc*/
data-styled.g1[id="Heading__StyledHeading-sc-1c1dgg0-0"]{content:"fNPcqd,imcwCi,cgQnMS,diwsLq,jAEDJk,"}/*!sc*/
.fSWWem{padding:0;}/*!sc*/
.kPPmzM{max-width:100%;margin-left:auto;margin-right:auto;display:-webkit-box;display:-webkit-flex;display:-ms-flexbox;display:flex;-webkit-flex-wrap:wrap;-ms-flex-wrap:wrap;flex-wrap:wrap;}/*!sc*/
.cIAPDV{display:-webkit-box;display:-webkit-flex;display:-ms-flexbox;display:flex;-webkit-flex:1 1 100%;-ms-flex:1 1 100%;flex:1 1 100%;-webkit-flex-wrap:wrap;-ms-flex-wrap:wrap;flex-wrap:wrap;max-width:100%;}/*!sc*/
.gvCnwW{width:100%;}/*!sc*/
@media screen and (min-width:544px){.gvCnwW{width:100%;}}/*!sc*/
@media screen and (min-width:768px){.gvCnwW{width:auto;}}/*!sc*/
.kFEKvZ{display:-webkit-box;display:-webkit-flex;display:-ms-flexbox;display:flex;-webkit-order:1;-ms-flex-order:1;order:1;width:100%;margin-left:0;margin-right:0;-webkit-flex-direction:column;-ms-flex-direction:column;flex-direction:column;margin-bottom:0;min-width:0;}/*!sc*/
@media screen and (min-width:544px){.kFEKvZ{-webkit-flex-direction:column;-ms-flex-direction:column;flex-direction:column;}}/*!sc*/
@media screen and (min-width:768px){.kFEKvZ{width:auto;margin-top:0 !important;margin-bottom:0 !important;position:-webkit-sticky;position:sticky;top:0px;max-height:var(--sticky-pane-height);-webkit-flex-direction:row-reverse;-ms-flex-direction:row-reverse;flex-direction:row-reverse;margin-right:0;}}/*!sc*/
@media screen and (min-width:769px){.kFEKvZ{height:100vh;max-height:100vh !important;}}/*!sc*/
@media print,screen and (max-width:1349px) and (min-width:768px){.kFEKvZ{display:none;}}/*!sc*/
.eUyHuk{margin-left:0;margin-right:0;display:none;margin-top:0;}/*!sc*/
@media screen and (min-width:768px){.eUyHuk{margin-left:0 !important;margin-right:0 !important;}}/*!sc*/
.hAeDYA{height:100%;position:relative;display:none;margin-left:0;}/*!sc*/
.dZCkhR{position:absolute;inset:0 -2px;cursor:col-resize;background-color:transparent;-webkit-transition-delay:0.1s;transition-delay:0.1s;}/*!sc*/
.dZCkhR:hover{background-color:rgba(110,118,129,0.4);}/*!sc*/
.gNdDUH{--pane-min-width:256px;--pane-max-width-diff:511px;--pane-max-width:calc(100vw - var(--pane-max-width-diff));width:100%;padding:0;}/*!sc*/
@media screen and (min-width:544px){}/*!sc*/
@media screen and (min-width:768px){.gNdDUH{width:clamp(var(--pane-min-width),var(--pane-width),var(--pane-max-width));overflow:auto;}}/*!sc*/
@media screen and (min-width:1280px){.gNdDUH{--pane-max-width-diff:959px;}}/*!sc*/
.jywUSN{max-height:100%;height:100%;display:-webkit-box;display:-webkit-flex;display:-ms-flexbox;display:flex;-webkit-flex-direction:column;-ms-flex-direction:column;flex-direction:column;}/*!sc*/
@media screen and (max-width:768px){.jywUSN{display:none;}}/*!sc*/
@media screen and (min-width:768px){.jywUSN{max-height:100vh;height:100vh;}}/*!sc*/
.hBSSUC{display:-webkit-box;display:-webkit-flex;display:-ms-flexbox;display:flex;-webkit-flex-direction:column;-ms-flex-direction:column;flex-direction:column;-webkit-align-items:center;-webkit-box-align:center;-ms-flex-align:center;align-items:center;padding-left:16px;padding-right:16px;padding-bottom:8px;padding-top:16px;}/*!sc*/
.iPurHz{display:-webkit-box;display:-webkit-flex;display:-ms-flexbox;display:flex;width:100%;margin-bottom:16px;-webkit-align-items:center;-webkit-box-align:center;-ms-flex-align:center;align-items:center;}/*!sc*/
.kkrdEu{-webkit-box-pack:center;-webkit-justify-content:center;-ms-flex-pack:center;justify-content:center;}/*!sc*/
.trpoQ{display:-webkit-box;display:-webkit-flex;display:-ms-flexbox;display:flex;pointer-events:none;}/*!sc*/
.hVHHYa{margin-left:24px;margin-right:24px;display:-webkit-box;display:-webkit-flex;display:-ms-flexbox;display:flex;width:100%;}/*!sc*/
.idZfsJ{-webkit-box-flex:1;-webkit-flex-grow:1;-ms-flex-positive:1;flex-grow:1;}/*!sc*/
.bKgizp{display:-webkit-box;display:-webkit-flex;display:-ms-flexbox;display:flex;width:100%;}/*!sc*/
.bwTunw{margin-right:4px;color:#7d8590;}/*!sc*/
.caeYDk{font-size:14px;min-width:0;overflow:hidden;text-overflow:ellipsis;white-space:nowrap;}/*!sc*/
.jahcnb{margin-left:8px;white-space:nowrap;}/*!sc*/
.jahcnb:hover button:not(:hover){border-left-color:var(--button-default-borderColor-hover,var(--color-btn-hover-border));}/*!sc*/
.ccToMy{margin-left:16px;margin-right:16px;margin-bottom:12px;}/*!sc*/
@media screen and (max-width:768px){.ccToMy{display:none;}}/*!sc*/
.cNvKlH{margin-right:-6px;}/*!sc*/
.cLfAnm{-webkit-box-flex:1;-webkit-flex-grow:1;-ms-flex-positive:1;flex-grow:1;max-height:100% !important;overflow-y:auto;-webkit-scrollbar-gutter:stable;-moz-scrollbar-gutter:stable;-ms-scrollbar-gutter:stable;scrollbar-gutter:stable;}/*!sc*/
@media screen and (max-width:768px){.cLfAnm{display:none;}}/*!sc*/
.erWCJP{padding-left:16px;padding-right:16px;padding-bottom:8px;}/*!sc*/
@media (min-height:600px) and (min-width:768px){.hwhShM{display:none;}}/*!sc*/
.cYPxpP{margin-top:8px;margin-left:16px;margin-right:16px;margin-bottom:12px;font-size:12px;-webkit-align-items:center;-webkit-box-align:center;-ms-flex-align:center;align-items:center;}/*!sc*/
@media (max-height:599px),(max-width:767px){.fBtiVT{display:none;}}/*!sc*/
.emFMJu{display:-webkit-box;display:-webkit-flex;display:-ms-flexbox;display:flex;-webkit-flex-direction:column;-ms-flex-direction:column;flex-direction:column;-webkit-order:2;-ms-flex-order:2;order:2;-webkit-flex-basis:0;-ms-flex-preferred-size:0;flex-basis:0;-webkit-box-flex:1;-webkit-flex-grow:1;-ms-flex-positive:1;flex-grow:1;-webkit-flex-shrink:1;-ms-flex-negative:1;flex-shrink:1;min-width:1px;margin-right:auto;}/*!sc*/
@media print{.emFMJu{display:-webkit-box !important;display:-webkit-flex !important;display:-ms-flexbox !important;display:flex !important;}}/*!sc*/
.hlUAHL{width:100%;max-width:100%;margin-left:auto;margin-right:auto;-webkit-box-flex:1;-webkit-flex-grow:1;-ms-flex-positive:1;flex-grow:1;padding:0;}/*!sc*/
.iStsmI{margin-left:auto;margin-right:auto;-webkit-flex-direction:column;-ms-flex-direction:column;flex-direction:column;padding-bottom:40px;max-width:100%;margin-top:0;}/*!sc*/
.eIgvIk{display:inherit;}/*!sc*/
.eVFfWF{width:100%;}/*!sc*/
.kgXdnT{padding:16px;padding-bottom:0;}/*!sc*/
.kzTa-dF{display:-webkit-box;display:-webkit-flex;display:-ms-flexbox;display:flex;-webkit-flex-direction:column;-ms-flex-direction:column;flex-direction:column;-webkit-box-pack:justify;-webkit-justify-content:space-between;-ms-flex-pack:justify;justify-content:space-between;gap:16px;width:100%;}/*!sc*/
.bbXCl{display:-webkit-box;display:-webkit-flex;display:-ms-flexbox;display:flex;-webkit-flex-direction:row;-ms-flex-direction:row;flex-direction:row;-webkit-align-items:start;-webkit-box-align:start;-ms-flex-align:start;align-items:start;-webkit-box-pack:justify;-webkit-justify-content:space-between;-ms-flex-pack:justify;justify-content:space-between;}/*!sc*/
.hGGMNu{display:-webkit-box;display:-webkit-flex;display:-ms-flexbox;display:flex;-webkit-flex-direction:row;-ms-flex-direction:row;flex-direction:row;-webkit-align-items:start;-webkit-box-align:start;-ms-flex-align:start;align-items:start;-webkit-box-pack:justify;-webkit-justify-content:space-between;-ms-flex-pack:justify;justify-content:space-between;justify-self:flex-end;}/*!sc*/
.eHRrYV{margin-left:8px;margin-right:8px;}/*!sc*/
.dKmYfk{font-size:14px;min-width:0;max-width:125px;overflow:hidden;text-overflow:ellipsis;white-space:nowrap;}/*!sc*/
.hSNzKh{justify-self:end;max-width:100%;}/*!sc*/
.eTvGbF{display:-webkit-box;display:-webkit-flex;display:-ms-flexbox;display:flex;-webkit-flex-direction:row;-ms-flex-direction:row;flex-direction:row;font-size:16px;min-width:0;-webkit-flex-shrink:1;-ms-flex-negative:1;flex-shrink:1;-webkit-flex-wrap:wrap;-ms-flex-wrap:wrap;flex-wrap:wrap;max-width:100%;-webkit-align-items:center;-webkit-box-align:center;-ms-flex-align:center;align-items:center;}/*!sc*/
.kzRgrI{max-width:100%;}/*!sc*/
.cmAPIB{max-width:100%;list-style:none;display:inline-block;}/*!sc*/
.jwXCBK{display:inline-block;max-width:100%;}/*!sc*/
.bDwCYs{padding:16px;padding-bottom:0;padding-left:16px;padding-right:16px;}/*!sc*/
.fywjmm{display:-webkit-box;display:-webkit-flex;display:-ms-flexbox;display:flex;gap:8px;-webkit-flex-direction:column;-ms-flex-direction:column;flex-direction:column;width:100%;}/*!sc*/
.dyczTK{display:-webkit-box;display:-webkit-flex;display:-ms-flexbox;display:flex;-webkit-align-items:start;-webkit-box-align:start;-ms-flex-align:start;align-items:start;-webkit-box-pack:justify;-webkit-justify-content:space-between;-ms-flex-pack:justify;justify-content:space-between;gap:8px;}/*!sc*/
.kszRgZ{-webkit-align-self:center;-ms-flex-item-align:center;align-self:center;display:-webkit-box;display:-webkit-flex;display:-ms-flexbox;display:flex;padding-right:8px;min-width:0;}/*!sc*/
.gtBUEp{min-height:32px;display:-webkit-box;display:-webkit-flex;display:-ms-flexbox;display:flex;-webkit-align-items:start;-webkit-box-align:start;-ms-flex-align:start;align-items:start;}/*!sc*/
.MERGN{margin-left:16px;margin-right:16px;}/*!sc*/
@media screen and (min-width:1440px){.MERGN{margin-left:16px;}}/*!sc*/
.cMYnca{display:-webkit-box;display:-webkit-flex;display:-ms-flexbox;display:flex;-webkit-flex-direction:column;-ms-flex-direction:column;flex-direction:column;}/*!sc*/
.brFBoI{display:-webkit-box;display:-webkit-flex;display:-ms-flexbox;display:flex;-webkit-flex-direction:column;-ms-flex-direction:column;flex-direction:column;border:1px solid;border-color:#30363d;border-radius:6px;margin-bottom:16px;}/*!sc*/
.eYedVD{display:-webkit-box;display:-webkit-flex;display:-ms-flexbox;display:flex;-webkit-flex-direction:row;-ms-flex-direction:row;flex-direction:row;-webkit-box-pack:justify;-webkit-justify-content:space-between;-ms-flex-pack:justify;justify-content:space-between;-webkit-align-items:center;-webkit-box-align:center;-ms-flex-align:center;align-items:center;gap:8px;min-width:273px;padding-right:8px;padding-left:16px;padding-top:8px;padding-bottom:8px;}/*!sc*/
.jGfYmh{display:-webkit-box;display:-webkit-flex;display:-ms-flexbox;display:flex;gap:8px;}/*!sc*/
.lhFvfi{display:-webkit-box;display:-webkit-flex;display:-ms-flexbox;display:flex;-webkit-align-items:center;-webkit-box-align:center;-ms-flex-align:center;align-items:center;}/*!sc*/
.bqgLjk{display:inherit;}/*!sc*/
@media screen and (min-width:544px){.bqgLjk{display:none;}}/*!sc*/
@media screen and (min-width:768px){.bqgLjk{display:none;}}/*!sc*/
.iJmJly{display:-webkit-box;display:-webkit-flex;display:-ms-flexbox;display:flex;-webkit-flex-direction:row;-ms-flex-direction:row;flex-direction:row;}/*!sc*/
.jACbi{width:100%;height:-webkit-fit-content;height:-moz-fit-content;height:fit-content;min-width:0;margin-right:0;}/*!sc*/
.bSdwWB{padding-left:4px;padding-bottom:16px;}/*!sc*/
.fleZSW{-webkit-align-items:center;-webkit-box-align:center;-ms-flex-align:center;align-items:center;}/*!sc*/
.fOEJrA{font-size:12px;-webkit-flex:auto;-ms-flex:auto;flex:auto;padding-right:16px;color:#7d8590;min-width:0;}/*!sc*/
.gBKNLX{top:0px;z-index:1;background:var(--color-canvas-default);position:-webkit-sticky;position:sticky;}/*!sc*/
.ePiodO{display:-webkit-box;display:-webkit-flex;display:-ms-flexbox;display:flex;-webkit-flex-direction:column;-ms-flex-direction:column;flex-direction:column;width:100%;position:absolute;}/*!sc*/
.kQJlnf{display:none;min-width:0;padding-top:8px;padding-bottom:8px;}/*!sc*/
.gJICKO{margin-right:8px;margin-left:16px;text-overflow:ellipsis;overflow:hidden;display:-webkit-box;display:-webkit-flex;display:-ms-flexbox;display:flex;-webkit-flex-direction:row;-ms-flex-direction:row;flex-direction:row;-webkit-align-items:center;-webkit-box-align:center;-ms-flex-align:center;align-items:center;-webkit-box-pack:justify;-webkit-justify-content:space-between;-ms-flex-pack:justify;justify-content:space-between;width:100%;}/*!sc*/
.iZJewz{display:-webkit-box;display:-webkit-flex;display:-ms-flexbox;display:flex;-webkit-flex-direction:row;-ms-flex-direction:row;flex-direction:row;font-size:14px;min-width:0;-webkit-flex-shrink:1;-ms-flex-negative:1;flex-shrink:1;-webkit-flex-wrap:wrap;-ms-flex-wrap:wrap;flex-wrap:wrap;max-width:100%;-webkit-align-items:center;-webkit-box-align:center;-ms-flex-align:center;align-items:center;}/*!sc*/
.bESQXL{padding-left:8px;padding-top:8px;padding-bottom:8px;display:-webkit-box;display:-webkit-flex;display:-ms-flexbox;display:flex;-webkit-flex:1;-ms-flex:1;flex:1;-webkit-align-items:center;-webkit-box-align:center;-ms-flex-align:center;align-items:center;-webkit-box-pack:justify;-webkit-justify-content:space-between;-ms-flex-pack:justify;justify-content:space-between;background-color:#161b22;border:1px solid var(--borderColor-default,var(--color-border-default));border-radius:6px 6px 0px 0px;}/*!sc*/
.bfkNRF{display:-webkit-box;display:-webkit-flex;display:-ms-flexbox;display:flex;-webkit-align-items:center;-webkit-box-align:center;-ms-flex-align:center;align-items:center;gap:8px;min-width:0;}/*!sc*/
.fXBLEV{display:block;position:relative;-webkit-box-flex:1;-webkit-flex-grow:1;-ms-flex-positive:1;flex-grow:1;margin-top:-1px;margin-bottom:-1px;--separator-color:transparent;}/*!sc*/
.fXBLEV:not(:last-child){margin-right:1px;}/*!sc*/
.fXBLEV:not(:last-child):after{background-color:var(--separator-color);content:"";position:absolute;right:-2px;top:8px;bottom:8px;width:1px;}/*!sc*/
.fXBLEV:focus-within:has(:focus-visible){--separator-color:transparent;}/*!sc*/
.fXBLEV:first-child{margin-left:-1px;}/*!sc*/
.fXBLEV:last-child{margin-right:-1px;}/*!sc*/
.gbKtit{display:block;position:relative;-webkit-box-flex:1;-webkit-flex-grow:1;-ms-flex-positive:1;flex-grow:1;margin-top:-1px;margin-bottom:-1px;--separator-color:#30363d;}/*!sc*/
.gbKtit:not(:last-child){margin-right:1px;}/*!sc*/
.gbKtit:not(:last-child):after{background-color:var(--separator-color);content:"";position:absolute;right:-2px;top:8px;bottom:8px;width:1px;}/*!sc*/
.gbKtit:focus-within:has(:focus-visible){--separator-color:transparent;}/*!sc*/
.gbKtit:first-child{margin-left:-1px;}/*!sc*/
.gbKtit:last-child{margin-right:-1px;}/*!sc*/
.iBylDf{display:-webkit-box;display:-webkit-flex;display:-ms-flexbox;display:flex;-webkit-align-items:center;-webkit-box-align:center;-ms-flex-align:center;align-items:center;gap:8px;margin-right:8px;}/*!sc*/
.kSGBPx{gap:8px;}/*!sc*/
.etfROT{border:1px solid;border-top:none;border-color:#30363d;border-radius:0px 0px 6px 6px;min-width:273px;}/*!sc*/
.eJsjkT{background-color:var(--bgColor-default,var(--color-canvas-default));border:0px;border-width:0;border-radius:0px 0px 6px 6px;padding:0;min-width:0;margin-top:46px;overflow:auto;}/*!sc*/
.aZrVR{position:fixed;top:0;right:0;height:100%;width:15px;-webkit-transition:-webkit-transform 0.3s;-webkit-transition:transform 0.3s;transition:transform 0.3s;z-index:1;}/*!sc*/
.aZrVR:hover{-webkit-transform:scaleX(1.5);-ms-transform:scaleX(1.5);transform:scaleX(1.5);}/*!sc*/
.bAzdCq{display:-webkit-box;display:-webkit-flex;display:-ms-flexbox;display:flex;-webkit-flex-direction:column;-ms-flex-direction:column;flex-direction:column;-webkit-align-items:center;-webkit-box-align:center;-ms-flex-align:center;align-items:center;padding-top:16px;padding-bottom:16px;}/*!sc*/
data-styled.g2[id="Box-sc-g0xbh4-0"]{content:"fSWWem,kPPmzM,cIAPDV,gvCnwW,kFEKvZ,eUyHuk,hAeDYA,dZCkhR,gNdDUH,jywUSN,hBSSUC,iPurHz,kkrdEu,trpoQ,hVHHYa,idZfsJ,bKgizp,bwTunw,caeYDk,jahcnb,ccToMy,cNvKlH,cLfAnm,erWCJP,hwhShM,cYPxpP,fBtiVT,emFMJu,hlUAHL,iStsmI,eIgvIk,eVFfWF,kgXdnT,kzTa-dF,bbXCl,hGGMNu,eHRrYV,dKmYfk,hSNzKh,eTvGbF,kzRgrI,cmAPIB,jwXCBK,bDwCYs,fywjmm,dyczTK,kszRgZ,gtBUEp,MERGN,cMYnca,brFBoI,eYedVD,jGfYmh,lhFvfi,bqgLjk,iJmJly,jACbi,bSdwWB,fleZSW,fOEJrA,gBKNLX,ePiodO,kQJlnf,gJICKO,iZJewz,bESQXL,bfkNRF,fXBLEV,gbKtit,iBylDf,kSGBPx,etfROT,eJsjkT,aZrVR,bAzdCq,"}/*!sc*/
.rTZSs{position:absolute;width:1px;height:1px;padding:0;margin:-1px;overflow:hidden;-webkit-clip:rect(0,0,0,0);clip:rect(0,0,0,0);white-space:nowrap;border-width:0;}/*!sc*/
data-styled.g4[id="_VisuallyHidden__VisuallyHidden-sc-11jhm7a-0"]{content:"rTZSs,"}/*!sc*/
.fUpWeN{display:inline-block;overflow:hidden;text-overflow:ellipsis;vertical-align:top;white-space:nowrap;max-width:125px;max-width:100%;}/*!sc*/
data-styled.g6[id="Truncate__StyledTruncate-sc-23o1d2-0"]{content:"fUpWeN,"}/*!sc*/
.bJBoUI{color:#2f81f7;-webkit-text-decoration:none;text-decoration:none;}/*!sc*/
.bJBoUI:hover{-webkit-text-decoration:underline;text-decoration:underline;}/*!sc*/
.bJBoUI:is(button){display:inline-block;padding:0;font-size:inherit;white-space:nowrap;cursor:pointer;-webkit-user-select:none;-moz-user-select:none;-ms-user-select:none;user-select:none;background-color:transparent;border:0;-webkit-appearance:none;-moz-appearance:none;appearance:none;}/*!sc*/
.iJtJJh{color:#2f81f7;-webkit-text-decoration:none;text-decoration:none;font-weight:600;}/*!sc*/
.iJtJJh:hover{-webkit-text-decoration:underline;text-decoration:underline;}/*!sc*/
.iJtJJh:is(button){display:inline-block;padding:0;font-size:inherit;white-space:nowrap;cursor:pointer;-webkit-user-select:none;-moz-user-select:none;-ms-user-select:none;user-select:none;background-color:transparent;border:0;-webkit-appearance:none;-moz-appearance:none;appearance:none;}/*!sc*/
.hUWqlv{color:#2f81f7;-webkit-text-decoration:none;text-decoration:none;font-weight:400;}/*!sc*/
.hUWqlv:hover{-webkit-text-decoration:underline;text-decoration:underline;}/*!sc*/
.hUWqlv:is(button){display:inline-block;padding:0;font-size:inherit;white-space:nowrap;cursor:pointer;-webkit-user-select:none;-moz-user-select:none;-ms-user-select:none;user-select:none;background-color:transparent;border:0;-webkit-appearance:none;-moz-appearance:none;appearance:none;}/*!sc*/
data-styled.g8[id="Link__StyledLink-sc-14289xe-0"]{content:"bJBoUI,iJtJJh,hUWqlv,"}/*!sc*/
.hPEVNM{-webkit-animation:rotate-keyframes 1s linear infinite;animation:rotate-keyframes 1s linear infinite;}/*!sc*/
@-webkit-keyframes rotate-keyframes{100%{-webkit-transform:rotate(360deg);-ms-transform:rotate(360deg);transform:rotate(360deg);}}/*!sc*/
@keyframes rotate-keyframes{100%{-webkit-transform:rotate(360deg);-ms-transform:rotate(360deg);transform:rotate(360deg);}}/*!sc*/
data-styled.g25[id="Spinner__StyledSpinner-sc-1knt686-0"]{content:"hPEVNM,"}/*!sc*/
.hSXtjz{font-size:14px;line-height:20px;color:#e6edf3;vertical-align:middle;background-color:#0d1117;border:1px solid var(--control-borderColor-rest,#30363d);border-radius:6px;outline:none;box-shadow:0 0 transparent;display:-webkit-inline-box;display:-webkit-inline-flex;display:-ms-inline-flexbox;display:inline-flex;-webkit-align-items:stretch;-webkit-box-align:stretch;-ms-flex-align:stretch;align-items:stretch;min-height:32px;display:-webkit-box;display:-webkit-flex;display:-ms-flexbox;display:flex;min-width:200px;}/*!sc*/
.hSXtjz input,.hSXtjz textarea{cursor:text;}/*!sc*/
.hSXtjz select{cursor:pointer;}/*!sc*/
.hSXtjz::-webkit-input-placeholder{color:#6e7681;}/*!sc*/
.hSXtjz::-moz-placeholder{color:#6e7681;}/*!sc*/
.hSXtjz:-ms-input-placeholder{color:#6e7681;}/*!sc*/
.hSXtjz::placeholder{color:#6e7681;}/*!sc*/
.hSXtjz:focus-within{border-color:#2f81f7;outline:none;box-shadow:inset 0 0 0 1px #2f81f7;}/*!sc*/
.hSXtjz > textarea{padding:12px;}/*!sc*/
@media (min-width:768px){.hSXtjz{font-size:14px;}}/*!sc*/
data-styled.g26[id="TextInputWrapper__TextInputBaseWrapper-sc-1mqhpbi-0"]{content:"hSXtjz,"}/*!sc*/
.hZMmEi{background-repeat:no-repeat;background-position:right 8px center;padding-left:12px;padding-right:12px;display:-webkit-box;display:-webkit-flex;display:-ms-flexbox;display:flex;min-width:200px;}/*!sc*/
.hZMmEi > :not(:last-child){margin-right:8px;}/*!sc*/
.hZMmEi .TextInput-icon,.hZMmEi .TextInput-action{-webkit-align-self:center;-ms-flex-item-align:center;align-self:center;color:#7d8590;-webkit-flex-shrink:0;-ms-flex-negative:0;flex-shrink:0;}/*!sc*/
.hZMmEi > input,.hZMmEi > select{padding-left:0;padding-right:0;}/*!sc*/
data-styled.g27[id="TextInputWrapper-sc-1mqhpbi-1"]{content:"hZMmEi,"}/*!sc*/
.cmNjCr{border-radius:6px;border:1px solid;border-color:transparent;font-family:inherit;font-weight:500;font-size:14px;cursor:pointer;-webkit-appearance:none;-moz-appearance:none;appearance:none;-webkit-user-select:none;-moz-user-select:none;-ms-user-select:none;user-select:none;-webkit-text-decoration:none;text-decoration:none;text-align:center;display:-webkit-box;display:-webkit-flex;display:-ms-flexbox;display:flex;-webkit-align-items:center;-webkit-box-align:center;-ms-flex-align:center;align-items:center;-webkit-box-pack:justify;-webkit-justify-content:space-between;-ms-flex-pack:justify;justify-content:space-between;height:32px;padding:0 12px;gap:8px;min-width:-webkit-max-content;min-width:-moz-max-content;min-width:max-content;-webkit-transition:80ms cubic-bezier(0.65,0,0.35,1);transition:80ms cubic-bezier(0.65,0,0.35,1);-webkit-transition-property:color,fill,background-color,border-color;transition-property:color,fill,background-color,border-color;color:#2f81f7;background-color:transparent;box-shadow:none;}/*!sc*/
.cmNjCr:focus:not(:disabled){box-shadow:none;outline:2px solid #2f81f7;outline-offset:-2px;}/*!sc*/
.cmNjCr:focus:not(:disabled):not(:focus-visible){outline:solid 1px transparent;}/*!sc*/
.cmNjCr:focus-visible:not(:disabled){box-shadow:none;outline:2px solid #2f81f7;outline-offset:-2px;}/*!sc*/
.cmNjCr[href]{display:-webkit-inline-box;display:-webkit-inline-flex;display:-ms-inline-flexbox;display:inline-flex;}/*!sc*/
.cmNjCr[href]:hover{-webkit-text-decoration:none;text-decoration:none;}/*!sc*/
.cmNjCr:hover{-webkit-transition-duration:80ms;transition-duration:80ms;}/*!sc*/
.cmNjCr:active{-webkit-transition:none;transition:none;}/*!sc*/
.cmNjCr:disabled{cursor:not-allowed;box-shadow:none;color:#484f58;}/*!sc*/
.cmNjCr:disabled [data-component=ButtonCounter],.cmNjCr:disabled [data-component="leadingVisual"],.cmNjCr:disabled [data-component="trailingAction"]{color:inherit;}/*!sc*/
@media (forced-colors:active){.cmNjCr:focus{outline:solid 1px transparent;}}/*!sc*/
.cmNjCr [data-component=ButtonCounter]{font-size:12px;}/*!sc*/
.cmNjCr[data-component=IconButton]{display:inline-grid;padding:unset;place-content:center;width:32px;min-width:unset;}/*!sc*/
.cmNjCr[data-size="small"]{padding:0 8px;height:28px;gap:4px;font-size:12px;}/*!sc*/
.cmNjCr[data-size="small"] [data-component="text"]{line-height:calc(20 / 12);}/*!sc*/
.cmNjCr[data-size="small"] [data-component=ButtonCounter]{font-size:12px;}/*!sc*/
.cmNjCr[data-size="small"] [data-component="buttonContent"] > :not(:last-child){margin-right:4px;}/*!sc*/
.cmNjCr[data-size="small"][data-component=IconButton]{width:28px;padding:unset;}/*!sc*/
.cmNjCr[data-size="large"]{padding:0 16px;height:40px;gap:8px;}/*!sc*/
.cmNjCr[data-size="large"] [data-component="buttonContent"] > :not(:last-child){margin-right:8px;}/*!sc*/
.cmNjCr[data-size="large"][data-component=IconButton]{width:40px;padding:unset;}/*!sc*/
.cmNjCr[data-block="block"]{width:100%;}/*!sc*/
.cmNjCr [data-component="leadingVisual"]{grid-area:leadingVisual;color:#7d8590;}/*!sc*/
.cmNjCr [data-component="text"]{grid-area:text;line-height:calc(20/14);white-space:nowrap;}/*!sc*/
.cmNjCr [data-component="trailingVisual"]{grid-area:trailingVisual;}/*!sc*/
.cmNjCr [data-component="trailingAction"]{margin-right:-4px;color:#7d8590;}/*!sc*/
.cmNjCr [data-component="buttonContent"]{-webkit-flex:1 0 auto;-ms-flex:1 0 auto;flex:1 0 auto;display:grid;grid-template-areas:"leadingVisual text trailingVisual";grid-template-columns:min-content minmax(0,auto) min-content;-webkit-align-items:center;-webkit-box-align:center;-ms-flex-align:center;align-items:center;-webkit-align-content:center;-ms-flex-line-pack:center;align-content:center;}/*!sc*/
.cmNjCr [data-component="buttonContent"] > :not(:last-child){margin-right:8px;}/*!sc*/
.cmNjCr:hover:not([disabled]){background-color:#30363d;}/*!sc*/
.cmNjCr:active:not([disabled]){background-color:#161b22;}/*!sc*/
.cmNjCr[aria-expanded=true]{background-color:#161b22;}/*!sc*/
.cmNjCr[data-component="IconButton"][data-no-visuals]{color:#7d8590;}/*!sc*/
.cmNjCr[data-no-visuals]{color:#2f81f7;}/*!sc*/
.cmNjCr:has([data-component="ButtonCounter"]){color:#2f81f7;}/*!sc*/
.cmNjCr:disabled[data-no-visuals]{color:#484f58;}/*!sc*/
.cmNjCr:disabled[data-no-visuals] [data-component=ButtonCounter]{color:inherit;}/*!sc*/
.cmNjCr{color:#7d8590;padding-left:8px;padding-right:8px;display:none;}/*!sc*/
@media screen and (max-width:768px){.cmNjCr{display:block;}}/*!sc*/
.jHkYUy{border-radius:6px;border:1px solid;border-color:transparent;font-family:inherit;font-weight:500;font-size:14px;cursor:pointer;-webkit-appearance:none;-moz-appearance:none;appearance:none;-webkit-user-select:none;-moz-user-select:none;-ms-user-select:none;user-select:none;-webkit-text-decoration:none;text-decoration:none;text-align:center;display:-webkit-box;display:-webkit-flex;display:-ms-flexbox;display:flex;-webkit-align-items:center;-webkit-box-align:center;-ms-flex-align:center;align-items:center;-webkit-box-pack:justify;-webkit-justify-content:space-between;-ms-flex-pack:justify;justify-content:space-between;height:32px;padding:0 12px;gap:8px;min-width:-webkit-max-content;min-width:-moz-max-content;min-width:max-content;-webkit-transition:80ms cubic-bezier(0.65,0,0.35,1);transition:80ms cubic-bezier(0.65,0,0.35,1);-webkit-transition-property:color,fill,background-color,border-color;transition-property:color,fill,background-color,border-color;color:#2f81f7;background-color:transparent;box-shadow:none;}/*!sc*/
.jHkYUy:focus:not(:disabled){box-shadow:none;outline:2px solid #2f81f7;outline-offset:-2px;}/*!sc*/
.jHkYUy:focus:not(:disabled):not(:focus-visible){outline:solid 1px transparent;}/*!sc*/
.jHkYUy:focus-visible:not(:disabled){box-shadow:none;outline:2px solid #2f81f7;outline-offset:-2px;}/*!sc*/
.jHkYUy[href]{display:-webkit-inline-box;display:-webkit-inline-flex;display:-ms-inline-flexbox;display:inline-flex;}/*!sc*/
.jHkYUy[href]:hover{-webkit-text-decoration:none;text-decoration:none;}/*!sc*/
.jHkYUy:hover{-webkit-transition-duration:80ms;transition-duration:80ms;}/*!sc*/
.jHkYUy:active{-webkit-transition:none;transition:none;}/*!sc*/
.jHkYUy:disabled{cursor:not-allowed;box-shadow:none;color:#484f58;}/*!sc*/
.jHkYUy:disabled [data-component=ButtonCounter],.jHkYUy:disabled [data-component="leadingVisual"],.jHkYUy:disabled [data-component="trailingAction"]{color:inherit;}/*!sc*/
@media (forced-colors:active){.jHkYUy:focus{outline:solid 1px transparent;}}/*!sc*/
.jHkYUy [data-component=ButtonCounter]{font-size:12px;}/*!sc*/
.jHkYUy[data-component=IconButton]{display:inline-grid;padding:unset;place-content:center;width:32px;min-width:unset;}/*!sc*/
.jHkYUy[data-size="small"]{padding:0 8px;height:28px;gap:4px;font-size:12px;}/*!sc*/
.jHkYUy[data-size="small"] [data-component="text"]{line-height:calc(20 / 12);}/*!sc*/
.jHkYUy[data-size="small"] [data-component=ButtonCounter]{font-size:12px;}/*!sc*/
.jHkYUy[data-size="small"] [data-component="buttonContent"] > :not(:last-child){margin-right:4px;}/*!sc*/
.jHkYUy[data-size="small"][data-component=IconButton]{width:28px;padding:unset;}/*!sc*/
.jHkYUy[data-size="large"]{padding:0 16px;height:40px;gap:8px;}/*!sc*/
.jHkYUy[data-size="large"] [data-component="buttonContent"] > :not(:last-child){margin-right:8px;}/*!sc*/
.jHkYUy[data-size="large"][data-component=IconButton]{width:40px;padding:unset;}/*!sc*/
.jHkYUy[data-block="block"]{width:100%;}/*!sc*/
.jHkYUy [data-component="leadingVisual"]{grid-area:leadingVisual;color:#7d8590;}/*!sc*/
.jHkYUy [data-component="text"]{grid-area:text;line-height:calc(20/14);white-space:nowrap;}/*!sc*/
.jHkYUy [data-component="trailingVisual"]{grid-area:trailingVisual;}/*!sc*/
.jHkYUy [data-component="trailingAction"]{margin-right:-4px;color:#7d8590;}/*!sc*/
.jHkYUy [data-component="buttonContent"]{-webkit-flex:1 0 auto;-ms-flex:1 0 auto;flex:1 0 auto;display:grid;grid-template-areas:"leadingVisual text trailingVisual";grid-template-columns:min-content minmax(0,auto) min-content;-webkit-align-items:center;-webkit-box-align:center;-ms-flex-align:center;align-items:center;-webkit-align-content:center;-ms-flex-line-pack:center;align-content:center;}/*!sc*/
.jHkYUy [data-component="buttonContent"] > :not(:last-child){margin-right:8px;}/*!sc*/
.jHkYUy:hover:not([disabled]){background-color:#30363d;}/*!sc*/
.jHkYUy:active:not([disabled]){background-color:#161b22;}/*!sc*/
.jHkYUy[aria-expanded=true]{background-color:#161b22;}/*!sc*/
.jHkYUy[data-component="IconButton"][data-no-visuals]{color:#7d8590;}/*!sc*/
.jHkYUy[data-no-visuals]{color:#7d8590;height:32px;position:relative;}/*!sc*/
@media screen and (max-width:768px){.jHkYUy[data-no-visuals]{display:none;}}/*!sc*/
.jHkYUy:has([data-component="ButtonCounter"]){color:#2f81f7;}/*!sc*/
.jHkYUy:disabled[data-no-visuals]{color:#484f58;}/*!sc*/
.jHkYUy:disabled[data-no-visuals] [data-component=ButtonCounter]{color:inherit;}/*!sc*/
.fyVJEC{border-radius:6px;border:1px solid;border-color:rgba(240,246,252,0.1);font-family:inherit;font-weight:500;font-size:14px;cursor:pointer;-webkit-appearance:none;-moz-appearance:none;appearance:none;-webkit-user-select:none;-moz-user-select:none;-ms-user-select:none;user-select:none;-webkit-text-decoration:none;text-decoration:none;text-align:center;display:-webkit-box;display:-webkit-flex;display:-ms-flexbox;display:flex;-webkit-align-items:center;-webkit-box-align:center;-ms-flex-align:center;align-items:center;-webkit-box-pack:justify;-webkit-justify-content:space-between;-ms-flex-pack:justify;justify-content:space-between;height:32px;padding:0 12px;gap:8px;min-width:-webkit-max-content;min-width:-moz-max-content;min-width:max-content;-webkit-transition:80ms cubic-bezier(0.65,0,0.35,1);transition:80ms cubic-bezier(0.65,0,0.35,1);-webkit-transition-property:color,fill,background-color,border-color;transition-property:color,fill,background-color,border-color;color:#c9d1d9;background-color:#21262d;box-shadow:0 0 transparent,0 0 transparent;}/*!sc*/
.fyVJEC:focus:not(:disabled){box-shadow:none;outline:2px solid #2f81f7;outline-offset:-2px;}/*!sc*/
.fyVJEC:focus:not(:disabled):not(:focus-visible){outline:solid 1px transparent;}/*!sc*/
.fyVJEC:focus-visible:not(:disabled){box-shadow:none;outline:2px solid #2f81f7;outline-offset:-2px;}/*!sc*/
.fyVJEC[href]{display:-webkit-inline-box;display:-webkit-inline-flex;display:-ms-inline-flexbox;display:inline-flex;}/*!sc*/
.fyVJEC[href]:hover{-webkit-text-decoration:none;text-decoration:none;}/*!sc*/
.fyVJEC:hover{-webkit-transition-duration:80ms;transition-duration:80ms;}/*!sc*/
.fyVJEC:active{-webkit-transition:none;transition:none;}/*!sc*/
.fyVJEC:disabled{cursor:not-allowed;box-shadow:none;color:#484f58;}/*!sc*/
.fyVJEC:disabled [data-component=ButtonCounter]{color:inherit;}/*!sc*/
@media (forced-colors:active){.fyVJEC:focus{outline:solid 1px transparent;}}/*!sc*/
.fyVJEC [data-component=ButtonCounter]{font-size:12px;}/*!sc*/
.fyVJEC[data-component=IconButton]{display:inline-grid;padding:unset;place-content:center;width:32px;min-width:unset;}/*!sc*/
.fyVJEC[data-size="small"]{padding:0 8px;height:28px;gap:4px;font-size:12px;}/*!sc*/
.fyVJEC[data-size="small"] [data-component="text"]{line-height:calc(20 / 12);}/*!sc*/
.fyVJEC[data-size="small"] [data-component=ButtonCounter]{font-size:12px;}/*!sc*/
.fyVJEC[data-size="small"] [data-component="buttonContent"] > :not(:last-child){margin-right:4px;}/*!sc*/
.fyVJEC[data-size="small"][data-component=IconButton]{width:28px;padding:unset;}/*!sc*/
.fyVJEC[data-size="large"]{padding:0 16px;height:40px;gap:8px;}/*!sc*/
.fyVJEC[data-size="large"] [data-component="buttonContent"] > :not(:last-child){margin-right:8px;}/*!sc*/
.fyVJEC[data-size="large"][data-component=IconButton]{width:40px;padding:unset;}/*!sc*/
.fyVJEC[data-block="block"]{width:100%;}/*!sc*/
.fyVJEC [data-component="leadingVisual"]{grid-area:leadingVisual;}/*!sc*/
.fyVJEC [data-component="text"]{grid-area:text;line-height:calc(20/14);white-space:nowrap;}/*!sc*/
.fyVJEC [data-component="trailingVisual"]{grid-area:trailingVisual;}/*!sc*/
.fyVJEC [data-component="trailingAction"]{margin-right:-4px;}/*!sc*/
.fyVJEC [data-component="buttonContent"]{-webkit-flex:1 0 auto;-ms-flex:1 0 auto;flex:1 0 auto;display:grid;grid-template-areas:"leadingVisual text trailingVisual";grid-template-columns:min-content minmax(0,auto) min-content;-webkit-align-items:center;-webkit-box-align:center;-ms-flex-align:center;align-items:center;-webkit-align-content:center;-ms-flex-line-pack:center;align-content:center;}/*!sc*/
.fyVJEC [data-component="buttonContent"] > :not(:last-child){margin-right:8px;}/*!sc*/
.fyVJEC:hover:not([disabled]){background-color:#30363d;border-color:#8b949e;}/*!sc*/
.fyVJEC:active:not([disabled]){background-color:hsla(212,12%,18%,1);border-color:#6e7681;}/*!sc*/
.fyVJEC[aria-expanded=true]{background-color:hsla(212,12%,18%,1);border-color:#6e7681;}/*!sc*/
.fyVJEC [data-component="leadingVisual"],.fyVJEC [data-component="trailingVisual"],.fyVJEC [data-component="trailingAction"]{color:var(--button-color,#7d8590);}/*!sc*/
.fyVJEC{display:-webkit-box;display:-webkit-flex;display:-ms-flexbox;display:flex;min-width:0;}/*!sc*/
.fyVJEC svg{color:#7d8590;}/*!sc*/
.fyVJEC > span{width:inherit;}/*!sc*/
.klnJmI{border-radius:6px;border:1px solid;border-color:rgba(240,246,252,0.1);font-family:inherit;font-weight:500;font-size:14px;cursor:pointer;-webkit-appearance:none;-moz-appearance:none;appearance:none;-webkit-user-select:none;-moz-user-select:none;-ms-user-select:none;user-select:none;-webkit-text-decoration:none;text-decoration:none;text-align:center;display:-webkit-box;display:-webkit-flex;display:-ms-flexbox;display:flex;-webkit-align-items:center;-webkit-box-align:center;-ms-flex-align:center;align-items:center;-webkit-box-pack:justify;-webkit-justify-content:space-between;-ms-flex-pack:justify;justify-content:space-between;height:32px;padding:0 12px;gap:8px;min-width:-webkit-max-content;min-width:-moz-max-content;min-width:max-content;-webkit-transition:80ms cubic-bezier(0.65,0,0.35,1);transition:80ms cubic-bezier(0.65,0,0.35,1);-webkit-transition-property:color,fill,background-color,border-color;transition-property:color,fill,background-color,border-color;color:#c9d1d9;background-color:#21262d;box-shadow:0 0 transparent,0 0 transparent;}/*!sc*/
.klnJmI:focus:not(:disabled){box-shadow:none;outline:2px solid #2f81f7;outline-offset:-2px;}/*!sc*/
.klnJmI:focus:not(:disabled):not(:focus-visible){outline:solid 1px transparent;}/*!sc*/
.klnJmI:focus-visible:not(:disabled){box-shadow:none;outline:2px solid #2f81f7;outline-offset:-2px;}/*!sc*/
.klnJmI[href]{display:-webkit-inline-box;display:-webkit-inline-flex;display:-ms-inline-flexbox;display:inline-flex;}/*!sc*/
.klnJmI[href]:hover{-webkit-text-decoration:none;text-decoration:none;}/*!sc*/
.klnJmI:hover{-webkit-transition-duration:80ms;transition-duration:80ms;}/*!sc*/
.klnJmI:active{-webkit-transition:none;transition:none;}/*!sc*/
.klnJmI:disabled{cursor:not-allowed;box-shadow:none;color:#484f58;}/*!sc*/
.klnJmI:disabled [data-component=ButtonCounter]{color:inherit;}/*!sc*/
@media (forced-colors:active){.klnJmI:focus{outline:solid 1px transparent;}}/*!sc*/
.klnJmI [data-component=ButtonCounter]{font-size:12px;}/*!sc*/
.klnJmI[data-component=IconButton]{display:inline-grid;padding:unset;place-content:center;width:32px;min-width:unset;}/*!sc*/
.klnJmI[data-size="small"]{padding:0 8px;height:28px;gap:4px;font-size:12px;}/*!sc*/
.klnJmI[data-size="small"] [data-component="text"]{line-height:calc(20 / 12);}/*!sc*/
.klnJmI[data-size="small"] [data-component=ButtonCounter]{font-size:12px;}/*!sc*/
.klnJmI[data-size="small"] [data-component="buttonContent"] > :not(:last-child){margin-right:4px;}/*!sc*/
.klnJmI[data-size="small"][data-component=IconButton]{width:28px;padding:unset;}/*!sc*/
.klnJmI[data-size="large"]{padding:0 16px;height:40px;gap:8px;}/*!sc*/
.klnJmI[data-size="large"] [data-component="buttonContent"] > :not(:last-child){margin-right:8px;}/*!sc*/
.klnJmI[data-size="large"][data-component=IconButton]{width:40px;padding:unset;}/*!sc*/
.klnJmI[data-block="block"]{width:100%;}/*!sc*/
.klnJmI [data-component="leadingVisual"]{grid-area:leadingVisual;}/*!sc*/
.klnJmI [data-component="text"]{grid-area:text;line-height:calc(20/14);white-space:nowrap;}/*!sc*/
.klnJmI [data-component="trailingVisual"]{grid-area:trailingVisual;}/*!sc*/
.klnJmI [data-component="trailingAction"]{margin-right:-4px;}/*!sc*/
.klnJmI [data-component="buttonContent"]{-webkit-flex:1 0 auto;-ms-flex:1 0 auto;flex:1 0 auto;display:grid;grid-template-areas:"leadingVisual text trailingVisual";grid-template-columns:min-content minmax(0,auto) min-content;-webkit-align-items:center;-webkit-box-align:center;-ms-flex-align:center;align-items:center;-webkit-align-content:center;-ms-flex-line-pack:center;align-content:center;}/*!sc*/
.klnJmI [data-component="buttonContent"] > :not(:last-child){margin-right:8px;}/*!sc*/
.klnJmI:hover:not([disabled]){background-color:#30363d;border-color:#8b949e;}/*!sc*/
.klnJmI:active:not([disabled]){background-color:hsla(212,12%,18%,1);border-color:#6e7681;}/*!sc*/
.klnJmI[aria-expanded=true]{background-color:hsla(212,12%,18%,1);border-color:#6e7681;}/*!sc*/
.klnJmI [data-component="leadingVisual"],.klnJmI [data-component="trailingVisual"],.klnJmI [data-component="trailingAction"]{color:var(--button-color,#7d8590);}/*!sc*/
.klnJmI[data-no-visuals]{color:#6e7681;border-top-right-radius:0;border-bottom-right-radius:0;border-right:0;}/*!sc*/
.hlQbCG{border-radius:6px;border:1px solid;border-color:rgba(240,246,252,0.1);font-family:inherit;font-weight:500;font-size:14px;cursor:pointer;-webkit-appearance:none;-moz-appearance:none;appearance:none;-webkit-user-select:none;-moz-user-select:none;-ms-user-select:none;user-select:none;-webkit-text-decoration:none;text-decoration:none;text-align:center;display:-webkit-box;display:-webkit-flex;display:-ms-flexbox;display:flex;-webkit-align-items:center;-webkit-box-align:center;-ms-flex-align:center;align-items:center;-webkit-box-pack:justify;-webkit-justify-content:space-between;-ms-flex-pack:justify;justify-content:space-between;height:32px;padding:0 12px;gap:8px;min-width:-webkit-max-content;min-width:-moz-max-content;min-width:max-content;-webkit-transition:80ms cubic-bezier(0.65,0,0.35,1);transition:80ms cubic-bezier(0.65,0,0.35,1);-webkit-transition-property:color,fill,background-color,border-color;transition-property:color,fill,background-color,border-color;color:#c9d1d9;background-color:#21262d;box-shadow:0 0 transparent,0 0 transparent;}/*!sc*/
.hlQbCG:focus:not(:disabled){box-shadow:none;outline:2px solid #2f81f7;outline-offset:-2px;}/*!sc*/
.hlQbCG:focus:not(:disabled):not(:focus-visible){outline:solid 1px transparent;}/*!sc*/
.hlQbCG:focus-visible:not(:disabled){box-shadow:none;outline:2px solid #2f81f7;outline-offset:-2px;}/*!sc*/
.hlQbCG[href]{display:-webkit-inline-box;display:-webkit-inline-flex;display:-ms-inline-flexbox;display:inline-flex;}/*!sc*/
.hlQbCG[href]:hover{-webkit-text-decoration:none;text-decoration:none;}/*!sc*/
.hlQbCG:hover{-webkit-transition-duration:80ms;transition-duration:80ms;}/*!sc*/
.hlQbCG:active{-webkit-transition:none;transition:none;}/*!sc*/
.hlQbCG:disabled{cursor:not-allowed;box-shadow:none;color:#484f58;}/*!sc*/
.hlQbCG:disabled [data-component=ButtonCounter]{color:inherit;}/*!sc*/
@media (forced-colors:active){.hlQbCG:focus{outline:solid 1px transparent;}}/*!sc*/
.hlQbCG [data-component=ButtonCounter]{font-size:12px;}/*!sc*/
.hlQbCG[data-component=IconButton]{display:inline-grid;padding:unset;place-content:center;width:32px;min-width:unset;}/*!sc*/
.hlQbCG[data-size="small"]{padding:0 8px;height:28px;gap:4px;font-size:12px;}/*!sc*/
.hlQbCG[data-size="small"] [data-component="text"]{line-height:calc(20 / 12);}/*!sc*/
.hlQbCG[data-size="small"] [data-component=ButtonCounter]{font-size:12px;}/*!sc*/
.hlQbCG[data-size="small"] [data-component="buttonContent"] > :not(:last-child){margin-right:4px;}/*!sc*/
.hlQbCG[data-size="small"][data-component=IconButton]{width:28px;padding:unset;}/*!sc*/
.hlQbCG[data-size="large"]{padding:0 16px;height:40px;gap:8px;}/*!sc*/
.hlQbCG[data-size="large"] [data-component="buttonContent"] > :not(:last-child){margin-right:8px;}/*!sc*/
.hlQbCG[data-size="large"][data-component=IconButton]{width:40px;padding:unset;}/*!sc*/
.hlQbCG[data-block="block"]{width:100%;}/*!sc*/
.hlQbCG [data-component="leadingVisual"]{grid-area:leadingVisual;}/*!sc*/
.hlQbCG [data-component="text"]{grid-area:text;line-height:calc(20/14);white-space:nowrap;}/*!sc*/
.hlQbCG [data-component="trailingVisual"]{grid-area:trailingVisual;}/*!sc*/
.hlQbCG [data-component="trailingAction"]{margin-right:-4px;}/*!sc*/
.hlQbCG [data-component="buttonContent"]{-webkit-flex:1 0 auto;-ms-flex:1 0 auto;flex:1 0 auto;display:grid;grid-template-areas:"leadingVisual text trailingVisual";grid-template-columns:min-content minmax(0,auto) min-content;-webkit-align-items:center;-webkit-box-align:center;-ms-flex-align:center;align-items:center;-webkit-align-content:center;-ms-flex-line-pack:center;align-content:center;}/*!sc*/
.hlQbCG [data-component="buttonContent"] > :not(:last-child){margin-right:8px;}/*!sc*/
.hlQbCG:hover:not([disabled]){background-color:#30363d;border-color:#8b949e;}/*!sc*/
.hlQbCG:active:not([disabled]){background-color:hsla(212,12%,18%,1);border-color:#6e7681;}/*!sc*/
.hlQbCG[aria-expanded=true]{background-color:hsla(212,12%,18%,1);border-color:#6e7681;}/*!sc*/
.hlQbCG [data-component="leadingVisual"],.hlQbCG [data-component="trailingVisual"],.hlQbCG [data-component="trailingAction"]{color:var(--button-color,#7d8590);}/*!sc*/
.hlQbCG[data-no-visuals]{color:#6e7681;font-size:14px;font-weight:400;-webkit-flex-shrink:0;-ms-flex-negative:0;flex-shrink:0;border-top-left-radius:0;border-bottom-left-radius:0;}/*!sc*/
.iwfGUC{border-radius:6px;border:1px solid;border-color:rgba(240,246,252,0.1);font-family:inherit;font-weight:500;font-size:14px;cursor:pointer;-webkit-appearance:none;-moz-appearance:none;appearance:none;-webkit-user-select:none;-moz-user-select:none;-ms-user-select:none;user-select:none;-webkit-text-decoration:none;text-decoration:none;text-align:center;display:-webkit-box;display:-webkit-flex;display:-ms-flexbox;display:flex;-webkit-align-items:center;-webkit-box-align:center;-ms-flex-align:center;align-items:center;-webkit-box-pack:justify;-webkit-justify-content:space-between;-ms-flex-pack:justify;justify-content:space-between;height:32px;padding:0 12px;gap:8px;min-width:-webkit-max-content;min-width:-moz-max-content;min-width:max-content;-webkit-transition:80ms cubic-bezier(0.65,0,0.35,1);transition:80ms cubic-bezier(0.65,0,0.35,1);-webkit-transition-property:color,fill,background-color,border-color;transition-property:color,fill,background-color,border-color;color:#c9d1d9;background-color:#21262d;box-shadow:0 0 transparent,0 0 transparent;}/*!sc*/
.iwfGUC:focus:not(:disabled){box-shadow:none;outline:2px solid #2f81f7;outline-offset:-2px;}/*!sc*/
.iwfGUC:focus:not(:disabled):not(:focus-visible){outline:solid 1px transparent;}/*!sc*/
.iwfGUC:focus-visible:not(:disabled){box-shadow:none;outline:2px solid #2f81f7;outline-offset:-2px;}/*!sc*/
.iwfGUC[href]{display:-webkit-inline-box;display:-webkit-inline-flex;display:-ms-inline-flexbox;display:inline-flex;}/*!sc*/
.iwfGUC[href]:hover{-webkit-text-decoration:none;text-decoration:none;}/*!sc*/
.iwfGUC:hover{-webkit-transition-duration:80ms;transition-duration:80ms;}/*!sc*/
.iwfGUC:active{-webkit-transition:none;transition:none;}/*!sc*/
.iwfGUC:disabled{cursor:not-allowed;box-shadow:none;color:#484f58;}/*!sc*/
.iwfGUC:disabled [data-component=ButtonCounter]{color:inherit;}/*!sc*/
@media (forced-colors:active){.iwfGUC:focus{outline:solid 1px transparent;}}/*!sc*/
.iwfGUC [data-component=ButtonCounter]{font-size:12px;}/*!sc*/
.iwfGUC[data-component=IconButton]{display:inline-grid;padding:unset;place-content:center;width:32px;min-width:unset;}/*!sc*/
.iwfGUC[data-size="small"]{padding:0 8px;height:28px;gap:4px;font-size:12px;}/*!sc*/
.iwfGUC[data-size="small"] [data-component="text"]{line-height:calc(20 / 12);}/*!sc*/
.iwfGUC[data-size="small"] [data-component=ButtonCounter]{font-size:12px;}/*!sc*/
.iwfGUC[data-size="small"] [data-component="buttonContent"] > :not(:last-child){margin-right:4px;}/*!sc*/
.iwfGUC[data-size="small"][data-component=IconButton]{width:28px;padding:unset;}/*!sc*/
.iwfGUC[data-size="large"]{padding:0 16px;height:40px;gap:8px;}/*!sc*/
.iwfGUC[data-size="large"] [data-component="buttonContent"] > :not(:last-child){margin-right:8px;}/*!sc*/
.iwfGUC[data-size="large"][data-component=IconButton]{width:40px;padding:unset;}/*!sc*/
.iwfGUC[data-block="block"]{width:100%;}/*!sc*/
.iwfGUC [data-component="leadingVisual"]{grid-area:leadingVisual;}/*!sc*/
.iwfGUC [data-component="text"]{grid-area:text;line-height:calc(20/14);white-space:nowrap;}/*!sc*/
.iwfGUC [data-component="trailingVisual"]{grid-area:trailingVisual;}/*!sc*/
.iwfGUC [data-component="trailingAction"]{margin-right:-4px;}/*!sc*/
.iwfGUC [data-component="buttonContent"]{-webkit-flex:1 0 auto;-ms-flex:1 0 auto;flex:1 0 auto;display:grid;grid-template-areas:"leadingVisual text trailingVisual";grid-template-columns:min-content minmax(0,auto) min-content;-webkit-align-items:center;-webkit-box-align:center;-ms-flex-align:center;align-items:center;-webkit-align-content:center;-ms-flex-line-pack:center;align-content:center;}/*!sc*/
.iwfGUC [data-component="buttonContent"] > :not(:last-child){margin-right:8px;}/*!sc*/
.iwfGUC:hover:not([disabled]){background-color:#30363d;border-color:#8b949e;}/*!sc*/
.iwfGUC:active:not([disabled]){background-color:hsla(212,12%,18%,1);border-color:#6e7681;}/*!sc*/
.iwfGUC[aria-expanded=true]{background-color:hsla(212,12%,18%,1);border-color:#6e7681;}/*!sc*/
.iwfGUC [data-component="leadingVisual"],.iwfGUC [data-component="trailingVisual"],.iwfGUC [data-component="trailingAction"]{color:var(--button-color,#7d8590);}/*!sc*/
.iwfGUC{display:-webkit-box;display:-webkit-flex;display:-ms-flexbox;display:flex;}/*!sc*/
.iwfGUC svg{color:#7d8590;}/*!sc*/
.iwfGUC > span{width:inherit;}/*!sc*/
.fQmjix{border-radius:6px;border:1px solid;border-color:rgba(240,246,252,0.1);font-family:inherit;font-weight:500;font-size:14px;cursor:pointer;-webkit-appearance:none;-moz-appearance:none;appearance:none;-webkit-user-select:none;-moz-user-select:none;-ms-user-select:none;user-select:none;-webkit-text-decoration:none;text-decoration:none;text-align:center;display:-webkit-box;display:-webkit-flex;display:-ms-flexbox;display:flex;-webkit-align-items:center;-webkit-box-align:center;-ms-flex-align:center;align-items:center;-webkit-box-pack:justify;-webkit-justify-content:space-between;-ms-flex-pack:justify;justify-content:space-between;height:32px;padding:0 12px;gap:8px;min-width:-webkit-max-content;min-width:-moz-max-content;min-width:max-content;-webkit-transition:80ms cubic-bezier(0.65,0,0.35,1);transition:80ms cubic-bezier(0.65,0,0.35,1);-webkit-transition-property:color,fill,background-color,border-color;transition-property:color,fill,background-color,border-color;color:#c9d1d9;background-color:#21262d;box-shadow:0 0 transparent,0 0 transparent;}/*!sc*/
.fQmjix:focus:not(:disabled){box-shadow:none;outline:2px solid #2f81f7;outline-offset:-2px;}/*!sc*/
.fQmjix:focus:not(:disabled):not(:focus-visible){outline:solid 1px transparent;}/*!sc*/
.fQmjix:focus-visible:not(:disabled){box-shadow:none;outline:2px solid #2f81f7;outline-offset:-2px;}/*!sc*/
.fQmjix[href]{display:-webkit-inline-box;display:-webkit-inline-flex;display:-ms-inline-flexbox;display:inline-flex;}/*!sc*/
.fQmjix[href]:hover{-webkit-text-decoration:none;text-decoration:none;}/*!sc*/
.fQmjix:hover{-webkit-transition-duration:80ms;transition-duration:80ms;}/*!sc*/
.fQmjix:active{-webkit-transition:none;transition:none;}/*!sc*/
.fQmjix:disabled{cursor:not-allowed;box-shadow:none;color:#484f58;}/*!sc*/
.fQmjix:disabled [data-component=ButtonCounter]{color:inherit;}/*!sc*/
@media (forced-colors:active){.fQmjix:focus{outline:solid 1px transparent;}}/*!sc*/
.fQmjix [data-component=ButtonCounter]{font-size:12px;}/*!sc*/
.fQmjix[data-component=IconButton]{display:inline-grid;padding:unset;place-content:center;width:32px;min-width:unset;}/*!sc*/
.fQmjix[data-size="small"]{padding:0 8px;height:28px;gap:4px;font-size:12px;}/*!sc*/
.fQmjix[data-size="small"] [data-component="text"]{line-height:calc(20 / 12);}/*!sc*/
.fQmjix[data-size="small"] [data-component=ButtonCounter]{font-size:12px;}/*!sc*/
.fQmjix[data-size="small"] [data-component="buttonContent"] > :not(:last-child){margin-right:4px;}/*!sc*/
.fQmjix[data-size="small"][data-component=IconButton]{width:28px;padding:unset;}/*!sc*/
.fQmjix[data-size="large"]{padding:0 16px;height:40px;gap:8px;}/*!sc*/
.fQmjix[data-size="large"] [data-component="buttonContent"] > :not(:last-child){margin-right:8px;}/*!sc*/
.fQmjix[data-size="large"][data-component=IconButton]{width:40px;padding:unset;}/*!sc*/
.fQmjix[data-block="block"]{width:100%;}/*!sc*/
.fQmjix [data-component="leadingVisual"]{grid-area:leadingVisual;}/*!sc*/
.fQmjix [data-component="text"]{grid-area:text;line-height:calc(20/14);white-space:nowrap;}/*!sc*/
.fQmjix [data-component="trailingVisual"]{grid-area:trailingVisual;}/*!sc*/
.fQmjix [data-component="trailingAction"]{margin-right:-4px;}/*!sc*/
.fQmjix [data-component="buttonContent"]{-webkit-flex:1 0 auto;-ms-flex:1 0 auto;flex:1 0 auto;display:grid;grid-template-areas:"leadingVisual text trailingVisual";grid-template-columns:min-content minmax(0,auto) min-content;-webkit-align-items:center;-webkit-box-align:center;-ms-flex-align:center;align-items:center;-webkit-align-content:center;-ms-flex-line-pack:center;align-content:center;}/*!sc*/
.fQmjix [data-component="buttonContent"] > :not(:last-child){margin-right:8px;}/*!sc*/
.fQmjix:hover:not([disabled]){background-color:#30363d;border-color:#8b949e;}/*!sc*/
.fQmjix:active:not([disabled]){background-color:hsla(212,12%,18%,1);border-color:#6e7681;}/*!sc*/
.fQmjix[aria-expanded=true]{background-color:hsla(212,12%,18%,1);border-color:#6e7681;}/*!sc*/
.fQmjix [data-component="leadingVisual"],.fQmjix [data-component="trailingVisual"],.fQmjix [data-component="trailingAction"]{color:var(--button-color,#7d8590);}/*!sc*/
.fQmjix[data-no-visuals]{border-top-left-radius:0;border-bottom-left-radius:0;display:none;}/*!sc*/
.fzrsQY{border-radius:6px;border:1px solid;border-color:rgba(240,246,252,0.1);font-family:inherit;font-weight:500;font-size:14px;cursor:pointer;-webkit-appearance:none;-moz-appearance:none;appearance:none;-webkit-user-select:none;-moz-user-select:none;-ms-user-select:none;user-select:none;-webkit-text-decoration:none;text-decoration:none;text-align:center;display:-webkit-box;display:-webkit-flex;display:-ms-flexbox;display:flex;-webkit-align-items:center;-webkit-box-align:center;-ms-flex-align:center;align-items:center;-webkit-box-pack:justify;-webkit-justify-content:space-between;-ms-flex-pack:justify;justify-content:space-between;height:32px;padding:0 12px;gap:8px;min-width:-webkit-max-content;min-width:-moz-max-content;min-width:max-content;-webkit-transition:80ms cubic-bezier(0.65,0,0.35,1);transition:80ms cubic-bezier(0.65,0,0.35,1);-webkit-transition-property:color,fill,background-color,border-color;transition-property:color,fill,background-color,border-color;color:#c9d1d9;background-color:#21262d;box-shadow:0 0 transparent,0 0 transparent;}/*!sc*/
.fzrsQY:focus:not(:disabled){box-shadow:none;outline:2px solid #2f81f7;outline-offset:-2px;}/*!sc*/
.fzrsQY:focus:not(:disabled):not(:focus-visible){outline:solid 1px transparent;}/*!sc*/
.fzrsQY:focus-visible:not(:disabled){box-shadow:none;outline:2px solid #2f81f7;outline-offset:-2px;}/*!sc*/
.fzrsQY[href]{display:-webkit-inline-box;display:-webkit-inline-flex;display:-ms-inline-flexbox;display:inline-flex;}/*!sc*/
.fzrsQY[href]:hover{-webkit-text-decoration:none;text-decoration:none;}/*!sc*/
.fzrsQY:hover{-webkit-transition-duration:80ms;transition-duration:80ms;}/*!sc*/
.fzrsQY:active{-webkit-transition:none;transition:none;}/*!sc*/
.fzrsQY:disabled{cursor:not-allowed;box-shadow:none;color:#484f58;}/*!sc*/
.fzrsQY:disabled [data-component=ButtonCounter]{color:inherit;}/*!sc*/
@media (forced-colors:active){.fzrsQY:focus{outline:solid 1px transparent;}}/*!sc*/
.fzrsQY [data-component=ButtonCounter]{font-size:12px;}/*!sc*/
.fzrsQY[data-component=IconButton]{display:inline-grid;padding:unset;place-content:center;width:32px;min-width:unset;}/*!sc*/
.fzrsQY[data-size="small"]{padding:0 8px;height:28px;gap:4px;font-size:12px;}/*!sc*/
.fzrsQY[data-size="small"] [data-component="text"]{line-height:calc(20 / 12);}/*!sc*/
.fzrsQY[data-size="small"] [data-component=ButtonCounter]{font-size:12px;}/*!sc*/
.fzrsQY[data-size="small"] [data-component="buttonContent"] > :not(:last-child){margin-right:4px;}/*!sc*/
.fzrsQY[data-size="small"][data-component=IconButton]{width:28px;padding:unset;}/*!sc*/
.fzrsQY[data-size="large"]{padding:0 16px;height:40px;gap:8px;}/*!sc*/
.fzrsQY[data-size="large"] [data-component="buttonContent"] > :not(:last-child){margin-right:8px;}/*!sc*/
.fzrsQY[data-size="large"][data-component=IconButton]{width:40px;padding:unset;}/*!sc*/
.fzrsQY[data-block="block"]{width:100%;}/*!sc*/
.fzrsQY [data-component="leadingVisual"]{grid-area:leadingVisual;}/*!sc*/
.fzrsQY [data-component="text"]{grid-area:text;line-height:calc(20/14);white-space:nowrap;}/*!sc*/
.fzrsQY [data-component="trailingVisual"]{grid-area:trailingVisual;}/*!sc*/
.fzrsQY [data-component="trailingAction"]{margin-right:-4px;}/*!sc*/
.fzrsQY [data-component="buttonContent"]{-webkit-flex:1 0 auto;-ms-flex:1 0 auto;flex:1 0 auto;display:grid;grid-template-areas:"leadingVisual text trailingVisual";grid-template-columns:min-content minmax(0,auto) min-content;-webkit-align-items:center;-webkit-box-align:center;-ms-flex-align:center;align-items:center;-webkit-align-content:center;-ms-flex-line-pack:center;align-content:center;}/*!sc*/
.fzrsQY [data-component="buttonContent"] > :not(:last-child){margin-right:8px;}/*!sc*/
.fzrsQY:hover:not([disabled]){background-color:#30363d;border-color:#8b949e;}/*!sc*/
.fzrsQY:active:not([disabled]){background-color:hsla(212,12%,18%,1);border-color:#6e7681;}/*!sc*/
.fzrsQY[aria-expanded=true]{background-color:hsla(212,12%,18%,1);border-color:#6e7681;}/*!sc*/
.fzrsQY [data-component="leadingVisual"],.fzrsQY [data-component="trailingVisual"],.fzrsQY [data-component="trailingAction"]{color:var(--button-color,#7d8590);}/*!sc*/
.fzrsQY[data-no-visuals]{color:#7d8590;}/*!sc*/
.fJIYie{border-radius:6px;border:1px solid;border-color:transparent;font-family:inherit;font-weight:500;font-size:14px;cursor:pointer;-webkit-appearance:none;-moz-appearance:none;appearance:none;-webkit-user-select:none;-moz-user-select:none;-ms-user-select:none;user-select:none;-webkit-text-decoration:none;text-decoration:none;text-align:center;display:-webkit-box;display:-webkit-flex;display:-ms-flexbox;display:flex;-webkit-align-items:center;-webkit-box-align:center;-ms-flex-align:center;align-items:center;-webkit-box-pack:justify;-webkit-justify-content:space-between;-ms-flex-pack:justify;justify-content:space-between;height:32px;padding:0 12px;gap:8px;min-width:-webkit-max-content;min-width:-moz-max-content;min-width:max-content;-webkit-transition:80ms cubic-bezier(0.65,0,0.35,1);transition:80ms cubic-bezier(0.65,0,0.35,1);-webkit-transition-property:color,fill,background-color,border-color;transition-property:color,fill,background-color,border-color;color:#2f81f7;background-color:transparent;box-shadow:none;}/*!sc*/
.fJIYie:focus:not(:disabled){box-shadow:none;outline:2px solid #2f81f7;outline-offset:-2px;}/*!sc*/
.fJIYie:focus:not(:disabled):not(:focus-visible){outline:solid 1px transparent;}/*!sc*/
.fJIYie:focus-visible:not(:disabled){box-shadow:none;outline:2px solid #2f81f7;outline-offset:-2px;}/*!sc*/
.fJIYie[href]{display:-webkit-inline-box;display:-webkit-inline-flex;display:-ms-inline-flexbox;display:inline-flex;}/*!sc*/
.fJIYie[href]:hover{-webkit-text-decoration:none;text-decoration:none;}/*!sc*/
.fJIYie:hover{-webkit-transition-duration:80ms;transition-duration:80ms;}/*!sc*/
.fJIYie:active{-webkit-transition:none;transition:none;}/*!sc*/
.fJIYie:disabled{cursor:not-allowed;box-shadow:none;color:#484f58;}/*!sc*/
.fJIYie:disabled [data-component=ButtonCounter],.fJIYie:disabled [data-component="leadingVisual"],.fJIYie:disabled [data-component="trailingAction"]{color:inherit;}/*!sc*/
@media (forced-colors:active){.fJIYie:focus{outline:solid 1px transparent;}}/*!sc*/
.fJIYie [data-component=ButtonCounter]{font-size:12px;}/*!sc*/
.fJIYie[data-component=IconButton]{display:inline-grid;padding:unset;place-content:center;width:32px;min-width:unset;}/*!sc*/
.fJIYie[data-size="small"]{padding:0 8px;height:28px;gap:4px;font-size:12px;}/*!sc*/
.fJIYie[data-size="small"] [data-component="text"]{line-height:calc(20 / 12);}/*!sc*/
.fJIYie[data-size="small"] [data-component=ButtonCounter]{font-size:12px;}/*!sc*/
.fJIYie[data-size="small"] [data-component="buttonContent"] > :not(:last-child){margin-right:4px;}/*!sc*/
.fJIYie[data-size="small"][data-component=IconButton]{width:28px;padding:unset;}/*!sc*/
.fJIYie[data-size="large"]{padding:0 16px;height:40px;gap:8px;}/*!sc*/
.fJIYie[data-size="large"] [data-component="buttonContent"] > :not(:last-child){margin-right:8px;}/*!sc*/
.fJIYie[data-size="large"][data-component=IconButton]{width:40px;padding:unset;}/*!sc*/
.fJIYie[data-block="block"]{width:100%;}/*!sc*/
.fJIYie [data-component="leadingVisual"]{grid-area:leadingVisual;color:#7d8590;}/*!sc*/
.fJIYie [data-component="text"]{grid-area:text;line-height:calc(20/14);white-space:nowrap;}/*!sc*/
.fJIYie [data-component="trailingVisual"]{grid-area:trailingVisual;}/*!sc*/
.fJIYie [data-component="trailingAction"]{margin-right:-4px;color:#7d8590;}/*!sc*/
.fJIYie [data-component="buttonContent"]{-webkit-flex:1 0 auto;-ms-flex:1 0 auto;flex:1 0 auto;display:grid;grid-template-areas:"leadingVisual text trailingVisual";grid-template-columns:min-content minmax(0,auto) min-content;-webkit-align-items:center;-webkit-box-align:center;-ms-flex-align:center;align-items:center;-webkit-align-content:center;-ms-flex-line-pack:center;align-content:center;}/*!sc*/
.fJIYie [data-component="buttonContent"] > :not(:last-child){margin-right:8px;}/*!sc*/
.fJIYie:hover:not([disabled]){background-color:#30363d;}/*!sc*/
.fJIYie:active:not([disabled]){background-color:#161b22;}/*!sc*/
.fJIYie[aria-expanded=true]{background-color:#161b22;}/*!sc*/
.fJIYie[data-component="IconButton"][data-no-visuals]{color:#7d8590;}/*!sc*/
.fJIYie[data-no-visuals]{color:#2f81f7;}/*!sc*/
.fJIYie:has([data-component="ButtonCounter"]){color:#2f81f7;}/*!sc*/
.fJIYie:disabled[data-no-visuals]{color:#484f58;}/*!sc*/
.fJIYie:disabled[data-no-visuals] [data-component=ButtonCounter]{color:inherit;}/*!sc*/
.fJIYie[data-size="small"][data-no-visuals]{margin-left:8px;}/*!sc*/
.dWukOn{border-radius:6px;border:1px solid;border-color:transparent;font-family:inherit;font-weight:500;font-size:14px;cursor:pointer;-webkit-appearance:none;-moz-appearance:none;appearance:none;-webkit-user-select:none;-moz-user-select:none;-ms-user-select:none;user-select:none;-webkit-text-decoration:none;text-decoration:none;text-align:center;display:-webkit-box;display:-webkit-flex;display:-ms-flexbox;display:flex;-webkit-align-items:center;-webkit-box-align:center;-ms-flex-align:center;align-items:center;-webkit-box-pack:justify;-webkit-justify-content:space-between;-ms-flex-pack:justify;justify-content:space-between;height:32px;padding:0 12px;gap:8px;min-width:-webkit-max-content;min-width:-moz-max-content;min-width:max-content;-webkit-transition:80ms cubic-bezier(0.65,0,0.35,1);transition:80ms cubic-bezier(0.65,0,0.35,1);-webkit-transition-property:color,fill,background-color,border-color;transition-property:color,fill,background-color,border-color;color:#e6edf3;background-color:transparent;box-shadow:none;}/*!sc*/
.dWukOn:focus:not(:disabled){box-shadow:none;outline:2px solid #2f81f7;outline-offset:-2px;}/*!sc*/
.dWukOn:focus:not(:disabled):not(:focus-visible){outline:solid 1px transparent;}/*!sc*/
.dWukOn:focus-visible:not(:disabled){box-shadow:none;outline:2px solid #2f81f7;outline-offset:-2px;}/*!sc*/
.dWukOn[href]{display:-webkit-inline-box;display:-webkit-inline-flex;display:-ms-inline-flexbox;display:inline-flex;}/*!sc*/
.dWukOn[href]:hover{-webkit-text-decoration:none;text-decoration:none;}/*!sc*/
.dWukOn:hover{-webkit-transition-duration:80ms;transition-duration:80ms;}/*!sc*/
.dWukOn:active{-webkit-transition:none;transition:none;}/*!sc*/
.dWukOn:disabled{cursor:not-allowed;box-shadow:none;color:#484f58;}/*!sc*/
.dWukOn:disabled [data-component=ButtonCounter],.dWukOn:disabled [data-component="leadingVisual"],.dWukOn:disabled [data-component="trailingAction"]{color:inherit;}/*!sc*/
@media (forced-colors:active){.dWukOn:focus{outline:solid 1px transparent;}}/*!sc*/
.dWukOn [data-component=ButtonCounter]{font-size:12px;}/*!sc*/
.dWukOn[data-component=IconButton]{display:inline-grid;padding:unset;place-content:center;width:32px;min-width:unset;}/*!sc*/
.dWukOn[data-size="small"]{padding:0 8px;height:28px;gap:4px;font-size:12px;}/*!sc*/
.dWukOn[data-size="small"] [data-component="text"]{line-height:calc(20 / 12);}/*!sc*/
.dWukOn[data-size="small"] [data-component=ButtonCounter]{font-size:12px;}/*!sc*/
.dWukOn[data-size="small"] [data-component="buttonContent"] > :not(:last-child){margin-right:4px;}/*!sc*/
.dWukOn[data-size="small"][data-component=IconButton]{width:28px;padding:unset;}/*!sc*/
.dWukOn[data-size="large"]{padding:0 16px;height:40px;gap:8px;}/*!sc*/
.dWukOn[data-size="large"] [data-component="buttonContent"] > :not(:last-child){margin-right:8px;}/*!sc*/
.dWukOn[data-size="large"][data-component=IconButton]{width:40px;padding:unset;}/*!sc*/
.dWukOn[data-block="block"]{width:100%;}/*!sc*/
.dWukOn [data-component="leadingVisual"]{grid-area:leadingVisual;color:#7d8590;}/*!sc*/
.dWukOn [data-component="text"]{grid-area:text;line-height:calc(20/14);white-space:nowrap;}/*!sc*/
.dWukOn [data-component="trailingVisual"]{grid-area:trailingVisual;}/*!sc*/
.dWukOn [data-component="trailingAction"]{margin-right:-4px;color:#7d8590;}/*!sc*/
.dWukOn [data-component="buttonContent"]{-webkit-flex:1 0 auto;-ms-flex:1 0 auto;flex:1 0 auto;display:grid;grid-template-areas:"leadingVisual text trailingVisual";grid-template-columns:min-content minmax(0,auto) min-content;-webkit-align-items:center;-webkit-box-align:center;-ms-flex-align:center;align-items:center;-webkit-align-content:center;-ms-flex-line-pack:center;align-content:center;}/*!sc*/
.dWukOn [data-component="buttonContent"] > :not(:last-child){margin-right:8px;}/*!sc*/
.dWukOn:hover:not([disabled]){background-color:#30363d;-webkit-text-decoration:none;text-decoration:none;}/*!sc*/
.dWukOn:active:not([disabled]){background-color:#161b22;-webkit-text-decoration:none;text-decoration:none;}/*!sc*/
.dWukOn[aria-expanded=true]{background-color:#161b22;}/*!sc*/
.dWukOn[data-component="IconButton"][data-no-visuals]{color:#7d8590;}/*!sc*/
.dWukOn[data-no-visuals]{color:#2f81f7;}/*!sc*/
.dWukOn:has([data-component="ButtonCounter"]){color:#2f81f7;}/*!sc*/
.dWukOn:disabled[data-no-visuals]{color:#484f58;}/*!sc*/
.dWukOn:disabled[data-no-visuals] [data-component=ButtonCounter]{color:inherit;}/*!sc*/
.dWukOn:focus:not([disabled]){-webkit-text-decoration:none;text-decoration:none;}/*!sc*/
.cuVVHm{border-radius:6px;border:1px solid;border-color:transparent;font-family:inherit;font-weight:500;font-size:14px;cursor:pointer;-webkit-appearance:none;-moz-appearance:none;appearance:none;-webkit-user-select:none;-moz-user-select:none;-ms-user-select:none;user-select:none;-webkit-text-decoration:none;text-decoration:none;text-align:center;display:-webkit-box;display:-webkit-flex;display:-ms-flexbox;display:flex;-webkit-align-items:center;-webkit-box-align:center;-ms-flex-align:center;align-items:center;-webkit-box-pack:justify;-webkit-justify-content:space-between;-ms-flex-pack:justify;justify-content:space-between;height:32px;padding:0 12px;gap:8px;min-width:-webkit-max-content;min-width:-moz-max-content;min-width:max-content;-webkit-transition:80ms cubic-bezier(0.65,0,0.35,1);transition:80ms cubic-bezier(0.65,0,0.35,1);-webkit-transition-property:color,fill,background-color,border-color;transition-property:color,fill,background-color,border-color;color:#2f81f7;background-color:transparent;box-shadow:none;}/*!sc*/
.cuVVHm:focus:not(:disabled){box-shadow:none;outline:2px solid #2f81f7;outline-offset:-2px;}/*!sc*/
.cuVVHm:focus:not(:disabled):not(:focus-visible){outline:solid 1px transparent;}/*!sc*/
.cuVVHm:focus-visible:not(:disabled){box-shadow:none;outline:2px solid #2f81f7;outline-offset:-2px;}/*!sc*/
.cuVVHm[href]{display:-webkit-inline-box;display:-webkit-inline-flex;display:-ms-inline-flexbox;display:inline-flex;}/*!sc*/
.cuVVHm[href]:hover{-webkit-text-decoration:none;text-decoration:none;}/*!sc*/
.cuVVHm:hover{-webkit-transition-duration:80ms;transition-duration:80ms;}/*!sc*/
.cuVVHm:active{-webkit-transition:none;transition:none;}/*!sc*/
.cuVVHm:disabled{cursor:not-allowed;box-shadow:none;color:#484f58;}/*!sc*/
.cuVVHm:disabled [data-component=ButtonCounter],.cuVVHm:disabled [data-component="leadingVisual"],.cuVVHm:disabled [data-component="trailingAction"]{color:inherit;}/*!sc*/
@media (forced-colors:active){.cuVVHm:focus{outline:solid 1px transparent;}}/*!sc*/
.cuVVHm [data-component=ButtonCounter]{font-size:12px;}/*!sc*/
.cuVVHm[data-component=IconButton]{display:inline-grid;padding:unset;place-content:center;width:32px;min-width:unset;}/*!sc*/
.cuVVHm[data-size="small"]{padding:0 8px;height:28px;gap:4px;font-size:12px;color:#e6edf3;display:none;}/*!sc*/
.cuVVHm[data-size="small"] [data-component="text"]{line-height:calc(20 / 12);}/*!sc*/
.cuVVHm[data-size="small"] [data-component=ButtonCounter]{font-size:12px;}/*!sc*/
.cuVVHm[data-size="small"] [data-component="buttonContent"] > :not(:last-child){margin-right:4px;}/*!sc*/
.cuVVHm[data-size="small"][data-component=IconButton]{width:28px;padding:unset;}/*!sc*/
@media screen and (min-width:544px){.cuVVHm[data-size="small"]{display:none;}}/*!sc*/
@media screen and (min-width:768px){.cuVVHm[data-size="small"]{display:block;}}/*!sc*/
@media screen and (min-width:1012px){.cuVVHm[data-size="small"]{display:block;}}/*!sc*/
.cuVVHm[data-size="large"]{padding:0 16px;height:40px;gap:8px;}/*!sc*/
.cuVVHm[data-size="large"] [data-component="buttonContent"] > :not(:last-child){margin-right:8px;}/*!sc*/
.cuVVHm[data-size="large"][data-component=IconButton]{width:40px;padding:unset;}/*!sc*/
.cuVVHm[data-block="block"]{width:100%;}/*!sc*/
.cuVVHm [data-component="leadingVisual"]{grid-area:leadingVisual;color:#7d8590;}/*!sc*/
.cuVVHm [data-component="text"]{grid-area:text;line-height:calc(20/14);white-space:nowrap;}/*!sc*/
.cuVVHm [data-component="trailingVisual"]{grid-area:trailingVisual;}/*!sc*/
.cuVVHm [data-component="trailingAction"]{margin-right:-4px;color:#7d8590;}/*!sc*/
.cuVVHm [data-component="buttonContent"]{-webkit-flex:1 0 auto;-ms-flex:1 0 auto;flex:1 0 auto;display:grid;grid-template-areas:"leadingVisual text trailingVisual";grid-template-columns:min-content minmax(0,auto) min-content;-webkit-align-items:center;-webkit-box-align:center;-ms-flex-align:center;align-items:center;-webkit-align-content:center;-ms-flex-line-pack:center;align-content:center;}/*!sc*/
.cuVVHm [data-component="buttonContent"] > :not(:last-child){margin-right:8px;}/*!sc*/
.cuVVHm:hover:not([disabled]){background-color:#30363d;}/*!sc*/
.cuVVHm:active:not([disabled]){background-color:#161b22;}/*!sc*/
.cuVVHm[aria-expanded=true]{background-color:#161b22;}/*!sc*/
.cuVVHm[data-component="IconButton"][data-no-visuals]{color:#7d8590;}/*!sc*/
.cuVVHm[data-no-visuals]{color:#2f81f7;}/*!sc*/
.cuVVHm:has([data-component="ButtonCounter"]){color:#2f81f7;}/*!sc*/
.cuVVHm:disabled[data-no-visuals]{color:#484f58;}/*!sc*/
.cuVVHm:disabled[data-no-visuals] [data-component=ButtonCounter]{color:inherit;}/*!sc*/
.kGDoCG{border-radius:6px;border:1px solid;border-color:transparent;font-family:inherit;font-weight:500;font-size:14px;cursor:pointer;-webkit-appearance:none;-moz-appearance:none;appearance:none;-webkit-user-select:none;-moz-user-select:none;-ms-user-select:none;user-select:none;-webkit-text-decoration:none;text-decoration:none;text-align:center;display:-webkit-box;display:-webkit-flex;display:-ms-flexbox;display:flex;-webkit-align-items:center;-webkit-box-align:center;-ms-flex-align:center;align-items:center;-webkit-box-pack:justify;-webkit-justify-content:space-between;-ms-flex-pack:justify;justify-content:space-between;height:32px;padding:0 12px;gap:8px;min-width:-webkit-max-content;min-width:-moz-max-content;min-width:max-content;-webkit-transition:80ms cubic-bezier(0.65,0,0.35,1);transition:80ms cubic-bezier(0.65,0,0.35,1);-webkit-transition-property:color,fill,background-color,border-color;transition-property:color,fill,background-color,border-color;color:#2f81f7;background-color:transparent;box-shadow:none;}/*!sc*/
.kGDoCG:focus:not(:disabled){box-shadow:none;outline:2px solid #2f81f7;outline-offset:-2px;}/*!sc*/
.kGDoCG:focus:not(:disabled):not(:focus-visible){outline:solid 1px transparent;}/*!sc*/
.kGDoCG:focus-visible:not(:disabled){box-shadow:none;outline:2px solid #2f81f7;outline-offset:-2px;}/*!sc*/
.kGDoCG[href]{display:-webkit-inline-box;display:-webkit-inline-flex;display:-ms-inline-flexbox;display:inline-flex;}/*!sc*/
.kGDoCG[href]:hover{-webkit-text-decoration:none;text-decoration:none;}/*!sc*/
.kGDoCG:hover{-webkit-transition-duration:80ms;transition-duration:80ms;}/*!sc*/
.kGDoCG:active{-webkit-transition:none;transition:none;}/*!sc*/
.kGDoCG:disabled{cursor:not-allowed;box-shadow:none;color:#484f58;}/*!sc*/
.kGDoCG:disabled [data-component=ButtonCounter],.kGDoCG:disabled [data-component="leadingVisual"],.kGDoCG:disabled [data-component="trailingAction"]{color:inherit;}/*!sc*/
@media (forced-colors:active){.kGDoCG:focus{outline:solid 1px transparent;}}/*!sc*/
.kGDoCG [data-component=ButtonCounter]{font-size:12px;}/*!sc*/
.kGDoCG[data-component=IconButton]{display:inline-grid;padding:unset;place-content:center;width:32px;min-width:unset;}/*!sc*/
.kGDoCG[data-size="small"]{padding:0 8px;height:28px;gap:4px;font-size:12px;color:#e6edf3;margin-left:8px;}/*!sc*/
.kGDoCG[data-size="small"] [data-component="text"]{line-height:calc(20 / 12);}/*!sc*/
.kGDoCG[data-size="small"] [data-component=ButtonCounter]{font-size:12px;}/*!sc*/
.kGDoCG[data-size="small"] [data-component="buttonContent"] > :not(:last-child){margin-right:4px;}/*!sc*/
.kGDoCG[data-size="small"][data-component=IconButton]{width:28px;padding:unset;}/*!sc*/
.kGDoCG[data-size="large"]{padding:0 16px;height:40px;gap:8px;}/*!sc*/
.kGDoCG[data-size="large"] [data-component="buttonContent"] > :not(:last-child){margin-right:8px;}/*!sc*/
.kGDoCG[data-size="large"][data-component=IconButton]{width:40px;padding:unset;}/*!sc*/
.kGDoCG[data-block="block"]{width:100%;}/*!sc*/
.kGDoCG [data-component="leadingVisual"]{grid-area:leadingVisual;color:#7d8590;}/*!sc*/
.kGDoCG [data-component="text"]{grid-area:text;line-height:calc(20/14);white-space:nowrap;}/*!sc*/
.kGDoCG [data-component="trailingVisual"]{grid-area:trailingVisual;}/*!sc*/
.kGDoCG [data-component="trailingAction"]{margin-right:-4px;color:#7d8590;}/*!sc*/
.kGDoCG [data-component="buttonContent"]{-webkit-flex:1 0 auto;-ms-flex:1 0 auto;flex:1 0 auto;display:grid;grid-template-areas:"leadingVisual text trailingVisual";grid-template-columns:min-content minmax(0,auto) min-content;-webkit-align-items:center;-webkit-box-align:center;-ms-flex-align:center;align-items:center;-webkit-align-content:center;-ms-flex-line-pack:center;align-content:center;}/*!sc*/
.kGDoCG [data-component="buttonContent"] > :not(:last-child){margin-right:8px;}/*!sc*/
.kGDoCG:hover:not([disabled]){background-color:#30363d;}/*!sc*/
.kGDoCG:active:not([disabled]){background-color:#161b22;}/*!sc*/
.kGDoCG[aria-expanded=true]{background-color:#161b22;}/*!sc*/
.kGDoCG[data-component="IconButton"][data-no-visuals]{color:#7d8590;}/*!sc*/
.kGDoCG[data-no-visuals]{color:#2f81f7;}/*!sc*/
.kGDoCG:has([data-component="ButtonCounter"]){color:#2f81f7;}/*!sc*/
.kGDoCG:disabled[data-no-visuals]{color:#484f58;}/*!sc*/
.kGDoCG:disabled[data-no-visuals] [data-component=ButtonCounter]{color:inherit;}/*!sc*/
.heQQbl{border-radius:6px;border:1px solid;border-color:rgba(240,246,252,0.1);font-family:inherit;font-weight:500;font-size:14px;cursor:pointer;-webkit-appearance:none;-moz-appearance:none;appearance:none;-webkit-user-select:none;-moz-user-select:none;-ms-user-select:none;user-select:none;-webkit-text-decoration:none;text-decoration:none;text-align:center;display:-webkit-box;display:-webkit-flex;display:-ms-flexbox;display:flex;-webkit-align-items:center;-webkit-box-align:center;-ms-flex-align:center;align-items:center;-webkit-box-pack:justify;-webkit-justify-content:space-between;-ms-flex-pack:justify;justify-content:space-between;height:32px;padding:0 12px;gap:8px;min-width:-webkit-max-content;min-width:-moz-max-content;min-width:max-content;-webkit-transition:80ms cubic-bezier(0.65,0,0.35,1);transition:80ms cubic-bezier(0.65,0,0.35,1);-webkit-transition-property:color,fill,background-color,border-color;transition-property:color,fill,background-color,border-color;color:#c9d1d9;background-color:#21262d;box-shadow:0 0 transparent,0 0 transparent;padding-left:8px;padding-right:8px;}/*!sc*/
.heQQbl:focus:not(:disabled){box-shadow:none;outline:2px solid #2f81f7;outline-offset:-2px;}/*!sc*/
.heQQbl:focus:not(:disabled):not(:focus-visible){outline:solid 1px transparent;}/*!sc*/
.heQQbl:focus-visible:not(:disabled){box-shadow:none;outline:2px solid #2f81f7;outline-offset:-2px;}/*!sc*/
.heQQbl[href]{display:-webkit-inline-box;display:-webkit-inline-flex;display:-ms-inline-flexbox;display:inline-flex;}/*!sc*/
.heQQbl[href]:hover{-webkit-text-decoration:none;text-decoration:none;}/*!sc*/
.heQQbl:hover{-webkit-transition-duration:80ms;transition-duration:80ms;}/*!sc*/
.heQQbl:active{-webkit-transition:none;transition:none;}/*!sc*/
.heQQbl:disabled{cursor:not-allowed;box-shadow:none;color:#484f58;}/*!sc*/
.heQQbl:disabled [data-component=ButtonCounter]{color:inherit;}/*!sc*/
@media (forced-colors:active){.heQQbl:focus{outline:solid 1px transparent;}}/*!sc*/
.heQQbl [data-component=ButtonCounter]{font-size:12px;}/*!sc*/
.heQQbl[data-component=IconButton]{display:inline-grid;padding:unset;place-content:center;width:32px;min-width:unset;}/*!sc*/
.heQQbl[data-size="small"]{padding:0 8px;height:28px;gap:4px;font-size:12px;}/*!sc*/
.heQQbl[data-size="small"] [data-component="text"]{line-height:calc(20 / 12);}/*!sc*/
.heQQbl[data-size="small"] [data-component=ButtonCounter]{font-size:12px;}/*!sc*/
.heQQbl[data-size="small"] [data-component="buttonContent"] > :not(:last-child){margin-right:4px;}/*!sc*/
.heQQbl[data-size="small"][data-component=IconButton]{width:28px;padding:unset;}/*!sc*/
.heQQbl[data-size="large"]{padding:0 16px;height:40px;gap:8px;}/*!sc*/
.heQQbl[data-size="large"] [data-component="buttonContent"] > :not(:last-child){margin-right:8px;}/*!sc*/
.heQQbl[data-size="large"][data-component=IconButton]{width:40px;padding:unset;}/*!sc*/
.heQQbl[data-block="block"]{width:100%;}/*!sc*/
.heQQbl [data-component="leadingVisual"]{grid-area:leadingVisual;}/*!sc*/
.heQQbl [data-component="text"]{grid-area:text;line-height:calc(20/14);white-space:nowrap;}/*!sc*/
.heQQbl [data-component="trailingVisual"]{grid-area:trailingVisual;}/*!sc*/
.heQQbl [data-component="trailingAction"]{margin-right:-4px;}/*!sc*/
.heQQbl [data-component="buttonContent"]{-webkit-flex:1 0 auto;-ms-flex:1 0 auto;flex:1 0 auto;display:grid;grid-template-areas:"leadingVisual text trailingVisual";grid-template-columns:min-content minmax(0,auto) min-content;-webkit-align-items:center;-webkit-box-align:center;-ms-flex-align:center;align-items:center;-webkit-align-content:center;-ms-flex-line-pack:center;align-content:center;}/*!sc*/
.heQQbl [data-component="buttonContent"] > :not(:last-child){margin-right:8px;}/*!sc*/
.heQQbl:hover:not([disabled]){background-color:#30363d;border-color:#8b949e;}/*!sc*/
.heQQbl:active:not([disabled]){background-color:hsla(212,12%,18%,1);border-color:#6e7681;}/*!sc*/
.heQQbl[aria-expanded=true]{background-color:hsla(212,12%,18%,1);border-color:#6e7681;}/*!sc*/
.heQQbl [data-component="leadingVisual"],.heQQbl [data-component="trailingVisual"],.heQQbl [data-component="trailingAction"]{color:var(--button-color,#7d8590);}/*!sc*/
.heQQbl linkButtonSx:hover:not([disabled]){-webkit-text-decoration:none;text-decoration:none;}/*!sc*/
.heQQbl linkButtonSx:focus:not([disabled]){-webkit-text-decoration:none;text-decoration:none;}/*!sc*/
.heQQbl linkButtonSx:active:not([disabled]){-webkit-text-decoration:none;text-decoration:none;}/*!sc*/
.llLGPo{border-radius:6px;border:1px solid;border-color:rgba(240,246,252,0.1);font-family:inherit;font-weight:500;font-size:14px;cursor:pointer;-webkit-appearance:none;-moz-appearance:none;appearance:none;-webkit-user-select:none;-moz-user-select:none;-ms-user-select:none;user-select:none;-webkit-text-decoration:none;text-decoration:none;text-align:center;display:-webkit-box;display:-webkit-flex;display:-ms-flexbox;display:flex;-webkit-align-items:center;-webkit-box-align:center;-ms-flex-align:center;align-items:center;-webkit-box-pack:justify;-webkit-justify-content:space-between;-ms-flex-pack:justify;justify-content:space-between;height:32px;padding:0 12px;gap:8px;min-width:-webkit-max-content;min-width:-moz-max-content;min-width:max-content;-webkit-transition:80ms cubic-bezier(0.65,0,0.35,1);transition:80ms cubic-bezier(0.65,0,0.35,1);-webkit-transition-property:color,fill,background-color,border-color;transition-property:color,fill,background-color,border-color;color:#c9d1d9;background-color:#21262d;box-shadow:0 0 transparent,0 0 transparent;}/*!sc*/
.llLGPo:focus:not(:disabled){box-shadow:none;outline:2px solid #2f81f7;outline-offset:-2px;}/*!sc*/
.llLGPo:focus:not(:disabled):not(:focus-visible){outline:solid 1px transparent;}/*!sc*/
.llLGPo:focus-visible:not(:disabled){box-shadow:none;outline:2px solid #2f81f7;outline-offset:-2px;}/*!sc*/
.llLGPo[href]{display:-webkit-inline-box;display:-webkit-inline-flex;display:-ms-inline-flexbox;display:inline-flex;}/*!sc*/
.llLGPo[href]:hover{-webkit-text-decoration:none;text-decoration:none;}/*!sc*/
.llLGPo:hover{-webkit-transition-duration:80ms;transition-duration:80ms;}/*!sc*/
.llLGPo:active{-webkit-transition:none;transition:none;}/*!sc*/
.llLGPo:disabled{cursor:not-allowed;box-shadow:none;color:#484f58;}/*!sc*/
.llLGPo:disabled [data-component=ButtonCounter]{color:inherit;}/*!sc*/
@media (forced-colors:active){.llLGPo:focus{outline:solid 1px transparent;}}/*!sc*/
.llLGPo [data-component=ButtonCounter]{font-size:12px;}/*!sc*/
.llLGPo[data-component=IconButton]{display:inline-grid;padding:unset;place-content:center;width:32px;min-width:unset;}/*!sc*/
.llLGPo[data-size="small"]{padding:0 8px;height:28px;gap:4px;font-size:12px;}/*!sc*/
.llLGPo[data-size="small"] [data-component="text"]{line-height:calc(20 / 12);}/*!sc*/
.llLGPo[data-size="small"] [data-component=ButtonCounter]{font-size:12px;}/*!sc*/
.llLGPo[data-size="small"] [data-component="buttonContent"] > :not(:last-child){margin-right:4px;}/*!sc*/
.llLGPo[data-size="small"][data-component=IconButton]{width:28px;padding:unset;}/*!sc*/
.llLGPo[data-size="large"]{padding:0 16px;height:40px;gap:8px;}/*!sc*/
.llLGPo[data-size="large"] [data-component="buttonContent"] > :not(:last-child){margin-right:8px;}/*!sc*/
.llLGPo[data-size="large"][data-component=IconButton]{width:40px;padding:unset;}/*!sc*/
.llLGPo[data-block="block"]{width:100%;}/*!sc*/
.llLGPo [data-component="leadingVisual"]{grid-area:leadingVisual;}/*!sc*/
.llLGPo [data-component="text"]{grid-area:text;line-height:calc(20/14);white-space:nowrap;}/*!sc*/
.llLGPo [data-component="trailingVisual"]{grid-area:trailingVisual;}/*!sc*/
.llLGPo [data-component="trailingAction"]{margin-right:-4px;}/*!sc*/
.llLGPo [data-component="buttonContent"]{-webkit-flex:1 0 auto;-ms-flex:1 0 auto;flex:1 0 auto;display:grid;grid-template-areas:"leadingVisual text trailingVisual";grid-template-columns:min-content minmax(0,auto) min-content;-webkit-align-items:center;-webkit-box-align:center;-ms-flex-align:center;align-items:center;-webkit-align-content:center;-ms-flex-line-pack:center;align-content:center;}/*!sc*/
.llLGPo [data-component="buttonContent"] > :not(:last-child){margin-right:8px;}/*!sc*/
.llLGPo:hover:not([disabled]){background-color:#30363d;border-color:#8b949e;}/*!sc*/
.llLGPo:active:not([disabled]){background-color:hsla(212,12%,18%,1);border-color:#6e7681;}/*!sc*/
.llLGPo[aria-expanded=true]{background-color:hsla(212,12%,18%,1);border-color:#6e7681;}/*!sc*/
.llLGPo [data-component="leadingVisual"],.llLGPo [data-component="trailingVisual"],.llLGPo [data-component="trailingAction"]{color:var(--button-color,#7d8590);}/*!sc*/
.bBGvKk{border-radius:6px;border:1px solid;border-color:rgba(240,246,252,0.1);font-family:inherit;font-weight:500;font-size:14px;cursor:pointer;-webkit-appearance:none;-moz-appearance:none;appearance:none;-webkit-user-select:none;-moz-user-select:none;-ms-user-select:none;user-select:none;-webkit-text-decoration:none;text-decoration:none;text-align:center;display:-webkit-box;display:-webkit-flex;display:-ms-flexbox;display:flex;-webkit-align-items:center;-webkit-box-align:center;-ms-flex-align:center;align-items:center;-webkit-box-pack:justify;-webkit-justify-content:space-between;-ms-flex-pack:justify;justify-content:space-between;height:32px;padding:0 12px;gap:8px;min-width:-webkit-max-content;min-width:-moz-max-content;min-width:max-content;-webkit-transition:80ms cubic-bezier(0.65,0,0.35,1);transition:80ms cubic-bezier(0.65,0,0.35,1);-webkit-transition-property:color,fill,background-color,border-color;transition-property:color,fill,background-color,border-color;color:#c9d1d9;background-color:#21262d;box-shadow:0 0 transparent,0 0 transparent;}/*!sc*/
.bBGvKk:focus:not(:disabled){box-shadow:none;outline:2px solid #2f81f7;outline-offset:-2px;}/*!sc*/
.bBGvKk:focus:not(:disabled):not(:focus-visible){outline:solid 1px transparent;}/*!sc*/
.bBGvKk:focus-visible:not(:disabled){box-shadow:none;outline:2px solid #2f81f7;outline-offset:-2px;}/*!sc*/
.bBGvKk[href]{display:-webkit-inline-box;display:-webkit-inline-flex;display:-ms-inline-flexbox;display:inline-flex;}/*!sc*/
.bBGvKk[href]:hover{-webkit-text-decoration:none;text-decoration:none;}/*!sc*/
.bBGvKk:hover{-webkit-transition-duration:80ms;transition-duration:80ms;}/*!sc*/
.bBGvKk:active{-webkit-transition:none;transition:none;}/*!sc*/
.bBGvKk:disabled{cursor:not-allowed;box-shadow:none;color:#484f58;}/*!sc*/
.bBGvKk:disabled [data-component=ButtonCounter]{color:inherit;}/*!sc*/
@media (forced-colors:active){.bBGvKk:focus{outline:solid 1px transparent;}}/*!sc*/
.bBGvKk [data-component=ButtonCounter]{font-size:12px;}/*!sc*/
.bBGvKk[data-component=IconButton]{display:inline-grid;padding:unset;place-content:center;width:32px;min-width:unset;}/*!sc*/
.bBGvKk[data-size="small"]{padding:0 8px;height:28px;gap:4px;font-size:12px;}/*!sc*/
.bBGvKk[data-size="small"] [data-component="text"]{line-height:calc(20 / 12);}/*!sc*/
.bBGvKk[data-size="small"] [data-component=ButtonCounter]{font-size:12px;}/*!sc*/
.bBGvKk[data-size="small"] [data-component="buttonContent"] > :not(:last-child){margin-right:4px;}/*!sc*/
.bBGvKk[data-size="small"][data-component=IconButton]{width:28px;padding:unset;}/*!sc*/
.bBGvKk[data-size="large"]{padding:0 16px;height:40px;gap:8px;}/*!sc*/
.bBGvKk[data-size="large"] [data-component="buttonContent"] > :not(:last-child){margin-right:8px;}/*!sc*/
.bBGvKk[data-size="large"][data-component=IconButton]{width:40px;padding:unset;}/*!sc*/
.bBGvKk[data-block="block"]{width:100%;}/*!sc*/
.bBGvKk [data-component="leadingVisual"]{grid-area:leadingVisual;}/*!sc*/
.bBGvKk [data-component="text"]{grid-area:text;line-height:calc(20/14);white-space:nowrap;}/*!sc*/
.bBGvKk [data-component="trailingVisual"]{grid-area:trailingVisual;}/*!sc*/
.bBGvKk [data-component="trailingAction"]{margin-right:-4px;}/*!sc*/
.bBGvKk [data-component="buttonContent"]{-webkit-flex:1 0 auto;-ms-flex:1 0 auto;flex:1 0 auto;display:grid;grid-template-areas:"leadingVisual text trailingVisual";grid-template-columns:min-content minmax(0,auto) min-content;-webkit-align-items:center;-webkit-box-align:center;-ms-flex-align:center;align-items:center;-webkit-align-content:center;-ms-flex-line-pack:center;align-content:center;}/*!sc*/
.bBGvKk [data-component="buttonContent"] > :not(:last-child){margin-right:8px;}/*!sc*/
.bBGvKk:hover:not([disabled]){background-color:#30363d;border-color:#8b949e;}/*!sc*/
.bBGvKk:active:not([disabled]){background-color:hsla(212,12%,18%,1);border-color:#6e7681;}/*!sc*/
.bBGvKk[aria-expanded=true]{background-color:hsla(212,12%,18%,1);border-color:#6e7681;}/*!sc*/
.bBGvKk [data-component="leadingVisual"],.bBGvKk [data-component="trailingVisual"],.bBGvKk [data-component="trailingAction"]{color:var(--button-color,#7d8590);}/*!sc*/
.bBGvKk[data-size="small"][data-no-visuals]{border-top-left-radius:0;border-bottom-left-radius:0;}/*!sc*/
.fkqxHO{border-radius:6px;border:1px solid;border-color:rgba(240,246,252,0.1);font-family:inherit;font-weight:500;font-size:14px;cursor:pointer;-webkit-appearance:none;-moz-appearance:none;appearance:none;-webkit-user-select:none;-moz-user-select:none;-ms-user-select:none;user-select:none;-webkit-text-decoration:none;text-decoration:none;text-align:center;display:-webkit-box;display:-webkit-flex;display:-ms-flexbox;display:flex;-webkit-align-items:center;-webkit-box-align:center;-ms-flex-align:center;align-items:center;-webkit-box-pack:justify;-webkit-justify-content:space-between;-ms-flex-pack:justify;justify-content:space-between;height:32px;padding:0 12px;gap:8px;min-width:-webkit-max-content;min-width:-moz-max-content;min-width:max-content;-webkit-transition:80ms cubic-bezier(0.65,0,0.35,1);transition:80ms cubic-bezier(0.65,0,0.35,1);-webkit-transition-property:color,fill,background-color,border-color;transition-property:color,fill,background-color,border-color;color:#c9d1d9;background-color:#21262d;box-shadow:0 0 transparent,0 0 transparent;}/*!sc*/
.fkqxHO:focus:not(:disabled){box-shadow:none;outline:2px solid #2f81f7;outline-offset:-2px;}/*!sc*/
.fkqxHO:focus:not(:disabled):not(:focus-visible){outline:solid 1px transparent;}/*!sc*/
.fkqxHO:focus-visible:not(:disabled){box-shadow:none;outline:2px solid #2f81f7;outline-offset:-2px;}/*!sc*/
.fkqxHO[href]{display:-webkit-inline-box;display:-webkit-inline-flex;display:-ms-inline-flexbox;display:inline-flex;}/*!sc*/
.fkqxHO[href]:hover{-webkit-text-decoration:none;text-decoration:none;}/*!sc*/
.fkqxHO:hover{-webkit-transition-duration:80ms;transition-duration:80ms;}/*!sc*/
.fkqxHO:active{-webkit-transition:none;transition:none;}/*!sc*/
.fkqxHO:disabled{cursor:not-allowed;box-shadow:none;color:#484f58;}/*!sc*/
.fkqxHO:disabled [data-component=ButtonCounter]{color:inherit;}/*!sc*/
@media (forced-colors:active){.fkqxHO:focus{outline:solid 1px transparent;}}/*!sc*/
.fkqxHO [data-component=ButtonCounter]{font-size:12px;}/*!sc*/
.fkqxHO[data-component=IconButton]{display:inline-grid;padding:unset;place-content:center;width:32px;min-width:unset;}/*!sc*/
.fkqxHO[data-size="small"]{padding:0 8px;height:28px;gap:4px;font-size:12px;}/*!sc*/
.fkqxHO[data-size="small"] [data-component="text"]{line-height:calc(20 / 12);}/*!sc*/
.fkqxHO[data-size="small"] [data-component=ButtonCounter]{font-size:12px;}/*!sc*/
.fkqxHO[data-size="small"] [data-component="buttonContent"] > :not(:last-child){margin-right:4px;}/*!sc*/
.fkqxHO[data-size="small"][data-component=IconButton]{width:28px;padding:unset;}/*!sc*/
.fkqxHO[data-size="large"]{padding:0 16px;height:40px;gap:8px;}/*!sc*/
.fkqxHO[data-size="large"] [data-component="buttonContent"] > :not(:last-child){margin-right:8px;}/*!sc*/
.fkqxHO[data-size="large"][data-component=IconButton]{width:40px;padding:unset;}/*!sc*/
.fkqxHO[data-block="block"]{width:100%;}/*!sc*/
.fkqxHO [data-component="leadingVisual"]{grid-area:leadingVisual;}/*!sc*/
.fkqxHO [data-component="text"]{grid-area:text;line-height:calc(20/14);white-space:nowrap;}/*!sc*/
.fkqxHO [data-component="trailingVisual"]{grid-area:trailingVisual;}/*!sc*/
.fkqxHO [data-component="trailingAction"]{margin-right:-4px;}/*!sc*/
.fkqxHO [data-component="buttonContent"]{-webkit-flex:1 0 auto;-ms-flex:1 0 auto;flex:1 0 auto;display:grid;grid-template-areas:"leadingVisual text trailingVisual";grid-template-columns:min-content minmax(0,auto) min-content;-webkit-align-items:center;-webkit-box-align:center;-ms-flex-align:center;align-items:center;-webkit-align-content:center;-ms-flex-line-pack:center;align-content:center;}/*!sc*/
.fkqxHO [data-component="buttonContent"] > :not(:last-child){margin-right:8px;}/*!sc*/
.fkqxHO:hover:not([disabled]){background-color:#30363d;border-color:#8b949e;}/*!sc*/
.fkqxHO:active:not([disabled]){background-color:hsla(212,12%,18%,1);border-color:#6e7681;}/*!sc*/
.fkqxHO[aria-expanded=true]{background-color:hsla(212,12%,18%,1);border-color:#6e7681;}/*!sc*/
.fkqxHO [data-component="leadingVisual"],.fkqxHO [data-component="trailingVisual"],.fkqxHO [data-component="trailingAction"]{color:var(--button-color,#7d8590);}/*!sc*/
.fkqxHO[data-size="small"][data-no-visuals]{border-top-right-radius:0;border-bottom-right-radius:0;border-right-width:0;}/*!sc*/
.fkqxHO[data-size="small"][data-no-visuals]:hover:not([disabled]){-webkit-text-decoration:none;text-decoration:none;}/*!sc*/
.fkqxHO[data-size="small"][data-no-visuals]:focus:not([disabled]){-webkit-text-decoration:none;text-decoration:none;}/*!sc*/
.fkqxHO[data-size="small"][data-no-visuals]:active:not([disabled]){-webkit-text-decoration:none;text-decoration:none;}/*!sc*/
.hvYWzH{border-radius:6px;border:1px solid;border-color:transparent;font-family:inherit;font-weight:500;font-size:14px;cursor:pointer;-webkit-appearance:none;-moz-appearance:none;appearance:none;-webkit-user-select:none;-moz-user-select:none;-ms-user-select:none;user-select:none;-webkit-text-decoration:none;text-decoration:none;text-align:center;display:-webkit-box;display:-webkit-flex;display:-ms-flexbox;display:flex;-webkit-align-items:center;-webkit-box-align:center;-ms-flex-align:center;align-items:center;-webkit-box-pack:justify;-webkit-justify-content:space-between;-ms-flex-pack:justify;justify-content:space-between;height:32px;padding:0 12px;gap:8px;min-width:-webkit-max-content;min-width:-moz-max-content;min-width:max-content;-webkit-transition:80ms cubic-bezier(0.65,0,0.35,1);transition:80ms cubic-bezier(0.65,0,0.35,1);-webkit-transition-property:color,fill,background-color,border-color;transition-property:color,fill,background-color,border-color;color:#2f81f7;background-color:transparent;box-shadow:none;}/*!sc*/
.hvYWzH:focus:not(:disabled){box-shadow:none;outline:2px solid #2f81f7;outline-offset:-2px;}/*!sc*/
.hvYWzH:focus:not(:disabled):not(:focus-visible){outline:solid 1px transparent;}/*!sc*/
.hvYWzH:focus-visible:not(:disabled){box-shadow:none;outline:2px solid #2f81f7;outline-offset:-2px;}/*!sc*/
.hvYWzH[href]{display:-webkit-inline-box;display:-webkit-inline-flex;display:-ms-inline-flexbox;display:inline-flex;}/*!sc*/
.hvYWzH[href]:hover{-webkit-text-decoration:none;text-decoration:none;}/*!sc*/
.hvYWzH:hover{-webkit-transition-duration:80ms;transition-duration:80ms;}/*!sc*/
.hvYWzH:active{-webkit-transition:none;transition:none;}/*!sc*/
.hvYWzH:disabled{cursor:not-allowed;box-shadow:none;color:#484f58;}/*!sc*/
.hvYWzH:disabled [data-component=ButtonCounter],.hvYWzH:disabled [data-component="leadingVisual"],.hvYWzH:disabled [data-component="trailingAction"]{color:inherit;}/*!sc*/
@media (forced-colors:active){.hvYWzH:focus{outline:solid 1px transparent;}}/*!sc*/
.hvYWzH [data-component=ButtonCounter]{font-size:12px;}/*!sc*/
.hvYWzH[data-component=IconButton]{display:inline-grid;padding:unset;place-content:center;width:32px;min-width:unset;}/*!sc*/
.hvYWzH[data-size="small"]{padding:0 8px;height:28px;gap:4px;font-size:12px;}/*!sc*/
.hvYWzH[data-size="small"] [data-component="text"]{line-height:calc(20 / 12);}/*!sc*/
.hvYWzH[data-size="small"] [data-component=ButtonCounter]{font-size:12px;}/*!sc*/
.hvYWzH[data-size="small"] [data-component="buttonContent"] > :not(:last-child){margin-right:4px;}/*!sc*/
.hvYWzH[data-size="small"][data-component=IconButton]{width:28px;padding:unset;}/*!sc*/
.hvYWzH[data-size="large"]{padding:0 16px;height:40px;gap:8px;}/*!sc*/
.hvYWzH[data-size="large"] [data-component="buttonContent"] > :not(:last-child){margin-right:8px;}/*!sc*/
.hvYWzH[data-size="large"][data-component=IconButton]{width:40px;padding:unset;}/*!sc*/
.hvYWzH[data-block="block"]{width:100%;}/*!sc*/
.hvYWzH [data-component="leadingVisual"]{grid-area:leadingVisual;color:#7d8590;}/*!sc*/
.hvYWzH [data-component="text"]{grid-area:text;line-height:calc(20/14);white-space:nowrap;}/*!sc*/
.hvYWzH [data-component="trailingVisual"]{grid-area:trailingVisual;}/*!sc*/
.hvYWzH [data-component="trailingAction"]{margin-right:-4px;color:#7d8590;}/*!sc*/
.hvYWzH [data-component="buttonContent"]{-webkit-flex:1 0 auto;-ms-flex:1 0 auto;flex:1 0 auto;display:grid;grid-template-areas:"leadingVisual text trailingVisual";grid-template-columns:min-content minmax(0,auto) min-content;-webkit-align-items:center;-webkit-box-align:center;-ms-flex-align:center;align-items:center;-webkit-align-content:center;-ms-flex-line-pack:center;align-content:center;}/*!sc*/
.hvYWzH [data-component="buttonContent"] > :not(:last-child){margin-right:8px;}/*!sc*/
.hvYWzH:hover:not([disabled]){background-color:#30363d;}/*!sc*/
.hvYWzH:active:not([disabled]){background-color:#161b22;}/*!sc*/
.hvYWzH[aria-expanded=true]{background-color:#161b22;}/*!sc*/
.hvYWzH[data-component="IconButton"][data-no-visuals]{color:#7d8590;}/*!sc*/
.hvYWzH[data-no-visuals]{color:#2f81f7;}/*!sc*/
.hvYWzH:has([data-component="ButtonCounter"]){color:#2f81f7;}/*!sc*/
.hvYWzH:disabled[data-no-visuals]{color:#484f58;}/*!sc*/
.hvYWzH:disabled[data-no-visuals] [data-component=ButtonCounter]{color:inherit;}/*!sc*/
.hvYWzH[data-size="small"][data-no-visuals]{color:#7d8590;}/*!sc*/
data-styled.g28[id="types__StyledButton-sc-ws60qy-0"]{content:"cmNjCr,jHkYUy,fyVJEC,klnJmI,hlQbCG,iwfGUC,fQmjix,fzrsQY,fJIYie,dWukOn,cuVVHm,kGDoCG,heQQbl,llLGPo,bBGvKk,fkqxHO,hvYWzH,"}/*!sc*/
.fCnxTL{position:relative;display:inline-block;}/*!sc*/
.fCnxTL::before{position:absolute;z-index:1000001;display:none;width:0px;height:0px;color:#6e7681;pointer-events:none;content:'';border:6px solid transparent;opacity:0;}/*!sc*/
.fCnxTL::after{position:absolute;z-index:1000000;display:none;padding:0.5em 0.75em;font:normal normal 11px/1.5 -apple-system,BlinkMacSystemFont,"Segoe UI","Noto Sans",Helvetica,Arial,sans-serif,"Apple Color Emoji","Segoe UI Emoji";-webkit-font-smoothing:subpixel-antialiased;color:#ffffff;text-align:center;-webkit-text-decoration:none;text-decoration:none;text-shadow:none;text-transform:none;-webkit-letter-spacing:normal;-moz-letter-spacing:normal;-ms-letter-spacing:normal;letter-spacing:normal;word-wrap:break-word;white-space:pre;pointer-events:none;content:attr(aria-label);background:#6e7681;border-radius:3px;opacity:0;}/*!sc*/
@-webkit-keyframes tooltip-appear{from{opacity:0;}to{opacity:1;}}/*!sc*/
@keyframes tooltip-appear{from{opacity:0;}to{opacity:1;}}/*!sc*/
.fCnxTL:hover::before,.fCnxTL:active::before,.fCnxTL:focus::before,.fCnxTL:focus-within::before,.fCnxTL:hover::after,.fCnxTL:active::after,.fCnxTL:focus::after,.fCnxTL:focus-within::after{display:inline-block;-webkit-text-decoration:none;text-decoration:none;-webkit-animation-name:tooltip-appear;animation-name:tooltip-appear;-webkit-animation-duration:0.1s;animation-duration:0.1s;-webkit-animation-fill-mode:forwards;animation-fill-mode:forwards;-webkit-animation-timing-function:ease-in;animation-timing-function:ease-in;-webkit-animation-delay:0.4s;animation-delay:0.4s;}/*!sc*/
.fCnxTL.tooltipped-no-delay:hover::before,.fCnxTL.tooltipped-no-delay:active::before,.fCnxTL.tooltipped-no-delay:focus::before,.fCnxTL.tooltipped-no-delay:focus-within::before,.fCnxTL.tooltipped-no-delay:hover::after,.fCnxTL.tooltipped-no-delay:active::after,.fCnxTL.tooltipped-no-delay:focus::after,.fCnxTL.tooltipped-no-delay:focus-within::after{-webkit-animation-delay:0s;animation-delay:0s;}/*!sc*/
.fCnxTL.tooltipped-multiline:hover::after,.fCnxTL.tooltipped-multiline:active::after,.fCnxTL.tooltipped-multiline:focus::after,.fCnxTL.tooltipped-multiline:focus-within::after{display:table-cell;}/*!sc*/
.fCnxTL.tooltipped-s::after,.fCnxTL.tooltipped-se::after,.fCnxTL.tooltipped-sw::after{top:100%;right:50%;margin-top:6px;}/*!sc*/
.fCnxTL.tooltipped-s::before,.fCnxTL.tooltipped-se::before,.fCnxTL.tooltipped-sw::before{top:auto;right:50%;bottom:-7px;margin-right:-6px;border-bottom-color:#6e7681;}/*!sc*/
.fCnxTL.tooltipped-se::after{right:auto;left:50%;margin-left:-16px;}/*!sc*/
.fCnxTL.tooltipped-sw::after{margin-right:-16px;}/*!sc*/
.fCnxTL.tooltipped-n::after,.fCnxTL.tooltipped-ne::after,.fCnxTL.tooltipped-nw::after{right:50%;bottom:100%;margin-bottom:6px;}/*!sc*/
.fCnxTL.tooltipped-n::before,.fCnxTL.tooltipped-ne::before,.fCnxTL.tooltipped-nw::before{top:-7px;right:50%;bottom:auto;margin-right:-6px;border-top-color:#6e7681;}/*!sc*/
.fCnxTL.tooltipped-ne::after{right:auto;left:50%;margin-left:-16px;}/*!sc*/
.fCnxTL.tooltipped-nw::after{margin-right:-16px;}/*!sc*/
.fCnxTL.tooltipped-s::after,.fCnxTL.tooltipped-n::after{-webkit-transform:translateX(50%);-ms-transform:translateX(50%);transform:translateX(50%);}/*!sc*/
.fCnxTL.tooltipped-w::after{right:100%;bottom:50%;margin-right:6px;-webkit-transform:translateY(50%);-ms-transform:translateY(50%);transform:translateY(50%);}/*!sc*/
.fCnxTL.tooltipped-w::before{top:50%;bottom:50%;left:-7px;margin-top:-6px;border-left-color:#6e7681;}/*!sc*/
.fCnxTL.tooltipped-e::after{bottom:50%;left:100%;margin-left:6px;-webkit-transform:translateY(50%);-ms-transform:translateY(50%);transform:translateY(50%);}/*!sc*/
.fCnxTL.tooltipped-e::before{top:50%;right:-7px;bottom:50%;margin-top:-6px;border-right-color:#6e7681;}/*!sc*/
.fCnxTL.tooltipped-multiline::after{width:-webkit-max-content;width:-moz-max-content;width:max-content;max-width:250px;word-wrap:break-word;white-space:pre-line;border-collapse:separate;}/*!sc*/
.fCnxTL.tooltipped-multiline.tooltipped-s::after,.fCnxTL.tooltipped-multiline.tooltipped-n::after{right:auto;left:50%;-webkit-transform:translateX(-50%);-ms-transform:translateX(-50%);transform:translateX(-50%);}/*!sc*/
.fCnxTL.tooltipped-multiline.tooltipped-w::after,.fCnxTL.tooltipped-multiline.tooltipped-e::after{right:100%;}/*!sc*/
.fCnxTL.tooltipped-align-right-2::after{right:0;margin-right:0;}/*!sc*/
.fCnxTL.tooltipped-align-right-2::before{right:15px;}/*!sc*/
.fCnxTL.tooltipped-align-left-2::after{left:0;margin-left:0;}/*!sc*/
.fCnxTL.tooltipped-align-left-2::before{left:10px;}/*!sc*/
data-styled.g29[id="Tooltip__TooltipBase-sc-uha8qm-0"]{content:"fCnxTL,"}/*!sc*/
.cDLBls{border:0;font-size:inherit;font-family:inherit;background-color:transparent;-webkit-appearance:none;color:inherit;width:100%;}/*!sc*/
.cDLBls:focus{outline:0;}/*!sc*/
data-styled.g30[id="UnstyledTextInput-sc-14ypya-0"]{content:"cDLBls,"}/*!sc*/
.bOMzPg{min-width:0;}/*!sc*/
.fWVgeN{padding-left:4px;padding-right:4px;font-weight:400;color:#7d8590;font-size:16px;}/*!sc*/
.hfRvxg{color:#e6edf3;}/*!sc*/
.iqTHmv{padding-left:4px;padding-right:4px;font-weight:400;color:#7d8590;font-size:14px;}/*!sc*/
data-styled.g36[id="Text-sc-17v1xeu-0"]{content:"bOMzPg,fWVgeN,hfRvxg,gPDEWA,iqTHmv,"}/*!sc*/
.cjbBGq{display:-webkit-inline-box;display:-webkit-inline-flex;display:-ms-inline-flexbox;display:inline-flex;vertical-align:middle;isolation:isolate;}/*!sc*/
.cjbBGq.cjbBGq > *{margin-inline-end:-1px;position:relative;border-radius:0;}/*!sc*/
.cjbBGq.cjbBGq > *:first-child{border-top-left-radius:6px;border-bottom-left-radius:6px;}/*!sc*/
.cjbBGq.cjbBGq > *:last-child{border-top-right-radius:6px;border-bottom-right-radius:6px;}/*!sc*/
.cjbBGq.cjbBGq > *:focus,.cjbBGq.cjbBGq > *:active,.cjbBGq.cjbBGq > *:hover{z-index:1;}/*!sc*/
data-styled.g67[id="ButtonGroup-sc-1gxhls1-0"]{content:"cjbBGq,"}/*!sc*/
.gKuCoB{--segmented-control-button-inner-padding:12px;--segmented-control-button-bg-inset:4px;--segmented-control-outer-radius:6px;background-color:transparent;border-color:transparent;border-radius:var(--segmented-control-outer-radius);border-width:0;color:currentColor;cursor:pointer;font-family:inherit;font-size:inherit;font-weight:600;padding:0;height:100%;width:100%;}/*!sc*/
.gKuCoB .segmentedControl-content{-webkit-align-items:center;-webkit-box-align:center;-ms-flex-align:center;align-items:center;background-color:#0d1117;border-color:#6e7681;border-style:solid;border-width:1px;border-radius:var(--segmented-control-outer-radius);display:-webkit-box;display:-webkit-flex;display:-ms-flexbox;display:flex;height:100%;-webkit-box-pack:center;-webkit-justify-content:center;-ms-flex-pack:center;justify-content:center;padding-left:var(--segmented-control-button-inner-padding);padding-right:var(--segmented-control-button-inner-padding);}/*!sc*/
.gKuCoB svg{fill:#7d8590;}/*!sc*/
.gKuCoB:focus:focus-visible:not(:last-child):after{width:0;}/*!sc*/
.gKuCoB .segmentedControl-text:after{content:"Preview";display:block;font-weight:600;height:0;overflow:hidden;pointer-events:none;-webkit-user-select:none;-moz-user-select:none;-ms-user-select:none;user-select:none;visibility:hidden;}/*!sc*/
@media (pointer:coarse){.gKuCoB:before{content:"";position:absolute;left:0;right:0;-webkit-transform:translateY(-50%);-ms-transform:translateY(-50%);transform:translateY(-50%);top:50%;min-height:44px;}}/*!sc*/
.fCAAcl{--segmented-control-button-inner-padding:12px;--segmented-control-button-bg-inset:4px;--segmented-control-outer-radius:6px;background-color:transparent;border-color:transparent;border-radius:var(--segmented-control-outer-radius);border-width:0;color:currentColor;cursor:pointer;font-family:inherit;font-size:inherit;font-weight:400;padding:var(--segmented-control-button-bg-inset);height:100%;width:100%;}/*!sc*/
.fCAAcl .segmentedControl-content{-webkit-align-items:center;-webkit-box-align:center;-ms-flex-align:center;align-items:center;background-color:transparent;border-color:transparent;border-style:solid;border-width:1px;border-radius:calc(var(--segmented-control-outer-radius) - var(--segmented-control-button-bg-inset) / 2);display:-webkit-box;display:-webkit-flex;display:-ms-flexbox;display:flex;height:100%;-webkit-box-pack:center;-webkit-justify-content:center;-ms-flex-pack:center;justify-content:center;padding-left:calc(var(--segmented-control-button-inner-padding) - var(--segmented-control-button-bg-inset));padding-right:calc(var(--segmented-control-button-inner-padding) - var(--segmented-control-button-bg-inset));}/*!sc*/
.fCAAcl svg{fill:#7d8590;}/*!sc*/
.fCAAcl:hover .segmentedControl-content{background-color:#30363d;}/*!sc*/
.fCAAcl:active .segmentedControl-content{background-color:#21262d;}/*!sc*/
.fCAAcl:focus:focus-visible:not(:last-child):after{width:0;}/*!sc*/
.fCAAcl .segmentedControl-text:after{content:"Code";display:block;font-weight:600;height:0;overflow:hidden;pointer-events:none;-webkit-user-select:none;-moz-user-select:none;-ms-user-select:none;user-select:none;visibility:hidden;}/*!sc*/
@media (pointer:coarse){.fCAAcl:before{content:"";position:absolute;left:0;right:0;-webkit-transform:translateY(-50%);-ms-transform:translateY(-50%);transform:translateY(-50%);top:50%;min-height:44px;}}/*!sc*/
.dAXkSP{--segmented-control-button-inner-padding:12px;--segmented-control-button-bg-inset:4px;--segmented-control-outer-radius:6px;background-color:transparent;border-color:transparent;border-radius:var(--segmented-control-outer-radius);border-width:0;color:currentColor;cursor:pointer;font-family:inherit;font-size:inherit;font-weight:400;padding:var(--segmented-control-button-bg-inset);height:100%;width:100%;}/*!sc*/
.dAXkSP .segmentedControl-content{-webkit-align-items:center;-webkit-box-align:center;-ms-flex-align:center;align-items:center;background-color:transparent;border-color:transparent;border-style:solid;border-width:1px;border-radius:calc(var(--segmented-control-outer-radius) - var(--segmented-control-button-bg-inset) / 2);display:-webkit-box;display:-webkit-flex;display:-ms-flexbox;display:flex;height:100%;-webkit-box-pack:center;-webkit-justify-content:center;-ms-flex-pack:center;justify-content:center;padding-left:calc(var(--segmented-control-button-inner-padding) - var(--segmented-control-button-bg-inset));padding-right:calc(var(--segmented-control-button-inner-padding) - var(--segmented-control-button-bg-inset));}/*!sc*/
.dAXkSP svg{fill:#7d8590;}/*!sc*/
.dAXkSP:hover .segmentedControl-content{background-color:#30363d;}/*!sc*/
.dAXkSP:active .segmentedControl-content{background-color:#21262d;}/*!sc*/
.dAXkSP:focus:focus-visible:not(:last-child):after{width:0;}/*!sc*/
.dAXkSP .segmentedControl-text:after{content:"Blame";display:block;font-weight:600;height:0;overflow:hidden;pointer-events:none;-webkit-user-select:none;-moz-user-select:none;-ms-user-select:none;user-select:none;visibility:hidden;}/*!sc*/
@media (pointer:coarse){.dAXkSP:before{content:"";position:absolute;left:0;right:0;-webkit-transform:translateY(-50%);-ms-transform:translateY(-50%);transform:translateY(-50%);top:50%;min-height:44px;}}/*!sc*/
data-styled.g91[id="SegmentedControlButton__SegmentedControlButtonStyled-sc-8lkgxl-0"]{content:"gKuCoB,fCAAcl,dAXkSP,"}/*!sc*/
.ivYJSK{background-color:rgba(110,118,129,0.1);border-radius:6px;display:-webkit-inline-box;display:-webkit-inline-flex;display:-ms-inline-flexbox;display:inline-flex;font-size:14px;height:28px;margin:0;padding:0;}/*!sc*/
data-styled.g93[id="SegmentedControl__SegmentedControlList-sc-1rzig82-0"]{content:"ivYJSK,"}/*!sc*/
body[data-page-layout-dragging="true"]{cursor:col-resize;}/*!sc*/
body[data-page-layout-dragging="true"] *{-webkit-user-select:none;-moz-user-select:none;-ms-user-select:none;user-select:none;}/*!sc*/
data-styled.g97[id="sc-global-gbKrvU1"]{content:"sc-global-gbKrvU1,"}/*!sc*/
.hLwWNO{list-style:none;padding:0;margin:0;}/*!sc*/
.hLwWNO .PRIVATE_TreeView-item{outline:none;}/*!sc*/
.hLwWNO .PRIVATE_TreeView-item:focus-visible > div,.hLwWNO .PRIVATE_TreeView-item.focus-visible > div{box-shadow:inset 0 0 0 2px #2f81f7;}/*!sc*/
@media (forced-colors:active){.hLwWNO .PRIVATE_TreeView-item:focus-visible > div,.hLwWNO .PRIVATE_TreeView-item.focus-visible > div{outline:2px solid HighlightText;outline-offset:-2;}}/*!sc*/
.hLwWNO .PRIVATE_TreeView-item-container{--level:1;--toggle-width:1rem;position:relative;display:grid;grid-template-columns:calc(calc(var(--level) - 1) * (var(--toggle-width) / 2)) var(--toggle-width) 1fr;grid-template-areas:'spacer toggle content';width:100%;min-height:2rem;font-size:14px;color:#e6edf3;border-radius:6px;cursor:pointer;}/*!sc*/
.hLwWNO .PRIVATE_TreeView-item-container:hover{background-color:rgba(177,186,196,0.12);}/*!sc*/
@media (forced-colors:active){.hLwWNO .PRIVATE_TreeView-item-container:hover{outline:2px solid transparent;outline-offset:-2px;}}/*!sc*/
@media (pointer:coarse){.hLwWNO .PRIVATE_TreeView-item-container{--toggle-width:1.5rem;min-height:2.75rem;}}/*!sc*/
.hLwWNO .PRIVATE_TreeView-item-container:has(.PRIVATE_TreeView-item-skeleton):hover{background-color:transparent;cursor:default;}/*!sc*/
@media (forced-colors:active){.hLwWNO .PRIVATE_TreeView-item-container:has(.PRIVATE_TreeView-item-skeleton):hover{outline:none;}}/*!sc*/
.hLwWNO[data-omit-spacer='true'] .PRIVATE_TreeView-item-container{grid-template-columns:0 0 1fr;}/*!sc*/
.hLwWNO .PRIVATE_TreeView-item[aria-current='true'] > .PRIVATE_TreeView-item-container{background-color:rgba(177,186,196,0.08);}/*!sc*/
.hLwWNO .PRIVATE_TreeView-item[aria-current='true'] > .PRIVATE_TreeView-item-container::after{content:'';position:absolute;top:calc(50% - 0.75rem);left:-8px;width:0.25rem;height:1.5rem;background-color:#2f81f7;border-radius:6px;}/*!sc*/
@media (forced-colors:active){.hLwWNO .PRIVATE_TreeView-item[aria-current='true'] > .PRIVATE_TreeView-item-container::after{background-color:HighlightText;}}/*!sc*/
.hLwWNO .PRIVATE_TreeView-item-toggle{grid-area:toggle;display:-webkit-box;display:-webkit-flex;display:-ms-flexbox;display:flex;-webkit-align-items:center;-webkit-box-align:center;-ms-flex-align:center;align-items:center;-webkit-box-pack:center;-webkit-justify-content:center;-ms-flex-pack:center;justify-content:center;height:100%;color:#7d8590;}/*!sc*/
.hLwWNO .PRIVATE_TreeView-item-toggle--hover:hover{background-color:rgba(177,186,196,0.12);}/*!sc*/
.hLwWNO .PRIVATE_TreeView-item-toggle--end{border-top-left-radius:6px;border-bottom-left-radius:6px;}/*!sc*/
.hLwWNO .PRIVATE_TreeView-item-content{grid-area:content;display:-webkit-box;display:-webkit-flex;display:-ms-flexbox;display:flex;-webkit-align-items:center;-webkit-box-align:center;-ms-flex-align:center;align-items:center;height:100%;padding:0 8px;gap:8px;}/*!sc*/
.hLwWNO .PRIVATE_TreeView-item-content-text{-webkit-flex:1 1 auto;-ms-flex:1 1 auto;flex:1 1 auto;width:0;overflow:hidden;white-space:nowrap;text-overflow:ellipsis;}/*!sc*/
.hLwWNO .PRIVATE_TreeView-item-visual{display:-webkit-box;display:-webkit-flex;display:-ms-flexbox;display:flex;color:#7d8590;}/*!sc*/
.hLwWNO .PRIVATE_TreeView-item-level-line{width:100%;height:100%;border-right:1px solid;border-color:rgba(240,246,252,0.1);}/*!sc*/
@media (hover:hover){.hLwWNO .PRIVATE_TreeView-item-level-line{border-color:transparent;}.hLwWNO:hover .PRIVATE_TreeView-item-level-line,.hLwWNO:focus-within .PRIVATE_TreeView-item-level-line{border-color:rgba(240,246,252,0.1);}}/*!sc*/
.hLwWNO .PRIVATE_TreeView-directory-icon{display:grid;color:#7d8590;}/*!sc*/
.hLwWNO .PRIVATE_VisuallyHidden{position:absolute;width:1px;height:1px;padding:0;margin:-1px;overflow:hidden;-webkit-clip:rect(0,0,0,0);clip:rect(0,0,0,0);white-space:nowrap;border-width:0;}/*!sc*/
data-styled.g104[id="TreeView__UlBox-sc-4ex6b6-0"]{content:"hLwWNO,"}/*!sc*/
</style><meta data-hydrostats="publish"/> <!-- --> <!-- --> <!-- --> <button hidden="" data-testid="header-permalink-button" data-hotkey-scope="read-only-cursor-text-area"></button><button hidden=""></button><div class="Box-sc-g0xbh4-0"><div style="--sticky-pane-height:100vh" class="Box-sc-g0xbh4-0 fSWWem"><div class="Box-sc-g0xbh4-0 kPPmzM"><div class="Box-sc-g0xbh4-0 cIAPDV"><div tabindex="0" class="Box-sc-g0xbh4-0 gvCnwW"><div class="Box-sc-g0xbh4-0 kFEKvZ"><div class="Box-sc-g0xbh4-0 eUyHuk"></div><div class="Box-sc-g0xbh4-0 hAeDYA"><div role="separator" class="Box-sc-g0xbh4-0 dZCkhR"></div></div><div style="--pane-width:320px" class="Box-sc-g0xbh4-0 gNdDUH"><span class="_VisuallyHidden__VisuallyHidden-sc-11jhm7a-0 rTZSs"><form><label for=":Rdjal5:-width-input">Pane width</label><p id=":Rdjal5:-input-hint">Use a value between <!-- -->0<!-- -->% and <!-- -->0<!-- -->%</p><input id=":Rdjal5:-width-input" aria-describedby=":Rdjal5:-input-hint" name="pane-width" inputMode="numeric" pattern="[0-9]*" autoCorrect="off" autoComplete="off" type="text" value=""/><button type="submit">Change width</button></form></span><div class="Box-sc-g0xbh4-0 react-tree-pane-contents-3-panel"><div id="repos-file-tree" class="Box-sc-g0xbh4-0 jywUSN"><div class="Box-sc-g0xbh4-0 hBSSUC"><div class="Box-sc-g0xbh4-0 iPurHz"><h2 class="Heading__StyledHeading-sc-1c1dgg0-0 fNPcqd"><button style="--button-color:fg.muted" type="button" aria-label="Expand side panel" data-testid="expand-file-tree-button-mobile" class="types__StyledButton-sc-ws60qy-0 cmNjCr"><span data-component="buttonContent" class="Box-sc-g0xbh4-0 kkrdEu"><span data-component="leadingVisual" class="Box-sc-g0xbh4-0 trpoQ"><svg aria-hidden="true" focusable="false" role="img" class="octicon octicon-arrow-left" viewBox="0 0 16 16" width="16" height="16" fill="currentColor" style="display:inline-block;user-select:none;vertical-align:text-bottom;overflow:visible"><path d="M7.78 12.53a.75.75 0 0 1-1.06 0L2.47 8.28a.75.75 0 0 1 0-1.06l4.25-4.25a.751.751 0 0 1 1.042.018.751.751 0 0 1 .018 1.042L4.81 7h7.44a.75.75 0 0 1 0 1.5H4.81l2.97 2.97a.75.75 0 0 1 0 1.06Z"></path></svg></span><span data-component="text">Files</span></span></button><button data-component="IconButton" type="button" data-testid="collapse-file-tree-button" aria-label="Side panel" aria-expanded="true" aria-controls="repos-file-tree" class="types__StyledButton-sc-ws60qy-0 jHkYUy" data-no-visuals="true"><svg aria-hidden="true" focusable="false" role="img" class="octicon octicon-sidebar-expand" viewBox="0 0 16 16" width="16" height="16" fill="currentColor" style="display:inline-block;user-select:none;vertical-align:text-bottom;overflow:visible"><path d="m4.177 7.823 2.396-2.396A.25.25 0 0 1 7 5.604v4.792a.25.25 0 0 1-.427.177L4.177 8.177a.25.25 0 0 1 0-.354Z"></path><path d="M0 1.75C0 .784.784 0 1.75 0h12.5C15.216 0 16 .784 16 1.75v12.5A1.75 1.75 0 0 1 14.25 16H1.75A1.75 1.75 0 0 1 0 14.25Zm1.75-.25a.25.25 0 0 0-.25.25v12.5c0 .138.112.25.25.25H9.5v-13Zm12.5 13a.25.25 0 0 0 .25-.25V1.75a.25.25 0 0 0-.25-.25H11v13Z"></path></svg></button><button hidden="" data-testid="" data-hotkey-scope="read-only-cursor-text-area"></button></h2><h2 class="Heading__StyledHeading-sc-1c1dgg0-0 imcwCi">Files</h2></div><div class="Box-sc-g0xbh4-0 hVHHYa"><div class="Box-sc-g0xbh4-0 idZfsJ"><button type="button" id="branch-picker-repos-header-ref-selector" aria-haspopup="true" tabindex="0" aria-label="main branch" data-testid="anchor-button" class="types__StyledButton-sc-ws60qy-0 fyVJEC react-repos-tree-pane-ref-selector width-full ref-selector-class"><span data-component="buttonContent" class="Box-sc-g0xbh4-0 kkrdEu"><span data-component="text"><div class="Box-sc-g0xbh4-0 bKgizp"><div class="Box-sc-g0xbh4-0 bwTunw"><svg aria-hidden="true" focusable="false" role="img" class="octicon octicon-git-branch" viewBox="0 0 16 16" width="16" height="16" fill="currentColor" style="display:inline-block;user-select:none;vertical-align:text-bottom;overflow:visible"><path d="M9.5 3.25a2.25 2.25 0 1 1 3 2.122V6A2.5 2.5 0 0 1 10 8.5H6a1 1 0 0 0-1 1v1.128a2.251 2.251 0 1 1-1.5 0V5.372a2.25 2.25 0 1 1 1.5 0v1.836A2.493 2.493 0 0 1 6 7h4a1 1 0 0 0 1-1v-.628A2.25 2.25 0 0 1 9.5 3.25Zm-6 0a.75.75 0 1 0 1.5 0 .75.75 0 0 0-1.5 0Zm8.25-.75a.75.75 0 1 0 0 1.5.75.75 0 0 0 0-1.5ZM4.25 12a.75.75 0 1 0 0 1.5.75.75 0 0 0 0-1.5Z"></path></svg></div><div class="Box-sc-g0xbh4-0 caeYDk"><span class="Text-sc-17v1xeu-0 bOMzPg"> <!-- -->main</span></div></div></span><span data-component="trailingVisual" class="Box-sc-g0xbh4-0 trpoQ"><svg aria-hidden="true" focusable="false" role="img" class="octicon octicon-triangle-down" viewBox="0 0 16 16" width="16" height="16" fill="currentColor" style="display:inline-block;user-select:none;vertical-align:text-bottom;overflow:visible"><path d="m4.427 7.427 3.396 3.396a.25.25 0 0 0 .354 0l3.396-3.396A.25.25 0 0 0 11.396 7H4.604a.25.25 0 0 0-.177.427Z"></path></svg></span></span></button><button hidden="" data-hotkey-scope="read-only-cursor-text-area"></button></div><div class="Box-sc-g0xbh4-0 jahcnb"><span role="tooltip" aria-label="Add file" class="Tooltip__TooltipBase-sc-uha8qm-0 fCnxTL tooltipped-s"><a sx="[object Object]" data-component="IconButton" type="button" aria-label="Add file" data-no-visuals="true" class="types__StyledButton-sc-ws60qy-0 klnJmI" href="/UCLAIS/ML-Tutorials-Season-4-In-Progress/new/main/week-2"><svg aria-hidden="true" focusable="false" role="img" class="octicon octicon-plus" viewBox="0 0 16 16" width="16" height="16" fill="currentColor" style="display:inline-block;user-select:none;vertical-align:text-bottom;overflow:visible"><path d="M7.75 2a.75.75 0 0 1 .75.75V7h4.25a.75.75 0 0 1 0 1.5H8.5v4.25a.75.75 0 0 1-1.5 0V8.5H2.75a.75.75 0 0 1 0-1.5H7V2.75A.75.75 0 0 1 7.75 2Z"></path></svg></a></span><button data-component="IconButton" type="button" aria-label="Search this repository" data-no-visuals="true" class="types__StyledButton-sc-ws60qy-0 hlQbCG"><svg aria-hidden="true" focusable="false" role="img" class="octicon octicon-search" viewBox="0 0 16 16" width="16" height="16" fill="currentColor" style="display:inline-block;user-select:none;vertical-align:text-bottom;overflow:visible"><path d="M10.68 11.74a6 6 0 0 1-7.922-8.982 6 6 0 0 1 8.982 7.922l3.04 3.04a.749.749 0 0 1-.326 1.275.749.749 0 0 1-.734-.215ZM11.5 7a4.499 4.499 0 1 0-8.997 0A4.499 4.499 0 0 0 11.5 7Z"></path></svg></button><button hidden="" data-testid="" data-hotkey-scope="read-only-cursor-text-area"></button></div></div></div><div class="Box-sc-g0xbh4-0 ccToMy"><button hidden="" data-testid="" data-hotkey-scope="read-only-cursor-text-area"></button><button hidden=""></button><span class="TextInputWrapper__TextInputBaseWrapper-sc-1mqhpbi-0 TextInputWrapper-sc-1mqhpbi-1 hSXtjz hZMmEi TextInput-wrapper" aria-busy="false"><span class="TextInput-icon"><svg aria-hidden="true" focusable="false" role="img" class="octicon octicon-search" viewBox="0 0 16 16" width="16" height="16" fill="currentColor" style="display:inline-block;user-select:none;vertical-align:text-bottom;overflow:visible"><path d="M10.68 11.74a6 6 0 0 1-7.922-8.982 6 6 0 0 1 8.982 7.922l3.04 3.04a.749.749 0 0 1-.326 1.275.749.749 0 0 1-.734-.215ZM11.5 7a4.499 4.499 0 1 0-8.997 0A4.499 4.499 0 0 0 11.5 7Z"></path></svg></span><input type="text" aria-label="Go to file" role="combobox" aria-controls="file-results-list" aria-expanded="false" aria-haspopup="dialog" autoCorrect="off" spellcheck="false" placeholder="Go to file" data-component="input" class="UnstyledTextInput-sc-14ypya-0 cDLBls" value=""/><span class="TextInput-icon"><div class="Box-sc-g0xbh4-0 cNvKlH"><kbd>t</kbd></div></span></span></div><div class="Box-sc-g0xbh4-0 cLfAnm"><div class="react-tree-show-tree-items"><div data-testid="repos-file-tree-container" class="Box-sc-g0xbh4-0 erWCJP"><nav aria-label="File Tree Navigation"><span role="status" aria-live="polite" aria-atomic="true" class="_VisuallyHidden__VisuallyHidden-sc-11jhm7a-0 rTZSs"></span><ul role="tree" aria-label="Files" class="TreeView__UlBox-sc-4ex6b6-0 hLwWNO"><li class="PRIVATE_TreeView-item" tabindex="0" id="Doxa-Challenges-item" role="treeitem" aria-labelledby=":Rqcndjal5:" aria-describedby=":Rqcndjal5H1: :Rqcndjal5H2:" aria-level="1" aria-expanded="false" aria-selected="false"><div class="PRIVATE_TreeView-item-container" style="--level:1;content-visibility:auto;contain-intrinsic-size:auto 2rem"><div style="grid-area:spacer;display:flex"><div style="width:100%;display:flex"></div></div><div class="PRIVATE_TreeView-item-toggle PRIVATE_TreeView-item-toggle--hover PRIVATE_TreeView-item-toggle--end"><svg aria-hidden="true" focusable="false" role="img" class="octicon octicon-chevron-right" viewBox="0 0 12 12" width="12" height="12" fill="currentColor" style="display:inline-block;user-select:none;vertical-align:text-bottom;overflow:visible"><path d="M4.7 10c-.2 0-.4-.1-.5-.2-.3-.3-.3-.8 0-1.1L6.9 6 4.2 3.3c-.3-.3-.3-.8 0-1.1.3-.3.8-.3 1.1 0l3.3 3.2c.3.3.3.8 0 1.1L5.3 9.7c-.2.2-.4.3-.6.3Z"></path></svg></div><div id=":Rqcndjal5:" class="PRIVATE_TreeView-item-content"><div class="PRIVATE_VisuallyHidden" aria-hidden="true" id=":Rqcndjal5H1:"></div><div class="PRIVATE_TreeView-item-visual" aria-hidden="true"><div class="PRIVATE_TreeView-directory-icon"><svg aria-hidden="true" focusable="false" role="img" class="octicon octicon-file-directory-fill" viewBox="0 0 16 16" width="16" height="16" fill="currentColor" style="display:inline-block;user-select:none;vertical-align:text-bottom;overflow:visible"><path d="M1.75 1A1.75 1.75 0 0 0 0 2.75v10.5C0 14.216.784 15 1.75 15h12.5A1.75 1.75 0 0 0 16 13.25v-8.5A1.75 1.75 0 0 0 14.25 3H7.5a.25.25 0 0 1-.2-.1l-.9-1.2C6.07 1.26 5.55 1 5 1H1.75Z"></path></svg></div></div><span class="PRIVATE_TreeView-item-content-text"><span>Doxa-Challenges</span></span></div></div></li><li class="PRIVATE_TreeView-item" tabindex="0" id="week-0-item" role="treeitem" aria-labelledby=":R1acndjal5:" aria-describedby=":R1acndjal5H1: :R1acndjal5H2:" aria-level="1" aria-expanded="false" aria-selected="false"><div class="PRIVATE_TreeView-item-container" style="--level:1;content-visibility:auto;contain-intrinsic-size:auto 2rem"><div style="grid-area:spacer;display:flex"><div style="width:100%;display:flex"></div></div><div class="PRIVATE_TreeView-item-toggle PRIVATE_TreeView-item-toggle--hover PRIVATE_TreeView-item-toggle--end"><svg aria-hidden="true" focusable="false" role="img" class="octicon octicon-chevron-right" viewBox="0 0 12 12" width="12" height="12" fill="currentColor" style="display:inline-block;user-select:none;vertical-align:text-bottom;overflow:visible"><path d="M4.7 10c-.2 0-.4-.1-.5-.2-.3-.3-.3-.8 0-1.1L6.9 6 4.2 3.3c-.3-.3-.3-.8 0-1.1.3-.3.8-.3 1.1 0l3.3 3.2c.3.3.3.8 0 1.1L5.3 9.7c-.2.2-.4.3-.6.3Z"></path></svg></div><div id=":R1acndjal5:" class="PRIVATE_TreeView-item-content"><div class="PRIVATE_VisuallyHidden" aria-hidden="true" id=":R1acndjal5H1:"></div><div class="PRIVATE_TreeView-item-visual" aria-hidden="true"><div class="PRIVATE_TreeView-directory-icon"><svg aria-hidden="true" focusable="false" role="img" class="octicon octicon-file-directory-fill" viewBox="0 0 16 16" width="16" height="16" fill="currentColor" style="display:inline-block;user-select:none;vertical-align:text-bottom;overflow:visible"><path d="M1.75 1A1.75 1.75 0 0 0 0 2.75v10.5C0 14.216.784 15 1.75 15h12.5A1.75 1.75 0 0 0 16 13.25v-8.5A1.75 1.75 0 0 0 14.25 3H7.5a.25.25 0 0 1-.2-.1l-.9-1.2C6.07 1.26 5.55 1 5 1H1.75Z"></path></svg></div></div><span class="PRIVATE_TreeView-item-content-text"><span>week-0</span></span></div></div></li><li class="PRIVATE_TreeView-item" tabindex="0" id="week-1-item" role="treeitem" aria-labelledby=":R1qcndjal5:" aria-describedby=":R1qcndjal5H1: :R1qcndjal5H2:" aria-level="1" aria-expanded="false" aria-selected="false"><div class="PRIVATE_TreeView-item-container" style="--level:1;content-visibility:auto;contain-intrinsic-size:auto 2rem"><div style="grid-area:spacer;display:flex"><div style="width:100%;display:flex"></div></div><div class="PRIVATE_TreeView-item-toggle PRIVATE_TreeView-item-toggle--hover PRIVATE_TreeView-item-toggle--end"><svg aria-hidden="true" focusable="false" role="img" class="octicon octicon-chevron-right" viewBox="0 0 12 12" width="12" height="12" fill="currentColor" style="display:inline-block;user-select:none;vertical-align:text-bottom;overflow:visible"><path d="M4.7 10c-.2 0-.4-.1-.5-.2-.3-.3-.3-.8 0-1.1L6.9 6 4.2 3.3c-.3-.3-.3-.8 0-1.1.3-.3.8-.3 1.1 0l3.3 3.2c.3.3.3.8 0 1.1L5.3 9.7c-.2.2-.4.3-.6.3Z"></path></svg></div><div id=":R1qcndjal5:" class="PRIVATE_TreeView-item-content"><div class="PRIVATE_VisuallyHidden" aria-hidden="true" id=":R1qcndjal5H1:"></div><div class="PRIVATE_TreeView-item-visual" aria-hidden="true"><div class="PRIVATE_TreeView-directory-icon"><svg aria-hidden="true" focusable="false" role="img" class="octicon octicon-file-directory-fill" viewBox="0 0 16 16" width="16" height="16" fill="currentColor" style="display:inline-block;user-select:none;vertical-align:text-bottom;overflow:visible"><path d="M1.75 1A1.75 1.75 0 0 0 0 2.75v10.5C0 14.216.784 15 1.75 15h12.5A1.75 1.75 0 0 0 16 13.25v-8.5A1.75 1.75 0 0 0 14.25 3H7.5a.25.25 0 0 1-.2-.1l-.9-1.2C6.07 1.26 5.55 1 5 1H1.75Z"></path></svg></div></div><span class="PRIVATE_TreeView-item-content-text"><span>week-1</span></span></div></div></li><li class="PRIVATE_TreeView-item" tabindex="0" id="week-2-item" role="treeitem" aria-labelledby=":R2acndjal5:" aria-describedby=":R2acndjal5H1: :R2acndjal5H2:" aria-level="1" aria-expanded="true" aria-selected="false"><div class="PRIVATE_TreeView-item-container" style="--level:1;content-visibility:auto;contain-intrinsic-size:auto 2rem"><div style="grid-area:spacer;display:flex"><div style="width:100%;display:flex"></div></div><div class="PRIVATE_TreeView-item-toggle PRIVATE_TreeView-item-toggle--hover PRIVATE_TreeView-item-toggle--end"><svg aria-hidden="true" focusable="false" role="img" class="octicon octicon-chevron-down" viewBox="0 0 12 12" width="12" height="12" fill="currentColor" style="display:inline-block;user-select:none;vertical-align:text-bottom;overflow:visible"><path d="M6 8.825c-.2 0-.4-.1-.5-.2l-3.3-3.3c-.3-.3-.3-.8 0-1.1.3-.3.8-.3 1.1 0l2.7 2.7 2.7-2.7c.3-.3.8-.3 1.1 0 .3.3.3.8 0 1.1l-3.2 3.2c-.2.2-.4.3-.6.3Z"></path></svg></div><div id=":R2acndjal5:" class="PRIVATE_TreeView-item-content"><div class="PRIVATE_VisuallyHidden" aria-hidden="true" id=":R2acndjal5H1:"></div><div class="PRIVATE_TreeView-item-visual" aria-hidden="true"><div class="PRIVATE_TreeView-directory-icon"><svg aria-hidden="true" focusable="false" role="img" class="octicon octicon-file-directory-open-fill" viewBox="0 0 16 16" width="16" height="16" fill="currentColor" style="display:inline-block;user-select:none;vertical-align:text-bottom;overflow:visible"><path d="M.513 1.513A1.75 1.75 0 0 1 1.75 1h3.5c.55 0 1.07.26 1.4.7l.9 1.2a.25.25 0 0 0 .2.1H13a1 1 0 0 1 1 1v.5H2.75a.75.75 0 0 0 0 1.5h11.978a1 1 0 0 1 .994 1.117L15 13.25A1.75 1.75 0 0 1 13.25 15H1.75A1.75 1.75 0 0 1 0 13.25V2.75c0-.464.184-.91.513-1.237Z"></path></svg></div></div><span class="PRIVATE_TreeView-item-content-text"><span>week-2</span></span></div></div><ul role="group" style="list-style:none;padding:0;margin:0"><li class="PRIVATE_TreeView-item" tabindex="0" id="week-2/linear_regression.ipynb-item" role="treeitem" aria-labelledby=":Rbaacndjal5:" aria-describedby=":Rbaacndjal5H1: :Rbaacndjal5H2:" aria-level="2" aria-selected="false"><div class="PRIVATE_TreeView-item-container" style="--level:2;content-visibility:auto;contain-intrinsic-size:auto 2rem"><div style="grid-area:spacer;display:flex"><div style="width:100%;display:flex"><div class="PRIVATE_TreeView-item-level-line"></div></div></div><div id=":Rbaacndjal5:" class="PRIVATE_TreeView-item-content"><div class="PRIVATE_VisuallyHidden" aria-hidden="true" id=":Rbaacndjal5H1:"></div><div class="PRIVATE_TreeView-item-visual" aria-hidden="true"><svg aria-hidden="true" focusable="false" role="img" class="octicon octicon-file" viewBox="0 0 16 16" width="16" height="16" fill="currentColor" style="display:inline-block;user-select:none;vertical-align:text-bottom;overflow:visible"><path d="M2 1.75C2 .784 2.784 0 3.75 0h6.586c.464 0 .909.184 1.237.513l2.914 2.914c.329.328.513.773.513 1.237v9.586A1.75 1.75 0 0 1 13.25 16h-9.5A1.75 1.75 0 0 1 2 14.25Zm1.75-.25a.25.25 0 0 0-.25.25v12.5c0 .138.112.25.25.25h9.5a.25.25 0 0 0 .25-.25V6h-2.75A1.75 1.75 0 0 1 9 4.25V1.5Zm6.75.062V4.25c0 .138.112.25.25.25h2.688l-.011-.013-2.914-2.914-.013-.011Z"></path></svg></div><span class="PRIVATE_TreeView-item-content-text"><span>linear_regression.ipynb</span></span></div></div></li><li class="PRIVATE_TreeView-item" tabindex="0" id="week-2/polynomial_regression.ipynb-item" role="treeitem" aria-labelledby=":Rjaacndjal5:" aria-describedby=":Rjaacndjal5H1: :Rjaacndjal5H2:" aria-level="2" aria-current="true" aria-selected="false"><div class="PRIVATE_TreeView-item-container" style="--level:2"><div style="grid-area:spacer;display:flex"><div style="width:100%;display:flex"><div class="PRIVATE_TreeView-item-level-line"></div></div></div><div id=":Rjaacndjal5:" class="PRIVATE_TreeView-item-content"><div class="PRIVATE_VisuallyHidden" aria-hidden="true" id=":Rjaacndjal5H1:"></div><div class="PRIVATE_TreeView-item-visual" aria-hidden="true"><svg aria-hidden="true" focusable="false" role="img" class="octicon octicon-file" viewBox="0 0 16 16" width="16" height="16" fill="currentColor" style="display:inline-block;user-select:none;vertical-align:text-bottom;overflow:visible"><path d="M2 1.75C2 .784 2.784 0 3.75 0h6.586c.464 0 .909.184 1.237.513l2.914 2.914c.329.328.513.773.513 1.237v9.586A1.75 1.75 0 0 1 13.25 16h-9.5A1.75 1.75 0 0 1 2 14.25Zm1.75-.25a.25.25 0 0 0-.25.25v12.5c0 .138.112.25.25.25h9.5a.25.25 0 0 0 .25-.25V6h-2.75A1.75 1.75 0 0 1 9 4.25V1.5Zm6.75.062V4.25c0 .138.112.25.25.25h2.688l-.011-.013-2.914-2.914-.013-.011Z"></path></svg></div><span class="PRIVATE_TreeView-item-content-text"><span>polynomial_regression.ipynb</span></span></div></div></li></ul></li><li class="PRIVATE_TreeView-item" tabindex="0" id="week-4-item" role="treeitem" aria-labelledby=":R2qcndjal5:" aria-describedby=":R2qcndjal5H1: :R2qcndjal5H2:" aria-level="1" aria-expanded="false" aria-selected="false"><div class="PRIVATE_TreeView-item-container" style="--level:1;content-visibility:auto;contain-intrinsic-size:auto 2rem"><div style="grid-area:spacer;display:flex"><div style="width:100%;display:flex"></div></div><div class="PRIVATE_TreeView-item-toggle PRIVATE_TreeView-item-toggle--hover PRIVATE_TreeView-item-toggle--end"><svg aria-hidden="true" focusable="false" role="img" class="octicon octicon-chevron-right" viewBox="0 0 12 12" width="12" height="12" fill="currentColor" style="display:inline-block;user-select:none;vertical-align:text-bottom;overflow:visible"><path d="M4.7 10c-.2 0-.4-.1-.5-.2-.3-.3-.3-.8 0-1.1L6.9 6 4.2 3.3c-.3-.3-.3-.8 0-1.1.3-.3.8-.3 1.1 0l3.3 3.2c.3.3.3.8 0 1.1L5.3 9.7c-.2.2-.4.3-.6.3Z"></path></svg></div><div id=":R2qcndjal5:" class="PRIVATE_TreeView-item-content"><div class="PRIVATE_VisuallyHidden" aria-hidden="true" id=":R2qcndjal5H1:"></div><div class="PRIVATE_TreeView-item-visual" aria-hidden="true"><div class="PRIVATE_TreeView-directory-icon"><svg aria-hidden="true" focusable="false" role="img" class="octicon octicon-file-directory-fill" viewBox="0 0 16 16" width="16" height="16" fill="currentColor" style="display:inline-block;user-select:none;vertical-align:text-bottom;overflow:visible"><path d="M1.75 1A1.75 1.75 0 0 0 0 2.75v10.5C0 14.216.784 15 1.75 15h12.5A1.75 1.75 0 0 0 16 13.25v-8.5A1.75 1.75 0 0 0 14.25 3H7.5a.25.25 0 0 1-.2-.1l-.9-1.2C6.07 1.26 5.55 1 5 1H1.75Z"></path></svg></div></div><span class="PRIVATE_TreeView-item-content-text"><span>week-4</span></span></div></div></li><li class="PRIVATE_TreeView-item" tabindex="0" id="week-5-item" role="treeitem" aria-labelledby=":R3acndjal5:" aria-describedby=":R3acndjal5H1: :R3acndjal5H2:" aria-level="1" aria-expanded="false" aria-selected="false"><div class="PRIVATE_TreeView-item-container" style="--level:1;content-visibility:auto;contain-intrinsic-size:auto 2rem"><div style="grid-area:spacer;display:flex"><div style="width:100%;display:flex"></div></div><div class="PRIVATE_TreeView-item-toggle PRIVATE_TreeView-item-toggle--hover PRIVATE_TreeView-item-toggle--end"><svg aria-hidden="true" focusable="false" role="img" class="octicon octicon-chevron-right" viewBox="0 0 12 12" width="12" height="12" fill="currentColor" style="display:inline-block;user-select:none;vertical-align:text-bottom;overflow:visible"><path d="M4.7 10c-.2 0-.4-.1-.5-.2-.3-.3-.3-.8 0-1.1L6.9 6 4.2 3.3c-.3-.3-.3-.8 0-1.1.3-.3.8-.3 1.1 0l3.3 3.2c.3.3.3.8 0 1.1L5.3 9.7c-.2.2-.4.3-.6.3Z"></path></svg></div><div id=":R3acndjal5:" class="PRIVATE_TreeView-item-content"><div class="PRIVATE_VisuallyHidden" aria-hidden="true" id=":R3acndjal5H1:"></div><div class="PRIVATE_TreeView-item-visual" aria-hidden="true"><div class="PRIVATE_TreeView-directory-icon"><svg aria-hidden="true" focusable="false" role="img" class="octicon octicon-file-directory-fill" viewBox="0 0 16 16" width="16" height="16" fill="currentColor" style="display:inline-block;user-select:none;vertical-align:text-bottom;overflow:visible"><path d="M1.75 1A1.75 1.75 0 0 0 0 2.75v10.5C0 14.216.784 15 1.75 15h12.5A1.75 1.75 0 0 0 16 13.25v-8.5A1.75 1.75 0 0 0 14.25 3H7.5a.25.25 0 0 1-.2-.1l-.9-1.2C6.07 1.26 5.55 1 5 1H1.75Z"></path></svg></div></div><span class="PRIVATE_TreeView-item-content-text"><span>week-5</span></span></div></div></li><li class="PRIVATE_TreeView-item" tabindex="0" id=".gitignore-item" role="treeitem" aria-labelledby=":R3qcndjal5:" aria-describedby=":R3qcndjal5H1: :R3qcndjal5H2:" aria-level="1" aria-selected="false"><div class="PRIVATE_TreeView-item-container" style="--level:1;content-visibility:auto;contain-intrinsic-size:auto 2rem"><div style="grid-area:spacer;display:flex"><div style="width:100%;display:flex"></div></div><div id=":R3qcndjal5:" class="PRIVATE_TreeView-item-content"><div class="PRIVATE_VisuallyHidden" aria-hidden="true" id=":R3qcndjal5H1:"></div><div class="PRIVATE_TreeView-item-visual" aria-hidden="true"><svg aria-hidden="true" focusable="false" role="img" class="octicon octicon-file" viewBox="0 0 16 16" width="16" height="16" fill="currentColor" style="display:inline-block;user-select:none;vertical-align:text-bottom;overflow:visible"><path d="M2 1.75C2 .784 2.784 0 3.75 0h6.586c.464 0 .909.184 1.237.513l2.914 2.914c.329.328.513.773.513 1.237v9.586A1.75 1.75 0 0 1 13.25 16h-9.5A1.75 1.75 0 0 1 2 14.25Zm1.75-.25a.25.25 0 0 0-.25.25v12.5c0 .138.112.25.25.25h9.5a.25.25 0 0 0 .25-.25V6h-2.75A1.75 1.75 0 0 1 9 4.25V1.5Zm6.75.062V4.25c0 .138.112.25.25.25h2.688l-.011-.013-2.914-2.914-.013-.011Z"></path></svg></div><span class="PRIVATE_TreeView-item-content-text"><span>.gitignore</span></span></div></div></li><li class="PRIVATE_TreeView-item" tabindex="0" id="README.md-item" role="treeitem" aria-labelledby=":R4acndjal5:" aria-describedby=":R4acndjal5H1: :R4acndjal5H2:" aria-level="1" aria-selected="false"><div class="PRIVATE_TreeView-item-container" style="--level:1;content-visibility:auto;contain-intrinsic-size:auto 2rem"><div style="grid-area:spacer;display:flex"><div style="width:100%;display:flex"></div></div><div id=":R4acndjal5:" class="PRIVATE_TreeView-item-content"><div class="PRIVATE_VisuallyHidden" aria-hidden="true" id=":R4acndjal5H1:"></div><div class="PRIVATE_TreeView-item-visual" aria-hidden="true"><svg aria-hidden="true" focusable="false" role="img" class="octicon octicon-file" viewBox="0 0 16 16" width="16" height="16" fill="currentColor" style="display:inline-block;user-select:none;vertical-align:text-bottom;overflow:visible"><path d="M2 1.75C2 .784 2.784 0 3.75 0h6.586c.464 0 .909.184 1.237.513l2.914 2.914c.329.328.513.773.513 1.237v9.586A1.75 1.75 0 0 1 13.25 16h-9.5A1.75 1.75 0 0 1 2 14.25Zm1.75-.25a.25.25 0 0 0-.25.25v12.5c0 .138.112.25.25.25h9.5a.25.25 0 0 0 .25-.25V6h-2.75A1.75 1.75 0 0 1 9 4.25V1.5Zm6.75.062V4.25c0 .138.112.25.25.25h2.688l-.011-.013-2.914-2.914-.013-.011Z"></path></svg></div><span class="PRIVATE_TreeView-item-content-text"><span>README.md</span></span></div></div></li></ul></nav></div></div><div class="Box-sc-g0xbh4-0 hwhShM"><div class="Box-sc-g0xbh4-0 cYPxpP"><a href="https://docs.github.com/repositories/working-with-files/using-files/navigating-code-on-github" target="_blank" class="Link__StyledLink-sc-14289xe-0 bJBoUI">Documentation</a> • <a href="https://github.com/orgs/community/discussions/54546" target="_blank" class="Link__StyledLink-sc-14289xe-0 bJBoUI">Share feedback</a></div></div></div><div class="Box-sc-g0xbh4-0 fBtiVT"><div class="Box-sc-g0xbh4-0 cYPxpP"><a href="https://docs.github.com/repositories/working-with-files/using-files/navigating-code-on-github" target="_blank" class="Link__StyledLink-sc-14289xe-0 bJBoUI">Documentation</a> • <a href="https://github.com/orgs/community/discussions/54546" target="_blank" class="Link__StyledLink-sc-14289xe-0 bJBoUI">Share feedback</a></div></div></div></div></div></div></div><main class="Box-sc-g0xbh4-0 emFMJu"><div class="Box-sc-g0xbh4-0"></div><div class="Box-sc-g0xbh4-0 hlUAHL"><div data-selector="repos-split-pane-content" tabindex="0" class="Box-sc-g0xbh4-0 iStsmI"><div class="Box-sc-g0xbh4-0 eIgvIk"><div class="Box-sc-g0xbh4-0 eVFfWF container"><div class="Box-sc-g0xbh4-0 kgXdnT react-code-view-header--narrow"><div class="Box-sc-g0xbh4-0 kzTa-dF"><div class="Box-sc-g0xbh4-0 bbXCl"><h2 class="Heading__StyledHeading-sc-1c1dgg0-0 fNPcqd"><button style="--button-color:fg.muted" type="button" aria-label="Expand side panel" data-testid="expand-file-tree-button-mobile" class="types__StyledButton-sc-ws60qy-0 cmNjCr"><span data-component="buttonContent" class="Box-sc-g0xbh4-0 kkrdEu"><span data-component="leadingVisual" class="Box-sc-g0xbh4-0 trpoQ"><svg aria-hidden="true" focusable="false" role="img" class="octicon octicon-arrow-left" viewBox="0 0 16 16" width="16" height="16" fill="currentColor" style="display:inline-block;user-select:none;vertical-align:text-bottom;overflow:visible"><path d="M7.78 12.53a.75.75 0 0 1-1.06 0L2.47 8.28a.75.75 0 0 1 0-1.06l4.25-4.25a.751.751 0 0 1 1.042.018.751.751 0 0 1 .018 1.042L4.81 7h7.44a.75.75 0 0 1 0 1.5H4.81l2.97 2.97a.75.75 0 0 1 0 1.06Z"></path></svg></span><span data-component="text">Files</span></span></button><button data-component="IconButton" type="button" data-testid="collapse-file-tree-button" aria-label="Side panel" aria-expanded="true" aria-controls="repos-file-tree" class="types__StyledButton-sc-ws60qy-0 jHkYUy" data-no-visuals="true"><svg aria-hidden="true" focusable="false" role="img" class="octicon octicon-sidebar-expand" viewBox="0 0 16 16" width="16" height="16" fill="currentColor" style="display:inline-block;user-select:none;vertical-align:text-bottom;overflow:visible"><path d="m4.177 7.823 2.396-2.396A.25.25 0 0 1 7 5.604v4.792a.25.25 0 0 1-.427.177L4.177 8.177a.25.25 0 0 1 0-.354Z"></path><path d="M0 1.75C0 .784.784 0 1.75 0h12.5C15.216 0 16 .784 16 1.75v12.5A1.75 1.75 0 0 1 14.25 16H1.75A1.75 1.75 0 0 1 0 14.25Zm1.75-.25a.25.25 0 0 0-.25.25v12.5c0 .138.112.25.25.25H9.5v-13Zm12.5 13a.25.25 0 0 0 .25-.25V1.75a.25.25 0 0 0-.25-.25H11v13Z"></path></svg></button><button hidden="" data-testid="" data-hotkey-scope="read-only-cursor-text-area"></button></h2><div class="Box-sc-g0xbh4-0 hGGMNu"><div class="Box-sc-g0xbh4-0 eHRrYV"><button type="button" id="branch-picker-repos-header-ref-selector-narrow" aria-haspopup="true" tabindex="0" aria-label="main branch" data-testid="anchor-button" class="types__StyledButton-sc-ws60qy-0 iwfGUC ref-selector-class"><span data-component="buttonContent" class="Box-sc-g0xbh4-0 kkrdEu"><span data-component="text"><div class="Box-sc-g0xbh4-0 bKgizp"><div class="Box-sc-g0xbh4-0 bwTunw"><svg aria-hidden="true" focusable="false" role="img" class="octicon octicon-git-branch" viewBox="0 0 16 16" width="16" height="16" fill="currentColor" style="display:inline-block;user-select:none;vertical-align:text-bottom;overflow:visible"><path d="M9.5 3.25a2.25 2.25 0 1 1 3 2.122V6A2.5 2.5 0 0 1 10 8.5H6a1 1 0 0 0-1 1v1.128a2.251 2.251 0 1 1-1.5 0V5.372a2.25 2.25 0 1 1 1.5 0v1.836A2.493 2.493 0 0 1 6 7h4a1 1 0 0 0 1-1v-.628A2.25 2.25 0 0 1 9.5 3.25Zm-6 0a.75.75 0 1 0 1.5 0 .75.75 0 0 0-1.5 0Zm8.25-.75a.75.75 0 1 0 0 1.5.75.75 0 0 0 0-1.5ZM4.25 12a.75.75 0 1 0 0 1.5.75.75 0 0 0 0-1.5Z"></path></svg></div><div class="Box-sc-g0xbh4-0 dKmYfk"><span class="Text-sc-17v1xeu-0 bOMzPg"> <!-- -->main</span></div></div></span><span data-component="trailingVisual" class="Box-sc-g0xbh4-0 trpoQ"><svg aria-hidden="true" focusable="false" role="img" class="octicon octicon-triangle-down" viewBox="0 0 16 16" width="16" height="16" fill="currentColor" style="display:inline-block;user-select:none;vertical-align:text-bottom;overflow:visible"><path d="m4.427 7.427 3.396 3.396a.25.25 0 0 0 .354 0l3.396-3.396A.25.25 0 0 0 11.396 7H4.604a.25.25 0 0 0-.177.427Z"></path></svg></span></span></button><button hidden="" data-hotkey-scope="read-only-cursor-text-area"></button></div> <button type="button" data-no-visuals="true" class="types__StyledButton-sc-ws60qy-0 fQmjix"><span data-component="buttonContent" class="Box-sc-g0xbh4-0 kkrdEu"><span data-component="text">Blame</span></span></button><button hidden="" data-testid="" data-hotkey-scope="read-only-cursor-text-area"></button><button data-component="IconButton" type="button" aria-label="More file actions" class="types__StyledButton-sc-ws60qy-0 fzrsQY js-blob-dropdown-click" title="More file actions" data-testid="more-file-actions-button" id=":R9aaqjal5:" aria-haspopup="true" tabindex="0" data-no-visuals="true"><svg aria-hidden="true" focusable="false" role="img" class="octicon octicon-kebab-horizontal" viewBox="0 0 16 16" width="16" height="16" fill="currentColor" style="display:inline-block;user-select:none;vertical-align:text-bottom;overflow:visible"><path d="M8 9a1.5 1.5 0 1 0 0-3 1.5 1.5 0 0 0 0 3ZM1.5 9a1.5 1.5 0 1 0 0-3 1.5 1.5 0 0 0 0 3Zm13 0a1.5 1.5 0 1 0 0-3 1.5 1.5 0 0 0 0 3Z"></path></svg></button> </div></div><div class="Box-sc-g0xbh4-0 hSNzKh"><div class="Box-sc-g0xbh4-0 eTvGbF"><nav data-testid="breadcrumbs" aria-labelledby="repos-header-breadcrumb-mobile-heading" id="repos-header-breadcrumb-mobile" class="Box-sc-g0xbh4-0 kzRgrI"><h2 class="Heading__StyledHeading-sc-1c1dgg0-0 cgQnMS sr-only" data-testid="screen-reader-heading" id="repos-header-breadcrumb-mobile-heading">Breadcrumbs</h2><ol class="Box-sc-g0xbh4-0 cmAPIB"><li class="Box-sc-g0xbh4-0 jwXCBK"><a sx="[object Object]" data-testid="breadcrumbs-repo-link" class="Link__StyledLink-sc-14289xe-0 iJtJJh" href="/UCLAIS/ML-Tutorials-Season-4-In-Progress/tree/main">ML-Tutorials-Season-4-In-Progress</a></li><li class="Box-sc-g0xbh4-0 jwXCBK"><span aria-hidden="true" class="Text-sc-17v1xeu-0 fWVgeN">/</span><a sx="[object Object]" class="Link__StyledLink-sc-14289xe-0 hUWqlv" href="/UCLAIS/ML-Tutorials-Season-4-In-Progress/tree/main/week-2">week-2</a></li></ol></nav><div data-testid="breadcrumbs-filename" class="Box-sc-g0xbh4-0 jwXCBK"><span aria-hidden="true" class="Text-sc-17v1xeu-0 fWVgeN">/</span><h1 tabindex="-1" id="file-name-id-mobile" class="Heading__StyledHeading-sc-1c1dgg0-0 diwsLq">polynomial_regression.ipynb</h1></div><button data-component="IconButton" type="button" aria-label="Copy path" data-testid="breadcrumb-copy-path-button" data-size="small" data-no-visuals="true" class="types__StyledButton-sc-ws60qy-0 fJIYie"><svg aria-hidden="true" focusable="false" role="img" class="octicon octicon-copy" viewBox="0 0 16 16" width="16" height="16" fill="currentColor" style="display:inline-block;user-select:none;vertical-align:text-bottom;overflow:visible"><path d="M0 6.75C0 5.784.784 5 1.75 5h1.5a.75.75 0 0 1 0 1.5h-1.5a.25.25 0 0 0-.25.25v7.5c0 .138.112.25.25.25h7.5a.25.25 0 0 0 .25-.25v-1.5a.75.75 0 0 1 1.5 0v1.5A1.75 1.75 0 0 1 9.25 16h-7.5A1.75 1.75 0 0 1 0 14.25Z"></path><path d="M5 1.75C5 .784 5.784 0 6.75 0h7.5C15.216 0 16 .784 16 1.75v7.5A1.75 1.75 0 0 1 14.25 11h-7.5A1.75 1.75 0 0 1 5 9.25Zm1.75-.25a.25.25 0 0 0-.25.25v7.5c0 .138.112.25.25.25h7.5a.25.25 0 0 0 .25-.25v-7.5a.25.25 0 0 0-.25-.25Z"></path></svg></button></div></div></div></div><div id="StickyHeader" class="Box-sc-g0xbh4-0 bDwCYs react-code-view-header--wide"><div class="Box-sc-g0xbh4-0 fywjmm"><div class="Box-sc-g0xbh4-0 dyczTK"><div class="Box-sc-g0xbh4-0 kszRgZ"><div class="Box-sc-g0xbh4-0 eTvGbF"><nav data-testid="breadcrumbs" aria-labelledby="repos-header-breadcrumb-wide-heading" id="repos-header-breadcrumb-wide" class="Box-sc-g0xbh4-0 kzRgrI"><h2 class="Heading__StyledHeading-sc-1c1dgg0-0 cgQnMS sr-only" data-testid="screen-reader-heading" id="repos-header-breadcrumb-wide-heading">Breadcrumbs</h2><ol class="Box-sc-g0xbh4-0 cmAPIB"><li class="Box-sc-g0xbh4-0 jwXCBK"><a sx="[object Object]" data-testid="breadcrumbs-repo-link" class="Link__StyledLink-sc-14289xe-0 iJtJJh" href="/UCLAIS/ML-Tutorials-Season-4-In-Progress/tree/main">ML-Tutorials-Season-4-In-Progress</a></li><li class="Box-sc-g0xbh4-0 jwXCBK"><span aria-hidden="true" class="Text-sc-17v1xeu-0 fWVgeN">/</span><a sx="[object Object]" class="Link__StyledLink-sc-14289xe-0 hUWqlv" href="/UCLAIS/ML-Tutorials-Season-4-In-Progress/tree/main/week-2">week-2</a></li></ol></nav><div data-testid="breadcrumbs-filename" class="Box-sc-g0xbh4-0 jwXCBK"><span aria-hidden="true" class="Text-sc-17v1xeu-0 fWVgeN">/</span><h1 tabindex="-1" id="file-name-id-wide" class="Heading__StyledHeading-sc-1c1dgg0-0 diwsLq">polynomial_regression.ipynb</h1></div><button data-component="IconButton" type="button" aria-label="Copy path" data-testid="breadcrumb-copy-path-button" data-size="small" data-no-visuals="true" class="types__StyledButton-sc-ws60qy-0 fJIYie"><svg aria-hidden="true" focusable="false" role="img" class="octicon octicon-copy" viewBox="0 0 16 16" width="16" height="16" fill="currentColor" style="display:inline-block;user-select:none;vertical-align:text-bottom;overflow:visible"><path d="M0 6.75C0 5.784.784 5 1.75 5h1.5a.75.75 0 0 1 0 1.5h-1.5a.25.25 0 0 0-.25.25v7.5c0 .138.112.25.25.25h7.5a.25.25 0 0 0 .25-.25v-1.5a.75.75 0 0 1 1.5 0v1.5A1.75 1.75 0 0 1 9.25 16h-7.5A1.75 1.75 0 0 1 0 14.25Z"></path><path d="M5 1.75C5 .784 5.784 0 6.75 0h7.5C15.216 0 16 .784 16 1.75v7.5A1.75 1.75 0 0 1 14.25 11h-7.5A1.75 1.75 0 0 1 5 9.25Zm1.75-.25a.25.25 0 0 0-.25.25v7.5c0 .138.112.25.25.25h7.5a.25.25 0 0 0 .25-.25v-7.5a.25.25 0 0 0-.25-.25Z"></path></svg></button></div></div><div class="Box-sc-g0xbh4-0 gtBUEp"><div class="d-flex gap-2"> <button type="button" data-no-visuals="true" class="types__StyledButton-sc-ws60qy-0 fQmjix"><span data-component="buttonContent" class="Box-sc-g0xbh4-0 kkrdEu"><span data-component="text">Blame</span></span></button><button hidden="" data-testid="" data-hotkey-scope="read-only-cursor-text-area"></button><button data-component="IconButton" type="button" aria-label="More file actions" class="types__StyledButton-sc-ws60qy-0 fzrsQY js-blob-dropdown-click" title="More file actions" data-testid="more-file-actions-button" id=":R9pkqjal5:" aria-haspopup="true" tabindex="0" data-no-visuals="true"><svg aria-hidden="true" focusable="false" role="img" class="octicon octicon-kebab-horizontal" viewBox="0 0 16 16" width="16" height="16" fill="currentColor" style="display:inline-block;user-select:none;vertical-align:text-bottom;overflow:visible"><path d="M8 9a1.5 1.5 0 1 0 0-3 1.5 1.5 0 0 0 0 3ZM1.5 9a1.5 1.5 0 1 0 0-3 1.5 1.5 0 0 0 0 3Zm13 0a1.5 1.5 0 1 0 0-3 1.5 1.5 0 0 0 0 3Z"></path></svg></button> </div></div></div></div></div></div></div><div class="Box-sc-g0xbh4-0 MERGN react-code-view-bottom-padding"> <div class="Box-sc-g0xbh4-0 cMYnca"></div><div class="Box-sc-g0xbh4-0"></div> <!-- --> <!-- --> </div><div class="Box-sc-g0xbh4-0 MERGN"> <!-- --> <!-- --> <div class="Box-sc-g0xbh4-0 brFBoI"><div class="Box-sc-g0xbh4-0 eYedVD"><h2 class="Heading__StyledHeading-sc-1c1dgg0-0 cgQnMS sr-only" data-testid="screen-reader-heading">Latest commit</h2><div style="width:120px" class="Skeleton Skeleton--text" data-testid="loading"> </div><div class="Box-sc-g0xbh4-0 jGfYmh"><div data-testid="latest-commit-details" class="Box-sc-g0xbh4-0 lhFvfi"></div><h2 class="Heading__StyledHeading-sc-1c1dgg0-0 cgQnMS sr-only" data-testid="screen-reader-heading">History</h2><a aria-label="Commit history" class="types__StyledButton-sc-ws60qy-0 dWukOn react-last-commit-history-group" href="/UCLAIS/ML-Tutorials-Season-4-In-Progress/commits/main/week-2/polynomial_regression.ipynb" data-size="small"><span data-component="buttonContent" class="Box-sc-g0xbh4-0 kkrdEu"><span data-component="leadingVisual" class="Box-sc-g0xbh4-0 trpoQ"><svg aria-hidden="true" focusable="false" role="img" class="octicon octicon-history" viewBox="0 0 16 16" width="16" height="16" fill="currentColor" style="display:inline-block;user-select:none;vertical-align:text-bottom;overflow:visible"><path d="m.427 1.927 1.215 1.215a8.002 8.002 0 1 1-1.6 5.685.75.75 0 1 1 1.493-.154 6.5 6.5 0 1 0 1.18-4.458l1.358 1.358A.25.25 0 0 1 3.896 6H.25A.25.25 0 0 1 0 5.75V2.104a.25.25 0 0 1 .427-.177ZM7.75 4a.75.75 0 0 1 .75.75v2.992l2.028.812a.75.75 0 0 1-.557 1.392l-2.5-1A.751.751 0 0 1 7 8.25v-3.5A.75.75 0 0 1 7.75 4Z"></path></svg></span><span data-component="text"><span class="Text-sc-17v1xeu-0 hfRvxg">History</span></span></span></a><div class="Box-sc-g0xbh4-0 bqgLjk"></div><span role="tooltip" aria-label="Commit history" class="Tooltip__TooltipBase-sc-uha8qm-0 fCnxTL tooltipped-n"><a aria-label="Commit history" class="types__StyledButton-sc-ws60qy-0 dWukOn react-last-commit-history-icon" href="/UCLAIS/ML-Tutorials-Season-4-In-Progress/commits/main/week-2/polynomial_regression.ipynb"><span data-component="buttonContent" class="Box-sc-g0xbh4-0 kkrdEu"><span data-component="leadingVisual" class="Box-sc-g0xbh4-0 trpoQ"><svg aria-hidden="true" focusable="false" role="img" class="octicon octicon-history" viewBox="0 0 16 16" width="16" height="16" fill="currentColor" style="display:inline-block;user-select:none;vertical-align:text-bottom;overflow:visible"><path d="m.427 1.927 1.215 1.215a8.002 8.002 0 1 1-1.6 5.685.75.75 0 1 1 1.493-.154 6.5 6.5 0 1 0 1.18-4.458l1.358 1.358A.25.25 0 0 1 3.896 6H.25A.25.25 0 0 1 0 5.75V2.104a.25.25 0 0 1 .427-.177ZM7.75 4a.75.75 0 0 1 .75.75v2.992l2.028.812a.75.75 0 0 1-.557 1.392l-2.5-1A.751.751 0 0 1 7 8.25v-3.5A.75.75 0 0 1 7.75 4Z"></path></svg></span></span></a></span></div></div></div><div class="Box-sc-g0xbh4-0 iJmJly"><div class="Box-sc-g0xbh4-0 jACbi container"><div class="Box-sc-g0xbh4-0 bSdwWB react-code-size-details-banner"><div class="Box-sc-g0xbh4-0 fleZSW react-code-size-details-banner"><div class="Box-sc-g0xbh4-0 fOEJrA text-mono"><div title="198 KB" data-testid="blob-size" class="Truncate__StyledTruncate-sc-23o1d2-0 fUpWeN"><span class="Text-sc-17v1xeu-0 gPDEWA">200 lines (200 loc) · 198 KB</span></div></div></div><div class="Box-sc-g0xbh4-0 react-code-size-details-banner"><button style="--button-color:fg.default" type="button" id=":R2bqlajal5:" aria-haspopup="true" tabindex="0" data-testid="copilot-popover-button" data-size="small" class="types__StyledButton-sc-ws60qy-0 cuVVHm"><span data-component="buttonContent" class="Box-sc-g0xbh4-0 kkrdEu"><span data-component="leadingVisual" class="Box-sc-g0xbh4-0 trpoQ"><svg aria-hidden="true" focusable="false" role="img" class="octicon octicon-copilot" viewBox="0 0 16 16" width="16" height="16" fill="currentColor" style="display:inline-block;user-select:none;vertical-align:text-bottom;overflow:visible"><path d="M6.25 9a.75.75 0 0 1 .75.75v1.5a.75.75 0 0 1-1.5 0v-1.5A.75.75 0 0 1 6.25 9Zm4.25.75a.75.75 0 0 0-1.5 0v1.5a.75.75 0 0 0 1.5 0v-1.5Z"></path><path d="M7.86 1.77c.05.053.097.107.14.164.043-.057.09-.111.14-.164.681-.731 1.737-.9 2.943-.765 1.23.136 2.145.527 2.724 1.26.566.716.693 1.614.693 2.485 0 .572-.053 1.147-.254 1.655l.168.838.066.033A2.75 2.75 0 0 1 16 9.736V11c0 .24-.086.438-.156.567-.073.131-.16.253-.259.366-.18.21-.404.413-.605.58a10.19 10.19 0 0 1-.792.597l-.015.01-.006.004-.028.018a8.849 8.849 0 0 1-.456.281c-.307.177-.749.41-1.296.642C11.296 14.528 9.756 15 8 15c-1.756 0-3.296-.472-4.387-.935a12.28 12.28 0 0 1-1.296-.641 8.849 8.849 0 0 1-.456-.281l-.028-.02-.006-.003-.015-.01a10.593 10.593 0 0 1-.792-.596 5.264 5.264 0 0 1-.605-.58 2.133 2.133 0 0 1-.259-.367A1.189 1.189 0 0 1 0 11V9.736a2.75 2.75 0 0 1 1.52-2.46l.067-.033.167-.838C1.553 5.897 1.5 5.322 1.5 4.75c0-.87.127-1.77.693-2.485.579-.733 1.494-1.124 2.724-1.26 1.206-.134 2.262.034 2.944.765ZM3 7.824v4.261c.02.013.043.025.065.038.264.152.65.356 1.134.562.972.412 2.307.815 3.801.815 1.494 0 2.83-.403 3.8-.815.412-.174.813-.375 1.2-.6v-4.26l-.023-.116c-.49.21-1.075.291-1.727.291-1.146 0-2.06-.328-2.71-.991A3.233 3.233 0 0 1 8 6.266c-.144.269-.321.52-.54.743C6.81 7.672 5.896 8 4.75 8c-.652 0-1.236-.082-1.726-.291L3 7.824Zm6.237-5.031c-.204.218-.359.678-.242 1.614.091.726.303 1.23.618 1.553.299.304.784.54 1.638.54.922 0 1.28-.199 1.442-.38.179-.2.308-.578.308-1.37 0-.765-.123-1.242-.37-1.555-.233-.296-.693-.586-1.713-.7-1.044-.116-1.488.091-1.681.298Zm-2.472 0c-.193-.207-.637-.414-1.681-.298-1.02.114-1.48.404-1.713.7-.247.313-.37.79-.37 1.555 0 .792.129 1.17.308 1.37.162.181.52.38 1.442.38.854 0 1.339-.236 1.638-.54.315-.323.527-.827.618-1.553.117-.936-.038-1.396-.242-1.614Z"></path></svg></span><span data-component="text">Your organization can pay for GitHub Copilot</span></span></button></div></div><div class="Box-sc-g0xbh4-0 gBKNLX react-blob-view-header-sticky" id="repos-sticky-header"><div class="Box-sc-g0xbh4-0 ePiodO"><div class="Box-sc-g0xbh4-0 react-blob-sticky-header"><div class="Box-sc-g0xbh4-0 kQJlnf"><div class="Box-sc-g0xbh4-0 gJICKO"><div class="Box-sc-g0xbh4-0 iZJewz"><nav data-testid="breadcrumbs" aria-labelledby="sticky-breadcrumb-heading" id="sticky-breadcrumb" class="Box-sc-g0xbh4-0 kzRgrI"><h2 class="Heading__StyledHeading-sc-1c1dgg0-0 cgQnMS sr-only" data-testid="screen-reader-heading" id="sticky-breadcrumb-heading">Breadcrumbs</h2><ol class="Box-sc-g0xbh4-0 cmAPIB"><li class="Box-sc-g0xbh4-0 jwXCBK"><a sx="[object Object]" data-testid="breadcrumbs-repo-link" class="Link__StyledLink-sc-14289xe-0 iJtJJh" href="/UCLAIS/ML-Tutorials-Season-4-In-Progress/tree/main">ML-Tutorials-Season-4-In-Progress</a></li><li class="Box-sc-g0xbh4-0 jwXCBK"><span aria-hidden="true" class="Text-sc-17v1xeu-0 iqTHmv">/</span><a sx="[object Object]" class="Link__StyledLink-sc-14289xe-0 hUWqlv" href="/UCLAIS/ML-Tutorials-Season-4-In-Progress/tree/main/week-2">week-2</a></li></ol></nav><div data-testid="breadcrumbs-filename" class="Box-sc-g0xbh4-0 jwXCBK"><span aria-hidden="true" class="Text-sc-17v1xeu-0 iqTHmv">/</span><h1 tabindex="-1" id="sticky-file-name-id" class="Heading__StyledHeading-sc-1c1dgg0-0 jAEDJk">polynomial_regression.ipynb</h1></div></div><button style="--button-color:fg.default" type="button" data-size="small" class="types__StyledButton-sc-ws60qy-0 kGDoCG"><span data-component="buttonContent" class="Box-sc-g0xbh4-0 kkrdEu"><span data-component="leadingVisual" class="Box-sc-g0xbh4-0 trpoQ"><svg aria-hidden="true" focusable="false" role="img" class="octicon octicon-arrow-up" viewBox="0 0 16 16" width="16" height="16" fill="currentColor" style="display:inline-block;user-select:none;vertical-align:text-bottom;overflow:visible"><path d="M3.47 7.78a.75.75 0 0 1 0-1.06l4.25-4.25a.75.75 0 0 1 1.06 0l4.25 4.25a.751.751 0 0 1-.018 1.042.751.751 0 0 1-1.042.018L9 4.81v7.44a.75.75 0 0 1-1.5 0V4.81L4.53 7.78a.75.75 0 0 1-1.06 0Z"></path></svg></span><span data-component="text">Top</span></span></button></div></div></div><div class="Box-sc-g0xbh4-0 bESQXL"><h2 class="Heading__StyledHeading-sc-1c1dgg0-0 cgQnMS sr-only" data-testid="screen-reader-heading">File metadata and controls</h2><div class="Box-sc-g0xbh4-0 bfkNRF"><ul aria-label="File view" class="SegmentedControl__SegmentedControlList-sc-1rzig82-0 ivYJSK"><li class="Box-sc-g0xbh4-0 fXBLEV"><button aria-current="true" class="SegmentedControlButton__SegmentedControlButtonStyled-sc-8lkgxl-0 gKuCoB"><span class="segmentedControl-content"><div class="Box-sc-g0xbh4-0 segmentedControl-text">Preview</div></span></button></li><li class="Box-sc-g0xbh4-0 gbKtit"><button aria-current="false" class="SegmentedControlButton__SegmentedControlButtonStyled-sc-8lkgxl-0 fCAAcl"><span class="segmentedControl-content"><div class="Box-sc-g0xbh4-0 segmentedControl-text">Code</div></span></button></li><li class="Box-sc-g0xbh4-0 gbKtit"><button aria-current="false" class="SegmentedControlButton__SegmentedControlButtonStyled-sc-8lkgxl-0 dAXkSP"><span class="segmentedControl-content"><div class="Box-sc-g0xbh4-0 segmentedControl-text">Blame</div></span></button></li></ul><button hidden="" data-testid="" data-hotkey-scope="read-only-cursor-text-area"></button><button hidden="" data-testid="" data-hotkey-scope="read-only-cursor-text-area"></button><button hidden="" data-testid="" data-hotkey-scope="read-only-cursor-text-area"></button><div class="Box-sc-g0xbh4-0 fleZSW react-code-size-details-in-header"><div class="Box-sc-g0xbh4-0 fOEJrA text-mono"><div title="198 KB" data-testid="blob-size" class="Truncate__StyledTruncate-sc-23o1d2-0 fUpWeN"><span class="Text-sc-17v1xeu-0 gPDEWA">200 lines (200 loc) · 198 KB</span></div></div></div><div class="Box-sc-g0xbh4-0 react-code-size-details-in-header"><button style="--button-color:fg.default" type="button" id=":R79jqlajal5:" aria-haspopup="true" tabindex="0" data-testid="copilot-popover-button" data-size="small" class="types__StyledButton-sc-ws60qy-0 cuVVHm"><span data-component="buttonContent" class="Box-sc-g0xbh4-0 kkrdEu"><span data-component="leadingVisual" class="Box-sc-g0xbh4-0 trpoQ"><svg aria-hidden="true" focusable="false" role="img" class="octicon octicon-copilot" viewBox="0 0 16 16" width="16" height="16" fill="currentColor" style="display:inline-block;user-select:none;vertical-align:text-bottom;overflow:visible"><path d="M6.25 9a.75.75 0 0 1 .75.75v1.5a.75.75 0 0 1-1.5 0v-1.5A.75.75 0 0 1 6.25 9Zm4.25.75a.75.75 0 0 0-1.5 0v1.5a.75.75 0 0 0 1.5 0v-1.5Z"></path><path d="M7.86 1.77c.05.053.097.107.14.164.043-.057.09-.111.14-.164.681-.731 1.737-.9 2.943-.765 1.23.136 2.145.527 2.724 1.26.566.716.693 1.614.693 2.485 0 .572-.053 1.147-.254 1.655l.168.838.066.033A2.75 2.75 0 0 1 16 9.736V11c0 .24-.086.438-.156.567-.073.131-.16.253-.259.366-.18.21-.404.413-.605.58a10.19 10.19 0 0 1-.792.597l-.015.01-.006.004-.028.018a8.849 8.849 0 0 1-.456.281c-.307.177-.749.41-1.296.642C11.296 14.528 9.756 15 8 15c-1.756 0-3.296-.472-4.387-.935a12.28 12.28 0 0 1-1.296-.641 8.849 8.849 0 0 1-.456-.281l-.028-.02-.006-.003-.015-.01a10.593 10.593 0 0 1-.792-.596 5.264 5.264 0 0 1-.605-.58 2.133 2.133 0 0 1-.259-.367A1.189 1.189 0 0 1 0 11V9.736a2.75 2.75 0 0 1 1.52-2.46l.067-.033.167-.838C1.553 5.897 1.5 5.322 1.5 4.75c0-.87.127-1.77.693-2.485.579-.733 1.494-1.124 2.724-1.26 1.206-.134 2.262.034 2.944.765ZM3 7.824v4.261c.02.013.043.025.065.038.264.152.65.356 1.134.562.972.412 2.307.815 3.801.815 1.494 0 2.83-.403 3.8-.815.412-.174.813-.375 1.2-.6v-4.26l-.023-.116c-.49.21-1.075.291-1.727.291-1.146 0-2.06-.328-2.71-.991A3.233 3.233 0 0 1 8 6.266c-.144.269-.321.52-.54.743C6.81 7.672 5.896 8 4.75 8c-.652 0-1.236-.082-1.726-.291L3 7.824Zm6.237-5.031c-.204.218-.359.678-.242 1.614.091.726.303 1.23.618 1.553.299.304.784.54 1.638.54.922 0 1.28-.199 1.442-.38.179-.2.308-.578.308-1.37 0-.765-.123-1.242-.37-1.555-.233-.296-.693-.586-1.713-.7-1.044-.116-1.488.091-1.681.298Zm-2.472 0c-.193-.207-.637-.414-1.681-.298-1.02.114-1.48.404-1.713.7-.247.313-.37.79-.37 1.555 0 .792.129 1.17.308 1.37.162.181.52.38 1.442.38.854 0 1.339-.236 1.638-.54.315-.323.527-.827.618-1.553.117-.936-.038-1.396-.242-1.614Z"></path></svg></span><span data-component="text">Your organization can pay for GitHub Copilot</span></span></button></div></div><div class="Box-sc-g0xbh4-0 iBylDf"><div class="Box-sc-g0xbh4-0 kSGBPx react-blob-header-edit-and-raw-actions"><div class="ButtonGroup-sc-1gxhls1-0 cjbBGq"><a href="https://github.com/UCLAIS/ML-Tutorials-Season-4-In-Progress/raw/main/week-2/polynomial_regression.ipynb" data-testid="raw-button" data-size="small" data-no-visuals="true" class="types__StyledButton-sc-ws60qy-0 heQQbl"><span data-component="buttonContent" class="Box-sc-g0xbh4-0 kkrdEu"><span data-component="text">Raw</span></span></a><button data-component="IconButton" type="button" aria-label="Copy raw content" data-testid="copy-raw-button" data-size="small" data-no-visuals="true" class="types__StyledButton-sc-ws60qy-0 llLGPo"><svg aria-hidden="true" focusable="false" role="img" class="octicon octicon-copy" viewBox="0 0 16 16" width="16" height="16" fill="currentColor" style="display:inline-block;user-select:none;vertical-align:text-bottom;overflow:visible"><path d="M0 6.75C0 5.784.784 5 1.75 5h1.5a.75.75 0 0 1 0 1.5h-1.5a.25.25 0 0 0-.25.25v7.5c0 .138.112.25.25.25h7.5a.25.25 0 0 0 .25-.25v-1.5a.75.75 0 0 1 1.5 0v1.5A1.75 1.75 0 0 1 9.25 16h-7.5A1.75 1.75 0 0 1 0 14.25Z"></path><path d="M5 1.75C5 .784 5.784 0 6.75 0h7.5C15.216 0 16 .784 16 1.75v7.5A1.75 1.75 0 0 1 14.25 11h-7.5A1.75 1.75 0 0 1 5 9.25Zm1.75-.25a.25.25 0 0 0-.25.25v7.5c0 .138.112.25.25.25h7.5a.25.25 0 0 0 .25-.25v-7.5a.25.25 0 0 0-.25-.25Z"></path></svg></button><span role="tooltip" aria-label="Download raw file" class="Tooltip__TooltipBase-sc-uha8qm-0 fCnxTL tooltipped-n"><button data-component="IconButton" type="button" aria-label="Download raw content" data-testid="download-raw-button" data-size="small" data-no-visuals="true" class="types__StyledButton-sc-ws60qy-0 bBGvKk"><svg aria-hidden="true" focusable="false" role="img" class="octicon octicon-download" viewBox="0 0 16 16" width="16" height="16" fill="currentColor" style="display:inline-block;user-select:none;vertical-align:text-bottom;overflow:visible"><path d="M2.75 14A1.75 1.75 0 0 1 1 12.25v-2.5a.75.75 0 0 1 1.5 0v2.5c0 .138.112.25.25.25h10.5a.25.25 0 0 0 .25-.25v-2.5a.75.75 0 0 1 1.5 0v2.5A1.75 1.75 0 0 1 13.25 14Z"></path><path d="M7.25 7.689V2a.75.75 0 0 1 1.5 0v5.689l1.97-1.969a.749.749 0 1 1 1.06 1.06l-3.25 3.25a.749.749 0 0 1-1.06 0L4.22 6.78a.749.749 0 1 1 1.06-1.06l1.97 1.969Z"></path></svg></button></span></div><button hidden="" data-testid="raw-button-shortcut" data-hotkey-scope="read-only-cursor-text-area"></button><button hidden="" data-testid="copy-raw-button-shortcut" data-hotkey-scope="read-only-cursor-text-area"></button><button hidden="" data-testid="download-raw-button-shortcut" data-hotkey-scope="read-only-cursor-text-area"></button><a class="Link__StyledLink-sc-14289xe-0 bJBoUI js-github-dev-shortcut d-none" href="https://github.dev/"></a><button hidden="" data-testid="" data-hotkey-scope="read-only-cursor-text-area"></button><a class="Link__StyledLink-sc-14289xe-0 bJBoUI js-github-dev-new-tab-shortcut d-none" href="https://github.dev/" target="_blank"></a><button hidden="" data-testid="" data-hotkey-scope="read-only-cursor-text-area"></button><div class="ButtonGroup-sc-1gxhls1-0 cjbBGq"><span role="tooltip" aria-label="Edit this file" class="Tooltip__TooltipBase-sc-uha8qm-0 fCnxTL tooltipped-nw"><a sx="[object Object]" data-component="IconButton" type="button" aria-label="Edit file" data-testid="edit-button" data-size="small" data-no-visuals="true" class="types__StyledButton-sc-ws60qy-0 fkqxHO" href="/UCLAIS/ML-Tutorials-Season-4-In-Progress/edit/main/week-2/polynomial_regression.ipynb"><svg aria-hidden="true" focusable="false" role="img" class="octicon octicon-pencil" viewBox="0 0 16 16" width="16" height="16" fill="currentColor" style="display:inline-block;user-select:none;vertical-align:text-bottom;overflow:visible"><path d="M11.013 1.427a1.75 1.75 0 0 1 2.474 0l1.086 1.086a1.75 1.75 0 0 1 0 2.474l-8.61 8.61c-.21.21-.47.364-.756.445l-3.251.93a.75.75 0 0 1-.927-.928l.929-3.25c.081-.286.235-.547.445-.758l8.61-8.61Zm.176 4.823L9.75 4.81l-6.286 6.287a.253.253 0 0 0-.064.108l-.558 1.953 1.953-.558a.253.253 0 0 0 .108-.064Zm1.238-3.763a.25.25 0 0 0-.354 0L10.811 3.75l1.439 1.44 1.263-1.263a.25.25 0 0 0 0-.354Z"></path></svg></a></span><button data-component="IconButton" type="button" aria-label="More edit options" data-testid="more-edit-button" id=":Rl7pjqlajal5:" aria-haspopup="true" tabindex="0" data-size="small" data-no-visuals="true" class="types__StyledButton-sc-ws60qy-0 llLGPo"><svg aria-hidden="true" focusable="false" role="img" class="octicon octicon-triangle-down" viewBox="0 0 16 16" width="16" height="16" fill="currentColor" style="display:inline-block;user-select:none;vertical-align:text-bottom;overflow:visible"><path d="m4.427 7.427 3.396 3.396a.25.25 0 0 0 .354 0l3.396-3.396A.25.25 0 0 0 11.396 7H4.604a.25.25 0 0 0-.177.427Z"></path></svg></button></div><button hidden="" data-testid="" data-hotkey="e,E" data-hotkey-scope="read-only-cursor-text-area"></button></div><div class="Box-sc-g0xbh4-0 react-blob-header-edit-and-raw-actions-combined"><button data-component="IconButton" type="button" aria-label="Edit and raw actions" class="types__StyledButton-sc-ws60qy-0 hvYWzH js-blob-dropdown-click" title="More file actions" data-testid="more-file-actions-button" id=":R1dpjqlajal5:" aria-haspopup="true" tabindex="0" data-size="small" data-no-visuals="true"><svg aria-hidden="true" focusable="false" role="img" class="octicon octicon-kebab-horizontal" viewBox="0 0 16 16" width="16" height="16" fill="currentColor" style="display:inline-block;user-select:none;vertical-align:text-bottom;overflow:visible"><path d="M8 9a1.5 1.5 0 1 0 0-3 1.5 1.5 0 0 0 0 3ZM1.5 9a1.5 1.5 0 1 0 0-3 1.5 1.5 0 0 0 0 3Zm13 0a1.5 1.5 0 1 0 0-3 1.5 1.5 0 0 0 0 3Z"></path></svg></button></div></div></div></div><div class="Box-sc-g0xbh4-0"></div></div><div class="Box-sc-g0xbh4-0 etfROT"><section aria-labelledby="file-name-id-wide file-name-id-mobile" class="Box-sc-g0xbh4-0 eJsjkT"><!--$!--><template></template><div data-testid="suspense-spinner" class="Box-sc-g0xbh4-0 bAzdCq"><svg height="32px" width="32px" viewBox="0 0 16 16" fill="none" aria-label="Loading" class="Spinner__StyledSpinner-sc-1knt686-0 hPEVNM"><circle cx="8" cy="8" r="7" stroke="currentColor" stroke-opacity="0.25" stroke-width="2" vector-effect="non-scaling-stroke"></circle><path d="M15 8a7.002 7.002 0 00-7-7" stroke="currentColor" stroke-width="2" stroke-linecap="round" vector-effect="non-scaling-stroke"></path></svg></div><!--/$--></section></div></div></div> <!-- --> <!-- --> </div></div></div><div class="Box-sc-g0xbh4-0"></div></main></div></div></div><div id="find-result-marks-container" class="Box-sc-g0xbh4-0 aZrVR"></div><button hidden="" data-testid="" data-hotkey-scope="read-only-cursor-text-area"></button><button hidden=""></button></div> <!-- --> <!-- --> <!-- --> <script type="application/json" id="__PRIMER_DATA__">{"resolvedServerColorMode":"night"}</script></div>
</react-app>
</turbo-frame>



  </div>

</turbo-frame>

    </main>
  </div>

  </div>

          <footer class="footer width-full container-xl p-responsive" role="contentinfo">
  <h2 class='sr-only'>Footer</h2>

  <div class="position-relative d-flex flex-items-center pb-2 f6 color-fg-muted border-top color-border-muted flex-column-reverse flex-lg-row flex-wrap flex-lg-nowrap mt-6 pt-6">
    <div class="list-style-none d-flex flex-wrap col-0 col-lg-2 flex-justify-start flex-lg-justify-between mb-2 mb-lg-0">
      <div class="mt-2 mt-lg-0 d-flex flex-items-center">
        <a aria-label="Homepage" title="GitHub" class="footer-octicon mr-2" href="https://github.com">
          <svg aria-hidden="true" height="24" viewBox="0 0 16 16" version="1.1" width="24" data-view-component="true" class="octicon octicon-mark-github">
    <path d="M8 0c4.42 0 8 3.58 8 8a8.013 8.013 0 0 1-5.45 7.59c-.4.08-.55-.17-.55-.38 0-.27.01-1.13.01-2.2 0-.75-.25-1.23-.54-1.48 1.78-.2 3.65-.88 3.65-3.95 0-.88-.31-1.59-.82-2.15.08-.2.36-1.02-.08-2.12 0 0-.67-.22-2.2.82-.64-.18-1.32-.27-2-.27-.68 0-1.36.09-2 .27-1.53-1.03-2.2-.82-2.2-.82-.44 1.1-.16 1.92-.08 2.12-.51.56-.82 1.28-.82 2.15 0 3.06 1.86 3.75 3.64 3.95-.23.2-.44.55-.51 1.07-.46.21-1.61.55-2.33-.66-.15-.24-.6-.83-1.23-.82-.67.01-.27.38.01.53.34.19.73.9.82 1.13.16.45.68 1.31 2.69.94 0 .67.01 1.3.01 1.49 0 .21-.15.45-.55.38A7.995 7.995 0 0 1 0 8c0-4.42 3.58-8 8-8Z"></path>
</svg>
</a>        <span>
        &copy; 2023 GitHub, Inc.
        </span>
      </div>
    </div>

    <nav aria-label='Footer' class="col-12 col-lg-8">
      <h3 class='sr-only' id='sr-footer-heading'>Footer navigation</h3>
      <ul class="list-style-none d-flex flex-wrap col-12 flex-justify-center flex-lg-justify-between mb-2 mb-lg-0" aria-labelledby='sr-footer-heading'>
          <li class="mr-3 mr-lg-0"><a href="https://docs.github.com/site-policy/github-terms/github-terms-of-service" data-analytics-event="{&quot;category&quot;:&quot;Footer&quot;,&quot;action&quot;:&quot;go to terms&quot;,&quot;label&quot;:&quot;text:terms&quot;}">Terms</a></li>
          <li class="mr-3 mr-lg-0"><a href="https://docs.github.com/site-policy/privacy-policies/github-privacy-statement" data-analytics-event="{&quot;category&quot;:&quot;Footer&quot;,&quot;action&quot;:&quot;go to privacy&quot;,&quot;label&quot;:&quot;text:privacy&quot;}">Privacy</a></li>
          <li class="mr-3 mr-lg-0"><a data-analytics-event="{&quot;category&quot;:&quot;Footer&quot;,&quot;action&quot;:&quot;go to security&quot;,&quot;label&quot;:&quot;text:security&quot;}" href="https://github.com/security">Security</a></li>
          <li class="mr-3 mr-lg-0"><a href="https://www.githubstatus.com/" data-analytics-event="{&quot;category&quot;:&quot;Footer&quot;,&quot;action&quot;:&quot;go to status&quot;,&quot;label&quot;:&quot;text:status&quot;}">Status</a></li>
          <li class="mr-3 mr-lg-0"><a data-ga-click="Footer, go to help, text:Docs" href="https://docs.github.com">Docs</a></li>
          <li class="mr-3 mr-lg-0"><a href="https://support.github.com?tags=dotcom-footer" data-analytics-event="{&quot;category&quot;:&quot;Footer&quot;,&quot;action&quot;:&quot;go to contact&quot;,&quot;label&quot;:&quot;text:contact&quot;}">Contact GitHub</a></li>
          <li class="mr-3 mr-lg-0"><a href="https://github.com/pricing" data-analytics-event="{&quot;category&quot;:&quot;Footer&quot;,&quot;action&quot;:&quot;go to Pricing&quot;,&quot;label&quot;:&quot;text:Pricing&quot;}">Pricing</a></li>
        <li class="mr-3 mr-lg-0"><a href="https://docs.github.com" data-analytics-event="{&quot;category&quot;:&quot;Footer&quot;,&quot;action&quot;:&quot;go to api&quot;,&quot;label&quot;:&quot;text:api&quot;}">API</a></li>
        <li class="mr-3 mr-lg-0"><a href="https://services.github.com" data-analytics-event="{&quot;category&quot;:&quot;Footer&quot;,&quot;action&quot;:&quot;go to training&quot;,&quot;label&quot;:&quot;text:training&quot;}">Training</a></li>
          <li class="mr-3 mr-lg-0"><a href="https://github.blog" data-analytics-event="{&quot;category&quot;:&quot;Footer&quot;,&quot;action&quot;:&quot;go to blog&quot;,&quot;label&quot;:&quot;text:blog&quot;}">Blog</a></li>
          <li><a data-ga-click="Footer, go to about, text:about" href="https://github.com/about">About</a></li>
      </ul>
    </nav>
  </div>

  <div class="d-flex flex-justify-center pb-6">
    <span class="f6 color-fg-muted"></span>
  </div>
</footer>




  <div id="ajax-error-message" class="ajax-error-message flash flash-error" hidden>
    <svg aria-hidden="true" height="16" viewBox="0 0 16 16" version="1.1" width="16" data-view-component="true" class="octicon octicon-alert">
    <path d="M6.457 1.047c.659-1.234 2.427-1.234 3.086 0l6.082 11.378A1.75 1.75 0 0 1 14.082 15H1.918a1.75 1.75 0 0 1-1.543-2.575Zm1.763.707a.25.25 0 0 0-.44 0L1.698 13.132a.25.25 0 0 0 .22.368h12.164a.25.25 0 0 0 .22-.368Zm.53 3.996v2.5a.75.75 0 0 1-1.5 0v-2.5a.75.75 0 0 1 1.5 0ZM9 11a1 1 0 1 1-2 0 1 1 0 0 1 2 0Z"></path>
</svg>
    <button type="button" class="flash-close js-ajax-error-dismiss" aria-label="Dismiss error">
      <svg aria-hidden="true" height="16" viewBox="0 0 16 16" version="1.1" width="16" data-view-component="true" class="octicon octicon-x">
    <path d="M3.72 3.72a.75.75 0 0 1 1.06 0L8 6.94l3.22-3.22a.749.749 0 0 1 1.275.326.749.749 0 0 1-.215.734L9.06 8l3.22 3.22a.749.749 0 0 1-.326 1.275.749.749 0 0 1-.734-.215L8 9.06l-3.22 3.22a.751.751 0 0 1-1.042-.018.751.751 0 0 1-.018-1.042L6.94 8 3.72 4.78a.75.75 0 0 1 0-1.06Z"></path>
</svg>
    </button>
    You can’t perform that action at this time.
  </div>

    <template id="site-details-dialog">
  <details class="details-reset details-overlay details-overlay-dark lh-default color-fg-default hx_rsm" open>
    <summary role="button" aria-label="Close dialog"></summary>
    <details-dialog class="Box Box--overlay d-flex flex-column anim-fade-in fast hx_rsm-dialog hx_rsm-modal">
      <button class="Box-btn-octicon m-0 btn-octicon position-absolute right-0 top-0" type="button" aria-label="Close dialog" data-close-dialog>
        <svg aria-hidden="true" height="16" viewBox="0 0 16 16" version="1.1" width="16" data-view-component="true" class="octicon octicon-x">
    <path d="M3.72 3.72a.75.75 0 0 1 1.06 0L8 6.94l3.22-3.22a.749.749 0 0 1 1.275.326.749.749 0 0 1-.215.734L9.06 8l3.22 3.22a.749.749 0 0 1-.326 1.275.749.749 0 0 1-.734-.215L8 9.06l-3.22 3.22a.751.751 0 0 1-1.042-.018.751.751 0 0 1-.018-1.042L6.94 8 3.72 4.78a.75.75 0 0 1 0-1.06Z"></path>
</svg>
      </button>
      <div class="octocat-spinner my-6 js-details-dialog-spinner"></div>
    </details-dialog>
  </details>
</template>

    <div class="Popover js-hovercard-content position-absolute" style="display: none; outline: none;" tabindex="0">
  <div class="Popover-message Popover-message--bottom-left Popover-message--large Box color-shadow-large" style="width:360px;">
  </div>
</div>

    <template id="snippet-clipboard-copy-button">
  <div class="zeroclipboard-container position-absolute right-0 top-0">
    <clipboard-copy aria-label="Copy" class="ClipboardButton btn js-clipboard-copy m-2 p-0 tooltipped-no-delay" data-copy-feedback="Copied!" data-tooltip-direction="w">
      <svg aria-hidden="true" height="16" viewBox="0 0 16 16" version="1.1" width="16" data-view-component="true" class="octicon octicon-copy js-clipboard-copy-icon m-2">
    <path d="M0 6.75C0 5.784.784 5 1.75 5h1.5a.75.75 0 0 1 0 1.5h-1.5a.25.25 0 0 0-.25.25v7.5c0 .138.112.25.25.25h7.5a.25.25 0 0 0 .25-.25v-1.5a.75.75 0 0 1 1.5 0v1.5A1.75 1.75 0 0 1 9.25 16h-7.5A1.75 1.75 0 0 1 0 14.25Z"></path><path d="M5 1.75C5 .784 5.784 0 6.75 0h7.5C15.216 0 16 .784 16 1.75v7.5A1.75 1.75 0 0 1 14.25 11h-7.5A1.75 1.75 0 0 1 5 9.25Zm1.75-.25a.25.25 0 0 0-.25.25v7.5c0 .138.112.25.25.25h7.5a.25.25 0 0 0 .25-.25v-7.5a.25.25 0 0 0-.25-.25Z"></path>
</svg>
      <svg aria-hidden="true" height="16" viewBox="0 0 16 16" version="1.1" width="16" data-view-component="true" class="octicon octicon-check js-clipboard-check-icon color-fg-success d-none m-2">
    <path d="M13.78 4.22a.75.75 0 0 1 0 1.06l-7.25 7.25a.75.75 0 0 1-1.06 0L2.22 9.28a.751.751 0 0 1 .018-1.042.751.751 0 0 1 1.042-.018L6 10.94l6.72-6.72a.75.75 0 0 1 1.06 0Z"></path>
</svg>
    </clipboard-copy>
  </div>
</template>
<template id="snippet-clipboard-copy-button-unpositioned">
  <div class="zeroclipboard-container">
    <clipboard-copy aria-label="Copy" class="ClipboardButton btn btn-invisible js-clipboard-copy m-2 p-0 tooltipped-no-delay d-flex flex-justify-center flex-items-center" data-copy-feedback="Copied!" data-tooltip-direction="w">
      <svg aria-hidden="true" height="16" viewBox="0 0 16 16" version="1.1" width="16" data-view-component="true" class="octicon octicon-copy js-clipboard-copy-icon">
    <path d="M0 6.75C0 5.784.784 5 1.75 5h1.5a.75.75 0 0 1 0 1.5h-1.5a.25.25 0 0 0-.25.25v7.5c0 .138.112.25.25.25h7.5a.25.25 0 0 0 .25-.25v-1.5a.75.75 0 0 1 1.5 0v1.5A1.75 1.75 0 0 1 9.25 16h-7.5A1.75 1.75 0 0 1 0 14.25Z"></path><path d="M5 1.75C5 .784 5.784 0 6.75 0h7.5C15.216 0 16 .784 16 1.75v7.5A1.75 1.75 0 0 1 14.25 11h-7.5A1.75 1.75 0 0 1 5 9.25Zm1.75-.25a.25.25 0 0 0-.25.25v7.5c0 .138.112.25.25.25h7.5a.25.25 0 0 0 .25-.25v-7.5a.25.25 0 0 0-.25-.25Z"></path>
</svg>
      <svg aria-hidden="true" height="16" viewBox="0 0 16 16" version="1.1" width="16" data-view-component="true" class="octicon octicon-check js-clipboard-check-icon color-fg-success d-none">
    <path d="M13.78 4.22a.75.75 0 0 1 0 1.06l-7.25 7.25a.75.75 0 0 1-1.06 0L2.22 9.28a.751.751 0 0 1 .018-1.042.751.751 0 0 1 1.042-.018L6 10.94l6.72-6.72a.75.75 0 0 1 1.06 0Z"></path>
</svg>
    </clipboard-copy>
  </div>
</template>


    <style>
      .user-mention[href$="/damienbose"] {
        color: var(--color-user-mention-fg);
        background-color: var(--color-user-mention-bg);
        border-radius: 2px;
        margin-left: -2px;
        margin-right: -2px;
        padding: 0 2px;
      }
    </style>


    </div>

    <div id="js-global-screen-reader-notice" class="sr-only" aria-live="polite" ></div>
  </body>
</html>

